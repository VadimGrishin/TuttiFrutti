{
  "nbformat": 4,
  "nbformat_minor": 0,
  "metadata": {
    "kernelspec": {
      "display_name": "Python 3",
      "language": "python",
      "name": "python3"
    },
    "language_info": {
      "codemirror_mode": {
        "name": "ipython",
        "version": 3
      },
      "file_extension": ".py",
      "mimetype": "text/x-python",
      "name": "python",
      "nbconvert_exporter": "python",
      "pygments_lexer": "ipython3",
      "version": "3.7.1"
    },
    "colab": {
      "name": "nootbook_for_UrS.ipynb",
      "provenance": [],
      "collapsed_sections": [],
      "toc_visible": true,
      "include_colab_link": true
    }
  },
  "cells": [
    {
      "cell_type": "markdown",
      "metadata": {
        "id": "view-in-github",
        "colab_type": "text"
      },
      "source": [
        "<a href=\"https://colab.research.google.com/github/VadimGrishin/TuttiFrutti/blob/master/nootbook_for_UrS.ipynb\" target=\"_parent\"><img src=\"https://colab.research.google.com/assets/colab-badge.svg\" alt=\"Open In Colab\"/></a>"
      ]
    },
    {
      "cell_type": "code",
      "metadata": {
        "id": "gWagm2ajsI2B",
        "colab_type": "code",
        "colab": {}
      },
      "source": [
        "import pandas as pd\n",
        "import numpy as np\n",
        "\n",
        "from sklearn.model_selection import train_test_split\n",
        "\n",
        "from sklearn.linear_model import LinearRegression as LR\n",
        "from sklearn.linear_model import Ridge\n",
        "from sklearn.ensemble import RandomForestClassifier as RF\n",
        "from sklearn.svm import SVR\n",
        "\n",
        "from sklearn.metrics import r2_score as r2, mean_squared_error as mse, roc_auc_score as auc\n",
        "\n",
        "import matplotlib.pyplot as plt\n",
        "\n",
        "pd.options.display.max_rows=100\n",
        "pd.options.display.max_columns=250\n",
        "\n",
        "import seaborn as sns\n",
        "sns.set(color_codes=True)\n",
        "sns.set()\n",
        "sns.set_palette('husl')\n",
        "\n",
        "%matplotlib inline\n",
        "%config InlineBackend.figure_format = 'svg'"
      ],
      "execution_count": 0,
      "outputs": []
    },
    {
      "cell_type": "code",
      "metadata": {
        "id": "uRXEhksMsI2G",
        "colab_type": "code",
        "colab": {}
      },
      "source": [
        "import warnings\n",
        "warnings.filterwarnings('ignore')\n",
        "\n",
        "pd.options.display.max_columns = 100"
      ],
      "execution_count": 0,
      "outputs": []
    },
    {
      "cell_type": "markdown",
      "metadata": {
        "id": "Vb0lY34nsI2J",
        "colab_type": "text"
      },
      "source": [
        "## Загрузка данных"
      ]
    },
    {
      "cell_type": "code",
      "metadata": {
        "scrolled": true,
        "id": "o6Ari58XsI2K",
        "colab_type": "code",
        "colab": {}
      },
      "source": [
        "df_train = pd.read_csv('Data.txt', encoding='cp1251', sep=';')"
      ],
      "execution_count": 0,
      "outputs": []
    },
    {
      "cell_type": "markdown",
      "metadata": {
        "id": "1QzMX5_9vK3v",
        "colab_type": "text"
      },
      "source": [
        "## Преварительная оценка качества данных"
      ]
    },
    {
      "cell_type": "code",
      "metadata": {
        "id": "xi_OhmQVsI2T",
        "colab_type": "code",
        "outputId": "7b68aba3-cc23-44ff-b656-a9b1bd11cadc",
        "colab": {
          "base_uri": "https://localhost:8080/",
          "height": 354
        }
      },
      "source": [
        "df_train.info()"
      ],
      "execution_count": 0,
      "outputs": [
        {
          "output_type": "stream",
          "text": [
            "<class 'pandas.core.frame.DataFrame'>\n",
            "RangeIndex: 1723 entries, 0 to 1722\n",
            "Data columns (total 14 columns):\n",
            "Месяц выдачи кредита          1723 non-null int64\n",
            "Сумма кредита                 1723 non-null int64\n",
            "Срок кредита                  1723 non-null int64\n",
            "Возраст клиента               1723 non-null int64\n",
            "Пол клиента                   1723 non-null object\n",
            "Образование клиента           1723 non-null object\n",
            "Тип товара                    1723 non-null object\n",
            "Наличие детей у клиента       1723 non-null object\n",
            "Регион выдачи кредита         1723 non-null object\n",
            "Доход клиента                 1723 non-null int64\n",
            "Семейное положение            1723 non-null object\n",
            "Оператор связи                1723 non-null object\n",
            "Является ли клиентом банка    1723 non-null object\n",
            "Флаг дефолта по кредиту       1723 non-null object\n",
            "dtypes: int64(5), object(9)\n",
            "memory usage: 188.5+ KB\n"
          ],
          "name": "stdout"
        }
      ]
    },
    {
      "cell_type": "code",
      "metadata": {
        "id": "8DSsibV9vJc5",
        "colab_type": "code",
        "colab": {}
      },
      "source": [
        "# Проведем оцифровку вектора значений (меток классов)\n",
        "df_train['default_flag'] = (df_train['Флаг дефолта по кредиту'] == 'Дефолт').astype(int)\n",
        "df_train['loss'] = df_train['default_flag'] * df_train['Сумма кредита']\n"
      ],
      "execution_count": 0,
      "outputs": []
    },
    {
      "cell_type": "code",
      "metadata": {
        "id": "JgkurSknsI2O",
        "colab_type": "code",
        "outputId": "ad9dd38a-cf08-4491-ab3a-236d27177d3a",
        "colab": {
          "base_uri": "https://localhost:8080/",
          "height": 287
        }
      },
      "source": [
        "df_train.describe()"
      ],
      "execution_count": 0,
      "outputs": [
        {
          "output_type": "execute_result",
          "data": {
            "text/html": [
              "<div>\n",
              "<style scoped>\n",
              "    .dataframe tbody tr th:only-of-type {\n",
              "        vertical-align: middle;\n",
              "    }\n",
              "\n",
              "    .dataframe tbody tr th {\n",
              "        vertical-align: top;\n",
              "    }\n",
              "\n",
              "    .dataframe thead th {\n",
              "        text-align: right;\n",
              "    }\n",
              "</style>\n",
              "<table border=\"1\" class=\"dataframe\">\n",
              "  <thead>\n",
              "    <tr style=\"text-align: right;\">\n",
              "      <th></th>\n",
              "      <th>Месяц выдачи кредита</th>\n",
              "      <th>Сумма кредита</th>\n",
              "      <th>Срок кредита</th>\n",
              "      <th>Возраст клиента</th>\n",
              "      <th>Доход клиента</th>\n",
              "      <th>default_flag</th>\n",
              "      <th>loss</th>\n",
              "    </tr>\n",
              "  </thead>\n",
              "  <tbody>\n",
              "    <tr>\n",
              "      <th>count</th>\n",
              "      <td>1723.000000</td>\n",
              "      <td>1723.000000</td>\n",
              "      <td>1723.000000</td>\n",
              "      <td>1723.000000</td>\n",
              "      <td>1723.000000</td>\n",
              "      <td>1723.000000</td>\n",
              "      <td>1723.000000</td>\n",
              "    </tr>\n",
              "    <tr>\n",
              "      <th>mean</th>\n",
              "      <td>6.708067</td>\n",
              "      <td>29264.654672</td>\n",
              "      <td>11.546721</td>\n",
              "      <td>35.911782</td>\n",
              "      <td>32652.350551</td>\n",
              "      <td>0.113755</td>\n",
              "      <td>3204.585026</td>\n",
              "    </tr>\n",
              "    <tr>\n",
              "      <th>std</th>\n",
              "      <td>3.538420</td>\n",
              "      <td>27926.778301</td>\n",
              "      <td>6.548354</td>\n",
              "      <td>13.120203</td>\n",
              "      <td>20913.193158</td>\n",
              "      <td>0.317606</td>\n",
              "      <td>11946.190179</td>\n",
              "    </tr>\n",
              "    <tr>\n",
              "      <th>min</th>\n",
              "      <td>1.000000</td>\n",
              "      <td>5000.000000</td>\n",
              "      <td>3.000000</td>\n",
              "      <td>18.000000</td>\n",
              "      <td>1000.000000</td>\n",
              "      <td>0.000000</td>\n",
              "      <td>0.000000</td>\n",
              "    </tr>\n",
              "    <tr>\n",
              "      <th>25%</th>\n",
              "      <td>3.000000</td>\n",
              "      <td>13000.000000</td>\n",
              "      <td>6.000000</td>\n",
              "      <td>26.000000</td>\n",
              "      <td>21000.000000</td>\n",
              "      <td>0.000000</td>\n",
              "      <td>0.000000</td>\n",
              "    </tr>\n",
              "    <tr>\n",
              "      <th>50%</th>\n",
              "      <td>7.000000</td>\n",
              "      <td>21500.000000</td>\n",
              "      <td>12.000000</td>\n",
              "      <td>32.000000</td>\n",
              "      <td>27000.000000</td>\n",
              "      <td>0.000000</td>\n",
              "      <td>0.000000</td>\n",
              "    </tr>\n",
              "    <tr>\n",
              "      <th>75%</th>\n",
              "      <td>10.000000</td>\n",
              "      <td>34000.000000</td>\n",
              "      <td>12.000000</td>\n",
              "      <td>44.000000</td>\n",
              "      <td>38000.000000</td>\n",
              "      <td>0.000000</td>\n",
              "      <td>0.000000</td>\n",
              "    </tr>\n",
              "    <tr>\n",
              "      <th>max</th>\n",
              "      <td>12.000000</td>\n",
              "      <td>301000.000000</td>\n",
              "      <td>36.000000</td>\n",
              "      <td>90.000000</td>\n",
              "      <td>401000.000000</td>\n",
              "      <td>1.000000</td>\n",
              "      <td>201000.000000</td>\n",
              "    </tr>\n",
              "  </tbody>\n",
              "</table>\n",
              "</div>"
            ],
            "text/plain": [
              "       Месяц выдачи кредита  Сумма кредита  Срок кредита  Возраст клиента  \\\n",
              "count           1723.000000    1723.000000   1723.000000      1723.000000   \n",
              "mean               6.708067   29264.654672     11.546721        35.911782   \n",
              "std                3.538420   27926.778301      6.548354        13.120203   \n",
              "min                1.000000    5000.000000      3.000000        18.000000   \n",
              "25%                3.000000   13000.000000      6.000000        26.000000   \n",
              "50%                7.000000   21500.000000     12.000000        32.000000   \n",
              "75%               10.000000   34000.000000     12.000000        44.000000   \n",
              "max               12.000000  301000.000000     36.000000        90.000000   \n",
              "\n",
              "       Доход клиента  default_flag           loss  \n",
              "count    1723.000000   1723.000000    1723.000000  \n",
              "mean    32652.350551      0.113755    3204.585026  \n",
              "std     20913.193158      0.317606   11946.190179  \n",
              "min      1000.000000      0.000000       0.000000  \n",
              "25%     21000.000000      0.000000       0.000000  \n",
              "50%     27000.000000      0.000000       0.000000  \n",
              "75%     38000.000000      0.000000       0.000000  \n",
              "max    401000.000000      1.000000  201000.000000  "
            ]
          },
          "metadata": {
            "tags": []
          },
          "execution_count": 203
        }
      ]
    },
    {
      "cell_type": "markdown",
      "metadata": {
        "id": "8Qgjw3hRvoHT",
        "colab_type": "text"
      },
      "source": [
        "### Вывод: \n",
        " 1) даннные заполнены полностью по всем полям;\n",
        " \n",
        " 2) для числовых полей $\\textit{Сумма кредита,\tСрок кредита,\tВозраст клиента,\tДоход клиента}$ можно предположить наличие выбросов в данных, в связи с чем целесообразно провести анализ описательных статистик\n",
        " \n",
        " 3) среднее значение Флага в 11% означает процент дефолтов. Таким, образом датасет несбалансирован, что нужно учитывать в дальнейшем анализе."
      ]
    },
    {
      "cell_type": "markdown",
      "metadata": {
        "id": "XUBr-M7PsI2N",
        "colab_type": "text"
      },
      "source": [
        "## Описательная статистика. Анализ выбросов (нестандартное поведение)"
      ]
    },
    {
      "cell_type": "code",
      "metadata": {
        "id": "jpkeh2MISkuA",
        "colab_type": "code",
        "colab": {}
      },
      "source": [
        "tot_sum = df_train[[\"Сумма кредита\"]].sum()\n",
        "tot_count = df_train[[\"Сумма кредита\"]].count()\n",
        "  \n",
        "def get_fliers(bp, field_name):\n",
        "  \"\"\"\n",
        "  Для ящика с усами bp, построенного по полю field_name,\n",
        "  определяет агрегированные показатели по выбросам\n",
        "  \n",
        "  \"\"\"\n",
        "  \n",
        "  bp_min = bp['caps'][0].get_ydata()[0]\n",
        "  bp_max = bp['caps'][1].get_ydata()[0]\n",
        "  median = bp['medians'][0].get_ydata()[0]\n",
        "  \n",
        "  filtered_sum = df_train.loc[(df_train[field_name] > bp_max) | \n",
        "                              (df_train[field_name] < bp_min), [\"Сумма кредита\"]].sum()\n",
        "  filtered_count = df_train.loc[(df_train[field_name] > bp_max) | \n",
        "                                (df_train[field_name] < bp_min), [\"Сумма кредита\"]].count()\n",
        "  filtered_mean = df_train.loc[(df_train[field_name] > bp_max) | \n",
        "                               (df_train[field_name] < bp_min), [\"default_flag\"]].mean()\n",
        "  filtered_loss = df_train.loc[(df_train[field_name] > bp_max) | \n",
        "                               (df_train[field_name] < bp_min), [\"loss\"]].sum()\n",
        "   \n",
        "  \n",
        "  print(f'--------------------\\nОписание выброса по полю \"{field_name}\"')\n",
        "  print(f'Медиана распределения {median}')\n",
        "  print(f'нижняя граница: {bp_min}, \\nверхняя граница: {bp_max}')\n",
        "  print(f'Количество по выбросу {filtered_count[\"Сумма кредита\"]}, доля {round(filtered_count[\"Сумма кредита\"]/tot_count[\"Сумма кредита\"]*100)} %' )\n",
        "  print(f'Сумма по выбросу {filtered_sum[\"Сумма кредита\"]}, доля {round(filtered_sum[\"Сумма кредита\"]/tot_sum[\"Сумма кредита\"]*100)} %' )\n",
        "  \n",
        "  print(f'Процент дефолтов в группе {filtered_mean[\"default_flag\"] * 100} %')\n",
        "  print(f'Сумма потерь {filtered_loss[\"loss\"]} р.')\n",
        "  \n",
        "  return bp_min, bp_max\n",
        "  "
      ],
      "execution_count": 0,
      "outputs": []
    },
    {
      "cell_type": "code",
      "metadata": {
        "id": "eV2Xmp5-sI2X",
        "colab_type": "code",
        "outputId": "aa894cf9-8509-4b02-96e7-a3e2498ec9ca",
        "colab": {
          "base_uri": "https://localhost:8080/",
          "height": 365
        }
      },
      "source": [
        "sum_field = \"Сумма кредита\"\n",
        "a = df_train[[sum_field]].boxplot(return_type ='dict')\n"
      ],
      "execution_count": 0,
      "outputs": [
        {
          "output_type": "display_data",
          "data": {
            "text/plain": [
              "<Figure size 432x288 with 1 Axes>"
            ],
            "image/svg+xml": "<?xml version=\"1.0\" encoding=\"utf-8\" standalone=\"no\"?>\n<!DOCTYPE svg PUBLIC \"-//W3C//DTD SVG 1.1//EN\"\n  \"http://www.w3.org/Graphics/SVG/1.1/DTD/svg11.dtd\">\n<!-- Created with matplotlib (https://matplotlib.org/) -->\n<svg height=\"257.985937pt\" version=\"1.1\" viewBox=\"0 0 406.6925 257.985937\" width=\"406.6925pt\" xmlns=\"http://www.w3.org/2000/svg\" xmlns:xlink=\"http://www.w3.org/1999/xlink\">\n <defs>\n  <style type=\"text/css\">\n*{stroke-linecap:butt;stroke-linejoin:round;}\n  </style>\n </defs>\n <g id=\"figure_1\">\n  <g id=\"patch_1\">\n   <path d=\"M 0 257.985937 \nL 406.6925 257.985937 \nL 406.6925 0 \nL 0 0 \nz\n\" style=\"fill:none;\"/>\n  </g>\n  <g id=\"axes_1\">\n   <g id=\"patch_2\">\n    <path d=\"M 58.6925 230.64 \nL 393.4925 230.64 \nL 393.4925 13.2 \nL 58.6925 13.2 \nz\n\" style=\"fill:#eaeaf2;\"/>\n   </g>\n   <g id=\"matplotlib.axis_1\">\n    <g id=\"xtick_1\">\n     <g id=\"line2d_1\">\n      <path clip-path=\"url(#pde8a826707)\" d=\"M 226.0925 230.64 \nL 226.0925 13.2 \n\" style=\"fill:none;stroke:#ffffff;stroke-linecap:round;\"/>\n     </g>\n     <g id=\"text_1\">\n      <!-- Сумма кредита -->\n      <defs>\n       <path d=\"M 64.40625 67.28125 \nL 64.40625 56.890625 \nQ 59.421875 61.53125 53.78125 63.8125 \nQ 48.140625 66.109375 41.796875 66.109375 \nQ 29.296875 66.109375 22.65625 58.46875 \nQ 16.015625 50.828125 16.015625 36.375 \nQ 16.015625 21.96875 22.65625 14.328125 \nQ 29.296875 6.6875 41.796875 6.6875 \nQ 48.140625 6.6875 53.78125 8.984375 \nQ 59.421875 11.28125 64.40625 15.921875 \nL 64.40625 5.609375 \nQ 59.234375 2.09375 53.4375 0.328125 \nQ 47.65625 -1.421875 41.21875 -1.421875 \nQ 24.65625 -1.421875 15.125 8.703125 \nQ 5.609375 18.84375 5.609375 36.375 \nQ 5.609375 53.953125 15.125 64.078125 \nQ 24.65625 74.21875 41.21875 74.21875 \nQ 47.75 74.21875 53.53125 72.484375 \nQ 59.328125 70.75 64.40625 67.28125 \nz\n\" id=\"DejaVuSans-1057\"/>\n       <path d=\"M 32.171875 -5.078125 \nQ 28.375 -14.84375 24.75 -17.8125 \nQ 21.140625 -20.796875 15.09375 -20.796875 \nL 7.90625 -20.796875 \nL 7.90625 -13.28125 \nL 13.1875 -13.28125 \nQ 16.890625 -13.28125 18.9375 -11.515625 \nQ 21 -9.765625 23.484375 -3.21875 \nL 25.09375 0.875 \nL 2.984375 54.6875 \nL 12.5 54.6875 \nL 29.59375 11.921875 \nL 46.6875 54.6875 \nL 56.203125 54.6875 \nz\n\" id=\"DejaVuSans-1091\"/>\n       <path d=\"M 9.078125 54.6875 \nL 22.21875 54.6875 \nL 37.75 18.0625 \nL 53.328125 54.6875 \nL 66.359375 54.6875 \nL 66.359375 0 \nL 57.328125 0 \nL 57.328125 46.09375 \nL 42.234375 10.5 \nL 33.25 10.5 \nL 18.109375 46.09375 \nL 18.109375 0 \nL 9.078125 0 \nz\n\" id=\"DejaVuSans-1084\"/>\n       <path d=\"M 34.28125 27.484375 \nQ 23.390625 27.484375 19.1875 25 \nQ 14.984375 22.515625 14.984375 16.5 \nQ 14.984375 11.71875 18.140625 8.90625 \nQ 21.296875 6.109375 26.703125 6.109375 \nQ 34.1875 6.109375 38.703125 11.40625 \nQ 43.21875 16.703125 43.21875 25.484375 \nL 43.21875 27.484375 \nz\nM 52.203125 31.203125 \nL 52.203125 0 \nL 43.21875 0 \nL 43.21875 8.296875 \nQ 40.140625 3.328125 35.546875 0.953125 \nQ 30.953125 -1.421875 24.3125 -1.421875 \nQ 15.921875 -1.421875 10.953125 3.296875 \nQ 6 8.015625 6 15.921875 \nQ 6 25.140625 12.171875 29.828125 \nQ 18.359375 34.515625 30.609375 34.515625 \nL 43.21875 34.515625 \nL 43.21875 35.40625 \nQ 43.21875 41.609375 39.140625 45 \nQ 35.0625 48.390625 27.6875 48.390625 \nQ 23 48.390625 18.546875 47.265625 \nQ 14.109375 46.140625 10.015625 43.890625 \nL 10.015625 52.203125 \nQ 14.9375 54.109375 19.578125 55.046875 \nQ 24.21875 56 28.609375 56 \nQ 40.484375 56 46.34375 49.84375 \nQ 52.203125 43.703125 52.203125 31.203125 \nz\n\" id=\"DejaVuSans-1072\"/>\n       <path id=\"DejaVuSans-32\"/>\n       <path d=\"M 9.078125 54.6875 \nL 18.015625 54.6875 \nL 18.015625 29 \nL 43.359375 54.6875 \nL 54.390625 54.6875 \nL 33.5 33.546875 \nL 57.078125 0 \nL 47.015625 0 \nL 27.640625 27.59375 \nL 18.015625 17.828125 \nL 18.015625 0 \nL 9.078125 0 \nz\n\" id=\"DejaVuSans-1082\"/>\n       <path d=\"M 18.109375 8.203125 \nL 18.109375 -20.796875 \nL 9.078125 -20.796875 \nL 9.078125 54.6875 \nL 18.109375 54.6875 \nL 18.109375 46.390625 \nQ 20.953125 51.265625 25.265625 53.625 \nQ 29.59375 56 35.59375 56 \nQ 45.5625 56 51.78125 48.09375 \nQ 58.015625 40.1875 58.015625 27.296875 \nQ 58.015625 14.40625 51.78125 6.484375 \nQ 45.5625 -1.421875 35.59375 -1.421875 \nQ 29.59375 -1.421875 25.265625 0.953125 \nQ 20.953125 3.328125 18.109375 8.203125 \nz\nM 48.6875 27.296875 \nQ 48.6875 37.203125 44.609375 42.84375 \nQ 40.53125 48.484375 33.40625 48.484375 \nQ 26.265625 48.484375 22.1875 42.84375 \nQ 18.109375 37.203125 18.109375 27.296875 \nQ 18.109375 17.390625 22.1875 11.75 \nQ 26.265625 6.109375 33.40625 6.109375 \nQ 40.53125 6.109375 44.609375 11.75 \nQ 48.6875 17.390625 48.6875 27.296875 \nz\n\" id=\"DejaVuSans-1088\"/>\n       <path d=\"M 56.203125 29.59375 \nL 56.203125 25.203125 \nL 14.890625 25.203125 \nQ 15.484375 15.921875 20.484375 11.0625 \nQ 25.484375 6.203125 34.421875 6.203125 \nQ 39.59375 6.203125 44.453125 7.46875 \nQ 49.3125 8.734375 54.109375 11.28125 \nL 54.109375 2.78125 \nQ 49.265625 0.734375 44.1875 -0.34375 \nQ 39.109375 -1.421875 33.890625 -1.421875 \nQ 20.796875 -1.421875 13.15625 6.1875 \nQ 5.515625 13.8125 5.515625 26.8125 \nQ 5.515625 40.234375 12.765625 48.109375 \nQ 20.015625 56 32.328125 56 \nQ 43.359375 56 49.78125 48.890625 \nQ 56.203125 41.796875 56.203125 29.59375 \nz\nM 47.21875 32.234375 \nQ 47.125 39.59375 43.09375 43.984375 \nQ 39.0625 48.390625 32.421875 48.390625 \nQ 24.90625 48.390625 20.390625 44.140625 \nQ 15.875 39.890625 15.1875 32.171875 \nz\n\" id=\"DejaVuSans-1077\"/>\n       <path d=\"M 21.625 7.171875 \nL 47.703125 7.171875 \nL 47.703125 47.515625 \nL 28.8125 47.515625 \nL 28.8125 40.671875 \nQ 28.8125 20.5625 23.046875 9.8125 \nz\nM 8.59375 7.171875 \nQ 13.03125 9.125 14.984375 13.28125 \nQ 19.78125 23.578125 19.78125 44.34375 \nL 19.78125 54.6875 \nL 56.734375 54.6875 \nL 56.734375 7.171875 \nL 63.921875 7.171875 \nL 63.921875 -13.8125 \nL 56.734375 -13.8125 \nL 56.734375 0 \nL 12.40625 0 \nL 12.40625 -13.8125 \nL 5.21875 -13.8125 \nL 5.21875 7.171875 \nz\n\" id=\"DejaVuSans-1076\"/>\n       <path d=\"M 55.90625 54.6875 \nL 55.90625 0 \nL 46.96875 0 \nL 46.96875 43.890625 \nL 20.609375 0 \nL 9.078125 0 \nL 9.078125 54.6875 \nL 18.015625 54.6875 \nL 18.015625 10.890625 \nL 44.34375 54.6875 \nz\n\" id=\"DejaVuSans-1080\"/>\n       <path d=\"M 2.9375 54.6875 \nL 55.328125 54.6875 \nL 55.328125 47.515625 \nL 33.546875 47.515625 \nL 33.546875 0 \nL 24.703125 0 \nL 24.703125 47.515625 \nL 2.9375 47.515625 \nz\n\" id=\"DejaVuSans-1090\"/>\n      </defs>\n      <g style=\"fill:#262626;\" transform=\"translate(181.430781 248.498281)scale(0.11 -0.11)\">\n       <use xlink:href=\"#DejaVuSans-1057\"/>\n       <use x=\"69.824219\" xlink:href=\"#DejaVuSans-1091\"/>\n       <use x=\"129.003906\" xlink:href=\"#DejaVuSans-1084\"/>\n       <use x=\"204.443359\" xlink:href=\"#DejaVuSans-1084\"/>\n       <use x=\"279.882812\" xlink:href=\"#DejaVuSans-1072\"/>\n       <use x=\"341.162109\" xlink:href=\"#DejaVuSans-32\"/>\n       <use x=\"372.949219\" xlink:href=\"#DejaVuSans-1082\"/>\n       <use x=\"433.349609\" xlink:href=\"#DejaVuSans-1088\"/>\n       <use x=\"496.826172\" xlink:href=\"#DejaVuSans-1077\"/>\n       <use x=\"558.349609\" xlink:href=\"#DejaVuSans-1076\"/>\n       <use x=\"627.490234\" xlink:href=\"#DejaVuSans-1080\"/>\n       <use x=\"692.480469\" xlink:href=\"#DejaVuSans-1090\"/>\n       <use x=\"750.732422\" xlink:href=\"#DejaVuSans-1072\"/>\n      </g>\n     </g>\n    </g>\n   </g>\n   <g id=\"matplotlib.axis_2\">\n    <g id=\"ytick_1\">\n     <g id=\"line2d_2\">\n      <path clip-path=\"url(#pde8a826707)\" d=\"M 58.6925 224.09543 \nL 393.4925 224.09543 \n\" style=\"fill:none;stroke:#ffffff;stroke-linecap:round;\"/>\n     </g>\n     <g id=\"text_2\">\n      <!-- 0 -->\n      <defs>\n       <path d=\"M 31.78125 66.40625 \nQ 24.171875 66.40625 20.328125 58.90625 \nQ 16.5 51.421875 16.5 36.375 \nQ 16.5 21.390625 20.328125 13.890625 \nQ 24.171875 6.390625 31.78125 6.390625 \nQ 39.453125 6.390625 43.28125 13.890625 \nQ 47.125 21.390625 47.125 36.375 \nQ 47.125 51.421875 43.28125 58.90625 \nQ 39.453125 66.40625 31.78125 66.40625 \nz\nM 31.78125 74.21875 \nQ 44.046875 74.21875 50.515625 64.515625 \nQ 56.984375 54.828125 56.984375 36.375 \nQ 56.984375 17.96875 50.515625 8.265625 \nQ 44.046875 -1.421875 31.78125 -1.421875 \nQ 19.53125 -1.421875 13.0625 8.265625 \nQ 6.59375 17.96875 6.59375 36.375 \nQ 6.59375 54.828125 13.0625 64.515625 \nQ 19.53125 74.21875 31.78125 74.21875 \nz\n\" id=\"DejaVuSans-48\"/>\n      </defs>\n      <g style=\"fill:#262626;\" transform=\"translate(42.19375 228.274571)scale(0.11 -0.11)\">\n       <use xlink:href=\"#DejaVuSans-48\"/>\n      </g>\n     </g>\n    </g>\n    <g id=\"ytick_2\">\n     <g id=\"line2d_3\">\n      <path clip-path=\"url(#pde8a826707)\" d=\"M 58.6925 190.704767 \nL 393.4925 190.704767 \n\" style=\"fill:none;stroke:#ffffff;stroke-linecap:round;\"/>\n     </g>\n     <g id=\"text_3\">\n      <!-- 50000 -->\n      <defs>\n       <path d=\"M 10.796875 72.90625 \nL 49.515625 72.90625 \nL 49.515625 64.59375 \nL 19.828125 64.59375 \nL 19.828125 46.734375 \nQ 21.96875 47.46875 24.109375 47.828125 \nQ 26.265625 48.1875 28.421875 48.1875 \nQ 40.625 48.1875 47.75 41.5 \nQ 54.890625 34.8125 54.890625 23.390625 \nQ 54.890625 11.625 47.5625 5.09375 \nQ 40.234375 -1.421875 26.90625 -1.421875 \nQ 22.3125 -1.421875 17.546875 -0.640625 \nQ 12.796875 0.140625 7.71875 1.703125 \nL 7.71875 11.625 \nQ 12.109375 9.234375 16.796875 8.0625 \nQ 21.484375 6.890625 26.703125 6.890625 \nQ 35.15625 6.890625 40.078125 11.328125 \nQ 45.015625 15.765625 45.015625 23.390625 \nQ 45.015625 31 40.078125 35.4375 \nQ 35.15625 39.890625 26.703125 39.890625 \nQ 22.75 39.890625 18.8125 39.015625 \nQ 14.890625 38.140625 10.796875 36.28125 \nz\n\" id=\"DejaVuSans-53\"/>\n      </defs>\n      <g style=\"fill:#262626;\" transform=\"translate(14.19875 194.883907)scale(0.11 -0.11)\">\n       <use xlink:href=\"#DejaVuSans-53\"/>\n       <use x=\"63.623047\" xlink:href=\"#DejaVuSans-48\"/>\n       <use x=\"127.246094\" xlink:href=\"#DejaVuSans-48\"/>\n       <use x=\"190.869141\" xlink:href=\"#DejaVuSans-48\"/>\n       <use x=\"254.492188\" xlink:href=\"#DejaVuSans-48\"/>\n      </g>\n     </g>\n    </g>\n    <g id=\"ytick_3\">\n     <g id=\"line2d_4\">\n      <path clip-path=\"url(#pde8a826707)\" d=\"M 58.6925 157.314103 \nL 393.4925 157.314103 \n\" style=\"fill:none;stroke:#ffffff;stroke-linecap:round;\"/>\n     </g>\n     <g id=\"text_4\">\n      <!-- 100000 -->\n      <defs>\n       <path d=\"M 12.40625 8.296875 \nL 28.515625 8.296875 \nL 28.515625 63.921875 \nL 10.984375 60.40625 \nL 10.984375 69.390625 \nL 28.421875 72.90625 \nL 38.28125 72.90625 \nL 38.28125 8.296875 \nL 54.390625 8.296875 \nL 54.390625 0 \nL 12.40625 0 \nz\n\" id=\"DejaVuSans-49\"/>\n      </defs>\n      <g style=\"fill:#262626;\" transform=\"translate(7.2 161.493244)scale(0.11 -0.11)\">\n       <use xlink:href=\"#DejaVuSans-49\"/>\n       <use x=\"63.623047\" xlink:href=\"#DejaVuSans-48\"/>\n       <use x=\"127.246094\" xlink:href=\"#DejaVuSans-48\"/>\n       <use x=\"190.869141\" xlink:href=\"#DejaVuSans-48\"/>\n       <use x=\"254.492188\" xlink:href=\"#DejaVuSans-48\"/>\n       <use x=\"318.115234\" xlink:href=\"#DejaVuSans-48\"/>\n      </g>\n     </g>\n    </g>\n    <g id=\"ytick_4\">\n     <g id=\"line2d_5\">\n      <path clip-path=\"url(#pde8a826707)\" d=\"M 58.6925 123.92344 \nL 393.4925 123.92344 \n\" style=\"fill:none;stroke:#ffffff;stroke-linecap:round;\"/>\n     </g>\n     <g id=\"text_5\">\n      <!-- 150000 -->\n      <g style=\"fill:#262626;\" transform=\"translate(7.2 128.10258)scale(0.11 -0.11)\">\n       <use xlink:href=\"#DejaVuSans-49\"/>\n       <use x=\"63.623047\" xlink:href=\"#DejaVuSans-53\"/>\n       <use x=\"127.246094\" xlink:href=\"#DejaVuSans-48\"/>\n       <use x=\"190.869141\" xlink:href=\"#DejaVuSans-48\"/>\n       <use x=\"254.492188\" xlink:href=\"#DejaVuSans-48\"/>\n       <use x=\"318.115234\" xlink:href=\"#DejaVuSans-48\"/>\n      </g>\n     </g>\n    </g>\n    <g id=\"ytick_5\">\n     <g id=\"line2d_6\">\n      <path clip-path=\"url(#pde8a826707)\" d=\"M 58.6925 90.532776 \nL 393.4925 90.532776 \n\" style=\"fill:none;stroke:#ffffff;stroke-linecap:round;\"/>\n     </g>\n     <g id=\"text_6\">\n      <!-- 200000 -->\n      <defs>\n       <path d=\"M 19.1875 8.296875 \nL 53.609375 8.296875 \nL 53.609375 0 \nL 7.328125 0 \nL 7.328125 8.296875 \nQ 12.9375 14.109375 22.625 23.890625 \nQ 32.328125 33.6875 34.8125 36.53125 \nQ 39.546875 41.84375 41.421875 45.53125 \nQ 43.3125 49.21875 43.3125 52.78125 \nQ 43.3125 58.59375 39.234375 62.25 \nQ 35.15625 65.921875 28.609375 65.921875 \nQ 23.96875 65.921875 18.8125 64.3125 \nQ 13.671875 62.703125 7.8125 59.421875 \nL 7.8125 69.390625 \nQ 13.765625 71.78125 18.9375 73 \nQ 24.125 74.21875 28.421875 74.21875 \nQ 39.75 74.21875 46.484375 68.546875 \nQ 53.21875 62.890625 53.21875 53.421875 \nQ 53.21875 48.921875 51.53125 44.890625 \nQ 49.859375 40.875 45.40625 35.40625 \nQ 44.1875 33.984375 37.640625 27.21875 \nQ 31.109375 20.453125 19.1875 8.296875 \nz\n\" id=\"DejaVuSans-50\"/>\n      </defs>\n      <g style=\"fill:#262626;\" transform=\"translate(7.2 94.711917)scale(0.11 -0.11)\">\n       <use xlink:href=\"#DejaVuSans-50\"/>\n       <use x=\"63.623047\" xlink:href=\"#DejaVuSans-48\"/>\n       <use x=\"127.246094\" xlink:href=\"#DejaVuSans-48\"/>\n       <use x=\"190.869141\" xlink:href=\"#DejaVuSans-48\"/>\n       <use x=\"254.492188\" xlink:href=\"#DejaVuSans-48\"/>\n       <use x=\"318.115234\" xlink:href=\"#DejaVuSans-48\"/>\n      </g>\n     </g>\n    </g>\n    <g id=\"ytick_6\">\n     <g id=\"line2d_7\">\n      <path clip-path=\"url(#pde8a826707)\" d=\"M 58.6925 57.142113 \nL 393.4925 57.142113 \n\" style=\"fill:none;stroke:#ffffff;stroke-linecap:round;\"/>\n     </g>\n     <g id=\"text_7\">\n      <!-- 250000 -->\n      <g style=\"fill:#262626;\" transform=\"translate(7.2 61.321254)scale(0.11 -0.11)\">\n       <use xlink:href=\"#DejaVuSans-50\"/>\n       <use x=\"63.623047\" xlink:href=\"#DejaVuSans-53\"/>\n       <use x=\"127.246094\" xlink:href=\"#DejaVuSans-48\"/>\n       <use x=\"190.869141\" xlink:href=\"#DejaVuSans-48\"/>\n       <use x=\"254.492188\" xlink:href=\"#DejaVuSans-48\"/>\n       <use x=\"318.115234\" xlink:href=\"#DejaVuSans-48\"/>\n      </g>\n     </g>\n    </g>\n    <g id=\"ytick_7\">\n     <g id=\"line2d_8\">\n      <path clip-path=\"url(#pde8a826707)\" d=\"M 58.6925 23.75145 \nL 393.4925 23.75145 \n\" style=\"fill:none;stroke:#ffffff;stroke-linecap:round;\"/>\n     </g>\n     <g id=\"text_8\">\n      <!-- 300000 -->\n      <defs>\n       <path d=\"M 40.578125 39.3125 \nQ 47.65625 37.796875 51.625 33 \nQ 55.609375 28.21875 55.609375 21.1875 \nQ 55.609375 10.40625 48.1875 4.484375 \nQ 40.765625 -1.421875 27.09375 -1.421875 \nQ 22.515625 -1.421875 17.65625 -0.515625 \nQ 12.796875 0.390625 7.625 2.203125 \nL 7.625 11.71875 \nQ 11.71875 9.328125 16.59375 8.109375 \nQ 21.484375 6.890625 26.8125 6.890625 \nQ 36.078125 6.890625 40.9375 10.546875 \nQ 45.796875 14.203125 45.796875 21.1875 \nQ 45.796875 27.640625 41.28125 31.265625 \nQ 36.765625 34.90625 28.71875 34.90625 \nL 20.21875 34.90625 \nL 20.21875 43.015625 \nL 29.109375 43.015625 \nQ 36.375 43.015625 40.234375 45.921875 \nQ 44.09375 48.828125 44.09375 54.296875 \nQ 44.09375 59.90625 40.109375 62.90625 \nQ 36.140625 65.921875 28.71875 65.921875 \nQ 24.65625 65.921875 20.015625 65.03125 \nQ 15.375 64.15625 9.8125 62.3125 \nL 9.8125 71.09375 \nQ 15.4375 72.65625 20.34375 73.4375 \nQ 25.25 74.21875 29.59375 74.21875 \nQ 40.828125 74.21875 47.359375 69.109375 \nQ 53.90625 64.015625 53.90625 55.328125 \nQ 53.90625 49.265625 50.4375 45.09375 \nQ 46.96875 40.921875 40.578125 39.3125 \nz\n\" id=\"DejaVuSans-51\"/>\n      </defs>\n      <g style=\"fill:#262626;\" transform=\"translate(7.2 27.93059)scale(0.11 -0.11)\">\n       <use xlink:href=\"#DejaVuSans-51\"/>\n       <use x=\"63.623047\" xlink:href=\"#DejaVuSans-48\"/>\n       <use x=\"127.246094\" xlink:href=\"#DejaVuSans-48\"/>\n       <use x=\"190.869141\" xlink:href=\"#DejaVuSans-48\"/>\n       <use x=\"254.492188\" xlink:href=\"#DejaVuSans-48\"/>\n       <use x=\"318.115234\" xlink:href=\"#DejaVuSans-48\"/>\n      </g>\n     </g>\n    </g>\n   </g>\n   <g id=\"line2d_9\">\n    <path clip-path=\"url(#pde8a826707)\" d=\"M 200.9825 215.413857 \nL 251.2025 215.413857 \nL 251.2025 201.389779 \nL 200.9825 201.389779 \nL 200.9825 215.413857 \n\" style=\"fill:none;stroke:#f77189;stroke-linecap:round;\"/>\n   </g>\n   <g id=\"line2d_10\">\n    <path clip-path=\"url(#pde8a826707)\" d=\"M 226.0925 215.413857 \nL 226.0925 220.756364 \n\" style=\"fill:none;stroke:#f77189;stroke-linecap:round;\"/>\n   </g>\n   <g id=\"line2d_11\">\n    <path clip-path=\"url(#pde8a826707)\" d=\"M 226.0925 201.389779 \nL 226.0925 180.353661 \n\" style=\"fill:none;stroke:#f77189;stroke-linecap:round;\"/>\n   </g>\n   <g id=\"line2d_12\">\n    <path clip-path=\"url(#pde8a826707)\" d=\"M 213.5375 220.756364 \nL 238.6475 220.756364 \n\" style=\"fill:none;stroke:#000000;stroke-linecap:round;\"/>\n   </g>\n   <g id=\"line2d_13\">\n    <path clip-path=\"url(#pde8a826707)\" d=\"M 213.5375 180.353661 \nL 238.6475 180.353661 \n\" style=\"fill:none;stroke:#000000;stroke-linecap:round;\"/>\n   </g>\n   <g id=\"line2d_14\">\n    <defs>\n     <path d=\"M 0 3 \nC 0.795609 3 1.55874 2.683901 2.12132 2.12132 \nC 2.683901 1.55874 3 0.795609 3 0 \nC 3 -0.795609 2.683901 -1.55874 2.12132 -2.12132 \nC 1.55874 -2.683901 0.795609 -3 0 -3 \nC -0.795609 -3 -1.55874 -2.683901 -2.12132 -2.12132 \nC -2.683901 -1.55874 -3 -0.795609 -3 0 \nC -3 0.795609 -2.683901 1.55874 -2.12132 2.12132 \nC -1.55874 2.683901 -0.795609 3 0 3 \nz\n\" id=\"mc907d5cc3a\" style=\"stroke:#000000;\"/>\n    </defs>\n    <g clip-path=\"url(#pde8a826707)\">\n     <use style=\"fill-opacity:0;stroke:#000000;\" x=\"226.0925\" xlink:href=\"#mc907d5cc3a\" y=\"122.587813\"/>\n     <use style=\"fill-opacity:0;stroke:#000000;\" x=\"226.0925\" xlink:href=\"#mc907d5cc3a\" y=\"174.343342\"/>\n     <use style=\"fill-opacity:0;stroke:#000000;\" x=\"226.0925\" xlink:href=\"#mc907d5cc3a\" y=\"179.685848\"/>\n     <use style=\"fill-opacity:0;stroke:#000000;\" x=\"226.0925\" xlink:href=\"#mc907d5cc3a\" y=\"167.665209\"/>\n     <use style=\"fill-opacity:0;stroke:#000000;\" x=\"226.0925\" xlink:href=\"#mc907d5cc3a\" y=\"171.338182\"/>\n     <use style=\"fill-opacity:0;stroke:#000000;\" x=\"226.0925\" xlink:href=\"#mc907d5cc3a\" y=\"146.629091\"/>\n     <use style=\"fill-opacity:0;stroke:#000000;\" x=\"226.0925\" xlink:href=\"#mc907d5cc3a\" y=\"113.906241\"/>\n     <use style=\"fill-opacity:0;stroke:#000000;\" x=\"226.0925\" xlink:href=\"#mc907d5cc3a\" y=\"173.341622\"/>\n     <use style=\"fill-opacity:0;stroke:#000000;\" x=\"226.0925\" xlink:href=\"#mc907d5cc3a\" y=\"96.877002\"/>\n     <use style=\"fill-opacity:0;stroke:#000000;\" x=\"226.0925\" xlink:href=\"#mc907d5cc3a\" y=\"178.016314\"/>\n     <use style=\"fill-opacity:0;stroke:#000000;\" x=\"226.0925\" xlink:href=\"#mc907d5cc3a\" y=\"127.596413\"/>\n     <use style=\"fill-opacity:0;stroke:#000000;\" x=\"226.0925\" xlink:href=\"#mc907d5cc3a\" y=\"91.20059\"/>\n     <use style=\"fill-opacity:0;stroke:#000000;\" x=\"226.0925\" xlink:href=\"#mc907d5cc3a\" y=\"165.995676\"/>\n     <use style=\"fill-opacity:0;stroke:#000000;\" x=\"226.0925\" xlink:href=\"#mc907d5cc3a\" y=\"125.259066\"/>\n     <use style=\"fill-opacity:0;stroke:#000000;\" x=\"226.0925\" xlink:href=\"#mc907d5cc3a\" y=\"114.574054\"/>\n     <use style=\"fill-opacity:0;stroke:#000000;\" x=\"226.0925\" xlink:href=\"#mc907d5cc3a\" y=\"135.276265\"/>\n     <use style=\"fill-opacity:0;stroke:#000000;\" x=\"226.0925\" xlink:href=\"#mc907d5cc3a\" y=\"159.317543\"/>\n     <use style=\"fill-opacity:0;stroke:#000000;\" x=\"226.0925\" xlink:href=\"#mc907d5cc3a\" y=\"176.680688\"/>\n     <use style=\"fill-opacity:0;stroke:#000000;\" x=\"226.0925\" xlink:href=\"#mc907d5cc3a\" y=\"178.016314\"/>\n     <use style=\"fill-opacity:0;stroke:#000000;\" x=\"226.0925\" xlink:href=\"#mc907d5cc3a\" y=\"76.508698\"/>\n     <use style=\"fill-opacity:0;stroke:#000000;\" x=\"226.0925\" xlink:href=\"#mc907d5cc3a\" y=\"89.864963\"/>\n     <use style=\"fill-opacity:0;stroke:#000000;\" x=\"226.0925\" xlink:href=\"#mc907d5cc3a\" y=\"151.303784\"/>\n     <use style=\"fill-opacity:0;stroke:#000000;\" x=\"226.0925\" xlink:href=\"#mc907d5cc3a\" y=\"160.319263\"/>\n     <use style=\"fill-opacity:0;stroke:#000000;\" x=\"226.0925\" xlink:href=\"#mc907d5cc3a\" y=\"175.345061\"/>\n     <use style=\"fill-opacity:0;stroke:#000000;\" x=\"226.0925\" xlink:href=\"#mc907d5cc3a\" y=\"175.345061\"/>\n     <use style=\"fill-opacity:0;stroke:#000000;\" x=\"226.0925\" xlink:href=\"#mc907d5cc3a\" y=\"106.560295\"/>\n     <use style=\"fill-opacity:0;stroke:#000000;\" x=\"226.0925\" xlink:href=\"#mc907d5cc3a\" y=\"144.625651\"/>\n     <use style=\"fill-opacity:0;stroke:#000000;\" x=\"226.0925\" xlink:href=\"#mc907d5cc3a\" y=\"167.331302\"/>\n     <use style=\"fill-opacity:0;stroke:#000000;\" x=\"226.0925\" xlink:href=\"#mc907d5cc3a\" y=\"156.64629\"/>\n     <use style=\"fill-opacity:0;stroke:#000000;\" x=\"226.0925\" xlink:href=\"#mc907d5cc3a\" y=\"115.241867\"/>\n     <use style=\"fill-opacity:0;stroke:#000000;\" x=\"226.0925\" xlink:href=\"#mc907d5cc3a\" y=\"174.677248\"/>\n     <use style=\"fill-opacity:0;stroke:#000000;\" x=\"226.0925\" xlink:href=\"#mc907d5cc3a\" y=\"123.255627\"/>\n     <use style=\"fill-opacity:0;stroke:#000000;\" x=\"226.0925\" xlink:href=\"#mc907d5cc3a\" y=\"161.988796\"/>\n     <use style=\"fill-opacity:0;stroke:#000000;\" x=\"226.0925\" xlink:href=\"#mc907d5cc3a\" y=\"155.310663\"/>\n     <use style=\"fill-opacity:0;stroke:#000000;\" x=\"226.0925\" xlink:href=\"#mc907d5cc3a\" y=\"176.680688\"/>\n     <use style=\"fill-opacity:0;stroke:#000000;\" x=\"226.0925\" xlink:href=\"#mc907d5cc3a\" y=\"173.007715\"/>\n     <use style=\"fill-opacity:0;stroke:#000000;\" x=\"226.0925\" xlink:href=\"#mc907d5cc3a\" y=\"178.350221\"/>\n     <use style=\"fill-opacity:0;stroke:#000000;\" x=\"226.0925\" xlink:href=\"#mc907d5cc3a\" y=\"175.345061\"/>\n     <use style=\"fill-opacity:0;stroke:#000000;\" x=\"226.0925\" xlink:href=\"#mc907d5cc3a\" y=\"129.599853\"/>\n     <use style=\"fill-opacity:0;stroke:#000000;\" x=\"226.0925\" xlink:href=\"#mc907d5cc3a\" y=\"132.605012\"/>\n     <use style=\"fill-opacity:0;stroke:#000000;\" x=\"226.0925\" xlink:href=\"#mc907d5cc3a\" y=\"175.678968\"/>\n     <use style=\"fill-opacity:0;stroke:#000000;\" x=\"226.0925\" xlink:href=\"#mc907d5cc3a\" y=\"166.997396\"/>\n     <use style=\"fill-opacity:0;stroke:#000000;\" x=\"226.0925\" xlink:href=\"#mc907d5cc3a\" y=\"156.64629\"/>\n     <use style=\"fill-opacity:0;stroke:#000000;\" x=\"226.0925\" xlink:href=\"#mc907d5cc3a\" y=\"127.930319\"/>\n     <use style=\"fill-opacity:0;stroke:#000000;\" x=\"226.0925\" xlink:href=\"#mc907d5cc3a\" y=\"113.238428\"/>\n     <use style=\"fill-opacity:0;stroke:#000000;\" x=\"226.0925\" xlink:href=\"#mc907d5cc3a\" y=\"136.611892\"/>\n     <use style=\"fill-opacity:0;stroke:#000000;\" x=\"226.0925\" xlink:href=\"#mc907d5cc3a\" y=\"141.620491\"/>\n     <use style=\"fill-opacity:0;stroke:#000000;\" x=\"226.0925\" xlink:href=\"#mc907d5cc3a\" y=\"170.670369\"/>\n     <use style=\"fill-opacity:0;stroke:#000000;\" x=\"226.0925\" xlink:href=\"#mc907d5cc3a\" y=\"172.005995\"/>\n     <use style=\"fill-opacity:0;stroke:#000000;\" x=\"226.0925\" xlink:href=\"#mc907d5cc3a\" y=\"118.91484\"/>\n     <use style=\"fill-opacity:0;stroke:#000000;\" x=\"226.0925\" xlink:href=\"#mc907d5cc3a\" y=\"163.992236\"/>\n     <use style=\"fill-opacity:0;stroke:#000000;\" x=\"226.0925\" xlink:href=\"#mc907d5cc3a\" y=\"137.947518\"/>\n     <use style=\"fill-opacity:0;stroke:#000000;\" x=\"226.0925\" xlink:href=\"#mc907d5cc3a\" y=\"180.019754\"/>\n     <use style=\"fill-opacity:0;stroke:#000000;\" x=\"226.0925\" xlink:href=\"#mc907d5cc3a\" y=\"153.307224\"/>\n     <use style=\"fill-opacity:0;stroke:#000000;\" x=\"226.0925\" xlink:href=\"#mc907d5cc3a\" y=\"176.346781\"/>\n     <use style=\"fill-opacity:0;stroke:#000000;\" x=\"226.0925\" xlink:href=\"#mc907d5cc3a\" y=\"178.684128\"/>\n     <use style=\"fill-opacity:0;stroke:#000000;\" x=\"226.0925\" xlink:href=\"#mc907d5cc3a\" y=\"169.334742\"/>\n     <use style=\"fill-opacity:0;stroke:#000000;\" x=\"226.0925\" xlink:href=\"#mc907d5cc3a\" y=\"164.660049\"/>\n     <use style=\"fill-opacity:0;stroke:#000000;\" x=\"226.0925\" xlink:href=\"#mc907d5cc3a\" y=\"139.283145\"/>\n     <use style=\"fill-opacity:0;stroke:#000000;\" x=\"226.0925\" xlink:href=\"#mc907d5cc3a\" y=\"175.345061\"/>\n     <use style=\"fill-opacity:0;stroke:#000000;\" x=\"226.0925\" xlink:href=\"#mc907d5cc3a\" y=\"156.64629\"/>\n     <use style=\"fill-opacity:0;stroke:#000000;\" x=\"226.0925\" xlink:href=\"#mc907d5cc3a\" y=\"155.310663\"/>\n     <use style=\"fill-opacity:0;stroke:#000000;\" x=\"226.0925\" xlink:href=\"#mc907d5cc3a\" y=\"175.345061\"/>\n     <use style=\"fill-opacity:0;stroke:#000000;\" x=\"226.0925\" xlink:href=\"#mc907d5cc3a\" y=\"172.005995\"/>\n     <use style=\"fill-opacity:0;stroke:#000000;\" x=\"226.0925\" xlink:href=\"#mc907d5cc3a\" y=\"172.673808\"/>\n     <use style=\"fill-opacity:0;stroke:#000000;\" x=\"226.0925\" xlink:href=\"#mc907d5cc3a\" y=\"167.331302\"/>\n     <use style=\"fill-opacity:0;stroke:#000000;\" x=\"226.0925\" xlink:href=\"#mc907d5cc3a\" y=\"89.864963\"/>\n     <use style=\"fill-opacity:0;stroke:#000000;\" x=\"226.0925\" xlink:href=\"#mc907d5cc3a\" y=\"167.999115\"/>\n     <use style=\"fill-opacity:0;stroke:#000000;\" x=\"226.0925\" xlink:href=\"#mc907d5cc3a\" y=\"143.290025\"/>\n     <use style=\"fill-opacity:0;stroke:#000000;\" x=\"226.0925\" xlink:href=\"#mc907d5cc3a\" y=\"156.64629\"/>\n     <use style=\"fill-opacity:0;stroke:#000000;\" x=\"226.0925\" xlink:href=\"#mc907d5cc3a\" y=\"175.345061\"/>\n     <use style=\"fill-opacity:0;stroke:#000000;\" x=\"226.0925\" xlink:href=\"#mc907d5cc3a\" y=\"165.661769\"/>\n     <use style=\"fill-opacity:0;stroke:#000000;\" x=\"226.0925\" xlink:href=\"#mc907d5cc3a\" y=\"176.012875\"/>\n     <use style=\"fill-opacity:0;stroke:#000000;\" x=\"226.0925\" xlink:href=\"#mc907d5cc3a\" y=\"176.346781\"/>\n     <use style=\"fill-opacity:0;stroke:#000000;\" x=\"226.0925\" xlink:href=\"#mc907d5cc3a\" y=\"144.959558\"/>\n     <use style=\"fill-opacity:0;stroke:#000000;\" x=\"226.0925\" xlink:href=\"#mc907d5cc3a\" y=\"171.672088\"/>\n     <use style=\"fill-opacity:0;stroke:#000000;\" x=\"226.0925\" xlink:href=\"#mc907d5cc3a\" y=\"151.303784\"/>\n     <use style=\"fill-opacity:0;stroke:#000000;\" x=\"226.0925\" xlink:href=\"#mc907d5cc3a\" y=\"179.685848\"/>\n     <use style=\"fill-opacity:0;stroke:#000000;\" x=\"226.0925\" xlink:href=\"#mc907d5cc3a\" y=\"149.634251\"/>\n     <use style=\"fill-opacity:0;stroke:#000000;\" x=\"226.0925\" xlink:href=\"#mc907d5cc3a\" y=\"180.019754\"/>\n     <use style=\"fill-opacity:0;stroke:#000000;\" x=\"226.0925\" xlink:href=\"#mc907d5cc3a\" y=\"146.629091\"/>\n     <use style=\"fill-opacity:0;stroke:#000000;\" x=\"226.0925\" xlink:href=\"#mc907d5cc3a\" y=\"174.677248\"/>\n     <use style=\"fill-opacity:0;stroke:#000000;\" x=\"226.0925\" xlink:href=\"#mc907d5cc3a\" y=\"99.548256\"/>\n     <use style=\"fill-opacity:0;stroke:#000000;\" x=\"226.0925\" xlink:href=\"#mc907d5cc3a\" y=\"146.629091\"/>\n     <use style=\"fill-opacity:0;stroke:#000000;\" x=\"226.0925\" xlink:href=\"#mc907d5cc3a\" y=\"159.65145\"/>\n     <use style=\"fill-opacity:0;stroke:#000000;\" x=\"226.0925\" xlink:href=\"#mc907d5cc3a\" y=\"141.286585\"/>\n     <use style=\"fill-opacity:0;stroke:#000000;\" x=\"226.0925\" xlink:href=\"#mc907d5cc3a\" y=\"180.019754\"/>\n     <use style=\"fill-opacity:0;stroke:#000000;\" x=\"226.0925\" xlink:href=\"#mc907d5cc3a\" y=\"163.324423\"/>\n     <use style=\"fill-opacity:0;stroke:#000000;\" x=\"226.0925\" xlink:href=\"#mc907d5cc3a\" y=\"171.672088\"/>\n     <use style=\"fill-opacity:0;stroke:#000000;\" x=\"226.0925\" xlink:href=\"#mc907d5cc3a\" y=\"166.663489\"/>\n     <use style=\"fill-opacity:0;stroke:#000000;\" x=\"226.0925\" xlink:href=\"#mc907d5cc3a\" y=\"170.336462\"/>\n     <use style=\"fill-opacity:0;stroke:#000000;\" x=\"226.0925\" xlink:href=\"#mc907d5cc3a\" y=\"156.64629\"/>\n     <use style=\"fill-opacity:0;stroke:#000000;\" x=\"226.0925\" xlink:href=\"#mc907d5cc3a\" y=\"23.083636\"/>\n     <use style=\"fill-opacity:0;stroke:#000000;\" x=\"226.0925\" xlink:href=\"#mc907d5cc3a\" y=\"157.64801\"/>\n     <use style=\"fill-opacity:0;stroke:#000000;\" x=\"226.0925\" xlink:href=\"#mc907d5cc3a\" y=\"177.682408\"/>\n     <use style=\"fill-opacity:0;stroke:#000000;\" x=\"226.0925\" xlink:href=\"#mc907d5cc3a\" y=\"168.666929\"/>\n     <use style=\"fill-opacity:0;stroke:#000000;\" x=\"226.0925\" xlink:href=\"#mc907d5cc3a\" y=\"163.324423\"/>\n     <use style=\"fill-opacity:0;stroke:#000000;\" x=\"226.0925\" xlink:href=\"#mc907d5cc3a\" y=\"127.596413\"/>\n     <use style=\"fill-opacity:0;stroke:#000000;\" x=\"226.0925\" xlink:href=\"#mc907d5cc3a\" y=\"179.351941\"/>\n     <use style=\"fill-opacity:0;stroke:#000000;\" x=\"226.0925\" xlink:href=\"#mc907d5cc3a\" y=\"179.685848\"/>\n     <use style=\"fill-opacity:0;stroke:#000000;\" x=\"226.0925\" xlink:href=\"#mc907d5cc3a\" y=\"165.995676\"/>\n     <use style=\"fill-opacity:0;stroke:#000000;\" x=\"226.0925\" xlink:href=\"#mc907d5cc3a\" y=\"119.248747\"/>\n     <use style=\"fill-opacity:0;stroke:#000000;\" x=\"226.0925\" xlink:href=\"#mc907d5cc3a\" y=\"179.351941\"/>\n     <use style=\"fill-opacity:0;stroke:#000000;\" x=\"226.0925\" xlink:href=\"#mc907d5cc3a\" y=\"178.016314\"/>\n     <use style=\"fill-opacity:0;stroke:#000000;\" x=\"226.0925\" xlink:href=\"#mc907d5cc3a\" y=\"155.310663\"/>\n     <use style=\"fill-opacity:0;stroke:#000000;\" x=\"226.0925\" xlink:href=\"#mc907d5cc3a\" y=\"157.981916\"/>\n     <use style=\"fill-opacity:0;stroke:#000000;\" x=\"226.0925\" xlink:href=\"#mc907d5cc3a\" y=\"157.314103\"/>\n     <use style=\"fill-opacity:0;stroke:#000000;\" x=\"226.0925\" xlink:href=\"#mc907d5cc3a\" y=\"106.560295\"/>\n     <use style=\"fill-opacity:0;stroke:#000000;\" x=\"226.0925\" xlink:href=\"#mc907d5cc3a\" y=\"149.300344\"/>\n     <use style=\"fill-opacity:0;stroke:#000000;\" x=\"226.0925\" xlink:href=\"#mc907d5cc3a\" y=\"175.678968\"/>\n     <use style=\"fill-opacity:0;stroke:#000000;\" x=\"226.0925\" xlink:href=\"#mc907d5cc3a\" y=\"169.668649\"/>\n     <use style=\"fill-opacity:0;stroke:#000000;\" x=\"226.0925\" xlink:href=\"#mc907d5cc3a\" y=\"166.329582\"/>\n     <use style=\"fill-opacity:0;stroke:#000000;\" x=\"226.0925\" xlink:href=\"#mc907d5cc3a\" y=\"174.009435\"/>\n     <use style=\"fill-opacity:0;stroke:#000000;\" x=\"226.0925\" xlink:href=\"#mc907d5cc3a\" y=\"158.315823\"/>\n     <use style=\"fill-opacity:0;stroke:#000000;\" x=\"226.0925\" xlink:href=\"#mc907d5cc3a\" y=\"127.262506\"/>\n     <use style=\"fill-opacity:0;stroke:#000000;\" x=\"226.0925\" xlink:href=\"#mc907d5cc3a\" y=\"175.011155\"/>\n     <use style=\"fill-opacity:0;stroke:#000000;\" x=\"226.0925\" xlink:href=\"#mc907d5cc3a\" y=\"161.988796\"/>\n     <use style=\"fill-opacity:0;stroke:#000000;\" x=\"226.0925\" xlink:href=\"#mc907d5cc3a\" y=\"179.685848\"/>\n     <use style=\"fill-opacity:0;stroke:#000000;\" x=\"226.0925\" xlink:href=\"#mc907d5cc3a\" y=\"178.350221\"/>\n     <use style=\"fill-opacity:0;stroke:#000000;\" x=\"226.0925\" xlink:href=\"#mc907d5cc3a\" y=\"170.670369\"/>\n     <use style=\"fill-opacity:0;stroke:#000000;\" x=\"226.0925\" xlink:href=\"#mc907d5cc3a\" y=\"171.672088\"/>\n     <use style=\"fill-opacity:0;stroke:#000000;\" x=\"226.0925\" xlink:href=\"#mc907d5cc3a\" y=\"156.980197\"/>\n     <use style=\"fill-opacity:0;stroke:#000000;\" x=\"226.0925\" xlink:href=\"#mc907d5cc3a\" y=\"171.672088\"/>\n     <use style=\"fill-opacity:0;stroke:#000000;\" x=\"226.0925\" xlink:href=\"#mc907d5cc3a\" y=\"96.543096\"/>\n     <use style=\"fill-opacity:0;stroke:#000000;\" x=\"226.0925\" xlink:href=\"#mc907d5cc3a\" y=\"28.760049\"/>\n     <use style=\"fill-opacity:0;stroke:#000000;\" x=\"226.0925\" xlink:href=\"#mc907d5cc3a\" y=\"170.002555\"/>\n     <use style=\"fill-opacity:0;stroke:#000000;\" x=\"226.0925\" xlink:href=\"#mc907d5cc3a\" y=\"170.670369\"/>\n     <use style=\"fill-opacity:0;stroke:#000000;\" x=\"226.0925\" xlink:href=\"#mc907d5cc3a\" y=\"161.988796\"/>\n     <use style=\"fill-opacity:0;stroke:#000000;\" x=\"226.0925\" xlink:href=\"#mc907d5cc3a\" y=\"163.324423\"/>\n     <use style=\"fill-opacity:0;stroke:#000000;\" x=\"226.0925\" xlink:href=\"#mc907d5cc3a\" y=\"146.629091\"/>\n    </g>\n   </g>\n   <g id=\"line2d_15\">\n    <path clip-path=\"url(#pde8a826707)\" d=\"M 200.9825 209.737445 \nL 251.2025 209.737445 \n\" style=\"fill:none;stroke:#50b131;stroke-linecap:round;\"/>\n   </g>\n   <g id=\"patch_3\">\n    <path d=\"M 58.6925 230.64 \nL 58.6925 13.2 \n\" style=\"fill:none;stroke:#ffffff;stroke-linecap:square;stroke-linejoin:miter;stroke-width:1.25;\"/>\n   </g>\n   <g id=\"patch_4\">\n    <path d=\"M 393.4925 230.64 \nL 393.4925 13.2 \n\" style=\"fill:none;stroke:#ffffff;stroke-linecap:square;stroke-linejoin:miter;stroke-width:1.25;\"/>\n   </g>\n   <g id=\"patch_5\">\n    <path d=\"M 58.6925 230.64 \nL 393.4925 230.64 \n\" style=\"fill:none;stroke:#ffffff;stroke-linecap:square;stroke-linejoin:miter;stroke-width:1.25;\"/>\n   </g>\n   <g id=\"patch_6\">\n    <path d=\"M 58.6925 13.2 \nL 393.4925 13.2 \n\" style=\"fill:none;stroke:#ffffff;stroke-linecap:square;stroke-linejoin:miter;stroke-width:1.25;\"/>\n   </g>\n  </g>\n </g>\n <defs>\n  <clipPath id=\"pde8a826707\">\n   <rect height=\"217.44\" width=\"334.8\" x=\"58.6925\" y=\"13.2\"/>\n  </clipPath>\n </defs>\n</svg>\n"
          },
          "metadata": {
            "tags": []
          }
        }
      ]
    },
    {
      "cell_type": "code",
      "metadata": {
        "id": "dylL3eAOVeAH",
        "colab_type": "code",
        "colab": {}
      },
      "source": [
        ""
      ],
      "execution_count": 0,
      "outputs": []
    },
    {
      "cell_type": "code",
      "metadata": {
        "id": "fNz3wmWmsI2a",
        "colab_type": "code",
        "outputId": "a4b40c53-dcc4-404a-db43-1d04fc5b1be9",
        "colab": {
          "base_uri": "https://localhost:8080/",
          "height": 176
        }
      },
      "source": [
        "sum_low, sum_high = get_fliers(a, sum_field)"
      ],
      "execution_count": 0,
      "outputs": [
        {
          "output_type": "stream",
          "text": [
            "--------------------\n",
            "Описание выброса по полю \"Сумма кредита\"\n",
            "Медиана распределения 21500.0\n",
            "нижняя граница: 5000.0, \n",
            "верхняя граница: 65500.0\n",
            "Количество по выбросу 130, доля 8.0 %\n",
            "Сумма по выбросу 13759500, доля 27.0 %\n",
            "Процент дефолтов в группе 7.6923076923076925 %\n",
            "Сумма потерь 1043000 р.\n"
          ],
          "name": "stdout"
        }
      ]
    },
    {
      "cell_type": "code",
      "metadata": {
        "id": "fvsVFl2Uc8xx",
        "colab_type": "code",
        "outputId": "62d75197-b011-4a05-ff82-a681c25267f4",
        "colab": {
          "base_uri": "https://localhost:8080/",
          "height": 365
        }
      },
      "source": [
        "period_field = \"Срок кредита\"\n",
        "a = df_train[[period_field]].boxplot(return_type ='dict')"
      ],
      "execution_count": 0,
      "outputs": [
        {
          "output_type": "display_data",
          "data": {
            "text/plain": [
              "<Figure size 432x288 with 1 Axes>"
            ],
            "image/svg+xml": "<?xml version=\"1.0\" encoding=\"utf-8\" standalone=\"no\"?>\n<!DOCTYPE svg PUBLIC \"-//W3C//DTD SVG 1.1//EN\"\n  \"http://www.w3.org/Graphics/SVG/1.1/DTD/svg11.dtd\">\n<!-- Created with matplotlib (https://matplotlib.org/) -->\n<svg height=\"257.985937pt\" version=\"1.1\" viewBox=\"0 0 378.6975 257.985937\" width=\"378.6975pt\" xmlns=\"http://www.w3.org/2000/svg\" xmlns:xlink=\"http://www.w3.org/1999/xlink\">\n <defs>\n  <style type=\"text/css\">\n*{stroke-linecap:butt;stroke-linejoin:round;}\n  </style>\n </defs>\n <g id=\"figure_1\">\n  <g id=\"patch_1\">\n   <path d=\"M 0 257.985937 \nL 378.6975 257.985937 \nL 378.6975 0 \nL 0 0 \nz\n\" style=\"fill:none;\"/>\n  </g>\n  <g id=\"axes_1\">\n   <g id=\"patch_2\">\n    <path d=\"M 30.6975 230.64 \nL 365.4975 230.64 \nL 365.4975 13.2 \nL 30.6975 13.2 \nz\n\" style=\"fill:#eaeaf2;\"/>\n   </g>\n   <g id=\"matplotlib.axis_1\">\n    <g id=\"xtick_1\">\n     <g id=\"line2d_1\">\n      <path clip-path=\"url(#p2805dce963)\" d=\"M 198.0975 230.64 \nL 198.0975 13.2 \n\" style=\"fill:none;stroke:#ffffff;stroke-linecap:round;\"/>\n     </g>\n     <g id=\"text_1\">\n      <!-- Срок кредита -->\n      <defs>\n       <path d=\"M 64.40625 67.28125 \nL 64.40625 56.890625 \nQ 59.421875 61.53125 53.78125 63.8125 \nQ 48.140625 66.109375 41.796875 66.109375 \nQ 29.296875 66.109375 22.65625 58.46875 \nQ 16.015625 50.828125 16.015625 36.375 \nQ 16.015625 21.96875 22.65625 14.328125 \nQ 29.296875 6.6875 41.796875 6.6875 \nQ 48.140625 6.6875 53.78125 8.984375 \nQ 59.421875 11.28125 64.40625 15.921875 \nL 64.40625 5.609375 \nQ 59.234375 2.09375 53.4375 0.328125 \nQ 47.65625 -1.421875 41.21875 -1.421875 \nQ 24.65625 -1.421875 15.125 8.703125 \nQ 5.609375 18.84375 5.609375 36.375 \nQ 5.609375 53.953125 15.125 64.078125 \nQ 24.65625 74.21875 41.21875 74.21875 \nQ 47.75 74.21875 53.53125 72.484375 \nQ 59.328125 70.75 64.40625 67.28125 \nz\n\" id=\"DejaVuSans-1057\"/>\n       <path d=\"M 18.109375 8.203125 \nL 18.109375 -20.796875 \nL 9.078125 -20.796875 \nL 9.078125 54.6875 \nL 18.109375 54.6875 \nL 18.109375 46.390625 \nQ 20.953125 51.265625 25.265625 53.625 \nQ 29.59375 56 35.59375 56 \nQ 45.5625 56 51.78125 48.09375 \nQ 58.015625 40.1875 58.015625 27.296875 \nQ 58.015625 14.40625 51.78125 6.484375 \nQ 45.5625 -1.421875 35.59375 -1.421875 \nQ 29.59375 -1.421875 25.265625 0.953125 \nQ 20.953125 3.328125 18.109375 8.203125 \nz\nM 48.6875 27.296875 \nQ 48.6875 37.203125 44.609375 42.84375 \nQ 40.53125 48.484375 33.40625 48.484375 \nQ 26.265625 48.484375 22.1875 42.84375 \nQ 18.109375 37.203125 18.109375 27.296875 \nQ 18.109375 17.390625 22.1875 11.75 \nQ 26.265625 6.109375 33.40625 6.109375 \nQ 40.53125 6.109375 44.609375 11.75 \nQ 48.6875 17.390625 48.6875 27.296875 \nz\n\" id=\"DejaVuSans-1088\"/>\n       <path d=\"M 30.609375 48.390625 \nQ 23.390625 48.390625 19.1875 42.75 \nQ 14.984375 37.109375 14.984375 27.296875 \nQ 14.984375 17.484375 19.15625 11.84375 \nQ 23.34375 6.203125 30.609375 6.203125 \nQ 37.796875 6.203125 41.984375 11.859375 \nQ 46.1875 17.53125 46.1875 27.296875 \nQ 46.1875 37.015625 41.984375 42.703125 \nQ 37.796875 48.390625 30.609375 48.390625 \nz\nM 30.609375 56 \nQ 42.328125 56 49.015625 48.375 \nQ 55.71875 40.765625 55.71875 27.296875 \nQ 55.71875 13.875 49.015625 6.21875 \nQ 42.328125 -1.421875 30.609375 -1.421875 \nQ 18.84375 -1.421875 12.171875 6.21875 \nQ 5.515625 13.875 5.515625 27.296875 \nQ 5.515625 40.765625 12.171875 48.375 \nQ 18.84375 56 30.609375 56 \nz\n\" id=\"DejaVuSans-1086\"/>\n       <path d=\"M 9.078125 54.6875 \nL 18.015625 54.6875 \nL 18.015625 29 \nL 43.359375 54.6875 \nL 54.390625 54.6875 \nL 33.5 33.546875 \nL 57.078125 0 \nL 47.015625 0 \nL 27.640625 27.59375 \nL 18.015625 17.828125 \nL 18.015625 0 \nL 9.078125 0 \nz\n\" id=\"DejaVuSans-1082\"/>\n       <path id=\"DejaVuSans-32\"/>\n       <path d=\"M 56.203125 29.59375 \nL 56.203125 25.203125 \nL 14.890625 25.203125 \nQ 15.484375 15.921875 20.484375 11.0625 \nQ 25.484375 6.203125 34.421875 6.203125 \nQ 39.59375 6.203125 44.453125 7.46875 \nQ 49.3125 8.734375 54.109375 11.28125 \nL 54.109375 2.78125 \nQ 49.265625 0.734375 44.1875 -0.34375 \nQ 39.109375 -1.421875 33.890625 -1.421875 \nQ 20.796875 -1.421875 13.15625 6.1875 \nQ 5.515625 13.8125 5.515625 26.8125 \nQ 5.515625 40.234375 12.765625 48.109375 \nQ 20.015625 56 32.328125 56 \nQ 43.359375 56 49.78125 48.890625 \nQ 56.203125 41.796875 56.203125 29.59375 \nz\nM 47.21875 32.234375 \nQ 47.125 39.59375 43.09375 43.984375 \nQ 39.0625 48.390625 32.421875 48.390625 \nQ 24.90625 48.390625 20.390625 44.140625 \nQ 15.875 39.890625 15.1875 32.171875 \nz\n\" id=\"DejaVuSans-1077\"/>\n       <path d=\"M 21.625 7.171875 \nL 47.703125 7.171875 \nL 47.703125 47.515625 \nL 28.8125 47.515625 \nL 28.8125 40.671875 \nQ 28.8125 20.5625 23.046875 9.8125 \nz\nM 8.59375 7.171875 \nQ 13.03125 9.125 14.984375 13.28125 \nQ 19.78125 23.578125 19.78125 44.34375 \nL 19.78125 54.6875 \nL 56.734375 54.6875 \nL 56.734375 7.171875 \nL 63.921875 7.171875 \nL 63.921875 -13.8125 \nL 56.734375 -13.8125 \nL 56.734375 0 \nL 12.40625 0 \nL 12.40625 -13.8125 \nL 5.21875 -13.8125 \nL 5.21875 7.171875 \nz\n\" id=\"DejaVuSans-1076\"/>\n       <path d=\"M 55.90625 54.6875 \nL 55.90625 0 \nL 46.96875 0 \nL 46.96875 43.890625 \nL 20.609375 0 \nL 9.078125 0 \nL 9.078125 54.6875 \nL 18.015625 54.6875 \nL 18.015625 10.890625 \nL 44.34375 54.6875 \nz\n\" id=\"DejaVuSans-1080\"/>\n       <path d=\"M 2.9375 54.6875 \nL 55.328125 54.6875 \nL 55.328125 47.515625 \nL 33.546875 47.515625 \nL 33.546875 0 \nL 24.703125 0 \nL 24.703125 47.515625 \nL 2.9375 47.515625 \nz\n\" id=\"DejaVuSans-1090\"/>\n       <path d=\"M 34.28125 27.484375 \nQ 23.390625 27.484375 19.1875 25 \nQ 14.984375 22.515625 14.984375 16.5 \nQ 14.984375 11.71875 18.140625 8.90625 \nQ 21.296875 6.109375 26.703125 6.109375 \nQ 34.1875 6.109375 38.703125 11.40625 \nQ 43.21875 16.703125 43.21875 25.484375 \nL 43.21875 27.484375 \nz\nM 52.203125 31.203125 \nL 52.203125 0 \nL 43.21875 0 \nL 43.21875 8.296875 \nQ 40.140625 3.328125 35.546875 0.953125 \nQ 30.953125 -1.421875 24.3125 -1.421875 \nQ 15.921875 -1.421875 10.953125 3.296875 \nQ 6 8.015625 6 15.921875 \nQ 6 25.140625 12.171875 29.828125 \nQ 18.359375 34.515625 30.609375 34.515625 \nL 43.21875 34.515625 \nL 43.21875 35.40625 \nQ 43.21875 41.609375 39.140625 45 \nQ 35.0625 48.390625 27.6875 48.390625 \nQ 23 48.390625 18.546875 47.265625 \nQ 14.109375 46.140625 10.015625 43.890625 \nL 10.015625 52.203125 \nQ 14.9375 54.109375 19.578125 55.046875 \nQ 24.21875 56 28.609375 56 \nQ 40.484375 56 46.34375 49.84375 \nQ 52.203125 43.703125 52.203125 31.203125 \nz\n\" id=\"DejaVuSans-1072\"/>\n      </defs>\n      <g style=\"fill:#262626;\" transform=\"translate(158.180391 248.498281)scale(0.11 -0.11)\">\n       <use xlink:href=\"#DejaVuSans-1057\"/>\n       <use x=\"69.824219\" xlink:href=\"#DejaVuSans-1088\"/>\n       <use x=\"133.300781\" xlink:href=\"#DejaVuSans-1086\"/>\n       <use x=\"194.482422\" xlink:href=\"#DejaVuSans-1082\"/>\n       <use x=\"254.882812\" xlink:href=\"#DejaVuSans-32\"/>\n       <use x=\"286.669922\" xlink:href=\"#DejaVuSans-1082\"/>\n       <use x=\"347.070312\" xlink:href=\"#DejaVuSans-1088\"/>\n       <use x=\"410.546875\" xlink:href=\"#DejaVuSans-1077\"/>\n       <use x=\"472.070312\" xlink:href=\"#DejaVuSans-1076\"/>\n       <use x=\"541.210938\" xlink:href=\"#DejaVuSans-1080\"/>\n       <use x=\"606.201172\" xlink:href=\"#DejaVuSans-1090\"/>\n       <use x=\"664.453125\" xlink:href=\"#DejaVuSans-1072\"/>\n      </g>\n     </g>\n    </g>\n   </g>\n   <g id=\"matplotlib.axis_2\">\n    <g id=\"ytick_1\">\n     <g id=\"line2d_2\">\n      <path clip-path=\"url(#p2805dce963)\" d=\"M 30.6975 208.776198 \nL 365.4975 208.776198 \n\" style=\"fill:none;stroke:#ffffff;stroke-linecap:round;\"/>\n     </g>\n     <g id=\"text_2\">\n      <!-- 5 -->\n      <defs>\n       <path d=\"M 10.796875 72.90625 \nL 49.515625 72.90625 \nL 49.515625 64.59375 \nL 19.828125 64.59375 \nL 19.828125 46.734375 \nQ 21.96875 47.46875 24.109375 47.828125 \nQ 26.265625 48.1875 28.421875 48.1875 \nQ 40.625 48.1875 47.75 41.5 \nQ 54.890625 34.8125 54.890625 23.390625 \nQ 54.890625 11.625 47.5625 5.09375 \nQ 40.234375 -1.421875 26.90625 -1.421875 \nQ 22.3125 -1.421875 17.546875 -0.640625 \nQ 12.796875 0.140625 7.71875 1.703125 \nL 7.71875 11.625 \nQ 12.109375 9.234375 16.796875 8.0625 \nQ 21.484375 6.890625 26.703125 6.890625 \nQ 35.15625 6.890625 40.078125 11.328125 \nQ 45.015625 15.765625 45.015625 23.390625 \nQ 45.015625 31 40.078125 35.4375 \nQ 35.15625 39.890625 26.703125 39.890625 \nQ 22.75 39.890625 18.8125 39.015625 \nQ 14.890625 38.140625 10.796875 36.28125 \nz\n\" id=\"DejaVuSans-53\"/>\n      </defs>\n      <g style=\"fill:#262626;\" transform=\"translate(14.19875 212.955339)scale(0.11 -0.11)\">\n       <use xlink:href=\"#DejaVuSans-53\"/>\n      </g>\n     </g>\n    </g>\n    <g id=\"ytick_2\">\n     <g id=\"line2d_3\">\n      <path clip-path=\"url(#p2805dce963)\" d=\"M 30.6975 178.825785 \nL 365.4975 178.825785 \n\" style=\"fill:none;stroke:#ffffff;stroke-linecap:round;\"/>\n     </g>\n     <g id=\"text_3\">\n      <!-- 10 -->\n      <defs>\n       <path d=\"M 12.40625 8.296875 \nL 28.515625 8.296875 \nL 28.515625 63.921875 \nL 10.984375 60.40625 \nL 10.984375 69.390625 \nL 28.421875 72.90625 \nL 38.28125 72.90625 \nL 38.28125 8.296875 \nL 54.390625 8.296875 \nL 54.390625 0 \nL 12.40625 0 \nz\n\" id=\"DejaVuSans-49\"/>\n       <path d=\"M 31.78125 66.40625 \nQ 24.171875 66.40625 20.328125 58.90625 \nQ 16.5 51.421875 16.5 36.375 \nQ 16.5 21.390625 20.328125 13.890625 \nQ 24.171875 6.390625 31.78125 6.390625 \nQ 39.453125 6.390625 43.28125 13.890625 \nQ 47.125 21.390625 47.125 36.375 \nQ 47.125 51.421875 43.28125 58.90625 \nQ 39.453125 66.40625 31.78125 66.40625 \nz\nM 31.78125 74.21875 \nQ 44.046875 74.21875 50.515625 64.515625 \nQ 56.984375 54.828125 56.984375 36.375 \nQ 56.984375 17.96875 50.515625 8.265625 \nQ 44.046875 -1.421875 31.78125 -1.421875 \nQ 19.53125 -1.421875 13.0625 8.265625 \nQ 6.59375 17.96875 6.59375 36.375 \nQ 6.59375 54.828125 13.0625 64.515625 \nQ 19.53125 74.21875 31.78125 74.21875 \nz\n\" id=\"DejaVuSans-48\"/>\n      </defs>\n      <g style=\"fill:#262626;\" transform=\"translate(7.2 183.004926)scale(0.11 -0.11)\">\n       <use xlink:href=\"#DejaVuSans-49\"/>\n       <use x=\"63.623047\" xlink:href=\"#DejaVuSans-48\"/>\n      </g>\n     </g>\n    </g>\n    <g id=\"ytick_3\">\n     <g id=\"line2d_4\">\n      <path clip-path=\"url(#p2805dce963)\" d=\"M 30.6975 148.875372 \nL 365.4975 148.875372 \n\" style=\"fill:none;stroke:#ffffff;stroke-linecap:round;\"/>\n     </g>\n     <g id=\"text_4\">\n      <!-- 15 -->\n      <g style=\"fill:#262626;\" transform=\"translate(7.2 153.054513)scale(0.11 -0.11)\">\n       <use xlink:href=\"#DejaVuSans-49\"/>\n       <use x=\"63.623047\" xlink:href=\"#DejaVuSans-53\"/>\n      </g>\n     </g>\n    </g>\n    <g id=\"ytick_4\">\n     <g id=\"line2d_5\">\n      <path clip-path=\"url(#p2805dce963)\" d=\"M 30.6975 118.924959 \nL 365.4975 118.924959 \n\" style=\"fill:none;stroke:#ffffff;stroke-linecap:round;\"/>\n     </g>\n     <g id=\"text_5\">\n      <!-- 20 -->\n      <defs>\n       <path d=\"M 19.1875 8.296875 \nL 53.609375 8.296875 \nL 53.609375 0 \nL 7.328125 0 \nL 7.328125 8.296875 \nQ 12.9375 14.109375 22.625 23.890625 \nQ 32.328125 33.6875 34.8125 36.53125 \nQ 39.546875 41.84375 41.421875 45.53125 \nQ 43.3125 49.21875 43.3125 52.78125 \nQ 43.3125 58.59375 39.234375 62.25 \nQ 35.15625 65.921875 28.609375 65.921875 \nQ 23.96875 65.921875 18.8125 64.3125 \nQ 13.671875 62.703125 7.8125 59.421875 \nL 7.8125 69.390625 \nQ 13.765625 71.78125 18.9375 73 \nQ 24.125 74.21875 28.421875 74.21875 \nQ 39.75 74.21875 46.484375 68.546875 \nQ 53.21875 62.890625 53.21875 53.421875 \nQ 53.21875 48.921875 51.53125 44.890625 \nQ 49.859375 40.875 45.40625 35.40625 \nQ 44.1875 33.984375 37.640625 27.21875 \nQ 31.109375 20.453125 19.1875 8.296875 \nz\n\" id=\"DejaVuSans-50\"/>\n      </defs>\n      <g style=\"fill:#262626;\" transform=\"translate(7.2 123.104099)scale(0.11 -0.11)\">\n       <use xlink:href=\"#DejaVuSans-50\"/>\n       <use x=\"63.623047\" xlink:href=\"#DejaVuSans-48\"/>\n      </g>\n     </g>\n    </g>\n    <g id=\"ytick_5\">\n     <g id=\"line2d_6\">\n      <path clip-path=\"url(#p2805dce963)\" d=\"M 30.6975 88.974545 \nL 365.4975 88.974545 \n\" style=\"fill:none;stroke:#ffffff;stroke-linecap:round;\"/>\n     </g>\n     <g id=\"text_6\">\n      <!-- 25 -->\n      <g style=\"fill:#262626;\" transform=\"translate(7.2 93.153686)scale(0.11 -0.11)\">\n       <use xlink:href=\"#DejaVuSans-50\"/>\n       <use x=\"63.623047\" xlink:href=\"#DejaVuSans-53\"/>\n      </g>\n     </g>\n    </g>\n    <g id=\"ytick_6\">\n     <g id=\"line2d_7\">\n      <path clip-path=\"url(#p2805dce963)\" d=\"M 30.6975 59.024132 \nL 365.4975 59.024132 \n\" style=\"fill:none;stroke:#ffffff;stroke-linecap:round;\"/>\n     </g>\n     <g id=\"text_7\">\n      <!-- 30 -->\n      <defs>\n       <path d=\"M 40.578125 39.3125 \nQ 47.65625 37.796875 51.625 33 \nQ 55.609375 28.21875 55.609375 21.1875 \nQ 55.609375 10.40625 48.1875 4.484375 \nQ 40.765625 -1.421875 27.09375 -1.421875 \nQ 22.515625 -1.421875 17.65625 -0.515625 \nQ 12.796875 0.390625 7.625 2.203125 \nL 7.625 11.71875 \nQ 11.71875 9.328125 16.59375 8.109375 \nQ 21.484375 6.890625 26.8125 6.890625 \nQ 36.078125 6.890625 40.9375 10.546875 \nQ 45.796875 14.203125 45.796875 21.1875 \nQ 45.796875 27.640625 41.28125 31.265625 \nQ 36.765625 34.90625 28.71875 34.90625 \nL 20.21875 34.90625 \nL 20.21875 43.015625 \nL 29.109375 43.015625 \nQ 36.375 43.015625 40.234375 45.921875 \nQ 44.09375 48.828125 44.09375 54.296875 \nQ 44.09375 59.90625 40.109375 62.90625 \nQ 36.140625 65.921875 28.71875 65.921875 \nQ 24.65625 65.921875 20.015625 65.03125 \nQ 15.375 64.15625 9.8125 62.3125 \nL 9.8125 71.09375 \nQ 15.4375 72.65625 20.34375 73.4375 \nQ 25.25 74.21875 29.59375 74.21875 \nQ 40.828125 74.21875 47.359375 69.109375 \nQ 53.90625 64.015625 53.90625 55.328125 \nQ 53.90625 49.265625 50.4375 45.09375 \nQ 46.96875 40.921875 40.578125 39.3125 \nz\n\" id=\"DejaVuSans-51\"/>\n      </defs>\n      <g style=\"fill:#262626;\" transform=\"translate(7.2 63.203273)scale(0.11 -0.11)\">\n       <use xlink:href=\"#DejaVuSans-51\"/>\n       <use x=\"63.623047\" xlink:href=\"#DejaVuSans-48\"/>\n      </g>\n     </g>\n    </g>\n    <g id=\"ytick_7\">\n     <g id=\"line2d_8\">\n      <path clip-path=\"url(#p2805dce963)\" d=\"M 30.6975 29.073719 \nL 365.4975 29.073719 \n\" style=\"fill:none;stroke:#ffffff;stroke-linecap:round;\"/>\n     </g>\n     <g id=\"text_8\">\n      <!-- 35 -->\n      <g style=\"fill:#262626;\" transform=\"translate(7.2 33.25286)scale(0.11 -0.11)\">\n       <use xlink:href=\"#DejaVuSans-51\"/>\n       <use x=\"63.623047\" xlink:href=\"#DejaVuSans-53\"/>\n      </g>\n     </g>\n    </g>\n   </g>\n   <g id=\"line2d_9\">\n    <path clip-path=\"url(#p2805dce963)\" d=\"M 172.9875 202.786116 \nL 223.2075 202.786116 \nL 223.2075 166.84562 \nL 172.9875 166.84562 \nL 172.9875 202.786116 \n\" style=\"fill:none;stroke:#f77189;stroke-linecap:round;\"/>\n   </g>\n   <g id=\"line2d_10\">\n    <path clip-path=\"url(#p2805dce963)\" d=\"M 198.0975 202.786116 \nL 198.0975 220.756364 \n\" style=\"fill:none;stroke:#f77189;stroke-linecap:round;\"/>\n   </g>\n   <g id=\"line2d_11\">\n    <path clip-path=\"url(#p2805dce963)\" d=\"M 198.0975 166.84562 \nL 198.0975 118.924959 \n\" style=\"fill:none;stroke:#f77189;stroke-linecap:round;\"/>\n   </g>\n   <g id=\"line2d_12\">\n    <path clip-path=\"url(#p2805dce963)\" d=\"M 185.5425 220.756364 \nL 210.6525 220.756364 \n\" style=\"fill:none;stroke:#000000;stroke-linecap:round;\"/>\n   </g>\n   <g id=\"line2d_13\">\n    <path clip-path=\"url(#p2805dce963)\" d=\"M 185.5425 118.924959 \nL 210.6525 118.924959 \n\" style=\"fill:none;stroke:#000000;stroke-linecap:round;\"/>\n   </g>\n   <g id=\"line2d_14\">\n    <defs>\n     <path d=\"M 0 3 \nC 0.795609 3 1.55874 2.683901 2.12132 2.12132 \nC 2.683901 1.55874 3 0.795609 3 0 \nC 3 -0.795609 2.683901 -1.55874 2.12132 -2.12132 \nC 1.55874 -2.683901 0.795609 -3 0 -3 \nC -0.795609 -3 -1.55874 -2.683901 -2.12132 -2.12132 \nC -2.683901 -1.55874 -3 -0.795609 -3 0 \nC -3 0.795609 -2.683901 1.55874 -2.12132 2.12132 \nC -1.55874 2.683901 -0.795609 3 0 3 \nz\n\" id=\"mb864c43268\" style=\"stroke:#000000;\"/>\n    </defs>\n    <g clip-path=\"url(#p2805dce963)\">\n     <use style=\"fill-opacity:0;stroke:#000000;\" x=\"198.0975\" xlink:href=\"#mb864c43268\" y=\"94.964628\"/>\n     <use style=\"fill-opacity:0;stroke:#000000;\" x=\"198.0975\" xlink:href=\"#mb864c43268\" y=\"94.964628\"/>\n     <use style=\"fill-opacity:0;stroke:#000000;\" x=\"198.0975\" xlink:href=\"#mb864c43268\" y=\"23.083636\"/>\n     <use style=\"fill-opacity:0;stroke:#000000;\" x=\"198.0975\" xlink:href=\"#mb864c43268\" y=\"94.964628\"/>\n     <use style=\"fill-opacity:0;stroke:#000000;\" x=\"198.0975\" xlink:href=\"#mb864c43268\" y=\"94.964628\"/>\n     <use style=\"fill-opacity:0;stroke:#000000;\" x=\"198.0975\" xlink:href=\"#mb864c43268\" y=\"94.964628\"/>\n     <use style=\"fill-opacity:0;stroke:#000000;\" x=\"198.0975\" xlink:href=\"#mb864c43268\" y=\"94.964628\"/>\n     <use style=\"fill-opacity:0;stroke:#000000;\" x=\"198.0975\" xlink:href=\"#mb864c43268\" y=\"94.964628\"/>\n     <use style=\"fill-opacity:0;stroke:#000000;\" x=\"198.0975\" xlink:href=\"#mb864c43268\" y=\"94.964628\"/>\n     <use style=\"fill-opacity:0;stroke:#000000;\" x=\"198.0975\" xlink:href=\"#mb864c43268\" y=\"94.964628\"/>\n     <use style=\"fill-opacity:0;stroke:#000000;\" x=\"198.0975\" xlink:href=\"#mb864c43268\" y=\"94.964628\"/>\n     <use style=\"fill-opacity:0;stroke:#000000;\" x=\"198.0975\" xlink:href=\"#mb864c43268\" y=\"23.083636\"/>\n     <use style=\"fill-opacity:0;stroke:#000000;\" x=\"198.0975\" xlink:href=\"#mb864c43268\" y=\"94.964628\"/>\n     <use style=\"fill-opacity:0;stroke:#000000;\" x=\"198.0975\" xlink:href=\"#mb864c43268\" y=\"23.083636\"/>\n     <use style=\"fill-opacity:0;stroke:#000000;\" x=\"198.0975\" xlink:href=\"#mb864c43268\" y=\"94.964628\"/>\n     <use style=\"fill-opacity:0;stroke:#000000;\" x=\"198.0975\" xlink:href=\"#mb864c43268\" y=\"23.083636\"/>\n     <use style=\"fill-opacity:0;stroke:#000000;\" x=\"198.0975\" xlink:href=\"#mb864c43268\" y=\"94.964628\"/>\n     <use style=\"fill-opacity:0;stroke:#000000;\" x=\"198.0975\" xlink:href=\"#mb864c43268\" y=\"94.964628\"/>\n     <use style=\"fill-opacity:0;stroke:#000000;\" x=\"198.0975\" xlink:href=\"#mb864c43268\" y=\"94.964628\"/>\n     <use style=\"fill-opacity:0;stroke:#000000;\" x=\"198.0975\" xlink:href=\"#mb864c43268\" y=\"94.964628\"/>\n     <use style=\"fill-opacity:0;stroke:#000000;\" x=\"198.0975\" xlink:href=\"#mb864c43268\" y=\"94.964628\"/>\n     <use style=\"fill-opacity:0;stroke:#000000;\" x=\"198.0975\" xlink:href=\"#mb864c43268\" y=\"94.964628\"/>\n     <use style=\"fill-opacity:0;stroke:#000000;\" x=\"198.0975\" xlink:href=\"#mb864c43268\" y=\"94.964628\"/>\n     <use style=\"fill-opacity:0;stroke:#000000;\" x=\"198.0975\" xlink:href=\"#mb864c43268\" y=\"94.964628\"/>\n     <use style=\"fill-opacity:0;stroke:#000000;\" x=\"198.0975\" xlink:href=\"#mb864c43268\" y=\"94.964628\"/>\n     <use style=\"fill-opacity:0;stroke:#000000;\" x=\"198.0975\" xlink:href=\"#mb864c43268\" y=\"23.083636\"/>\n     <use style=\"fill-opacity:0;stroke:#000000;\" x=\"198.0975\" xlink:href=\"#mb864c43268\" y=\"94.964628\"/>\n     <use style=\"fill-opacity:0;stroke:#000000;\" x=\"198.0975\" xlink:href=\"#mb864c43268\" y=\"94.964628\"/>\n     <use style=\"fill-opacity:0;stroke:#000000;\" x=\"198.0975\" xlink:href=\"#mb864c43268\" y=\"94.964628\"/>\n     <use style=\"fill-opacity:0;stroke:#000000;\" x=\"198.0975\" xlink:href=\"#mb864c43268\" y=\"23.083636\"/>\n     <use style=\"fill-opacity:0;stroke:#000000;\" x=\"198.0975\" xlink:href=\"#mb864c43268\" y=\"94.964628\"/>\n     <use style=\"fill-opacity:0;stroke:#000000;\" x=\"198.0975\" xlink:href=\"#mb864c43268\" y=\"94.964628\"/>\n     <use style=\"fill-opacity:0;stroke:#000000;\" x=\"198.0975\" xlink:href=\"#mb864c43268\" y=\"23.083636\"/>\n     <use style=\"fill-opacity:0;stroke:#000000;\" x=\"198.0975\" xlink:href=\"#mb864c43268\" y=\"23.083636\"/>\n     <use style=\"fill-opacity:0;stroke:#000000;\" x=\"198.0975\" xlink:href=\"#mb864c43268\" y=\"94.964628\"/>\n     <use style=\"fill-opacity:0;stroke:#000000;\" x=\"198.0975\" xlink:href=\"#mb864c43268\" y=\"94.964628\"/>\n     <use style=\"fill-opacity:0;stroke:#000000;\" x=\"198.0975\" xlink:href=\"#mb864c43268\" y=\"94.964628\"/>\n     <use style=\"fill-opacity:0;stroke:#000000;\" x=\"198.0975\" xlink:href=\"#mb864c43268\" y=\"94.964628\"/>\n     <use style=\"fill-opacity:0;stroke:#000000;\" x=\"198.0975\" xlink:href=\"#mb864c43268\" y=\"94.964628\"/>\n     <use style=\"fill-opacity:0;stroke:#000000;\" x=\"198.0975\" xlink:href=\"#mb864c43268\" y=\"94.964628\"/>\n     <use style=\"fill-opacity:0;stroke:#000000;\" x=\"198.0975\" xlink:href=\"#mb864c43268\" y=\"94.964628\"/>\n     <use style=\"fill-opacity:0;stroke:#000000;\" x=\"198.0975\" xlink:href=\"#mb864c43268\" y=\"94.964628\"/>\n     <use style=\"fill-opacity:0;stroke:#000000;\" x=\"198.0975\" xlink:href=\"#mb864c43268\" y=\"94.964628\"/>\n     <use style=\"fill-opacity:0;stroke:#000000;\" x=\"198.0975\" xlink:href=\"#mb864c43268\" y=\"94.964628\"/>\n     <use style=\"fill-opacity:0;stroke:#000000;\" x=\"198.0975\" xlink:href=\"#mb864c43268\" y=\"94.964628\"/>\n     <use style=\"fill-opacity:0;stroke:#000000;\" x=\"198.0975\" xlink:href=\"#mb864c43268\" y=\"94.964628\"/>\n     <use style=\"fill-opacity:0;stroke:#000000;\" x=\"198.0975\" xlink:href=\"#mb864c43268\" y=\"94.964628\"/>\n     <use style=\"fill-opacity:0;stroke:#000000;\" x=\"198.0975\" xlink:href=\"#mb864c43268\" y=\"23.083636\"/>\n     <use style=\"fill-opacity:0;stroke:#000000;\" x=\"198.0975\" xlink:href=\"#mb864c43268\" y=\"94.964628\"/>\n     <use style=\"fill-opacity:0;stroke:#000000;\" x=\"198.0975\" xlink:href=\"#mb864c43268\" y=\"94.964628\"/>\n     <use style=\"fill-opacity:0;stroke:#000000;\" x=\"198.0975\" xlink:href=\"#mb864c43268\" y=\"94.964628\"/>\n     <use style=\"fill-opacity:0;stroke:#000000;\" x=\"198.0975\" xlink:href=\"#mb864c43268\" y=\"23.083636\"/>\n     <use style=\"fill-opacity:0;stroke:#000000;\" x=\"198.0975\" xlink:href=\"#mb864c43268\" y=\"94.964628\"/>\n     <use style=\"fill-opacity:0;stroke:#000000;\" x=\"198.0975\" xlink:href=\"#mb864c43268\" y=\"94.964628\"/>\n     <use style=\"fill-opacity:0;stroke:#000000;\" x=\"198.0975\" xlink:href=\"#mb864c43268\" y=\"23.083636\"/>\n     <use style=\"fill-opacity:0;stroke:#000000;\" x=\"198.0975\" xlink:href=\"#mb864c43268\" y=\"94.964628\"/>\n     <use style=\"fill-opacity:0;stroke:#000000;\" x=\"198.0975\" xlink:href=\"#mb864c43268\" y=\"94.964628\"/>\n     <use style=\"fill-opacity:0;stroke:#000000;\" x=\"198.0975\" xlink:href=\"#mb864c43268\" y=\"94.964628\"/>\n     <use style=\"fill-opacity:0;stroke:#000000;\" x=\"198.0975\" xlink:href=\"#mb864c43268\" y=\"94.964628\"/>\n     <use style=\"fill-opacity:0;stroke:#000000;\" x=\"198.0975\" xlink:href=\"#mb864c43268\" y=\"23.083636\"/>\n     <use style=\"fill-opacity:0;stroke:#000000;\" x=\"198.0975\" xlink:href=\"#mb864c43268\" y=\"94.964628\"/>\n     <use style=\"fill-opacity:0;stroke:#000000;\" x=\"198.0975\" xlink:href=\"#mb864c43268\" y=\"94.964628\"/>\n     <use style=\"fill-opacity:0;stroke:#000000;\" x=\"198.0975\" xlink:href=\"#mb864c43268\" y=\"59.024132\"/>\n     <use style=\"fill-opacity:0;stroke:#000000;\" x=\"198.0975\" xlink:href=\"#mb864c43268\" y=\"94.964628\"/>\n     <use style=\"fill-opacity:0;stroke:#000000;\" x=\"198.0975\" xlink:href=\"#mb864c43268\" y=\"94.964628\"/>\n     <use style=\"fill-opacity:0;stroke:#000000;\" x=\"198.0975\" xlink:href=\"#mb864c43268\" y=\"94.964628\"/>\n     <use style=\"fill-opacity:0;stroke:#000000;\" x=\"198.0975\" xlink:href=\"#mb864c43268\" y=\"94.964628\"/>\n     <use style=\"fill-opacity:0;stroke:#000000;\" x=\"198.0975\" xlink:href=\"#mb864c43268\" y=\"23.083636\"/>\n     <use style=\"fill-opacity:0;stroke:#000000;\" x=\"198.0975\" xlink:href=\"#mb864c43268\" y=\"59.024132\"/>\n     <use style=\"fill-opacity:0;stroke:#000000;\" x=\"198.0975\" xlink:href=\"#mb864c43268\" y=\"94.964628\"/>\n     <use style=\"fill-opacity:0;stroke:#000000;\" x=\"198.0975\" xlink:href=\"#mb864c43268\" y=\"94.964628\"/>\n     <use style=\"fill-opacity:0;stroke:#000000;\" x=\"198.0975\" xlink:href=\"#mb864c43268\" y=\"94.964628\"/>\n     <use style=\"fill-opacity:0;stroke:#000000;\" x=\"198.0975\" xlink:href=\"#mb864c43268\" y=\"94.964628\"/>\n     <use style=\"fill-opacity:0;stroke:#000000;\" x=\"198.0975\" xlink:href=\"#mb864c43268\" y=\"23.083636\"/>\n     <use style=\"fill-opacity:0;stroke:#000000;\" x=\"198.0975\" xlink:href=\"#mb864c43268\" y=\"23.083636\"/>\n     <use style=\"fill-opacity:0;stroke:#000000;\" x=\"198.0975\" xlink:href=\"#mb864c43268\" y=\"94.964628\"/>\n     <use style=\"fill-opacity:0;stroke:#000000;\" x=\"198.0975\" xlink:href=\"#mb864c43268\" y=\"23.083636\"/>\n     <use style=\"fill-opacity:0;stroke:#000000;\" x=\"198.0975\" xlink:href=\"#mb864c43268\" y=\"59.024132\"/>\n     <use style=\"fill-opacity:0;stroke:#000000;\" x=\"198.0975\" xlink:href=\"#mb864c43268\" y=\"76.99438\"/>\n     <use style=\"fill-opacity:0;stroke:#000000;\" x=\"198.0975\" xlink:href=\"#mb864c43268\" y=\"94.964628\"/>\n     <use style=\"fill-opacity:0;stroke:#000000;\" x=\"198.0975\" xlink:href=\"#mb864c43268\" y=\"94.964628\"/>\n     <use style=\"fill-opacity:0;stroke:#000000;\" x=\"198.0975\" xlink:href=\"#mb864c43268\" y=\"94.964628\"/>\n     <use style=\"fill-opacity:0;stroke:#000000;\" x=\"198.0975\" xlink:href=\"#mb864c43268\" y=\"23.083636\"/>\n     <use style=\"fill-opacity:0;stroke:#000000;\" x=\"198.0975\" xlink:href=\"#mb864c43268\" y=\"94.964628\"/>\n     <use style=\"fill-opacity:0;stroke:#000000;\" x=\"198.0975\" xlink:href=\"#mb864c43268\" y=\"94.964628\"/>\n     <use style=\"fill-opacity:0;stroke:#000000;\" x=\"198.0975\" xlink:href=\"#mb864c43268\" y=\"23.083636\"/>\n     <use style=\"fill-opacity:0;stroke:#000000;\" x=\"198.0975\" xlink:href=\"#mb864c43268\" y=\"94.964628\"/>\n     <use style=\"fill-opacity:0;stroke:#000000;\" x=\"198.0975\" xlink:href=\"#mb864c43268\" y=\"94.964628\"/>\n     <use style=\"fill-opacity:0;stroke:#000000;\" x=\"198.0975\" xlink:href=\"#mb864c43268\" y=\"59.024132\"/>\n     <use style=\"fill-opacity:0;stroke:#000000;\" x=\"198.0975\" xlink:href=\"#mb864c43268\" y=\"94.964628\"/>\n     <use style=\"fill-opacity:0;stroke:#000000;\" x=\"198.0975\" xlink:href=\"#mb864c43268\" y=\"94.964628\"/>\n     <use style=\"fill-opacity:0;stroke:#000000;\" x=\"198.0975\" xlink:href=\"#mb864c43268\" y=\"59.024132\"/>\n     <use style=\"fill-opacity:0;stroke:#000000;\" x=\"198.0975\" xlink:href=\"#mb864c43268\" y=\"94.964628\"/>\n     <use style=\"fill-opacity:0;stroke:#000000;\" x=\"198.0975\" xlink:href=\"#mb864c43268\" y=\"23.083636\"/>\n     <use style=\"fill-opacity:0;stroke:#000000;\" x=\"198.0975\" xlink:href=\"#mb864c43268\" y=\"94.964628\"/>\n     <use style=\"fill-opacity:0;stroke:#000000;\" x=\"198.0975\" xlink:href=\"#mb864c43268\" y=\"94.964628\"/>\n     <use style=\"fill-opacity:0;stroke:#000000;\" x=\"198.0975\" xlink:href=\"#mb864c43268\" y=\"94.964628\"/>\n     <use style=\"fill-opacity:0;stroke:#000000;\" x=\"198.0975\" xlink:href=\"#mb864c43268\" y=\"94.964628\"/>\n     <use style=\"fill-opacity:0;stroke:#000000;\" x=\"198.0975\" xlink:href=\"#mb864c43268\" y=\"23.083636\"/>\n     <use style=\"fill-opacity:0;stroke:#000000;\" x=\"198.0975\" xlink:href=\"#mb864c43268\" y=\"94.964628\"/>\n     <use style=\"fill-opacity:0;stroke:#000000;\" x=\"198.0975\" xlink:href=\"#mb864c43268\" y=\"94.964628\"/>\n     <use style=\"fill-opacity:0;stroke:#000000;\" x=\"198.0975\" xlink:href=\"#mb864c43268\" y=\"23.083636\"/>\n     <use style=\"fill-opacity:0;stroke:#000000;\" x=\"198.0975\" xlink:href=\"#mb864c43268\" y=\"94.964628\"/>\n     <use style=\"fill-opacity:0;stroke:#000000;\" x=\"198.0975\" xlink:href=\"#mb864c43268\" y=\"23.083636\"/>\n     <use style=\"fill-opacity:0;stroke:#000000;\" x=\"198.0975\" xlink:href=\"#mb864c43268\" y=\"94.964628\"/>\n     <use style=\"fill-opacity:0;stroke:#000000;\" x=\"198.0975\" xlink:href=\"#mb864c43268\" y=\"94.964628\"/>\n     <use style=\"fill-opacity:0;stroke:#000000;\" x=\"198.0975\" xlink:href=\"#mb864c43268\" y=\"94.964628\"/>\n     <use style=\"fill-opacity:0;stroke:#000000;\" x=\"198.0975\" xlink:href=\"#mb864c43268\" y=\"23.083636\"/>\n     <use style=\"fill-opacity:0;stroke:#000000;\" x=\"198.0975\" xlink:href=\"#mb864c43268\" y=\"94.964628\"/>\n     <use style=\"fill-opacity:0;stroke:#000000;\" x=\"198.0975\" xlink:href=\"#mb864c43268\" y=\"94.964628\"/>\n     <use style=\"fill-opacity:0;stroke:#000000;\" x=\"198.0975\" xlink:href=\"#mb864c43268\" y=\"94.964628\"/>\n     <use style=\"fill-opacity:0;stroke:#000000;\" x=\"198.0975\" xlink:href=\"#mb864c43268\" y=\"94.964628\"/>\n     <use style=\"fill-opacity:0;stroke:#000000;\" x=\"198.0975\" xlink:href=\"#mb864c43268\" y=\"35.063802\"/>\n     <use style=\"fill-opacity:0;stroke:#000000;\" x=\"198.0975\" xlink:href=\"#mb864c43268\" y=\"94.964628\"/>\n     <use style=\"fill-opacity:0;stroke:#000000;\" x=\"198.0975\" xlink:href=\"#mb864c43268\" y=\"23.083636\"/>\n     <use style=\"fill-opacity:0;stroke:#000000;\" x=\"198.0975\" xlink:href=\"#mb864c43268\" y=\"23.083636\"/>\n     <use style=\"fill-opacity:0;stroke:#000000;\" x=\"198.0975\" xlink:href=\"#mb864c43268\" y=\"94.964628\"/>\n     <use style=\"fill-opacity:0;stroke:#000000;\" x=\"198.0975\" xlink:href=\"#mb864c43268\" y=\"94.964628\"/>\n     <use style=\"fill-opacity:0;stroke:#000000;\" x=\"198.0975\" xlink:href=\"#mb864c43268\" y=\"94.964628\"/>\n     <use style=\"fill-opacity:0;stroke:#000000;\" x=\"198.0975\" xlink:href=\"#mb864c43268\" y=\"94.964628\"/>\n     <use style=\"fill-opacity:0;stroke:#000000;\" x=\"198.0975\" xlink:href=\"#mb864c43268\" y=\"23.083636\"/>\n     <use style=\"fill-opacity:0;stroke:#000000;\" x=\"198.0975\" xlink:href=\"#mb864c43268\" y=\"94.964628\"/>\n     <use style=\"fill-opacity:0;stroke:#000000;\" x=\"198.0975\" xlink:href=\"#mb864c43268\" y=\"23.083636\"/>\n     <use style=\"fill-opacity:0;stroke:#000000;\" x=\"198.0975\" xlink:href=\"#mb864c43268\" y=\"94.964628\"/>\n     <use style=\"fill-opacity:0;stroke:#000000;\" x=\"198.0975\" xlink:href=\"#mb864c43268\" y=\"23.083636\"/>\n     <use style=\"fill-opacity:0;stroke:#000000;\" x=\"198.0975\" xlink:href=\"#mb864c43268\" y=\"94.964628\"/>\n     <use style=\"fill-opacity:0;stroke:#000000;\" x=\"198.0975\" xlink:href=\"#mb864c43268\" y=\"94.964628\"/>\n     <use style=\"fill-opacity:0;stroke:#000000;\" x=\"198.0975\" xlink:href=\"#mb864c43268\" y=\"94.964628\"/>\n     <use style=\"fill-opacity:0;stroke:#000000;\" x=\"198.0975\" xlink:href=\"#mb864c43268\" y=\"23.083636\"/>\n     <use style=\"fill-opacity:0;stroke:#000000;\" x=\"198.0975\" xlink:href=\"#mb864c43268\" y=\"94.964628\"/>\n     <use style=\"fill-opacity:0;stroke:#000000;\" x=\"198.0975\" xlink:href=\"#mb864c43268\" y=\"94.964628\"/>\n     <use style=\"fill-opacity:0;stroke:#000000;\" x=\"198.0975\" xlink:href=\"#mb864c43268\" y=\"94.964628\"/>\n     <use style=\"fill-opacity:0;stroke:#000000;\" x=\"198.0975\" xlink:href=\"#mb864c43268\" y=\"94.964628\"/>\n     <use style=\"fill-opacity:0;stroke:#000000;\" x=\"198.0975\" xlink:href=\"#mb864c43268\" y=\"94.964628\"/>\n     <use style=\"fill-opacity:0;stroke:#000000;\" x=\"198.0975\" xlink:href=\"#mb864c43268\" y=\"94.964628\"/>\n     <use style=\"fill-opacity:0;stroke:#000000;\" x=\"198.0975\" xlink:href=\"#mb864c43268\" y=\"94.964628\"/>\n     <use style=\"fill-opacity:0;stroke:#000000;\" x=\"198.0975\" xlink:href=\"#mb864c43268\" y=\"94.964628\"/>\n     <use style=\"fill-opacity:0;stroke:#000000;\" x=\"198.0975\" xlink:href=\"#mb864c43268\" y=\"23.083636\"/>\n     <use style=\"fill-opacity:0;stroke:#000000;\" x=\"198.0975\" xlink:href=\"#mb864c43268\" y=\"94.964628\"/>\n     <use style=\"fill-opacity:0;stroke:#000000;\" x=\"198.0975\" xlink:href=\"#mb864c43268\" y=\"94.964628\"/>\n     <use style=\"fill-opacity:0;stroke:#000000;\" x=\"198.0975\" xlink:href=\"#mb864c43268\" y=\"94.964628\"/>\n     <use style=\"fill-opacity:0;stroke:#000000;\" x=\"198.0975\" xlink:href=\"#mb864c43268\" y=\"23.083636\"/>\n     <use style=\"fill-opacity:0;stroke:#000000;\" x=\"198.0975\" xlink:href=\"#mb864c43268\" y=\"94.964628\"/>\n     <use style=\"fill-opacity:0;stroke:#000000;\" x=\"198.0975\" xlink:href=\"#mb864c43268\" y=\"59.024132\"/>\n     <use style=\"fill-opacity:0;stroke:#000000;\" x=\"198.0975\" xlink:href=\"#mb864c43268\" y=\"35.063802\"/>\n     <use style=\"fill-opacity:0;stroke:#000000;\" x=\"198.0975\" xlink:href=\"#mb864c43268\" y=\"94.964628\"/>\n     <use style=\"fill-opacity:0;stroke:#000000;\" x=\"198.0975\" xlink:href=\"#mb864c43268\" y=\"23.083636\"/>\n     <use style=\"fill-opacity:0;stroke:#000000;\" x=\"198.0975\" xlink:href=\"#mb864c43268\" y=\"23.083636\"/>\n     <use style=\"fill-opacity:0;stroke:#000000;\" x=\"198.0975\" xlink:href=\"#mb864c43268\" y=\"94.964628\"/>\n     <use style=\"fill-opacity:0;stroke:#000000;\" x=\"198.0975\" xlink:href=\"#mb864c43268\" y=\"94.964628\"/>\n     <use style=\"fill-opacity:0;stroke:#000000;\" x=\"198.0975\" xlink:href=\"#mb864c43268\" y=\"23.083636\"/>\n     <use style=\"fill-opacity:0;stroke:#000000;\" x=\"198.0975\" xlink:href=\"#mb864c43268\" y=\"94.964628\"/>\n     <use style=\"fill-opacity:0;stroke:#000000;\" x=\"198.0975\" xlink:href=\"#mb864c43268\" y=\"94.964628\"/>\n     <use style=\"fill-opacity:0;stroke:#000000;\" x=\"198.0975\" xlink:href=\"#mb864c43268\" y=\"94.964628\"/>\n     <use style=\"fill-opacity:0;stroke:#000000;\" x=\"198.0975\" xlink:href=\"#mb864c43268\" y=\"94.964628\"/>\n     <use style=\"fill-opacity:0;stroke:#000000;\" x=\"198.0975\" xlink:href=\"#mb864c43268\" y=\"94.964628\"/>\n     <use style=\"fill-opacity:0;stroke:#000000;\" x=\"198.0975\" xlink:href=\"#mb864c43268\" y=\"94.964628\"/>\n     <use style=\"fill-opacity:0;stroke:#000000;\" x=\"198.0975\" xlink:href=\"#mb864c43268\" y=\"94.964628\"/>\n     <use style=\"fill-opacity:0;stroke:#000000;\" x=\"198.0975\" xlink:href=\"#mb864c43268\" y=\"94.964628\"/>\n     <use style=\"fill-opacity:0;stroke:#000000;\" x=\"198.0975\" xlink:href=\"#mb864c43268\" y=\"23.083636\"/>\n     <use style=\"fill-opacity:0;stroke:#000000;\" x=\"198.0975\" xlink:href=\"#mb864c43268\" y=\"23.083636\"/>\n     <use style=\"fill-opacity:0;stroke:#000000;\" x=\"198.0975\" xlink:href=\"#mb864c43268\" y=\"94.964628\"/>\n     <use style=\"fill-opacity:0;stroke:#000000;\" x=\"198.0975\" xlink:href=\"#mb864c43268\" y=\"94.964628\"/>\n     <use style=\"fill-opacity:0;stroke:#000000;\" x=\"198.0975\" xlink:href=\"#mb864c43268\" y=\"23.083636\"/>\n     <use style=\"fill-opacity:0;stroke:#000000;\" x=\"198.0975\" xlink:href=\"#mb864c43268\" y=\"94.964628\"/>\n     <use style=\"fill-opacity:0;stroke:#000000;\" x=\"198.0975\" xlink:href=\"#mb864c43268\" y=\"94.964628\"/>\n     <use style=\"fill-opacity:0;stroke:#000000;\" x=\"198.0975\" xlink:href=\"#mb864c43268\" y=\"94.964628\"/>\n    </g>\n   </g>\n   <g id=\"line2d_15\">\n    <path clip-path=\"url(#p2805dce963)\" d=\"M 172.9875 166.84562 \nL 223.2075 166.84562 \n\" style=\"fill:none;stroke:#50b131;stroke-linecap:round;\"/>\n   </g>\n   <g id=\"patch_3\">\n    <path d=\"M 30.6975 230.64 \nL 30.6975 13.2 \n\" style=\"fill:none;stroke:#ffffff;stroke-linecap:square;stroke-linejoin:miter;stroke-width:1.25;\"/>\n   </g>\n   <g id=\"patch_4\">\n    <path d=\"M 365.4975 230.64 \nL 365.4975 13.2 \n\" style=\"fill:none;stroke:#ffffff;stroke-linecap:square;stroke-linejoin:miter;stroke-width:1.25;\"/>\n   </g>\n   <g id=\"patch_5\">\n    <path d=\"M 30.6975 230.64 \nL 365.4975 230.64 \n\" style=\"fill:none;stroke:#ffffff;stroke-linecap:square;stroke-linejoin:miter;stroke-width:1.25;\"/>\n   </g>\n   <g id=\"patch_6\">\n    <path d=\"M 30.6975 13.2 \nL 365.4975 13.2 \n\" style=\"fill:none;stroke:#ffffff;stroke-linecap:square;stroke-linejoin:miter;stroke-width:1.25;\"/>\n   </g>\n  </g>\n </g>\n <defs>\n  <clipPath id=\"p2805dce963\">\n   <rect height=\"217.44\" width=\"334.8\" x=\"30.6975\" y=\"13.2\"/>\n  </clipPath>\n </defs>\n</svg>\n"
          },
          "metadata": {
            "tags": []
          }
        }
      ]
    },
    {
      "cell_type": "code",
      "metadata": {
        "id": "I_3Sc3Hfc9Kf",
        "colab_type": "code",
        "outputId": "755d5ab9-f17d-441a-8af1-b97acd7be898",
        "colab": {
          "base_uri": "https://localhost:8080/",
          "height": 176
        }
      },
      "source": [
        "period_low, period_high = get_fliers(a, period_field)"
      ],
      "execution_count": 0,
      "outputs": [
        {
          "output_type": "stream",
          "text": [
            "--------------------\n",
            "Описание выброса по полю \"Срок кредита\"\n",
            "Медиана распределения 12.0\n",
            "нижняя граница: 3.0, \n",
            "верхняя граница: 20.0\n",
            "Количество по выбросу 167, доля 10.0 %\n",
            "Сумма по выбросу 10406500, доля 21.0 %\n",
            "Процент дефолтов в группе 10.179640718562874 %\n",
            "Сумма потерь 1009500 р.\n"
          ],
          "name": "stdout"
        }
      ]
    },
    {
      "cell_type": "code",
      "metadata": {
        "id": "AeR909TFc9hn",
        "colab_type": "code",
        "outputId": "bbc9bcde-6eef-41e6-afb8-48d09084b70a",
        "colab": {
          "base_uri": "https://localhost:8080/",
          "height": 365
        }
      },
      "source": [
        "age_field = \"Возраст клиента\"\n",
        "a = df_train[[age_field]].boxplot(return_type ='dict')"
      ],
      "execution_count": 0,
      "outputs": [
        {
          "output_type": "display_data",
          "data": {
            "text/plain": [
              "<Figure size 432x288 with 1 Axes>"
            ],
            "image/svg+xml": "<?xml version=\"1.0\" encoding=\"utf-8\" standalone=\"no\"?>\n<!DOCTYPE svg PUBLIC \"-//W3C//DTD SVG 1.1//EN\"\n  \"http://www.w3.org/Graphics/SVG/1.1/DTD/svg11.dtd\">\n<!-- Created with matplotlib (https://matplotlib.org/) -->\n<svg height=\"257.985937pt\" version=\"1.1\" viewBox=\"0 0 378.6975 257.985937\" width=\"378.6975pt\" xmlns=\"http://www.w3.org/2000/svg\" xmlns:xlink=\"http://www.w3.org/1999/xlink\">\n <defs>\n  <style type=\"text/css\">\n*{stroke-linecap:butt;stroke-linejoin:round;}\n  </style>\n </defs>\n <g id=\"figure_1\">\n  <g id=\"patch_1\">\n   <path d=\"M 0 257.985937 \nL 378.6975 257.985937 \nL 378.6975 0 \nL 0 0 \nz\n\" style=\"fill:none;\"/>\n  </g>\n  <g id=\"axes_1\">\n   <g id=\"patch_2\">\n    <path d=\"M 30.6975 230.64 \nL 365.4975 230.64 \nL 365.4975 13.2 \nL 30.6975 13.2 \nz\n\" style=\"fill:#eaeaf2;\"/>\n   </g>\n   <g id=\"matplotlib.axis_1\">\n    <g id=\"xtick_1\">\n     <g id=\"line2d_1\">\n      <path clip-path=\"url(#p9cec110834)\" d=\"M 198.0975 230.64 \nL 198.0975 13.2 \n\" style=\"fill:none;stroke:#ffffff;stroke-linecap:round;\"/>\n     </g>\n     <g id=\"text_1\">\n      <!-- Возраст клиента -->\n      <defs>\n       <path d=\"M 19.671875 34.8125 \nL 19.671875 8.109375 \nL 35.5 8.109375 \nQ 43.453125 8.109375 47.28125 11.40625 \nQ 51.125 14.703125 51.125 21.484375 \nQ 51.125 28.328125 47.28125 31.5625 \nQ 43.453125 34.8125 35.5 34.8125 \nz\nM 19.671875 64.796875 \nL 19.671875 42.828125 \nL 34.28125 42.828125 \nQ 41.5 42.828125 45.03125 45.53125 \nQ 48.578125 48.25 48.578125 53.8125 \nQ 48.578125 59.328125 45.03125 62.0625 \nQ 41.5 64.796875 34.28125 64.796875 \nz\nM 9.8125 72.90625 \nL 35.015625 72.90625 \nQ 46.296875 72.90625 52.390625 68.21875 \nQ 58.5 63.53125 58.5 54.890625 \nQ 58.5 48.1875 55.375 44.234375 \nQ 52.25 40.28125 46.1875 39.3125 \nQ 53.46875 37.75 57.5 32.78125 \nQ 61.53125 27.828125 61.53125 20.40625 \nQ 61.53125 10.640625 54.890625 5.3125 \nQ 48.25 0 35.984375 0 \nL 9.8125 0 \nz\n\" id=\"DejaVuSans-1042\"/>\n       <path d=\"M 30.609375 48.390625 \nQ 23.390625 48.390625 19.1875 42.75 \nQ 14.984375 37.109375 14.984375 27.296875 \nQ 14.984375 17.484375 19.15625 11.84375 \nQ 23.34375 6.203125 30.609375 6.203125 \nQ 37.796875 6.203125 41.984375 11.859375 \nQ 46.1875 17.53125 46.1875 27.296875 \nQ 46.1875 37.015625 41.984375 42.703125 \nQ 37.796875 48.390625 30.609375 48.390625 \nz\nM 30.609375 56 \nQ 42.328125 56 49.015625 48.375 \nQ 55.71875 40.765625 55.71875 27.296875 \nQ 55.71875 13.875 49.015625 6.21875 \nQ 42.328125 -1.421875 30.609375 -1.421875 \nQ 18.84375 -1.421875 12.171875 6.21875 \nQ 5.515625 13.875 5.515625 27.296875 \nQ 5.515625 40.765625 12.171875 48.375 \nQ 18.84375 56 30.609375 56 \nz\n\" id=\"DejaVuSans-1086\"/>\n       <path d=\"M 34.46875 29.5 \nQ 40.53125 28.328125 43.890625 24.75 \nQ 47.265625 21.1875 47.265625 15.921875 \nQ 47.265625 7.46875 40.96875 3.015625 \nQ 34.671875 -1.421875 23.046875 -1.421875 \nQ 19.140625 -1.421875 15.015625 -0.734375 \nQ 10.890625 -0.046875 6.5 1.3125 \nL 6.5 9.671875 \nQ 9.96875 7.859375 14.109375 6.953125 \nQ 18.265625 6.0625 22.796875 6.0625 \nQ 30.171875 6.0625 34.296875 8.796875 \nQ 38.421875 11.53125 38.421875 15.921875 \nQ 38.421875 20.21875 34.765625 22.828125 \nQ 31.109375 25.4375 24.421875 25.4375 \nL 17.1875 25.4375 \nL 17.1875 32.859375 \nL 24.75 32.859375 \nQ 30.421875 32.859375 33.71875 35.03125 \nQ 37.015625 37.203125 37.015625 40.625 \nQ 37.015625 43.75 33.609375 46 \nQ 30.21875 48.25 24.421875 48.25 \nQ 20.953125 48.25 17.015625 47.609375 \nQ 13.09375 46.96875 8.34375 45.5625 \nL 8.34375 53.71875 \nQ 13.140625 54.890625 17.28125 55.46875 \nQ 21.4375 56.0625 25.140625 56.0625 \nQ 34.71875 56.0625 40.25 52.21875 \nQ 45.796875 48.390625 45.796875 41.5 \nQ 45.796875 36.96875 42.859375 33.8125 \nQ 39.9375 30.671875 34.46875 29.5 \nz\n\" id=\"DejaVuSans-1079\"/>\n       <path d=\"M 18.109375 8.203125 \nL 18.109375 -20.796875 \nL 9.078125 -20.796875 \nL 9.078125 54.6875 \nL 18.109375 54.6875 \nL 18.109375 46.390625 \nQ 20.953125 51.265625 25.265625 53.625 \nQ 29.59375 56 35.59375 56 \nQ 45.5625 56 51.78125 48.09375 \nQ 58.015625 40.1875 58.015625 27.296875 \nQ 58.015625 14.40625 51.78125 6.484375 \nQ 45.5625 -1.421875 35.59375 -1.421875 \nQ 29.59375 -1.421875 25.265625 0.953125 \nQ 20.953125 3.328125 18.109375 8.203125 \nz\nM 48.6875 27.296875 \nQ 48.6875 37.203125 44.609375 42.84375 \nQ 40.53125 48.484375 33.40625 48.484375 \nQ 26.265625 48.484375 22.1875 42.84375 \nQ 18.109375 37.203125 18.109375 27.296875 \nQ 18.109375 17.390625 22.1875 11.75 \nQ 26.265625 6.109375 33.40625 6.109375 \nQ 40.53125 6.109375 44.609375 11.75 \nQ 48.6875 17.390625 48.6875 27.296875 \nz\n\" id=\"DejaVuSans-1088\"/>\n       <path d=\"M 34.28125 27.484375 \nQ 23.390625 27.484375 19.1875 25 \nQ 14.984375 22.515625 14.984375 16.5 \nQ 14.984375 11.71875 18.140625 8.90625 \nQ 21.296875 6.109375 26.703125 6.109375 \nQ 34.1875 6.109375 38.703125 11.40625 \nQ 43.21875 16.703125 43.21875 25.484375 \nL 43.21875 27.484375 \nz\nM 52.203125 31.203125 \nL 52.203125 0 \nL 43.21875 0 \nL 43.21875 8.296875 \nQ 40.140625 3.328125 35.546875 0.953125 \nQ 30.953125 -1.421875 24.3125 -1.421875 \nQ 15.921875 -1.421875 10.953125 3.296875 \nQ 6 8.015625 6 15.921875 \nQ 6 25.140625 12.171875 29.828125 \nQ 18.359375 34.515625 30.609375 34.515625 \nL 43.21875 34.515625 \nL 43.21875 35.40625 \nQ 43.21875 41.609375 39.140625 45 \nQ 35.0625 48.390625 27.6875 48.390625 \nQ 23 48.390625 18.546875 47.265625 \nQ 14.109375 46.140625 10.015625 43.890625 \nL 10.015625 52.203125 \nQ 14.9375 54.109375 19.578125 55.046875 \nQ 24.21875 56 28.609375 56 \nQ 40.484375 56 46.34375 49.84375 \nQ 52.203125 43.703125 52.203125 31.203125 \nz\n\" id=\"DejaVuSans-1072\"/>\n       <path d=\"M 48.78125 52.59375 \nL 48.78125 44.1875 \nQ 44.96875 46.296875 41.140625 47.34375 \nQ 37.3125 48.390625 33.40625 48.390625 \nQ 24.65625 48.390625 19.8125 42.84375 \nQ 14.984375 37.3125 14.984375 27.296875 \nQ 14.984375 17.28125 19.8125 11.734375 \nQ 24.65625 6.203125 33.40625 6.203125 \nQ 37.3125 6.203125 41.140625 7.25 \nQ 44.96875 8.296875 48.78125 10.40625 \nL 48.78125 2.09375 \nQ 45.015625 0.34375 40.984375 -0.53125 \nQ 36.96875 -1.421875 32.421875 -1.421875 \nQ 20.0625 -1.421875 12.78125 6.34375 \nQ 5.515625 14.109375 5.515625 27.296875 \nQ 5.515625 40.671875 12.859375 48.328125 \nQ 20.21875 56 33.015625 56 \nQ 37.15625 56 41.109375 55.140625 \nQ 45.0625 54.296875 48.78125 52.59375 \nz\n\" id=\"DejaVuSans-1089\"/>\n       <path d=\"M 2.9375 54.6875 \nL 55.328125 54.6875 \nL 55.328125 47.515625 \nL 33.546875 47.515625 \nL 33.546875 0 \nL 24.703125 0 \nL 24.703125 47.515625 \nL 2.9375 47.515625 \nz\n\" id=\"DejaVuSans-1090\"/>\n       <path id=\"DejaVuSans-32\"/>\n       <path d=\"M 9.078125 54.6875 \nL 18.015625 54.6875 \nL 18.015625 29 \nL 43.359375 54.6875 \nL 54.390625 54.6875 \nL 33.5 33.546875 \nL 57.078125 0 \nL 47.015625 0 \nL 27.640625 27.59375 \nL 18.015625 17.828125 \nL 18.015625 0 \nL 9.078125 0 \nz\n\" id=\"DejaVuSans-1082\"/>\n       <path d=\"M 3.71875 0 \nL 3.71875 7.46875 \nQ 12.59375 8.84375 15.328125 14.984375 \nQ 18.65625 23.640625 18.65625 45.75 \nL 18.65625 54.6875 \nL 55.609375 54.6875 \nL 55.609375 0 \nL 46.625 0 \nL 46.625 47.515625 \nL 27.640625 47.515625 \nL 27.640625 42.09375 \nQ 27.640625 21 23.34375 11.53125 \nQ 18.75 1.421875 3.71875 0 \nz\n\" id=\"DejaVuSans-1083\"/>\n       <path d=\"M 55.90625 54.6875 \nL 55.90625 0 \nL 46.96875 0 \nL 46.96875 43.890625 \nL 20.609375 0 \nL 9.078125 0 \nL 9.078125 54.6875 \nL 18.015625 54.6875 \nL 18.015625 10.890625 \nL 44.34375 54.6875 \nz\n\" id=\"DejaVuSans-1080\"/>\n       <path d=\"M 56.203125 29.59375 \nL 56.203125 25.203125 \nL 14.890625 25.203125 \nQ 15.484375 15.921875 20.484375 11.0625 \nQ 25.484375 6.203125 34.421875 6.203125 \nQ 39.59375 6.203125 44.453125 7.46875 \nQ 49.3125 8.734375 54.109375 11.28125 \nL 54.109375 2.78125 \nQ 49.265625 0.734375 44.1875 -0.34375 \nQ 39.109375 -1.421875 33.890625 -1.421875 \nQ 20.796875 -1.421875 13.15625 6.1875 \nQ 5.515625 13.8125 5.515625 26.8125 \nQ 5.515625 40.234375 12.765625 48.109375 \nQ 20.015625 56 32.328125 56 \nQ 43.359375 56 49.78125 48.890625 \nQ 56.203125 41.796875 56.203125 29.59375 \nz\nM 47.21875 32.234375 \nQ 47.125 39.59375 43.09375 43.984375 \nQ 39.0625 48.390625 32.421875 48.390625 \nQ 24.90625 48.390625 20.390625 44.140625 \nQ 15.875 39.890625 15.1875 32.171875 \nz\n\" id=\"DejaVuSans-1077\"/>\n       <path d=\"M 9.078125 54.6875 \nL 18.109375 54.6875 \nL 18.109375 32.375 \nL 47.265625 32.375 \nL 47.265625 54.6875 \nL 56.296875 54.6875 \nL 56.296875 0 \nL 47.265625 0 \nL 47.265625 25.203125 \nL 18.109375 25.203125 \nL 18.109375 0 \nL 9.078125 0 \nz\n\" id=\"DejaVuSans-1085\"/>\n      </defs>\n      <g style=\"fill:#262626;\" transform=\"translate(149.23 248.498281)scale(0.11 -0.11)\">\n       <use xlink:href=\"#DejaVuSans-1042\"/>\n       <use x=\"68.603516\" xlink:href=\"#DejaVuSans-1086\"/>\n       <use x=\"129.785156\" xlink:href=\"#DejaVuSans-1079\"/>\n       <use x=\"182.958984\" xlink:href=\"#DejaVuSans-1088\"/>\n       <use x=\"246.435547\" xlink:href=\"#DejaVuSans-1072\"/>\n       <use x=\"307.714844\" xlink:href=\"#DejaVuSans-1089\"/>\n       <use x=\"362.695312\" xlink:href=\"#DejaVuSans-1090\"/>\n       <use x=\"420.947266\" xlink:href=\"#DejaVuSans-32\"/>\n       <use x=\"452.734375\" xlink:href=\"#DejaVuSans-1082\"/>\n       <use x=\"513.134766\" xlink:href=\"#DejaVuSans-1083\"/>\n       <use x=\"577.050781\" xlink:href=\"#DejaVuSans-1080\"/>\n       <use x=\"642.041016\" xlink:href=\"#DejaVuSans-1077\"/>\n       <use x=\"703.564453\" xlink:href=\"#DejaVuSans-1085\"/>\n       <use x=\"768.945312\" xlink:href=\"#DejaVuSans-1090\"/>\n       <use x=\"827.197266\" xlink:href=\"#DejaVuSans-1072\"/>\n      </g>\n     </g>\n    </g>\n   </g>\n   <g id=\"matplotlib.axis_2\">\n    <g id=\"ytick_1\">\n     <g id=\"line2d_2\">\n      <path clip-path=\"url(#p9cec110834)\" d=\"M 30.6975 215.265455 \nL 365.4975 215.265455 \n\" style=\"fill:none;stroke:#ffffff;stroke-linecap:round;\"/>\n     </g>\n     <g id=\"text_2\">\n      <!-- 20 -->\n      <defs>\n       <path d=\"M 19.1875 8.296875 \nL 53.609375 8.296875 \nL 53.609375 0 \nL 7.328125 0 \nL 7.328125 8.296875 \nQ 12.9375 14.109375 22.625 23.890625 \nQ 32.328125 33.6875 34.8125 36.53125 \nQ 39.546875 41.84375 41.421875 45.53125 \nQ 43.3125 49.21875 43.3125 52.78125 \nQ 43.3125 58.59375 39.234375 62.25 \nQ 35.15625 65.921875 28.609375 65.921875 \nQ 23.96875 65.921875 18.8125 64.3125 \nQ 13.671875 62.703125 7.8125 59.421875 \nL 7.8125 69.390625 \nQ 13.765625 71.78125 18.9375 73 \nQ 24.125 74.21875 28.421875 74.21875 \nQ 39.75 74.21875 46.484375 68.546875 \nQ 53.21875 62.890625 53.21875 53.421875 \nQ 53.21875 48.921875 51.53125 44.890625 \nQ 49.859375 40.875 45.40625 35.40625 \nQ 44.1875 33.984375 37.640625 27.21875 \nQ 31.109375 20.453125 19.1875 8.296875 \nz\n\" id=\"DejaVuSans-50\"/>\n       <path d=\"M 31.78125 66.40625 \nQ 24.171875 66.40625 20.328125 58.90625 \nQ 16.5 51.421875 16.5 36.375 \nQ 16.5 21.390625 20.328125 13.890625 \nQ 24.171875 6.390625 31.78125 6.390625 \nQ 39.453125 6.390625 43.28125 13.890625 \nQ 47.125 21.390625 47.125 36.375 \nQ 47.125 51.421875 43.28125 58.90625 \nQ 39.453125 66.40625 31.78125 66.40625 \nz\nM 31.78125 74.21875 \nQ 44.046875 74.21875 50.515625 64.515625 \nQ 56.984375 54.828125 56.984375 36.375 \nQ 56.984375 17.96875 50.515625 8.265625 \nQ 44.046875 -1.421875 31.78125 -1.421875 \nQ 19.53125 -1.421875 13.0625 8.265625 \nQ 6.59375 17.96875 6.59375 36.375 \nQ 6.59375 54.828125 13.0625 64.515625 \nQ 19.53125 74.21875 31.78125 74.21875 \nz\n\" id=\"DejaVuSans-48\"/>\n      </defs>\n      <g style=\"fill:#262626;\" transform=\"translate(7.2 219.444595)scale(0.11 -0.11)\">\n       <use xlink:href=\"#DejaVuSans-50\"/>\n       <use x=\"63.623047\" xlink:href=\"#DejaVuSans-48\"/>\n      </g>\n     </g>\n    </g>\n    <g id=\"ytick_2\">\n     <g id=\"line2d_3\">\n      <path clip-path=\"url(#p9cec110834)\" d=\"M 30.6975 187.810909 \nL 365.4975 187.810909 \n\" style=\"fill:none;stroke:#ffffff;stroke-linecap:round;\"/>\n     </g>\n     <g id=\"text_3\">\n      <!-- 30 -->\n      <defs>\n       <path d=\"M 40.578125 39.3125 \nQ 47.65625 37.796875 51.625 33 \nQ 55.609375 28.21875 55.609375 21.1875 \nQ 55.609375 10.40625 48.1875 4.484375 \nQ 40.765625 -1.421875 27.09375 -1.421875 \nQ 22.515625 -1.421875 17.65625 -0.515625 \nQ 12.796875 0.390625 7.625 2.203125 \nL 7.625 11.71875 \nQ 11.71875 9.328125 16.59375 8.109375 \nQ 21.484375 6.890625 26.8125 6.890625 \nQ 36.078125 6.890625 40.9375 10.546875 \nQ 45.796875 14.203125 45.796875 21.1875 \nQ 45.796875 27.640625 41.28125 31.265625 \nQ 36.765625 34.90625 28.71875 34.90625 \nL 20.21875 34.90625 \nL 20.21875 43.015625 \nL 29.109375 43.015625 \nQ 36.375 43.015625 40.234375 45.921875 \nQ 44.09375 48.828125 44.09375 54.296875 \nQ 44.09375 59.90625 40.109375 62.90625 \nQ 36.140625 65.921875 28.71875 65.921875 \nQ 24.65625 65.921875 20.015625 65.03125 \nQ 15.375 64.15625 9.8125 62.3125 \nL 9.8125 71.09375 \nQ 15.4375 72.65625 20.34375 73.4375 \nQ 25.25 74.21875 29.59375 74.21875 \nQ 40.828125 74.21875 47.359375 69.109375 \nQ 53.90625 64.015625 53.90625 55.328125 \nQ 53.90625 49.265625 50.4375 45.09375 \nQ 46.96875 40.921875 40.578125 39.3125 \nz\n\" id=\"DejaVuSans-51\"/>\n      </defs>\n      <g style=\"fill:#262626;\" transform=\"translate(7.2 191.99005)scale(0.11 -0.11)\">\n       <use xlink:href=\"#DejaVuSans-51\"/>\n       <use x=\"63.623047\" xlink:href=\"#DejaVuSans-48\"/>\n      </g>\n     </g>\n    </g>\n    <g id=\"ytick_3\">\n     <g id=\"line2d_4\">\n      <path clip-path=\"url(#p9cec110834)\" d=\"M 30.6975 160.356364 \nL 365.4975 160.356364 \n\" style=\"fill:none;stroke:#ffffff;stroke-linecap:round;\"/>\n     </g>\n     <g id=\"text_4\">\n      <!-- 40 -->\n      <defs>\n       <path d=\"M 37.796875 64.3125 \nL 12.890625 25.390625 \nL 37.796875 25.390625 \nz\nM 35.203125 72.90625 \nL 47.609375 72.90625 \nL 47.609375 25.390625 \nL 58.015625 25.390625 \nL 58.015625 17.1875 \nL 47.609375 17.1875 \nL 47.609375 0 \nL 37.796875 0 \nL 37.796875 17.1875 \nL 4.890625 17.1875 \nL 4.890625 26.703125 \nz\n\" id=\"DejaVuSans-52\"/>\n      </defs>\n      <g style=\"fill:#262626;\" transform=\"translate(7.2 164.535504)scale(0.11 -0.11)\">\n       <use xlink:href=\"#DejaVuSans-52\"/>\n       <use x=\"63.623047\" xlink:href=\"#DejaVuSans-48\"/>\n      </g>\n     </g>\n    </g>\n    <g id=\"ytick_4\">\n     <g id=\"line2d_5\">\n      <path clip-path=\"url(#p9cec110834)\" d=\"M 30.6975 132.901818 \nL 365.4975 132.901818 \n\" style=\"fill:none;stroke:#ffffff;stroke-linecap:round;\"/>\n     </g>\n     <g id=\"text_5\">\n      <!-- 50 -->\n      <defs>\n       <path d=\"M 10.796875 72.90625 \nL 49.515625 72.90625 \nL 49.515625 64.59375 \nL 19.828125 64.59375 \nL 19.828125 46.734375 \nQ 21.96875 47.46875 24.109375 47.828125 \nQ 26.265625 48.1875 28.421875 48.1875 \nQ 40.625 48.1875 47.75 41.5 \nQ 54.890625 34.8125 54.890625 23.390625 \nQ 54.890625 11.625 47.5625 5.09375 \nQ 40.234375 -1.421875 26.90625 -1.421875 \nQ 22.3125 -1.421875 17.546875 -0.640625 \nQ 12.796875 0.140625 7.71875 1.703125 \nL 7.71875 11.625 \nQ 12.109375 9.234375 16.796875 8.0625 \nQ 21.484375 6.890625 26.703125 6.890625 \nQ 35.15625 6.890625 40.078125 11.328125 \nQ 45.015625 15.765625 45.015625 23.390625 \nQ 45.015625 31 40.078125 35.4375 \nQ 35.15625 39.890625 26.703125 39.890625 \nQ 22.75 39.890625 18.8125 39.015625 \nQ 14.890625 38.140625 10.796875 36.28125 \nz\n\" id=\"DejaVuSans-53\"/>\n      </defs>\n      <g style=\"fill:#262626;\" transform=\"translate(7.2 137.080959)scale(0.11 -0.11)\">\n       <use xlink:href=\"#DejaVuSans-53\"/>\n       <use x=\"63.623047\" xlink:href=\"#DejaVuSans-48\"/>\n      </g>\n     </g>\n    </g>\n    <g id=\"ytick_5\">\n     <g id=\"line2d_6\">\n      <path clip-path=\"url(#p9cec110834)\" d=\"M 30.6975 105.447273 \nL 365.4975 105.447273 \n\" style=\"fill:none;stroke:#ffffff;stroke-linecap:round;\"/>\n     </g>\n     <g id=\"text_6\">\n      <!-- 60 -->\n      <defs>\n       <path d=\"M 33.015625 40.375 \nQ 26.375 40.375 22.484375 35.828125 \nQ 18.609375 31.296875 18.609375 23.390625 \nQ 18.609375 15.53125 22.484375 10.953125 \nQ 26.375 6.390625 33.015625 6.390625 \nQ 39.65625 6.390625 43.53125 10.953125 \nQ 47.40625 15.53125 47.40625 23.390625 \nQ 47.40625 31.296875 43.53125 35.828125 \nQ 39.65625 40.375 33.015625 40.375 \nz\nM 52.59375 71.296875 \nL 52.59375 62.3125 \nQ 48.875 64.0625 45.09375 64.984375 \nQ 41.3125 65.921875 37.59375 65.921875 \nQ 27.828125 65.921875 22.671875 59.328125 \nQ 17.53125 52.734375 16.796875 39.40625 \nQ 19.671875 43.65625 24.015625 45.921875 \nQ 28.375 48.1875 33.59375 48.1875 \nQ 44.578125 48.1875 50.953125 41.515625 \nQ 57.328125 34.859375 57.328125 23.390625 \nQ 57.328125 12.15625 50.6875 5.359375 \nQ 44.046875 -1.421875 33.015625 -1.421875 \nQ 20.359375 -1.421875 13.671875 8.265625 \nQ 6.984375 17.96875 6.984375 36.375 \nQ 6.984375 53.65625 15.1875 63.9375 \nQ 23.390625 74.21875 37.203125 74.21875 \nQ 40.921875 74.21875 44.703125 73.484375 \nQ 48.484375 72.75 52.59375 71.296875 \nz\n\" id=\"DejaVuSans-54\"/>\n      </defs>\n      <g style=\"fill:#262626;\" transform=\"translate(7.2 109.626413)scale(0.11 -0.11)\">\n       <use xlink:href=\"#DejaVuSans-54\"/>\n       <use x=\"63.623047\" xlink:href=\"#DejaVuSans-48\"/>\n      </g>\n     </g>\n    </g>\n    <g id=\"ytick_6\">\n     <g id=\"line2d_7\">\n      <path clip-path=\"url(#p9cec110834)\" d=\"M 30.6975 77.992727 \nL 365.4975 77.992727 \n\" style=\"fill:none;stroke:#ffffff;stroke-linecap:round;\"/>\n     </g>\n     <g id=\"text_7\">\n      <!-- 70 -->\n      <defs>\n       <path d=\"M 8.203125 72.90625 \nL 55.078125 72.90625 \nL 55.078125 68.703125 \nL 28.609375 0 \nL 18.3125 0 \nL 43.21875 64.59375 \nL 8.203125 64.59375 \nz\n\" id=\"DejaVuSans-55\"/>\n      </defs>\n      <g style=\"fill:#262626;\" transform=\"translate(7.2 82.171868)scale(0.11 -0.11)\">\n       <use xlink:href=\"#DejaVuSans-55\"/>\n       <use x=\"63.623047\" xlink:href=\"#DejaVuSans-48\"/>\n      </g>\n     </g>\n    </g>\n    <g id=\"ytick_7\">\n     <g id=\"line2d_8\">\n      <path clip-path=\"url(#p9cec110834)\" d=\"M 30.6975 50.538182 \nL 365.4975 50.538182 \n\" style=\"fill:none;stroke:#ffffff;stroke-linecap:round;\"/>\n     </g>\n     <g id=\"text_8\">\n      <!-- 80 -->\n      <defs>\n       <path d=\"M 31.78125 34.625 \nQ 24.75 34.625 20.71875 30.859375 \nQ 16.703125 27.09375 16.703125 20.515625 \nQ 16.703125 13.921875 20.71875 10.15625 \nQ 24.75 6.390625 31.78125 6.390625 \nQ 38.8125 6.390625 42.859375 10.171875 \nQ 46.921875 13.96875 46.921875 20.515625 \nQ 46.921875 27.09375 42.890625 30.859375 \nQ 38.875 34.625 31.78125 34.625 \nz\nM 21.921875 38.8125 \nQ 15.578125 40.375 12.03125 44.71875 \nQ 8.5 49.078125 8.5 55.328125 \nQ 8.5 64.0625 14.71875 69.140625 \nQ 20.953125 74.21875 31.78125 74.21875 \nQ 42.671875 74.21875 48.875 69.140625 \nQ 55.078125 64.0625 55.078125 55.328125 \nQ 55.078125 49.078125 51.53125 44.71875 \nQ 48 40.375 41.703125 38.8125 \nQ 48.828125 37.15625 52.796875 32.3125 \nQ 56.78125 27.484375 56.78125 20.515625 \nQ 56.78125 9.90625 50.3125 4.234375 \nQ 43.84375 -1.421875 31.78125 -1.421875 \nQ 19.734375 -1.421875 13.25 4.234375 \nQ 6.78125 9.90625 6.78125 20.515625 \nQ 6.78125 27.484375 10.78125 32.3125 \nQ 14.796875 37.15625 21.921875 38.8125 \nz\nM 18.3125 54.390625 \nQ 18.3125 48.734375 21.84375 45.5625 \nQ 25.390625 42.390625 31.78125 42.390625 \nQ 38.140625 42.390625 41.71875 45.5625 \nQ 45.3125 48.734375 45.3125 54.390625 \nQ 45.3125 60.0625 41.71875 63.234375 \nQ 38.140625 66.40625 31.78125 66.40625 \nQ 25.390625 66.40625 21.84375 63.234375 \nQ 18.3125 60.0625 18.3125 54.390625 \nz\n\" id=\"DejaVuSans-56\"/>\n      </defs>\n      <g style=\"fill:#262626;\" transform=\"translate(7.2 54.717322)scale(0.11 -0.11)\">\n       <use xlink:href=\"#DejaVuSans-56\"/>\n       <use x=\"63.623047\" xlink:href=\"#DejaVuSans-48\"/>\n      </g>\n     </g>\n    </g>\n    <g id=\"ytick_8\">\n     <g id=\"line2d_9\">\n      <path clip-path=\"url(#p9cec110834)\" d=\"M 30.6975 23.083636 \nL 365.4975 23.083636 \n\" style=\"fill:none;stroke:#ffffff;stroke-linecap:round;\"/>\n     </g>\n     <g id=\"text_9\">\n      <!-- 90 -->\n      <defs>\n       <path d=\"M 10.984375 1.515625 \nL 10.984375 10.5 \nQ 14.703125 8.734375 18.5 7.8125 \nQ 22.3125 6.890625 25.984375 6.890625 \nQ 35.75 6.890625 40.890625 13.453125 \nQ 46.046875 20.015625 46.78125 33.40625 \nQ 43.953125 29.203125 39.59375 26.953125 \nQ 35.25 24.703125 29.984375 24.703125 \nQ 19.046875 24.703125 12.671875 31.3125 \nQ 6.296875 37.9375 6.296875 49.421875 \nQ 6.296875 60.640625 12.9375 67.421875 \nQ 19.578125 74.21875 30.609375 74.21875 \nQ 43.265625 74.21875 49.921875 64.515625 \nQ 56.59375 54.828125 56.59375 36.375 \nQ 56.59375 19.140625 48.40625 8.859375 \nQ 40.234375 -1.421875 26.421875 -1.421875 \nQ 22.703125 -1.421875 18.890625 -0.6875 \nQ 15.09375 0.046875 10.984375 1.515625 \nz\nM 30.609375 32.421875 \nQ 37.25 32.421875 41.125 36.953125 \nQ 45.015625 41.5 45.015625 49.421875 \nQ 45.015625 57.28125 41.125 61.84375 \nQ 37.25 66.40625 30.609375 66.40625 \nQ 23.96875 66.40625 20.09375 61.84375 \nQ 16.21875 57.28125 16.21875 49.421875 \nQ 16.21875 41.5 20.09375 36.953125 \nQ 23.96875 32.421875 30.609375 32.421875 \nz\n\" id=\"DejaVuSans-57\"/>\n      </defs>\n      <g style=\"fill:#262626;\" transform=\"translate(7.2 27.262777)scale(0.11 -0.11)\">\n       <use xlink:href=\"#DejaVuSans-57\"/>\n       <use x=\"63.623047\" xlink:href=\"#DejaVuSans-48\"/>\n      </g>\n     </g>\n    </g>\n   </g>\n   <g id=\"line2d_10\">\n    <path clip-path=\"url(#p9cec110834)\" d=\"M 172.9875 198.792727 \nL 223.2075 198.792727 \nL 223.2075 149.374545 \nL 172.9875 149.374545 \nL 172.9875 198.792727 \n\" style=\"fill:none;stroke:#f77189;stroke-linecap:round;\"/>\n   </g>\n   <g id=\"line2d_11\">\n    <path clip-path=\"url(#p9cec110834)\" d=\"M 198.0975 198.792727 \nL 198.0975 220.756364 \n\" style=\"fill:none;stroke:#f77189;stroke-linecap:round;\"/>\n   </g>\n   <g id=\"line2d_12\">\n    <path clip-path=\"url(#p9cec110834)\" d=\"M 198.0975 149.374545 \nL 198.0975 75.247273 \n\" style=\"fill:none;stroke:#f77189;stroke-linecap:round;\"/>\n   </g>\n   <g id=\"line2d_13\">\n    <path clip-path=\"url(#p9cec110834)\" d=\"M 185.5425 220.756364 \nL 210.6525 220.756364 \n\" style=\"fill:none;stroke:#000000;stroke-linecap:round;\"/>\n   </g>\n   <g id=\"line2d_14\">\n    <path clip-path=\"url(#p9cec110834)\" d=\"M 185.5425 75.247273 \nL 210.6525 75.247273 \n\" style=\"fill:none;stroke:#000000;stroke-linecap:round;\"/>\n   </g>\n   <g id=\"line2d_15\">\n    <defs>\n     <path d=\"M 0 3 \nC 0.795609 3 1.55874 2.683901 2.12132 2.12132 \nC 2.683901 1.55874 3 0.795609 3 0 \nC 3 -0.795609 2.683901 -1.55874 2.12132 -2.12132 \nC 1.55874 -2.683901 0.795609 -3 0 -3 \nC -0.795609 -3 -1.55874 -2.683901 -2.12132 -2.12132 \nC -2.683901 -1.55874 -3 -0.795609 -3 0 \nC -3 0.795609 -2.683901 1.55874 -2.12132 2.12132 \nC -1.55874 2.683901 -0.795609 3 0 3 \nz\n\" id=\"m42b0c67caa\" style=\"stroke:#000000;\"/>\n    </defs>\n    <g clip-path=\"url(#p9cec110834)\">\n     <use style=\"fill-opacity:0;stroke:#000000;\" x=\"198.0975\" xlink:href=\"#m42b0c67caa\" y=\"64.265455\"/>\n     <use style=\"fill-opacity:0;stroke:#000000;\" x=\"198.0975\" xlink:href=\"#m42b0c67caa\" y=\"61.52\"/>\n     <use style=\"fill-opacity:0;stroke:#000000;\" x=\"198.0975\" xlink:href=\"#m42b0c67caa\" y=\"31.32\"/>\n     <use style=\"fill-opacity:0;stroke:#000000;\" x=\"198.0975\" xlink:href=\"#m42b0c67caa\" y=\"61.52\"/>\n     <use style=\"fill-opacity:0;stroke:#000000;\" x=\"198.0975\" xlink:href=\"#m42b0c67caa\" y=\"64.265455\"/>\n     <use style=\"fill-opacity:0;stroke:#000000;\" x=\"198.0975\" xlink:href=\"#m42b0c67caa\" y=\"67.010909\"/>\n     <use style=\"fill-opacity:0;stroke:#000000;\" x=\"198.0975\" xlink:href=\"#m42b0c67caa\" y=\"69.756364\"/>\n     <use style=\"fill-opacity:0;stroke:#000000;\" x=\"198.0975\" xlink:href=\"#m42b0c67caa\" y=\"56.029091\"/>\n     <use style=\"fill-opacity:0;stroke:#000000;\" x=\"198.0975\" xlink:href=\"#m42b0c67caa\" y=\"64.265455\"/>\n     <use style=\"fill-opacity:0;stroke:#000000;\" x=\"198.0975\" xlink:href=\"#m42b0c67caa\" y=\"50.538182\"/>\n     <use style=\"fill-opacity:0;stroke:#000000;\" x=\"198.0975\" xlink:href=\"#m42b0c67caa\" y=\"72.501818\"/>\n     <use style=\"fill-opacity:0;stroke:#000000;\" x=\"198.0975\" xlink:href=\"#m42b0c67caa\" y=\"69.756364\"/>\n     <use style=\"fill-opacity:0;stroke:#000000;\" x=\"198.0975\" xlink:href=\"#m42b0c67caa\" y=\"72.501818\"/>\n     <use style=\"fill-opacity:0;stroke:#000000;\" x=\"198.0975\" xlink:href=\"#m42b0c67caa\" y=\"23.083636\"/>\n     <use style=\"fill-opacity:0;stroke:#000000;\" x=\"198.0975\" xlink:href=\"#m42b0c67caa\" y=\"72.501818\"/>\n     <use style=\"fill-opacity:0;stroke:#000000;\" x=\"198.0975\" xlink:href=\"#m42b0c67caa\" y=\"69.756364\"/>\n     <use style=\"fill-opacity:0;stroke:#000000;\" x=\"198.0975\" xlink:href=\"#m42b0c67caa\" y=\"67.010909\"/>\n     <use style=\"fill-opacity:0;stroke:#000000;\" x=\"198.0975\" xlink:href=\"#m42b0c67caa\" y=\"69.756364\"/>\n     <use style=\"fill-opacity:0;stroke:#000000;\" x=\"198.0975\" xlink:href=\"#m42b0c67caa\" y=\"56.029091\"/>\n     <use style=\"fill-opacity:0;stroke:#000000;\" x=\"198.0975\" xlink:href=\"#m42b0c67caa\" y=\"56.029091\"/>\n     <use style=\"fill-opacity:0;stroke:#000000;\" x=\"198.0975\" xlink:href=\"#m42b0c67caa\" y=\"58.774545\"/>\n     <use style=\"fill-opacity:0;stroke:#000000;\" x=\"198.0975\" xlink:href=\"#m42b0c67caa\" y=\"69.756364\"/>\n     <use style=\"fill-opacity:0;stroke:#000000;\" x=\"198.0975\" xlink:href=\"#m42b0c67caa\" y=\"53.283636\"/>\n     <use style=\"fill-opacity:0;stroke:#000000;\" x=\"198.0975\" xlink:href=\"#m42b0c67caa\" y=\"61.52\"/>\n     <use style=\"fill-opacity:0;stroke:#000000;\" x=\"198.0975\" xlink:href=\"#m42b0c67caa\" y=\"69.756364\"/>\n     <use style=\"fill-opacity:0;stroke:#000000;\" x=\"198.0975\" xlink:href=\"#m42b0c67caa\" y=\"47.792727\"/>\n     <use style=\"fill-opacity:0;stroke:#000000;\" x=\"198.0975\" xlink:href=\"#m42b0c67caa\" y=\"61.52\"/>\n     <use style=\"fill-opacity:0;stroke:#000000;\" x=\"198.0975\" xlink:href=\"#m42b0c67caa\" y=\"61.52\"/>\n    </g>\n   </g>\n   <g id=\"line2d_16\">\n    <path clip-path=\"url(#p9cec110834)\" d=\"M 172.9875 182.32 \nL 223.2075 182.32 \n\" style=\"fill:none;stroke:#50b131;stroke-linecap:round;\"/>\n   </g>\n   <g id=\"patch_3\">\n    <path d=\"M 30.6975 230.64 \nL 30.6975 13.2 \n\" style=\"fill:none;stroke:#ffffff;stroke-linecap:square;stroke-linejoin:miter;stroke-width:1.25;\"/>\n   </g>\n   <g id=\"patch_4\">\n    <path d=\"M 365.4975 230.64 \nL 365.4975 13.2 \n\" style=\"fill:none;stroke:#ffffff;stroke-linecap:square;stroke-linejoin:miter;stroke-width:1.25;\"/>\n   </g>\n   <g id=\"patch_5\">\n    <path d=\"M 30.6975 230.64 \nL 365.4975 230.64 \n\" style=\"fill:none;stroke:#ffffff;stroke-linecap:square;stroke-linejoin:miter;stroke-width:1.25;\"/>\n   </g>\n   <g id=\"patch_6\">\n    <path d=\"M 30.6975 13.2 \nL 365.4975 13.2 \n\" style=\"fill:none;stroke:#ffffff;stroke-linecap:square;stroke-linejoin:miter;stroke-width:1.25;\"/>\n   </g>\n  </g>\n </g>\n <defs>\n  <clipPath id=\"p9cec110834\">\n   <rect height=\"217.44\" width=\"334.8\" x=\"30.6975\" y=\"13.2\"/>\n  </clipPath>\n </defs>\n</svg>\n"
          },
          "metadata": {
            "tags": []
          }
        }
      ]
    },
    {
      "cell_type": "code",
      "metadata": {
        "id": "eTzAQuQwc92v",
        "colab_type": "code",
        "outputId": "e80f2e65-8d44-40d4-91e5-6ce66c37ad15",
        "colab": {
          "base_uri": "https://localhost:8080/",
          "height": 176
        }
      },
      "source": [
        "age_low, age_high = get_fliers(a, age_field)"
      ],
      "execution_count": 0,
      "outputs": [
        {
          "output_type": "stream",
          "text": [
            "--------------------\n",
            "Описание выброса по полю \"Возраст клиента\"\n",
            "Медиана распределения 32.0\n",
            "нижняя граница: 18.0, \n",
            "верхняя граница: 71.0\n",
            "Количество по выбросу 28, доля 2.0 %\n",
            "Сумма по выбросу 962000, доля 2.0 %\n",
            "Процент дефолтов в группе 0.0 %\n",
            "Сумма потерь 0 р.\n"
          ],
          "name": "stdout"
        }
      ]
    },
    {
      "cell_type": "code",
      "metadata": {
        "id": "zetlOL3Qc-Ne",
        "colab_type": "code",
        "outputId": "3ace416a-bdf7-461f-c098-98741a9b09ed",
        "colab": {
          "base_uri": "https://localhost:8080/",
          "height": 365
        }
      },
      "source": [
        "income_field = \"Доход клиента\"\n",
        "a = df_train[[income_field]].boxplot(return_type ='dict')"
      ],
      "execution_count": 0,
      "outputs": [
        {
          "output_type": "display_data",
          "data": {
            "text/plain": [
              "<Figure size 432x288 with 1 Axes>"
            ],
            "image/svg+xml": "<?xml version=\"1.0\" encoding=\"utf-8\" standalone=\"no\"?>\n<!DOCTYPE svg PUBLIC \"-//W3C//DTD SVG 1.1//EN\"\n  \"http://www.w3.org/Graphics/SVG/1.1/DTD/svg11.dtd\">\n<!-- Created with matplotlib (https://matplotlib.org/) -->\n<svg height=\"257.985937pt\" version=\"1.1\" viewBox=\"0 0 406.6925 257.985937\" width=\"406.6925pt\" xmlns=\"http://www.w3.org/2000/svg\" xmlns:xlink=\"http://www.w3.org/1999/xlink\">\n <defs>\n  <style type=\"text/css\">\n*{stroke-linecap:butt;stroke-linejoin:round;}\n  </style>\n </defs>\n <g id=\"figure_1\">\n  <g id=\"patch_1\">\n   <path d=\"M 0 257.985937 \nL 406.6925 257.985937 \nL 406.6925 0 \nL 0 0 \nz\n\" style=\"fill:none;\"/>\n  </g>\n  <g id=\"axes_1\">\n   <g id=\"patch_2\">\n    <path d=\"M 58.6925 230.64 \nL 393.4925 230.64 \nL 393.4925 13.2 \nL 58.6925 13.2 \nz\n\" style=\"fill:#eaeaf2;\"/>\n   </g>\n   <g id=\"matplotlib.axis_1\">\n    <g id=\"xtick_1\">\n     <g id=\"line2d_1\">\n      <path clip-path=\"url(#pd3a5417b68)\" d=\"M 226.0925 230.64 \nL 226.0925 13.2 \n\" style=\"fill:none;stroke:#ffffff;stroke-linecap:round;\"/>\n     </g>\n     <g id=\"text_1\">\n      <!-- Доход клиента -->\n      <defs>\n       <path d=\"M 22.796875 8.296875 \nL 55.03125 8.296875 \nL 55.03125 64.59375 \nL 31.34375 64.59375 \nL 31.34375 54.25 \nQ 31.34375 29.890625 25.875 13.71875 \nQ 24.75 10.40625 22.796875 8.296875 \nz\nM 8.40625 8.296875 \nQ 14.9375 11.375 16.796875 17.234375 \nQ 21.53125 32.28125 21.53125 59.125 \nL 21.53125 72.90625 \nL 64.890625 72.90625 \nL 64.890625 8.296875 \nL 73.1875 8.296875 \nL 73.1875 -15.671875 \nL 64.890625 -15.671875 \nL 64.890625 0 \nL 13.234375 0 \nL 13.234375 -15.671875 \nL 4.9375 -15.671875 \nL 4.9375 8.296875 \nz\n\" id=\"DejaVuSans-1044\"/>\n       <path d=\"M 30.609375 48.390625 \nQ 23.390625 48.390625 19.1875 42.75 \nQ 14.984375 37.109375 14.984375 27.296875 \nQ 14.984375 17.484375 19.15625 11.84375 \nQ 23.34375 6.203125 30.609375 6.203125 \nQ 37.796875 6.203125 41.984375 11.859375 \nQ 46.1875 17.53125 46.1875 27.296875 \nQ 46.1875 37.015625 41.984375 42.703125 \nQ 37.796875 48.390625 30.609375 48.390625 \nz\nM 30.609375 56 \nQ 42.328125 56 49.015625 48.375 \nQ 55.71875 40.765625 55.71875 27.296875 \nQ 55.71875 13.875 49.015625 6.21875 \nQ 42.328125 -1.421875 30.609375 -1.421875 \nQ 18.84375 -1.421875 12.171875 6.21875 \nQ 5.515625 13.875 5.515625 27.296875 \nQ 5.515625 40.765625 12.171875 48.375 \nQ 18.84375 56 30.609375 56 \nz\n\" id=\"DejaVuSans-1086\"/>\n       <path d=\"M 54.890625 54.6875 \nL 35.109375 28.078125 \nL 55.90625 0 \nL 45.3125 0 \nL 29.390625 21.484375 \nL 13.484375 0 \nL 2.875 0 \nL 24.125 28.609375 \nL 4.6875 54.6875 \nL 15.28125 54.6875 \nL 29.78125 35.203125 \nL 44.28125 54.6875 \nz\n\" id=\"DejaVuSans-1093\"/>\n       <path d=\"M 21.625 7.171875 \nL 47.703125 7.171875 \nL 47.703125 47.515625 \nL 28.8125 47.515625 \nL 28.8125 40.671875 \nQ 28.8125 20.5625 23.046875 9.8125 \nz\nM 8.59375 7.171875 \nQ 13.03125 9.125 14.984375 13.28125 \nQ 19.78125 23.578125 19.78125 44.34375 \nL 19.78125 54.6875 \nL 56.734375 54.6875 \nL 56.734375 7.171875 \nL 63.921875 7.171875 \nL 63.921875 -13.8125 \nL 56.734375 -13.8125 \nL 56.734375 0 \nL 12.40625 0 \nL 12.40625 -13.8125 \nL 5.21875 -13.8125 \nL 5.21875 7.171875 \nz\n\" id=\"DejaVuSans-1076\"/>\n       <path id=\"DejaVuSans-32\"/>\n       <path d=\"M 9.078125 54.6875 \nL 18.015625 54.6875 \nL 18.015625 29 \nL 43.359375 54.6875 \nL 54.390625 54.6875 \nL 33.5 33.546875 \nL 57.078125 0 \nL 47.015625 0 \nL 27.640625 27.59375 \nL 18.015625 17.828125 \nL 18.015625 0 \nL 9.078125 0 \nz\n\" id=\"DejaVuSans-1082\"/>\n       <path d=\"M 3.71875 0 \nL 3.71875 7.46875 \nQ 12.59375 8.84375 15.328125 14.984375 \nQ 18.65625 23.640625 18.65625 45.75 \nL 18.65625 54.6875 \nL 55.609375 54.6875 \nL 55.609375 0 \nL 46.625 0 \nL 46.625 47.515625 \nL 27.640625 47.515625 \nL 27.640625 42.09375 \nQ 27.640625 21 23.34375 11.53125 \nQ 18.75 1.421875 3.71875 0 \nz\n\" id=\"DejaVuSans-1083\"/>\n       <path d=\"M 55.90625 54.6875 \nL 55.90625 0 \nL 46.96875 0 \nL 46.96875 43.890625 \nL 20.609375 0 \nL 9.078125 0 \nL 9.078125 54.6875 \nL 18.015625 54.6875 \nL 18.015625 10.890625 \nL 44.34375 54.6875 \nz\n\" id=\"DejaVuSans-1080\"/>\n       <path d=\"M 56.203125 29.59375 \nL 56.203125 25.203125 \nL 14.890625 25.203125 \nQ 15.484375 15.921875 20.484375 11.0625 \nQ 25.484375 6.203125 34.421875 6.203125 \nQ 39.59375 6.203125 44.453125 7.46875 \nQ 49.3125 8.734375 54.109375 11.28125 \nL 54.109375 2.78125 \nQ 49.265625 0.734375 44.1875 -0.34375 \nQ 39.109375 -1.421875 33.890625 -1.421875 \nQ 20.796875 -1.421875 13.15625 6.1875 \nQ 5.515625 13.8125 5.515625 26.8125 \nQ 5.515625 40.234375 12.765625 48.109375 \nQ 20.015625 56 32.328125 56 \nQ 43.359375 56 49.78125 48.890625 \nQ 56.203125 41.796875 56.203125 29.59375 \nz\nM 47.21875 32.234375 \nQ 47.125 39.59375 43.09375 43.984375 \nQ 39.0625 48.390625 32.421875 48.390625 \nQ 24.90625 48.390625 20.390625 44.140625 \nQ 15.875 39.890625 15.1875 32.171875 \nz\n\" id=\"DejaVuSans-1077\"/>\n       <path d=\"M 9.078125 54.6875 \nL 18.109375 54.6875 \nL 18.109375 32.375 \nL 47.265625 32.375 \nL 47.265625 54.6875 \nL 56.296875 54.6875 \nL 56.296875 0 \nL 47.265625 0 \nL 47.265625 25.203125 \nL 18.109375 25.203125 \nL 18.109375 0 \nL 9.078125 0 \nz\n\" id=\"DejaVuSans-1085\"/>\n       <path d=\"M 2.9375 54.6875 \nL 55.328125 54.6875 \nL 55.328125 47.515625 \nL 33.546875 47.515625 \nL 33.546875 0 \nL 24.703125 0 \nL 24.703125 47.515625 \nL 2.9375 47.515625 \nz\n\" id=\"DejaVuSans-1090\"/>\n       <path d=\"M 34.28125 27.484375 \nQ 23.390625 27.484375 19.1875 25 \nQ 14.984375 22.515625 14.984375 16.5 \nQ 14.984375 11.71875 18.140625 8.90625 \nQ 21.296875 6.109375 26.703125 6.109375 \nQ 34.1875 6.109375 38.703125 11.40625 \nQ 43.21875 16.703125 43.21875 25.484375 \nL 43.21875 27.484375 \nz\nM 52.203125 31.203125 \nL 52.203125 0 \nL 43.21875 0 \nL 43.21875 8.296875 \nQ 40.140625 3.328125 35.546875 0.953125 \nQ 30.953125 -1.421875 24.3125 -1.421875 \nQ 15.921875 -1.421875 10.953125 3.296875 \nQ 6 8.015625 6 15.921875 \nQ 6 25.140625 12.171875 29.828125 \nQ 18.359375 34.515625 30.609375 34.515625 \nL 43.21875 34.515625 \nL 43.21875 35.40625 \nQ 43.21875 41.609375 39.140625 45 \nQ 35.0625 48.390625 27.6875 48.390625 \nQ 23 48.390625 18.546875 47.265625 \nQ 14.109375 46.140625 10.015625 43.890625 \nL 10.015625 52.203125 \nQ 14.9375 54.109375 19.578125 55.046875 \nQ 24.21875 56 28.609375 56 \nQ 40.484375 56 46.34375 49.84375 \nQ 52.203125 43.703125 52.203125 31.203125 \nz\n\" id=\"DejaVuSans-1072\"/>\n      </defs>\n      <g style=\"fill:#262626;\" transform=\"translate(182.292734 248.498281)scale(0.11 -0.11)\">\n       <use xlink:href=\"#DejaVuSans-1044\"/>\n       <use x=\"78.125\" xlink:href=\"#DejaVuSans-1086\"/>\n       <use x=\"139.306641\" xlink:href=\"#DejaVuSans-1093\"/>\n       <use x=\"198.486328\" xlink:href=\"#DejaVuSans-1086\"/>\n       <use x=\"259.667969\" xlink:href=\"#DejaVuSans-1076\"/>\n       <use x=\"328.808594\" xlink:href=\"#DejaVuSans-32\"/>\n       <use x=\"360.595703\" xlink:href=\"#DejaVuSans-1082\"/>\n       <use x=\"420.996094\" xlink:href=\"#DejaVuSans-1083\"/>\n       <use x=\"484.912109\" xlink:href=\"#DejaVuSans-1080\"/>\n       <use x=\"549.902344\" xlink:href=\"#DejaVuSans-1077\"/>\n       <use x=\"611.425781\" xlink:href=\"#DejaVuSans-1085\"/>\n       <use x=\"676.806641\" xlink:href=\"#DejaVuSans-1090\"/>\n       <use x=\"735.058594\" xlink:href=\"#DejaVuSans-1072\"/>\n      </g>\n     </g>\n    </g>\n   </g>\n   <g id=\"matplotlib.axis_2\">\n    <g id=\"ytick_1\">\n     <g id=\"line2d_2\">\n      <path clip-path=\"url(#pd3a5417b68)\" d=\"M 58.6925 221.250545 \nL 393.4925 221.250545 \n\" style=\"fill:none;stroke:#ffffff;stroke-linecap:round;\"/>\n     </g>\n     <g id=\"text_2\">\n      <!-- 0 -->\n      <defs>\n       <path d=\"M 31.78125 66.40625 \nQ 24.171875 66.40625 20.328125 58.90625 \nQ 16.5 51.421875 16.5 36.375 \nQ 16.5 21.390625 20.328125 13.890625 \nQ 24.171875 6.390625 31.78125 6.390625 \nQ 39.453125 6.390625 43.28125 13.890625 \nQ 47.125 21.390625 47.125 36.375 \nQ 47.125 51.421875 43.28125 58.90625 \nQ 39.453125 66.40625 31.78125 66.40625 \nz\nM 31.78125 74.21875 \nQ 44.046875 74.21875 50.515625 64.515625 \nQ 56.984375 54.828125 56.984375 36.375 \nQ 56.984375 17.96875 50.515625 8.265625 \nQ 44.046875 -1.421875 31.78125 -1.421875 \nQ 19.53125 -1.421875 13.0625 8.265625 \nQ 6.59375 17.96875 6.59375 36.375 \nQ 6.59375 54.828125 13.0625 64.515625 \nQ 19.53125 74.21875 31.78125 74.21875 \nz\n\" id=\"DejaVuSans-48\"/>\n      </defs>\n      <g style=\"fill:#262626;\" transform=\"translate(42.19375 225.429686)scale(0.11 -0.11)\">\n       <use xlink:href=\"#DejaVuSans-48\"/>\n      </g>\n     </g>\n    </g>\n    <g id=\"ytick_2\">\n     <g id=\"line2d_3\">\n      <path clip-path=\"url(#pd3a5417b68)\" d=\"M 58.6925 196.541455 \nL 393.4925 196.541455 \n\" style=\"fill:none;stroke:#ffffff;stroke-linecap:round;\"/>\n     </g>\n     <g id=\"text_3\">\n      <!-- 50000 -->\n      <defs>\n       <path d=\"M 10.796875 72.90625 \nL 49.515625 72.90625 \nL 49.515625 64.59375 \nL 19.828125 64.59375 \nL 19.828125 46.734375 \nQ 21.96875 47.46875 24.109375 47.828125 \nQ 26.265625 48.1875 28.421875 48.1875 \nQ 40.625 48.1875 47.75 41.5 \nQ 54.890625 34.8125 54.890625 23.390625 \nQ 54.890625 11.625 47.5625 5.09375 \nQ 40.234375 -1.421875 26.90625 -1.421875 \nQ 22.3125 -1.421875 17.546875 -0.640625 \nQ 12.796875 0.140625 7.71875 1.703125 \nL 7.71875 11.625 \nQ 12.109375 9.234375 16.796875 8.0625 \nQ 21.484375 6.890625 26.703125 6.890625 \nQ 35.15625 6.890625 40.078125 11.328125 \nQ 45.015625 15.765625 45.015625 23.390625 \nQ 45.015625 31 40.078125 35.4375 \nQ 35.15625 39.890625 26.703125 39.890625 \nQ 22.75 39.890625 18.8125 39.015625 \nQ 14.890625 38.140625 10.796875 36.28125 \nz\n\" id=\"DejaVuSans-53\"/>\n      </defs>\n      <g style=\"fill:#262626;\" transform=\"translate(14.19875 200.720595)scale(0.11 -0.11)\">\n       <use xlink:href=\"#DejaVuSans-53\"/>\n       <use x=\"63.623047\" xlink:href=\"#DejaVuSans-48\"/>\n       <use x=\"127.246094\" xlink:href=\"#DejaVuSans-48\"/>\n       <use x=\"190.869141\" xlink:href=\"#DejaVuSans-48\"/>\n       <use x=\"254.492188\" xlink:href=\"#DejaVuSans-48\"/>\n      </g>\n     </g>\n    </g>\n    <g id=\"ytick_3\">\n     <g id=\"line2d_4\">\n      <path clip-path=\"url(#pd3a5417b68)\" d=\"M 58.6925 171.832364 \nL 393.4925 171.832364 \n\" style=\"fill:none;stroke:#ffffff;stroke-linecap:round;\"/>\n     </g>\n     <g id=\"text_4\">\n      <!-- 100000 -->\n      <defs>\n       <path d=\"M 12.40625 8.296875 \nL 28.515625 8.296875 \nL 28.515625 63.921875 \nL 10.984375 60.40625 \nL 10.984375 69.390625 \nL 28.421875 72.90625 \nL 38.28125 72.90625 \nL 38.28125 8.296875 \nL 54.390625 8.296875 \nL 54.390625 0 \nL 12.40625 0 \nz\n\" id=\"DejaVuSans-49\"/>\n      </defs>\n      <g style=\"fill:#262626;\" transform=\"translate(7.2 176.011504)scale(0.11 -0.11)\">\n       <use xlink:href=\"#DejaVuSans-49\"/>\n       <use x=\"63.623047\" xlink:href=\"#DejaVuSans-48\"/>\n       <use x=\"127.246094\" xlink:href=\"#DejaVuSans-48\"/>\n       <use x=\"190.869141\" xlink:href=\"#DejaVuSans-48\"/>\n       <use x=\"254.492188\" xlink:href=\"#DejaVuSans-48\"/>\n       <use x=\"318.115234\" xlink:href=\"#DejaVuSans-48\"/>\n      </g>\n     </g>\n    </g>\n    <g id=\"ytick_4\">\n     <g id=\"line2d_5\">\n      <path clip-path=\"url(#pd3a5417b68)\" d=\"M 58.6925 147.123273 \nL 393.4925 147.123273 \n\" style=\"fill:none;stroke:#ffffff;stroke-linecap:round;\"/>\n     </g>\n     <g id=\"text_5\">\n      <!-- 150000 -->\n      <g style=\"fill:#262626;\" transform=\"translate(7.2 151.302413)scale(0.11 -0.11)\">\n       <use xlink:href=\"#DejaVuSans-49\"/>\n       <use x=\"63.623047\" xlink:href=\"#DejaVuSans-53\"/>\n       <use x=\"127.246094\" xlink:href=\"#DejaVuSans-48\"/>\n       <use x=\"190.869141\" xlink:href=\"#DejaVuSans-48\"/>\n       <use x=\"254.492188\" xlink:href=\"#DejaVuSans-48\"/>\n       <use x=\"318.115234\" xlink:href=\"#DejaVuSans-48\"/>\n      </g>\n     </g>\n    </g>\n    <g id=\"ytick_5\">\n     <g id=\"line2d_6\">\n      <path clip-path=\"url(#pd3a5417b68)\" d=\"M 58.6925 122.414182 \nL 393.4925 122.414182 \n\" style=\"fill:none;stroke:#ffffff;stroke-linecap:round;\"/>\n     </g>\n     <g id=\"text_6\">\n      <!-- 200000 -->\n      <defs>\n       <path d=\"M 19.1875 8.296875 \nL 53.609375 8.296875 \nL 53.609375 0 \nL 7.328125 0 \nL 7.328125 8.296875 \nQ 12.9375 14.109375 22.625 23.890625 \nQ 32.328125 33.6875 34.8125 36.53125 \nQ 39.546875 41.84375 41.421875 45.53125 \nQ 43.3125 49.21875 43.3125 52.78125 \nQ 43.3125 58.59375 39.234375 62.25 \nQ 35.15625 65.921875 28.609375 65.921875 \nQ 23.96875 65.921875 18.8125 64.3125 \nQ 13.671875 62.703125 7.8125 59.421875 \nL 7.8125 69.390625 \nQ 13.765625 71.78125 18.9375 73 \nQ 24.125 74.21875 28.421875 74.21875 \nQ 39.75 74.21875 46.484375 68.546875 \nQ 53.21875 62.890625 53.21875 53.421875 \nQ 53.21875 48.921875 51.53125 44.890625 \nQ 49.859375 40.875 45.40625 35.40625 \nQ 44.1875 33.984375 37.640625 27.21875 \nQ 31.109375 20.453125 19.1875 8.296875 \nz\n\" id=\"DejaVuSans-50\"/>\n      </defs>\n      <g style=\"fill:#262626;\" transform=\"translate(7.2 126.593322)scale(0.11 -0.11)\">\n       <use xlink:href=\"#DejaVuSans-50\"/>\n       <use x=\"63.623047\" xlink:href=\"#DejaVuSans-48\"/>\n       <use x=\"127.246094\" xlink:href=\"#DejaVuSans-48\"/>\n       <use x=\"190.869141\" xlink:href=\"#DejaVuSans-48\"/>\n       <use x=\"254.492188\" xlink:href=\"#DejaVuSans-48\"/>\n       <use x=\"318.115234\" xlink:href=\"#DejaVuSans-48\"/>\n      </g>\n     </g>\n    </g>\n    <g id=\"ytick_6\">\n     <g id=\"line2d_7\">\n      <path clip-path=\"url(#pd3a5417b68)\" d=\"M 58.6925 97.705091 \nL 393.4925 97.705091 \n\" style=\"fill:none;stroke:#ffffff;stroke-linecap:round;\"/>\n     </g>\n     <g id=\"text_7\">\n      <!-- 250000 -->\n      <g style=\"fill:#262626;\" transform=\"translate(7.2 101.884232)scale(0.11 -0.11)\">\n       <use xlink:href=\"#DejaVuSans-50\"/>\n       <use x=\"63.623047\" xlink:href=\"#DejaVuSans-53\"/>\n       <use x=\"127.246094\" xlink:href=\"#DejaVuSans-48\"/>\n       <use x=\"190.869141\" xlink:href=\"#DejaVuSans-48\"/>\n       <use x=\"254.492188\" xlink:href=\"#DejaVuSans-48\"/>\n       <use x=\"318.115234\" xlink:href=\"#DejaVuSans-48\"/>\n      </g>\n     </g>\n    </g>\n    <g id=\"ytick_7\">\n     <g id=\"line2d_8\">\n      <path clip-path=\"url(#pd3a5417b68)\" d=\"M 58.6925 72.996 \nL 393.4925 72.996 \n\" style=\"fill:none;stroke:#ffffff;stroke-linecap:round;\"/>\n     </g>\n     <g id=\"text_8\">\n      <!-- 300000 -->\n      <defs>\n       <path d=\"M 40.578125 39.3125 \nQ 47.65625 37.796875 51.625 33 \nQ 55.609375 28.21875 55.609375 21.1875 \nQ 55.609375 10.40625 48.1875 4.484375 \nQ 40.765625 -1.421875 27.09375 -1.421875 \nQ 22.515625 -1.421875 17.65625 -0.515625 \nQ 12.796875 0.390625 7.625 2.203125 \nL 7.625 11.71875 \nQ 11.71875 9.328125 16.59375 8.109375 \nQ 21.484375 6.890625 26.8125 6.890625 \nQ 36.078125 6.890625 40.9375 10.546875 \nQ 45.796875 14.203125 45.796875 21.1875 \nQ 45.796875 27.640625 41.28125 31.265625 \nQ 36.765625 34.90625 28.71875 34.90625 \nL 20.21875 34.90625 \nL 20.21875 43.015625 \nL 29.109375 43.015625 \nQ 36.375 43.015625 40.234375 45.921875 \nQ 44.09375 48.828125 44.09375 54.296875 \nQ 44.09375 59.90625 40.109375 62.90625 \nQ 36.140625 65.921875 28.71875 65.921875 \nQ 24.65625 65.921875 20.015625 65.03125 \nQ 15.375 64.15625 9.8125 62.3125 \nL 9.8125 71.09375 \nQ 15.4375 72.65625 20.34375 73.4375 \nQ 25.25 74.21875 29.59375 74.21875 \nQ 40.828125 74.21875 47.359375 69.109375 \nQ 53.90625 64.015625 53.90625 55.328125 \nQ 53.90625 49.265625 50.4375 45.09375 \nQ 46.96875 40.921875 40.578125 39.3125 \nz\n\" id=\"DejaVuSans-51\"/>\n      </defs>\n      <g style=\"fill:#262626;\" transform=\"translate(7.2 77.175141)scale(0.11 -0.11)\">\n       <use xlink:href=\"#DejaVuSans-51\"/>\n       <use x=\"63.623047\" xlink:href=\"#DejaVuSans-48\"/>\n       <use x=\"127.246094\" xlink:href=\"#DejaVuSans-48\"/>\n       <use x=\"190.869141\" xlink:href=\"#DejaVuSans-48\"/>\n       <use x=\"254.492188\" xlink:href=\"#DejaVuSans-48\"/>\n       <use x=\"318.115234\" xlink:href=\"#DejaVuSans-48\"/>\n      </g>\n     </g>\n    </g>\n    <g id=\"ytick_8\">\n     <g id=\"line2d_9\">\n      <path clip-path=\"url(#pd3a5417b68)\" d=\"M 58.6925 48.286909 \nL 393.4925 48.286909 \n\" style=\"fill:none;stroke:#ffffff;stroke-linecap:round;\"/>\n     </g>\n     <g id=\"text_9\">\n      <!-- 350000 -->\n      <g style=\"fill:#262626;\" transform=\"translate(7.2 52.46605)scale(0.11 -0.11)\">\n       <use xlink:href=\"#DejaVuSans-51\"/>\n       <use x=\"63.623047\" xlink:href=\"#DejaVuSans-53\"/>\n       <use x=\"127.246094\" xlink:href=\"#DejaVuSans-48\"/>\n       <use x=\"190.869141\" xlink:href=\"#DejaVuSans-48\"/>\n       <use x=\"254.492188\" xlink:href=\"#DejaVuSans-48\"/>\n       <use x=\"318.115234\" xlink:href=\"#DejaVuSans-48\"/>\n      </g>\n     </g>\n    </g>\n    <g id=\"ytick_9\">\n     <g id=\"line2d_10\">\n      <path clip-path=\"url(#pd3a5417b68)\" d=\"M 58.6925 23.577818 \nL 393.4925 23.577818 \n\" style=\"fill:none;stroke:#ffffff;stroke-linecap:round;\"/>\n     </g>\n     <g id=\"text_10\">\n      <!-- 400000 -->\n      <defs>\n       <path d=\"M 37.796875 64.3125 \nL 12.890625 25.390625 \nL 37.796875 25.390625 \nz\nM 35.203125 72.90625 \nL 47.609375 72.90625 \nL 47.609375 25.390625 \nL 58.015625 25.390625 \nL 58.015625 17.1875 \nL 47.609375 17.1875 \nL 47.609375 0 \nL 37.796875 0 \nL 37.796875 17.1875 \nL 4.890625 17.1875 \nL 4.890625 26.703125 \nz\n\" id=\"DejaVuSans-52\"/>\n      </defs>\n      <g style=\"fill:#262626;\" transform=\"translate(7.2 27.756959)scale(0.11 -0.11)\">\n       <use xlink:href=\"#DejaVuSans-52\"/>\n       <use x=\"63.623047\" xlink:href=\"#DejaVuSans-48\"/>\n       <use x=\"127.246094\" xlink:href=\"#DejaVuSans-48\"/>\n       <use x=\"190.869141\" xlink:href=\"#DejaVuSans-48\"/>\n       <use x=\"254.492188\" xlink:href=\"#DejaVuSans-48\"/>\n       <use x=\"318.115234\" xlink:href=\"#DejaVuSans-48\"/>\n      </g>\n     </g>\n    </g>\n   </g>\n   <g id=\"line2d_11\">\n    <path clip-path=\"url(#pd3a5417b68)\" d=\"M 200.9825 210.872727 \nL 251.2025 210.872727 \nL 251.2025 202.471636 \nL 200.9825 202.471636 \nL 200.9825 210.872727 \n\" style=\"fill:none;stroke:#f77189;stroke-linecap:round;\"/>\n   </g>\n   <g id=\"line2d_12\">\n    <path clip-path=\"url(#pd3a5417b68)\" d=\"M 226.0925 210.872727 \nL 226.0925 220.756364 \n\" style=\"fill:none;stroke:#f77189;stroke-linecap:round;\"/>\n   </g>\n   <g id=\"line2d_13\">\n    <path clip-path=\"url(#pd3a5417b68)\" d=\"M 226.0925 202.471636 \nL 226.0925 191.105455 \n\" style=\"fill:none;stroke:#f77189;stroke-linecap:round;\"/>\n   </g>\n   <g id=\"line2d_14\">\n    <path clip-path=\"url(#pd3a5417b68)\" d=\"M 213.5375 220.756364 \nL 238.6475 220.756364 \n\" style=\"fill:none;stroke:#000000;stroke-linecap:round;\"/>\n   </g>\n   <g id=\"line2d_15\">\n    <path clip-path=\"url(#pd3a5417b68)\" d=\"M 213.5375 191.105455 \nL 238.6475 191.105455 \n\" style=\"fill:none;stroke:#000000;stroke-linecap:round;\"/>\n   </g>\n   <g id=\"line2d_16\">\n    <defs>\n     <path d=\"M 0 3 \nC 0.795609 3 1.55874 2.683901 2.12132 2.12132 \nC 2.683901 1.55874 3 0.795609 3 0 \nC 3 -0.795609 2.683901 -1.55874 2.12132 -2.12132 \nC 1.55874 -2.683901 0.795609 -3 0 -3 \nC -0.795609 -3 -1.55874 -2.683901 -2.12132 -2.12132 \nC -2.683901 -1.55874 -3 -0.795609 -3 0 \nC -3 0.795609 -2.683901 1.55874 -2.12132 2.12132 \nC -1.55874 2.683901 -0.795609 3 0 3 \nz\n\" id=\"mbbb46cf1eb\" style=\"stroke:#000000;\"/>\n    </defs>\n    <g clip-path=\"url(#pd3a5417b68)\">\n     <use style=\"fill-opacity:0;stroke:#000000;\" x=\"226.0925\" xlink:href=\"#mbbb46cf1eb\" y=\"186.163636\"/>\n     <use style=\"fill-opacity:0;stroke:#000000;\" x=\"226.0925\" xlink:href=\"#mbbb46cf1eb\" y=\"166.396364\"/>\n     <use style=\"fill-opacity:0;stroke:#000000;\" x=\"226.0925\" xlink:href=\"#mbbb46cf1eb\" y=\"181.221818\"/>\n     <use style=\"fill-opacity:0;stroke:#000000;\" x=\"226.0925\" xlink:href=\"#mbbb46cf1eb\" y=\"186.163636\"/>\n     <use style=\"fill-opacity:0;stroke:#000000;\" x=\"226.0925\" xlink:href=\"#mbbb46cf1eb\" y=\"186.163636\"/>\n     <use style=\"fill-opacity:0;stroke:#000000;\" x=\"226.0925\" xlink:href=\"#mbbb46cf1eb\" y=\"171.338182\"/>\n     <use style=\"fill-opacity:0;stroke:#000000;\" x=\"226.0925\" xlink:href=\"#mbbb46cf1eb\" y=\"182.210182\"/>\n     <use style=\"fill-opacity:0;stroke:#000000;\" x=\"226.0925\" xlink:href=\"#mbbb46cf1eb\" y=\"136.745455\"/>\n     <use style=\"fill-opacity:0;stroke:#000000;\" x=\"226.0925\" xlink:href=\"#mbbb46cf1eb\" y=\"171.338182\"/>\n     <use style=\"fill-opacity:0;stroke:#000000;\" x=\"226.0925\" xlink:href=\"#mbbb46cf1eb\" y=\"181.221818\"/>\n     <use style=\"fill-opacity:0;stroke:#000000;\" x=\"226.0925\" xlink:href=\"#mbbb46cf1eb\" y=\"186.163636\"/>\n     <use style=\"fill-opacity:0;stroke:#000000;\" x=\"226.0925\" xlink:href=\"#mbbb46cf1eb\" y=\"189.128727\"/>\n     <use style=\"fill-opacity:0;stroke:#000000;\" x=\"226.0925\" xlink:href=\"#mbbb46cf1eb\" y=\"181.221818\"/>\n     <use style=\"fill-opacity:0;stroke:#000000;\" x=\"226.0925\" xlink:href=\"#mbbb46cf1eb\" y=\"181.221818\"/>\n     <use style=\"fill-opacity:0;stroke:#000000;\" x=\"226.0925\" xlink:href=\"#mbbb46cf1eb\" y=\"171.338182\"/>\n     <use style=\"fill-opacity:0;stroke:#000000;\" x=\"226.0925\" xlink:href=\"#mbbb46cf1eb\" y=\"181.221818\"/>\n     <use style=\"fill-opacity:0;stroke:#000000;\" x=\"226.0925\" xlink:href=\"#mbbb46cf1eb\" y=\"181.221818\"/>\n     <use style=\"fill-opacity:0;stroke:#000000;\" x=\"226.0925\" xlink:href=\"#mbbb46cf1eb\" y=\"175.291636\"/>\n     <use style=\"fill-opacity:0;stroke:#000000;\" x=\"226.0925\" xlink:href=\"#mbbb46cf1eb\" y=\"186.163636\"/>\n     <use style=\"fill-opacity:0;stroke:#000000;\" x=\"226.0925\" xlink:href=\"#mbbb46cf1eb\" y=\"187.152\"/>\n     <use style=\"fill-opacity:0;stroke:#000000;\" x=\"226.0925\" xlink:href=\"#mbbb46cf1eb\" y=\"186.163636\"/>\n     <use style=\"fill-opacity:0;stroke:#000000;\" x=\"226.0925\" xlink:href=\"#mbbb46cf1eb\" y=\"146.629091\"/>\n     <use style=\"fill-opacity:0;stroke:#000000;\" x=\"226.0925\" xlink:href=\"#mbbb46cf1eb\" y=\"161.454545\"/>\n     <use style=\"fill-opacity:0;stroke:#000000;\" x=\"226.0925\" xlink:href=\"#mbbb46cf1eb\" y=\"181.221818\"/>\n     <use style=\"fill-opacity:0;stroke:#000000;\" x=\"226.0925\" xlink:href=\"#mbbb46cf1eb\" y=\"171.338182\"/>\n     <use style=\"fill-opacity:0;stroke:#000000;\" x=\"226.0925\" xlink:href=\"#mbbb46cf1eb\" y=\"181.221818\"/>\n     <use style=\"fill-opacity:0;stroke:#000000;\" x=\"226.0925\" xlink:href=\"#mbbb46cf1eb\" y=\"186.163636\"/>\n     <use style=\"fill-opacity:0;stroke:#000000;\" x=\"226.0925\" xlink:href=\"#mbbb46cf1eb\" y=\"183.692727\"/>\n     <use style=\"fill-opacity:0;stroke:#000000;\" x=\"226.0925\" xlink:href=\"#mbbb46cf1eb\" y=\"181.221818\"/>\n     <use style=\"fill-opacity:0;stroke:#000000;\" x=\"226.0925\" xlink:href=\"#mbbb46cf1eb\" y=\"136.745455\"/>\n     <use style=\"fill-opacity:0;stroke:#000000;\" x=\"226.0925\" xlink:href=\"#mbbb46cf1eb\" y=\"186.163636\"/>\n     <use style=\"fill-opacity:0;stroke:#000000;\" x=\"226.0925\" xlink:href=\"#mbbb46cf1eb\" y=\"183.692727\"/>\n     <use style=\"fill-opacity:0;stroke:#000000;\" x=\"226.0925\" xlink:href=\"#mbbb46cf1eb\" y=\"176.28\"/>\n     <use style=\"fill-opacity:0;stroke:#000000;\" x=\"226.0925\" xlink:href=\"#mbbb46cf1eb\" y=\"181.221818\"/>\n     <use style=\"fill-opacity:0;stroke:#000000;\" x=\"226.0925\" xlink:href=\"#mbbb46cf1eb\" y=\"186.163636\"/>\n     <use style=\"fill-opacity:0;stroke:#000000;\" x=\"226.0925\" xlink:href=\"#mbbb46cf1eb\" y=\"186.163636\"/>\n     <use style=\"fill-opacity:0;stroke:#000000;\" x=\"226.0925\" xlink:href=\"#mbbb46cf1eb\" y=\"188.634545\"/>\n     <use style=\"fill-opacity:0;stroke:#000000;\" x=\"226.0925\" xlink:href=\"#mbbb46cf1eb\" y=\"176.28\"/>\n     <use style=\"fill-opacity:0;stroke:#000000;\" x=\"226.0925\" xlink:href=\"#mbbb46cf1eb\" y=\"188.634545\"/>\n     <use style=\"fill-opacity:0;stroke:#000000;\" x=\"226.0925\" xlink:href=\"#mbbb46cf1eb\" y=\"188.634545\"/>\n     <use style=\"fill-opacity:0;stroke:#000000;\" x=\"226.0925\" xlink:href=\"#mbbb46cf1eb\" y=\"156.512727\"/>\n     <use style=\"fill-opacity:0;stroke:#000000;\" x=\"226.0925\" xlink:href=\"#mbbb46cf1eb\" y=\"171.338182\"/>\n     <use style=\"fill-opacity:0;stroke:#000000;\" x=\"226.0925\" xlink:href=\"#mbbb46cf1eb\" y=\"171.338182\"/>\n     <use style=\"fill-opacity:0;stroke:#000000;\" x=\"226.0925\" xlink:href=\"#mbbb46cf1eb\" y=\"182.704364\"/>\n     <use style=\"fill-opacity:0;stroke:#000000;\" x=\"226.0925\" xlink:href=\"#mbbb46cf1eb\" y=\"186.163636\"/>\n     <use style=\"fill-opacity:0;stroke:#000000;\" x=\"226.0925\" xlink:href=\"#mbbb46cf1eb\" y=\"171.338182\"/>\n     <use style=\"fill-opacity:0;stroke:#000000;\" x=\"226.0925\" xlink:href=\"#mbbb46cf1eb\" y=\"171.338182\"/>\n     <use style=\"fill-opacity:0;stroke:#000000;\" x=\"226.0925\" xlink:href=\"#mbbb46cf1eb\" y=\"183.692727\"/>\n     <use style=\"fill-opacity:0;stroke:#000000;\" x=\"226.0925\" xlink:href=\"#mbbb46cf1eb\" y=\"184.681091\"/>\n     <use style=\"fill-opacity:0;stroke:#000000;\" x=\"226.0925\" xlink:href=\"#mbbb46cf1eb\" y=\"188.634545\"/>\n     <use style=\"fill-opacity:0;stroke:#000000;\" x=\"226.0925\" xlink:href=\"#mbbb46cf1eb\" y=\"188.634545\"/>\n     <use style=\"fill-opacity:0;stroke:#000000;\" x=\"226.0925\" xlink:href=\"#mbbb46cf1eb\" y=\"188.634545\"/>\n     <use style=\"fill-opacity:0;stroke:#000000;\" x=\"226.0925\" xlink:href=\"#mbbb46cf1eb\" y=\"188.634545\"/>\n     <use style=\"fill-opacity:0;stroke:#000000;\" x=\"226.0925\" xlink:href=\"#mbbb46cf1eb\" y=\"173.809091\"/>\n     <use style=\"fill-opacity:0;stroke:#000000;\" x=\"226.0925\" xlink:href=\"#mbbb46cf1eb\" y=\"186.163636\"/>\n     <use style=\"fill-opacity:0;stroke:#000000;\" x=\"226.0925\" xlink:href=\"#mbbb46cf1eb\" y=\"188.634545\"/>\n     <use style=\"fill-opacity:0;stroke:#000000;\" x=\"226.0925\" xlink:href=\"#mbbb46cf1eb\" y=\"181.221818\"/>\n     <use style=\"fill-opacity:0;stroke:#000000;\" x=\"226.0925\" xlink:href=\"#mbbb46cf1eb\" y=\"188.634545\"/>\n     <use style=\"fill-opacity:0;stroke:#000000;\" x=\"226.0925\" xlink:href=\"#mbbb46cf1eb\" y=\"186.163636\"/>\n     <use style=\"fill-opacity:0;stroke:#000000;\" x=\"226.0925\" xlink:href=\"#mbbb46cf1eb\" y=\"186.163636\"/>\n     <use style=\"fill-opacity:0;stroke:#000000;\" x=\"226.0925\" xlink:href=\"#mbbb46cf1eb\" y=\"181.221818\"/>\n     <use style=\"fill-opacity:0;stroke:#000000;\" x=\"226.0925\" xlink:href=\"#mbbb46cf1eb\" y=\"166.396364\"/>\n     <use style=\"fill-opacity:0;stroke:#000000;\" x=\"226.0925\" xlink:href=\"#mbbb46cf1eb\" y=\"186.163636\"/>\n     <use style=\"fill-opacity:0;stroke:#000000;\" x=\"226.0925\" xlink:href=\"#mbbb46cf1eb\" y=\"161.454545\"/>\n     <use style=\"fill-opacity:0;stroke:#000000;\" x=\"226.0925\" xlink:href=\"#mbbb46cf1eb\" y=\"181.221818\"/>\n     <use style=\"fill-opacity:0;stroke:#000000;\" x=\"226.0925\" xlink:href=\"#mbbb46cf1eb\" y=\"181.221818\"/>\n     <use style=\"fill-opacity:0;stroke:#000000;\" x=\"226.0925\" xlink:href=\"#mbbb46cf1eb\" y=\"186.163636\"/>\n     <use style=\"fill-opacity:0;stroke:#000000;\" x=\"226.0925\" xlink:href=\"#mbbb46cf1eb\" y=\"181.221818\"/>\n     <use style=\"fill-opacity:0;stroke:#000000;\" x=\"226.0925\" xlink:href=\"#mbbb46cf1eb\" y=\"23.083636\"/>\n     <use style=\"fill-opacity:0;stroke:#000000;\" x=\"226.0925\" xlink:href=\"#mbbb46cf1eb\" y=\"173.314909\"/>\n     <use style=\"fill-opacity:0;stroke:#000000;\" x=\"226.0925\" xlink:href=\"#mbbb46cf1eb\" y=\"188.634545\"/>\n     <use style=\"fill-opacity:0;stroke:#000000;\" x=\"226.0925\" xlink:href=\"#mbbb46cf1eb\" y=\"188.634545\"/>\n     <use style=\"fill-opacity:0;stroke:#000000;\" x=\"226.0925\" xlink:href=\"#mbbb46cf1eb\" y=\"171.338182\"/>\n     <use style=\"fill-opacity:0;stroke:#000000;\" x=\"226.0925\" xlink:href=\"#mbbb46cf1eb\" y=\"146.629091\"/>\n     <use style=\"fill-opacity:0;stroke:#000000;\" x=\"226.0925\" xlink:href=\"#mbbb46cf1eb\" y=\"161.454545\"/>\n     <use style=\"fill-opacity:0;stroke:#000000;\" x=\"226.0925\" xlink:href=\"#mbbb46cf1eb\" y=\"171.338182\"/>\n     <use style=\"fill-opacity:0;stroke:#000000;\" x=\"226.0925\" xlink:href=\"#mbbb46cf1eb\" y=\"161.454545\"/>\n     <use style=\"fill-opacity:0;stroke:#000000;\" x=\"226.0925\" xlink:href=\"#mbbb46cf1eb\" y=\"181.221818\"/>\n     <use style=\"fill-opacity:0;stroke:#000000;\" x=\"226.0925\" xlink:href=\"#mbbb46cf1eb\" y=\"171.338182\"/>\n     <use style=\"fill-opacity:0;stroke:#000000;\" x=\"226.0925\" xlink:href=\"#mbbb46cf1eb\" y=\"186.163636\"/>\n     <use style=\"fill-opacity:0;stroke:#000000;\" x=\"226.0925\" xlink:href=\"#mbbb46cf1eb\" y=\"186.163636\"/>\n     <use style=\"fill-opacity:0;stroke:#000000;\" x=\"226.0925\" xlink:href=\"#mbbb46cf1eb\" y=\"186.163636\"/>\n     <use style=\"fill-opacity:0;stroke:#000000;\" x=\"226.0925\" xlink:href=\"#mbbb46cf1eb\" y=\"186.163636\"/>\n     <use style=\"fill-opacity:0;stroke:#000000;\" x=\"226.0925\" xlink:href=\"#mbbb46cf1eb\" y=\"186.163636\"/>\n     <use style=\"fill-opacity:0;stroke:#000000;\" x=\"226.0925\" xlink:href=\"#mbbb46cf1eb\" y=\"178.750909\"/>\n     <use style=\"fill-opacity:0;stroke:#000000;\" x=\"226.0925\" xlink:href=\"#mbbb46cf1eb\" y=\"171.338182\"/>\n     <use style=\"fill-opacity:0;stroke:#000000;\" x=\"226.0925\" xlink:href=\"#mbbb46cf1eb\" y=\"185.175273\"/>\n     <use style=\"fill-opacity:0;stroke:#000000;\" x=\"226.0925\" xlink:href=\"#mbbb46cf1eb\" y=\"171.338182\"/>\n     <use style=\"fill-opacity:0;stroke:#000000;\" x=\"226.0925\" xlink:href=\"#mbbb46cf1eb\" y=\"188.634545\"/>\n     <use style=\"fill-opacity:0;stroke:#000000;\" x=\"226.0925\" xlink:href=\"#mbbb46cf1eb\" y=\"181.221818\"/>\n     <use style=\"fill-opacity:0;stroke:#000000;\" x=\"226.0925\" xlink:href=\"#mbbb46cf1eb\" y=\"178.750909\"/>\n     <use style=\"fill-opacity:0;stroke:#000000;\" x=\"226.0925\" xlink:href=\"#mbbb46cf1eb\" y=\"181.221818\"/>\n     <use style=\"fill-opacity:0;stroke:#000000;\" x=\"226.0925\" xlink:href=\"#mbbb46cf1eb\" y=\"171.338182\"/>\n     <use style=\"fill-opacity:0;stroke:#000000;\" x=\"226.0925\" xlink:href=\"#mbbb46cf1eb\" y=\"171.338182\"/>\n     <use style=\"fill-opacity:0;stroke:#000000;\" x=\"226.0925\" xlink:href=\"#mbbb46cf1eb\" y=\"186.163636\"/>\n     <use style=\"fill-opacity:0;stroke:#000000;\" x=\"226.0925\" xlink:href=\"#mbbb46cf1eb\" y=\"102.152727\"/>\n     <use style=\"fill-opacity:0;stroke:#000000;\" x=\"226.0925\" xlink:href=\"#mbbb46cf1eb\" y=\"146.629091\"/>\n    </g>\n   </g>\n   <g id=\"line2d_17\">\n    <path clip-path=\"url(#pd3a5417b68)\" d=\"M 200.9825 207.907636 \nL 251.2025 207.907636 \n\" style=\"fill:none;stroke:#50b131;stroke-linecap:round;\"/>\n   </g>\n   <g id=\"patch_3\">\n    <path d=\"M 58.6925 230.64 \nL 58.6925 13.2 \n\" style=\"fill:none;stroke:#ffffff;stroke-linecap:square;stroke-linejoin:miter;stroke-width:1.25;\"/>\n   </g>\n   <g id=\"patch_4\">\n    <path d=\"M 393.4925 230.64 \nL 393.4925 13.2 \n\" style=\"fill:none;stroke:#ffffff;stroke-linecap:square;stroke-linejoin:miter;stroke-width:1.25;\"/>\n   </g>\n   <g id=\"patch_5\">\n    <path d=\"M 58.6925 230.64 \nL 393.4925 230.64 \n\" style=\"fill:none;stroke:#ffffff;stroke-linecap:square;stroke-linejoin:miter;stroke-width:1.25;\"/>\n   </g>\n   <g id=\"patch_6\">\n    <path d=\"M 58.6925 13.2 \nL 393.4925 13.2 \n\" style=\"fill:none;stroke:#ffffff;stroke-linecap:square;stroke-linejoin:miter;stroke-width:1.25;\"/>\n   </g>\n  </g>\n </g>\n <defs>\n  <clipPath id=\"pd3a5417b68\">\n   <rect height=\"217.44\" width=\"334.8\" x=\"58.6925\" y=\"13.2\"/>\n  </clipPath>\n </defs>\n</svg>\n"
          },
          "metadata": {
            "tags": []
          }
        }
      ]
    },
    {
      "cell_type": "code",
      "metadata": {
        "id": "RFqOk-h1c-jW",
        "colab_type": "code",
        "outputId": "a34fc749-89f8-4075-f04f-0b2cfbe6135f",
        "colab": {
          "base_uri": "https://localhost:8080/",
          "height": 176
        }
      },
      "source": [
        "income_low, income_high = get_fliers(a, income_field)"
      ],
      "execution_count": 0,
      "outputs": [
        {
          "output_type": "stream",
          "text": [
            "--------------------\n",
            "Описание выброса по полю \"Доход клиента\"\n",
            "Медиана распределения 27000.0\n",
            "нижняя граница: 1000.0, \n",
            "верхняя граница: 61000.0\n",
            "Количество по выбросу 97, доля 6.0 %\n",
            "Сумма по выбросу 5818000, доля 12.0 %\n",
            "Процент дефолтов в группе 3.0927835051546393 %\n",
            "Сумма потерь 183500 р.\n"
          ],
          "name": "stdout"
        }
      ]
    },
    {
      "cell_type": "code",
      "metadata": {
        "id": "EJeiELFjc-4-",
        "colab_type": "code",
        "outputId": "77e4ccfb-b664-4ccb-8cf8-265ca9ed741a",
        "colab": {
          "base_uri": "https://localhost:8080/",
          "height": 34
        }
      },
      "source": [
        "filtered_sum = df_train.loc[(df_train[sum_field] > sum_high) | (df_train[sum_field] < sum_low) | \n",
        "                            (df_train[period_field] > period_high) | (df_train[period_field] < period_low) | \n",
        "                            (df_train[age_field] > age_high) | (df_train[age_field] < age_low) | \n",
        "                            (df_train[income_field] > income_high) | (df_train[income_field] < income_low), [\"Сумма кредита\"]].sum()\n",
        "\n",
        "\n",
        "filtered_sum[sum_field], filtered_sum[sum_field]/tot_sum[sum_field]\n"
      ],
      "execution_count": 0,
      "outputs": [
        {
          "output_type": "execute_result",
          "data": {
            "text/plain": [
              "(20160500, 0.399827459691014)"
            ]
          },
          "metadata": {
            "tags": []
          },
          "execution_count": 213
        }
      ]
    },
    {
      "cell_type": "code",
      "metadata": {
        "id": "chkz0_Phc_Mv",
        "colab_type": "code",
        "outputId": "92e9f906-d2d0-45f3-8369-473abacfe5e1",
        "colab": {
          "base_uri": "https://localhost:8080/",
          "height": 34
        }
      },
      "source": [
        "filtered_count = df_train.loc[(df_train[sum_field] > sum_high) | (df_train[sum_field] < sum_low) | \n",
        "                            (df_train[period_field] > period_high) | (df_train[period_field] < period_low) | \n",
        "                            (df_train[age_field] > age_high) | (df_train[age_field] < age_low) | \n",
        "                            (df_train[income_field] > income_high) | (df_train[income_field] < income_low), [\"Сумма кредита\"]].count()\n",
        "\n",
        "filtered_count[sum_field], filtered_count[sum_field]/tot_count[sum_field]"
      ],
      "execution_count": 0,
      "outputs": [
        {
          "output_type": "execute_result",
          "data": {
            "text/plain": [
              "(319, 0.18514219384793965)"
            ]
          },
          "metadata": {
            "tags": []
          },
          "execution_count": 214
        }
      ]
    },
    {
      "cell_type": "code",
      "metadata": {
        "id": "E5U9WpVxmfHJ",
        "colab_type": "code",
        "outputId": "75236f17-4ca9-4977-a20d-a63f700e0cff",
        "colab": {
          "base_uri": "https://localhost:8080/",
          "height": 34
        }
      },
      "source": [
        "filtered_sum = df_train.loc[(df_train[sum_field] > sum_high) | (df_train[sum_field] < sum_low) | \n",
        "                            (df_train[period_field] > period_high) | (df_train[period_field] < period_low) | \n",
        "                            (df_train[age_field] > age_high) | (df_train[age_field] < age_low) | \n",
        "                            (df_train[income_field] > income_high) | (df_train[income_field] < income_low), [\"loss\"]].sum()\n",
        "\n",
        "\n",
        "filtered_sum['loss'], df_train['loss'].sum()"
      ],
      "execution_count": 0,
      "outputs": [
        {
          "output_type": "execute_result",
          "data": {
            "text/plain": [
              "(1495500, 5521500)"
            ]
          },
          "metadata": {
            "tags": []
          },
          "execution_count": 215
        }
      ]
    },
    {
      "cell_type": "markdown",
      "metadata": {
        "id": "FRXWK07y1J2G",
        "colab_type": "text"
      },
      "source": [
        "### Вывод:\n",
        "Выброс по каждому из числовых полей характеризуется следующими признаками:\n",
        "- Сумма кредита - более 65500 руб.: 8% кредитов, 27% по общей сумме, 7.7% дефолтов,\n",
        "- Период кредита - более 20 месяцев: 10% кредитов, 21% по общей сумме, 10.2% дефолтов,\n",
        "- Возраст клиента - более 71 года: 2% кредитов, 2% по общей сумме, 0% дефолтов\n",
        "- Доход клиента - более 61000 руб.: 6% кредитов, 12% по общей сумме, 3.1% дефолтов.\n",
        "\n",
        "В целом в категорию нестандартных попадает 18.5% кредитов на сумму 20 млн. р. Потери по категории 1.5 млн. р. Для сравнения по категории стандартных 30 и 4 млн. р. соответственно.\n",
        "\n",
        "По параметрам $\\textit{Период кредита и Доход клиента}$ очевидна корреляция между параметром и средней величиной кредита: \n",
        "- большие суммы кредитов возвращаются в среднем дольше, \n",
        "- люди с более высоким доходом не склонны брать кредит на незначительную сумму.\n",
        "\n",
        "Кредиты на бОльшие суммы гасятся несколько более дисциплинированно (возможно, это связано с более строгой процедурой проверки).\n",
        "\n",
        "Люди старшего возраста в среднем используют кредиты так же, как остальные, что может говорить об их высокой социальной активности. 0% дефолтов по этой категории свидетельствует также об их социальной ответственности и/или более строгой проверке, требованиях к обеспечению. Впрочем, в силу небольшого объема данных значимость результата не велика.\n",
        "\n",
        "Существенно меньший по отношению к среднему процент дефолтов у клиентов с доходом более 61000 р. говорит об увеличении социальной ответственности при повышении дохода."
      ]
    },
    {
      "cell_type": "markdown",
      "metadata": {
        "id": "mTGVz24NQ9t2",
        "colab_type": "text"
      },
      "source": [
        "## Анализ сезонности"
      ]
    },
    {
      "cell_type": "code",
      "metadata": {
        "id": "HXY6q6yidYMR",
        "colab_type": "code",
        "colab": {}
      },
      "source": [
        "dict_for_agg = {'Сумма кредита' : ['sum'], \n",
        "               'default_flag': ['mean'],\n",
        "               'Срок кредита':['count']}\n",
        "monthly_set = df_train.groupby('Месяц выдачи кредита').agg(dict_for_agg).reset_index()\n",
        "monthly_set.columns = monthly_set.columns.get_level_values(0)"
      ],
      "execution_count": 0,
      "outputs": []
    },
    {
      "cell_type": "code",
      "metadata": {
        "id": "IeYx-LMUiniz",
        "colab_type": "code",
        "colab": {}
      },
      "source": [
        "monthly_set = monthly_set.rename(columns={'default_flag': 'Доля дефолтов', 'Сумма кредита':'Сумма выданных', 'Срок кредита':'Количество кредитов'})\n",
        "monthly_set['Средний кредит'] = monthly_set['Сумма выданных'] / monthly_set['Количество кредитов']"
      ],
      "execution_count": 0,
      "outputs": []
    },
    {
      "cell_type": "code",
      "metadata": {
        "id": "BAkeEKZcpp0v",
        "colab_type": "code",
        "outputId": "ac98b91a-76fa-4ae2-a596-9bfce715c33c",
        "colab": {
          "base_uri": "https://localhost:8080/",
          "height": 407
        }
      },
      "source": [
        "monthly_set"
      ],
      "execution_count": 0,
      "outputs": [
        {
          "output_type": "execute_result",
          "data": {
            "text/html": [
              "<div>\n",
              "<style scoped>\n",
              "    .dataframe tbody tr th:only-of-type {\n",
              "        vertical-align: middle;\n",
              "    }\n",
              "\n",
              "    .dataframe tbody tr th {\n",
              "        vertical-align: top;\n",
              "    }\n",
              "\n",
              "    .dataframe thead th {\n",
              "        text-align: right;\n",
              "    }\n",
              "</style>\n",
              "<table border=\"1\" class=\"dataframe\">\n",
              "  <thead>\n",
              "    <tr style=\"text-align: right;\">\n",
              "      <th></th>\n",
              "      <th>Месяц выдачи кредита</th>\n",
              "      <th>Сумма выданных</th>\n",
              "      <th>Доля дефолтов</th>\n",
              "      <th>Количество кредитов</th>\n",
              "      <th>Средний кредит</th>\n",
              "    </tr>\n",
              "  </thead>\n",
              "  <tbody>\n",
              "    <tr>\n",
              "      <th>0</th>\n",
              "      <td>1</td>\n",
              "      <td>3641000</td>\n",
              "      <td>0.136691</td>\n",
              "      <td>139</td>\n",
              "      <td>26194.244604</td>\n",
              "    </tr>\n",
              "    <tr>\n",
              "      <th>1</th>\n",
              "      <td>2</td>\n",
              "      <td>4165000</td>\n",
              "      <td>0.072464</td>\n",
              "      <td>138</td>\n",
              "      <td>30181.159420</td>\n",
              "    </tr>\n",
              "    <tr>\n",
              "      <th>2</th>\n",
              "      <td>3</td>\n",
              "      <td>4494000</td>\n",
              "      <td>0.139241</td>\n",
              "      <td>158</td>\n",
              "      <td>28443.037975</td>\n",
              "    </tr>\n",
              "    <tr>\n",
              "      <th>3</th>\n",
              "      <td>4</td>\n",
              "      <td>3820000</td>\n",
              "      <td>0.099237</td>\n",
              "      <td>131</td>\n",
              "      <td>29160.305344</td>\n",
              "    </tr>\n",
              "    <tr>\n",
              "      <th>4</th>\n",
              "      <td>5</td>\n",
              "      <td>3022500</td>\n",
              "      <td>0.112069</td>\n",
              "      <td>116</td>\n",
              "      <td>26056.034483</td>\n",
              "    </tr>\n",
              "    <tr>\n",
              "      <th>5</th>\n",
              "      <td>6</td>\n",
              "      <td>3771500</td>\n",
              "      <td>0.114754</td>\n",
              "      <td>122</td>\n",
              "      <td>30913.934426</td>\n",
              "    </tr>\n",
              "    <tr>\n",
              "      <th>6</th>\n",
              "      <td>7</td>\n",
              "      <td>4163000</td>\n",
              "      <td>0.062069</td>\n",
              "      <td>145</td>\n",
              "      <td>28710.344828</td>\n",
              "    </tr>\n",
              "    <tr>\n",
              "      <th>7</th>\n",
              "      <td>8</td>\n",
              "      <td>4079000</td>\n",
              "      <td>0.126761</td>\n",
              "      <td>142</td>\n",
              "      <td>28725.352113</td>\n",
              "    </tr>\n",
              "    <tr>\n",
              "      <th>8</th>\n",
              "      <td>9</td>\n",
              "      <td>3573000</td>\n",
              "      <td>0.095588</td>\n",
              "      <td>136</td>\n",
              "      <td>26272.058824</td>\n",
              "    </tr>\n",
              "    <tr>\n",
              "      <th>9</th>\n",
              "      <td>10</td>\n",
              "      <td>4658000</td>\n",
              "      <td>0.106250</td>\n",
              "      <td>160</td>\n",
              "      <td>29112.500000</td>\n",
              "    </tr>\n",
              "    <tr>\n",
              "      <th>10</th>\n",
              "      <td>11</td>\n",
              "      <td>5668000</td>\n",
              "      <td>0.132184</td>\n",
              "      <td>174</td>\n",
              "      <td>32574.712644</td>\n",
              "    </tr>\n",
              "    <tr>\n",
              "      <th>11</th>\n",
              "      <td>12</td>\n",
              "      <td>5368000</td>\n",
              "      <td>0.154321</td>\n",
              "      <td>162</td>\n",
              "      <td>33135.802469</td>\n",
              "    </tr>\n",
              "  </tbody>\n",
              "</table>\n",
              "</div>"
            ],
            "text/plain": [
              "    Месяц выдачи кредита  Сумма выданных  Доля дефолтов  Количество кредитов  \\\n",
              "0                      1         3641000       0.136691                  139   \n",
              "1                      2         4165000       0.072464                  138   \n",
              "2                      3         4494000       0.139241                  158   \n",
              "3                      4         3820000       0.099237                  131   \n",
              "4                      5         3022500       0.112069                  116   \n",
              "5                      6         3771500       0.114754                  122   \n",
              "6                      7         4163000       0.062069                  145   \n",
              "7                      8         4079000       0.126761                  142   \n",
              "8                      9         3573000       0.095588                  136   \n",
              "9                     10         4658000       0.106250                  160   \n",
              "10                    11         5668000       0.132184                  174   \n",
              "11                    12         5368000       0.154321                  162   \n",
              "\n",
              "    Средний кредит  \n",
              "0     26194.244604  \n",
              "1     30181.159420  \n",
              "2     28443.037975  \n",
              "3     29160.305344  \n",
              "4     26056.034483  \n",
              "5     30913.934426  \n",
              "6     28710.344828  \n",
              "7     28725.352113  \n",
              "8     26272.058824  \n",
              "9     29112.500000  \n",
              "10    32574.712644  \n",
              "11    33135.802469  "
            ]
          },
          "metadata": {
            "tags": []
          },
          "execution_count": 218
        }
      ]
    },
    {
      "cell_type": "code",
      "metadata": {
        "id": "ZHntyTyaQ8Jy",
        "colab_type": "code",
        "outputId": "112e755b-455f-44a9-cc99-9f62b1e7e62f",
        "colab": {
          "base_uri": "https://localhost:8080/",
          "height": 821
        }
      },
      "source": [
        "fig, axes = plt.subplots(4, 1, figsize=(12, 10), dpi= 80)\n",
        "sns.lineplot( x='Месяц выдачи кредита', y='Сумма выданных', data=monthly_set, ax=axes[0])\n",
        "plt.xticks(list(range(1, 13)))\n",
        "sns.lineplot( x='Месяц выдачи кредита', y='Количество кредитов', data=monthly_set, ax=axes[1])\n",
        "plt.xticks(list(range(1, 13)))\n",
        "sns.lineplot( x='Месяц выдачи кредита', y='Средний кредит', data=monthly_set, ax=axes[2])\n",
        "plt.xticks(list(range(1, 13)))\n",
        "sns.lineplot(x='Месяц выдачи кредита', y='Доля дефолтов', data=monthly_set, ax=axes[3])\n",
        "plt.xticks(list(range(1, 13)))\n",
        "plt.show()\n",
        "\n"
      ],
      "execution_count": 0,
      "outputs": [
        {
          "output_type": "display_data",
          "data": {
            "text/plain": [
              "<Figure size 960x800 with 4 Axes>"
            ],
            "image/svg+xml": "<?xml version=\"1.0\" encoding=\"utf-8\" standalone=\"no\"?>\n<!DOCTYPE svg PUBLIC \"-//W3C//DTD SVG 1.1//EN\"\n  \"http://www.w3.org/Graphics/SVG/1.1/DTD/svg11.dtd\">\n<!-- Created with matplotlib (https://matplotlib.org/) -->\n<svg height=\"599.759687pt\" version=\"1.1\" viewBox=\"0 0 764.105 599.759687\" width=\"764.105pt\" xmlns=\"http://www.w3.org/2000/svg\" xmlns:xlink=\"http://www.w3.org/1999/xlink\">\n <defs>\n  <style type=\"text/css\">\n*{stroke-linecap:butt;stroke-linejoin:round;}\n  </style>\n </defs>\n <g id=\"figure_1\">\n  <g id=\"patch_1\">\n   <path d=\"M 0 599.759687 \nL 764.105 599.759687 \nL 764.105 0 \nL 0 0 \nz\n\" style=\"fill:none;\"/>\n  </g>\n  <g id=\"axes_1\">\n   <g id=\"patch_2\">\n    <path d=\"M 81.305 131.373913 \nL 750.905 131.373913 \nL 750.905 13.2 \nL 81.305 13.2 \nz\n\" style=\"fill:#eaeaf2;\"/>\n   </g>\n   <g id=\"matplotlib.axis_1\">\n    <g id=\"xtick_1\">\n     <g id=\"line2d_1\">\n      <path clip-path=\"url(#p1214a75d75)\" d=\"M 167.080207 131.373913 \nL 167.080207 13.2 \n\" style=\"fill:none;stroke:#ffffff;stroke-linecap:round;\"/>\n     </g>\n     <g id=\"text_1\">\n      <!-- 2 -->\n      <defs>\n       <path d=\"M 19.1875 8.296875 \nL 53.609375 8.296875 \nL 53.609375 0 \nL 7.328125 0 \nL 7.328125 8.296875 \nQ 12.9375 14.109375 22.625 23.890625 \nQ 32.328125 33.6875 34.8125 36.53125 \nQ 39.546875 41.84375 41.421875 45.53125 \nQ 43.3125 49.21875 43.3125 52.78125 \nQ 43.3125 58.59375 39.234375 62.25 \nQ 35.15625 65.921875 28.609375 65.921875 \nQ 23.96875 65.921875 18.8125 64.3125 \nQ 13.671875 62.703125 7.8125 59.421875 \nL 7.8125 69.390625 \nQ 13.765625 71.78125 18.9375 73 \nQ 24.125 74.21875 28.421875 74.21875 \nQ 39.75 74.21875 46.484375 68.546875 \nQ 53.21875 62.890625 53.21875 53.421875 \nQ 53.21875 48.921875 51.53125 44.890625 \nQ 49.859375 40.875 45.40625 35.40625 \nQ 44.1875 33.984375 37.640625 27.21875 \nQ 31.109375 20.453125 19.1875 8.296875 \nz\n\" id=\"DejaVuSans-50\"/>\n      </defs>\n      <g style=\"fill:#262626;\" transform=\"translate(163.580832 149.232194)scale(0.11 -0.11)\">\n       <use xlink:href=\"#DejaVuSans-50\"/>\n      </g>\n     </g>\n    </g>\n    <g id=\"xtick_2\">\n     <g id=\"line2d_2\">\n      <path clip-path=\"url(#p1214a75d75)\" d=\"M 277.757893 131.373913 \nL 277.757893 13.2 \n\" style=\"fill:none;stroke:#ffffff;stroke-linecap:round;\"/>\n     </g>\n     <g id=\"text_2\">\n      <!-- 4 -->\n      <defs>\n       <path d=\"M 37.796875 64.3125 \nL 12.890625 25.390625 \nL 37.796875 25.390625 \nz\nM 35.203125 72.90625 \nL 47.609375 72.90625 \nL 47.609375 25.390625 \nL 58.015625 25.390625 \nL 58.015625 17.1875 \nL 47.609375 17.1875 \nL 47.609375 0 \nL 37.796875 0 \nL 37.796875 17.1875 \nL 4.890625 17.1875 \nL 4.890625 26.703125 \nz\n\" id=\"DejaVuSans-52\"/>\n      </defs>\n      <g style=\"fill:#262626;\" transform=\"translate(274.258518 149.232194)scale(0.11 -0.11)\">\n       <use xlink:href=\"#DejaVuSans-52\"/>\n      </g>\n     </g>\n    </g>\n    <g id=\"xtick_3\">\n     <g id=\"line2d_3\">\n      <path clip-path=\"url(#p1214a75d75)\" d=\"M 388.435579 131.373913 \nL 388.435579 13.2 \n\" style=\"fill:none;stroke:#ffffff;stroke-linecap:round;\"/>\n     </g>\n     <g id=\"text_3\">\n      <!-- 6 -->\n      <defs>\n       <path d=\"M 33.015625 40.375 \nQ 26.375 40.375 22.484375 35.828125 \nQ 18.609375 31.296875 18.609375 23.390625 \nQ 18.609375 15.53125 22.484375 10.953125 \nQ 26.375 6.390625 33.015625 6.390625 \nQ 39.65625 6.390625 43.53125 10.953125 \nQ 47.40625 15.53125 47.40625 23.390625 \nQ 47.40625 31.296875 43.53125 35.828125 \nQ 39.65625 40.375 33.015625 40.375 \nz\nM 52.59375 71.296875 \nL 52.59375 62.3125 \nQ 48.875 64.0625 45.09375 64.984375 \nQ 41.3125 65.921875 37.59375 65.921875 \nQ 27.828125 65.921875 22.671875 59.328125 \nQ 17.53125 52.734375 16.796875 39.40625 \nQ 19.671875 43.65625 24.015625 45.921875 \nQ 28.375 48.1875 33.59375 48.1875 \nQ 44.578125 48.1875 50.953125 41.515625 \nQ 57.328125 34.859375 57.328125 23.390625 \nQ 57.328125 12.15625 50.6875 5.359375 \nQ 44.046875 -1.421875 33.015625 -1.421875 \nQ 20.359375 -1.421875 13.671875 8.265625 \nQ 6.984375 17.96875 6.984375 36.375 \nQ 6.984375 53.65625 15.1875 63.9375 \nQ 23.390625 74.21875 37.203125 74.21875 \nQ 40.921875 74.21875 44.703125 73.484375 \nQ 48.484375 72.75 52.59375 71.296875 \nz\n\" id=\"DejaVuSans-54\"/>\n      </defs>\n      <g style=\"fill:#262626;\" transform=\"translate(384.936204 149.232194)scale(0.11 -0.11)\">\n       <use xlink:href=\"#DejaVuSans-54\"/>\n      </g>\n     </g>\n    </g>\n    <g id=\"xtick_4\">\n     <g id=\"line2d_4\">\n      <path clip-path=\"url(#p1214a75d75)\" d=\"M 499.113264 131.373913 \nL 499.113264 13.2 \n\" style=\"fill:none;stroke:#ffffff;stroke-linecap:round;\"/>\n     </g>\n     <g id=\"text_4\">\n      <!-- 8 -->\n      <defs>\n       <path d=\"M 31.78125 34.625 \nQ 24.75 34.625 20.71875 30.859375 \nQ 16.703125 27.09375 16.703125 20.515625 \nQ 16.703125 13.921875 20.71875 10.15625 \nQ 24.75 6.390625 31.78125 6.390625 \nQ 38.8125 6.390625 42.859375 10.171875 \nQ 46.921875 13.96875 46.921875 20.515625 \nQ 46.921875 27.09375 42.890625 30.859375 \nQ 38.875 34.625 31.78125 34.625 \nz\nM 21.921875 38.8125 \nQ 15.578125 40.375 12.03125 44.71875 \nQ 8.5 49.078125 8.5 55.328125 \nQ 8.5 64.0625 14.71875 69.140625 \nQ 20.953125 74.21875 31.78125 74.21875 \nQ 42.671875 74.21875 48.875 69.140625 \nQ 55.078125 64.0625 55.078125 55.328125 \nQ 55.078125 49.078125 51.53125 44.71875 \nQ 48 40.375 41.703125 38.8125 \nQ 48.828125 37.15625 52.796875 32.3125 \nQ 56.78125 27.484375 56.78125 20.515625 \nQ 56.78125 9.90625 50.3125 4.234375 \nQ 43.84375 -1.421875 31.78125 -1.421875 \nQ 19.734375 -1.421875 13.25 4.234375 \nQ 6.78125 9.90625 6.78125 20.515625 \nQ 6.78125 27.484375 10.78125 32.3125 \nQ 14.796875 37.15625 21.921875 38.8125 \nz\nM 18.3125 54.390625 \nQ 18.3125 48.734375 21.84375 45.5625 \nQ 25.390625 42.390625 31.78125 42.390625 \nQ 38.140625 42.390625 41.71875 45.5625 \nQ 45.3125 48.734375 45.3125 54.390625 \nQ 45.3125 60.0625 41.71875 63.234375 \nQ 38.140625 66.40625 31.78125 66.40625 \nQ 25.390625 66.40625 21.84375 63.234375 \nQ 18.3125 60.0625 18.3125 54.390625 \nz\n\" id=\"DejaVuSans-56\"/>\n      </defs>\n      <g style=\"fill:#262626;\" transform=\"translate(495.613889 149.232194)scale(0.11 -0.11)\">\n       <use xlink:href=\"#DejaVuSans-56\"/>\n      </g>\n     </g>\n    </g>\n    <g id=\"xtick_5\">\n     <g id=\"line2d_5\">\n      <path clip-path=\"url(#p1214a75d75)\" d=\"M 609.79095 131.373913 \nL 609.79095 13.2 \n\" style=\"fill:none;stroke:#ffffff;stroke-linecap:round;\"/>\n     </g>\n     <g id=\"text_5\">\n      <!-- 10 -->\n      <defs>\n       <path d=\"M 12.40625 8.296875 \nL 28.515625 8.296875 \nL 28.515625 63.921875 \nL 10.984375 60.40625 \nL 10.984375 69.390625 \nL 28.421875 72.90625 \nL 38.28125 72.90625 \nL 38.28125 8.296875 \nL 54.390625 8.296875 \nL 54.390625 0 \nL 12.40625 0 \nz\n\" id=\"DejaVuSans-49\"/>\n       <path d=\"M 31.78125 66.40625 \nQ 24.171875 66.40625 20.328125 58.90625 \nQ 16.5 51.421875 16.5 36.375 \nQ 16.5 21.390625 20.328125 13.890625 \nQ 24.171875 6.390625 31.78125 6.390625 \nQ 39.453125 6.390625 43.28125 13.890625 \nQ 47.125 21.390625 47.125 36.375 \nQ 47.125 51.421875 43.28125 58.90625 \nQ 39.453125 66.40625 31.78125 66.40625 \nz\nM 31.78125 74.21875 \nQ 44.046875 74.21875 50.515625 64.515625 \nQ 56.984375 54.828125 56.984375 36.375 \nQ 56.984375 17.96875 50.515625 8.265625 \nQ 44.046875 -1.421875 31.78125 -1.421875 \nQ 19.53125 -1.421875 13.0625 8.265625 \nQ 6.59375 17.96875 6.59375 36.375 \nQ 6.59375 54.828125 13.0625 64.515625 \nQ 19.53125 74.21875 31.78125 74.21875 \nz\n\" id=\"DejaVuSans-48\"/>\n      </defs>\n      <g style=\"fill:#262626;\" transform=\"translate(602.7922 149.232194)scale(0.11 -0.11)\">\n       <use xlink:href=\"#DejaVuSans-49\"/>\n       <use x=\"63.623047\" xlink:href=\"#DejaVuSans-48\"/>\n      </g>\n     </g>\n    </g>\n    <g id=\"xtick_6\">\n     <g id=\"line2d_6\">\n      <path clip-path=\"url(#p1214a75d75)\" d=\"M 720.468636 131.373913 \nL 720.468636 13.2 \n\" style=\"fill:none;stroke:#ffffff;stroke-linecap:round;\"/>\n     </g>\n     <g id=\"text_6\">\n      <!-- 12 -->\n      <g style=\"fill:#262626;\" transform=\"translate(713.469886 149.232194)scale(0.11 -0.11)\">\n       <use xlink:href=\"#DejaVuSans-49\"/>\n       <use x=\"63.623047\" xlink:href=\"#DejaVuSans-50\"/>\n      </g>\n     </g>\n    </g>\n    <g id=\"text_7\">\n     <!-- Месяц выдачи кредита -->\n     <defs>\n      <path d=\"M 9.8125 72.90625 \nL 24.515625 72.90625 \nL 43.109375 23.296875 \nL 61.8125 72.90625 \nL 76.515625 72.90625 \nL 76.515625 0 \nL 66.890625 0 \nL 66.890625 64.015625 \nL 48.09375 14.015625 \nL 38.1875 14.015625 \nL 19.390625 64.015625 \nL 19.390625 0 \nL 9.8125 0 \nz\n\" id=\"DejaVuSans-1052\"/>\n      <path d=\"M 56.203125 29.59375 \nL 56.203125 25.203125 \nL 14.890625 25.203125 \nQ 15.484375 15.921875 20.484375 11.0625 \nQ 25.484375 6.203125 34.421875 6.203125 \nQ 39.59375 6.203125 44.453125 7.46875 \nQ 49.3125 8.734375 54.109375 11.28125 \nL 54.109375 2.78125 \nQ 49.265625 0.734375 44.1875 -0.34375 \nQ 39.109375 -1.421875 33.890625 -1.421875 \nQ 20.796875 -1.421875 13.15625 6.1875 \nQ 5.515625 13.8125 5.515625 26.8125 \nQ 5.515625 40.234375 12.765625 48.109375 \nQ 20.015625 56 32.328125 56 \nQ 43.359375 56 49.78125 48.890625 \nQ 56.203125 41.796875 56.203125 29.59375 \nz\nM 47.21875 32.234375 \nQ 47.125 39.59375 43.09375 43.984375 \nQ 39.0625 48.390625 32.421875 48.390625 \nQ 24.90625 48.390625 20.390625 44.140625 \nQ 15.875 39.890625 15.1875 32.171875 \nz\n\" id=\"DejaVuSans-1077\"/>\n      <path d=\"M 48.78125 52.59375 \nL 48.78125 44.1875 \nQ 44.96875 46.296875 41.140625 47.34375 \nQ 37.3125 48.390625 33.40625 48.390625 \nQ 24.65625 48.390625 19.8125 42.84375 \nQ 14.984375 37.3125 14.984375 27.296875 \nQ 14.984375 17.28125 19.8125 11.734375 \nQ 24.65625 6.203125 33.40625 6.203125 \nQ 37.3125 6.203125 41.140625 7.25 \nQ 44.96875 8.296875 48.78125 10.40625 \nL 48.78125 2.09375 \nQ 45.015625 0.34375 40.984375 -0.53125 \nQ 36.96875 -1.421875 32.421875 -1.421875 \nQ 20.0625 -1.421875 12.78125 6.34375 \nQ 5.515625 14.109375 5.515625 27.296875 \nQ 5.515625 40.671875 12.859375 48.328125 \nQ 20.21875 56 33.015625 56 \nQ 37.15625 56 41.109375 55.140625 \nQ 45.0625 54.296875 48.78125 52.59375 \nz\n\" id=\"DejaVuSans-1089\"/>\n      <path d=\"M 18.453125 38.921875 \nQ 18.453125 34.859375 21.578125 32.5625 \nQ 24.703125 30.28125 30.515625 30.28125 \nL 42.625 30.28125 \nL 42.625 47.515625 \nL 30.515625 47.515625 \nQ 24.703125 47.515625 21.578125 45.265625 \nQ 18.453125 43.015625 18.453125 38.921875 \nz\nM 5.671875 0 \nL 22.359375 23.96875 \nQ 16.703125 25.25 12.9375 28.59375 \nQ 9.1875 31.9375 9.1875 38.921875 \nQ 9.1875 46.828125 14.421875 50.75 \nQ 19.671875 54.6875 30.28125 54.6875 \nL 51.65625 54.6875 \nL 51.65625 0 \nL 42.625 0 \nL 42.625 23.09375 \nL 31.453125 23.09375 \nL 15.328125 0 \nz\n\" id=\"DejaVuSans-1103\"/>\n      <path d=\"M 56.296875 0 \nL 9.078125 0 \nL 9.078125 54.6875 \nL 18.109375 54.6875 \nL 18.109375 7.171875 \nL 47.265625 7.171875 \nL 47.265625 54.6875 \nL 56.296875 54.6875 \nL 56.296875 7.171875 \nL 63.484375 7.171875 \nL 63.484375 -13.8125 \nL 56.296875 -13.8125 \nz\n\" id=\"DejaVuSans-1094\"/>\n      <path id=\"DejaVuSans-32\"/>\n      <path d=\"M 18.0625 25.203125 \nL 18.0625 7.171875 \nL 30.859375 7.171875 \nQ 37.015625 7.171875 40.234375 9.484375 \nQ 43.453125 11.8125 43.453125 16.21875 \nQ 43.453125 20.609375 40.234375 22.90625 \nQ 37.015625 25.203125 30.859375 25.203125 \nz\nM 18.0625 47.515625 \nL 18.0625 32.375 \nL 29.890625 32.375 \nQ 34.96875 32.375 38.1875 34.390625 \nQ 41.40625 36.421875 41.40625 40.046875 \nQ 41.40625 43.65625 38.1875 45.578125 \nQ 34.96875 47.515625 29.890625 47.515625 \nz\nM 9.078125 54.6875 \nL 30.46875 54.6875 \nQ 40.09375 54.6875 45.265625 51.171875 \nQ 50.4375 47.65625 50.4375 41.15625 \nQ 50.4375 36.140625 47.796875 33.171875 \nQ 45.171875 30.21875 39.984375 29.5 \nQ 46.1875 28.328125 49.609375 24.609375 \nQ 53.03125 20.90625 53.03125 15.328125 \nQ 53.03125 8.015625 47.390625 4 \nQ 41.75 0 31.296875 0 \nL 9.078125 0 \nz\n\" id=\"DejaVuSans-1074\"/>\n      <path d=\"M 61.046875 54.6875 \nL 70.03125 54.6875 \nL 70.03125 0 \nL 61.046875 0 \nz\nM 65.546875 56 \nz\nM 43.453125 16.21875 \nQ 43.453125 20.609375 40.25 22.90625 \nQ 37.0625 25.203125 30.90625 25.203125 \nL 18.109375 25.203125 \nL 18.109375 7.171875 \nL 30.90625 7.171875 \nQ 37.0625 7.171875 40.25 9.484375 \nQ 43.453125 11.8125 43.453125 16.21875 \nz\nM 9.078125 54.6875 \nL 18.109375 54.6875 \nL 18.109375 32.375 \nL 31.296875 32.375 \nQ 41.75 32.375 47.390625 28.390625 \nQ 53.03125 24.421875 53.03125 16.21875 \nQ 53.03125 8.015625 47.390625 4 \nQ 41.75 0 31.296875 0 \nL 9.078125 0 \nz\n\" id=\"DejaVuSans-1099\"/>\n      <path d=\"M 21.625 7.171875 \nL 47.703125 7.171875 \nL 47.703125 47.515625 \nL 28.8125 47.515625 \nL 28.8125 40.671875 \nQ 28.8125 20.5625 23.046875 9.8125 \nz\nM 8.59375 7.171875 \nQ 13.03125 9.125 14.984375 13.28125 \nQ 19.78125 23.578125 19.78125 44.34375 \nL 19.78125 54.6875 \nL 56.734375 54.6875 \nL 56.734375 7.171875 \nL 63.921875 7.171875 \nL 63.921875 -13.8125 \nL 56.734375 -13.8125 \nL 56.734375 0 \nL 12.40625 0 \nL 12.40625 -13.8125 \nL 5.21875 -13.8125 \nL 5.21875 7.171875 \nz\n\" id=\"DejaVuSans-1076\"/>\n      <path d=\"M 34.28125 27.484375 \nQ 23.390625 27.484375 19.1875 25 \nQ 14.984375 22.515625 14.984375 16.5 \nQ 14.984375 11.71875 18.140625 8.90625 \nQ 21.296875 6.109375 26.703125 6.109375 \nQ 34.1875 6.109375 38.703125 11.40625 \nQ 43.21875 16.703125 43.21875 25.484375 \nL 43.21875 27.484375 \nz\nM 52.203125 31.203125 \nL 52.203125 0 \nL 43.21875 0 \nL 43.21875 8.296875 \nQ 40.140625 3.328125 35.546875 0.953125 \nQ 30.953125 -1.421875 24.3125 -1.421875 \nQ 15.921875 -1.421875 10.953125 3.296875 \nQ 6 8.015625 6 15.921875 \nQ 6 25.140625 12.171875 29.828125 \nQ 18.359375 34.515625 30.609375 34.515625 \nL 43.21875 34.515625 \nL 43.21875 35.40625 \nQ 43.21875 41.609375 39.140625 45 \nQ 35.0625 48.390625 27.6875 48.390625 \nQ 23 48.390625 18.546875 47.265625 \nQ 14.109375 46.140625 10.015625 43.890625 \nL 10.015625 52.203125 \nQ 14.9375 54.109375 19.578125 55.046875 \nQ 24.21875 56 28.609375 56 \nQ 40.484375 56 46.34375 49.84375 \nQ 52.203125 43.703125 52.203125 31.203125 \nz\n\" id=\"DejaVuSans-1072\"/>\n      <path d=\"M 41.015625 0 \nL 41.015625 23 \nL 24.265625 23 \nQ 16.796875 23 11.8125 27.640625 \nQ 7.328125 31.84375 7.328125 40.828125 \nL 7.328125 54.6875 \nL 16.3125 54.6875 \nL 16.3125 41.65625 \nQ 16.3125 35.9375 18.84375 33.0625 \nQ 21.4375 30.171875 26.515625 30.171875 \nL 41.015625 30.171875 \nL 41.015625 54.6875 \nL 50 54.6875 \nL 50 0 \nz\n\" id=\"DejaVuSans-1095\"/>\n      <path d=\"M 55.90625 54.6875 \nL 55.90625 0 \nL 46.96875 0 \nL 46.96875 43.890625 \nL 20.609375 0 \nL 9.078125 0 \nL 9.078125 54.6875 \nL 18.015625 54.6875 \nL 18.015625 10.890625 \nL 44.34375 54.6875 \nz\n\" id=\"DejaVuSans-1080\"/>\n      <path d=\"M 9.078125 54.6875 \nL 18.015625 54.6875 \nL 18.015625 29 \nL 43.359375 54.6875 \nL 54.390625 54.6875 \nL 33.5 33.546875 \nL 57.078125 0 \nL 47.015625 0 \nL 27.640625 27.59375 \nL 18.015625 17.828125 \nL 18.015625 0 \nL 9.078125 0 \nz\n\" id=\"DejaVuSans-1082\"/>\n      <path d=\"M 18.109375 8.203125 \nL 18.109375 -20.796875 \nL 9.078125 -20.796875 \nL 9.078125 54.6875 \nL 18.109375 54.6875 \nL 18.109375 46.390625 \nQ 20.953125 51.265625 25.265625 53.625 \nQ 29.59375 56 35.59375 56 \nQ 45.5625 56 51.78125 48.09375 \nQ 58.015625 40.1875 58.015625 27.296875 \nQ 58.015625 14.40625 51.78125 6.484375 \nQ 45.5625 -1.421875 35.59375 -1.421875 \nQ 29.59375 -1.421875 25.265625 0.953125 \nQ 20.953125 3.328125 18.109375 8.203125 \nz\nM 48.6875 27.296875 \nQ 48.6875 37.203125 44.609375 42.84375 \nQ 40.53125 48.484375 33.40625 48.484375 \nQ 26.265625 48.484375 22.1875 42.84375 \nQ 18.109375 37.203125 18.109375 27.296875 \nQ 18.109375 17.390625 22.1875 11.75 \nQ 26.265625 6.109375 33.40625 6.109375 \nQ 40.53125 6.109375 44.609375 11.75 \nQ 48.6875 17.390625 48.6875 27.296875 \nz\n\" id=\"DejaVuSans-1088\"/>\n      <path d=\"M 2.9375 54.6875 \nL 55.328125 54.6875 \nL 55.328125 47.515625 \nL 33.546875 47.515625 \nL 33.546875 0 \nL 24.703125 0 \nL 24.703125 47.515625 \nL 2.9375 47.515625 \nz\n\" id=\"DejaVuSans-1090\"/>\n     </defs>\n     <g style=\"fill:#262626;\" transform=\"translate(342.543125 164.637976)scale(0.12 -0.12)\">\n      <use xlink:href=\"#DejaVuSans-1052\"/>\n      <use x=\"86.279297\" xlink:href=\"#DejaVuSans-1077\"/>\n      <use x=\"147.802734\" xlink:href=\"#DejaVuSans-1089\"/>\n      <use x=\"202.783203\" xlink:href=\"#DejaVuSans-1103\"/>\n      <use x=\"262.939453\" xlink:href=\"#DejaVuSans-1094\"/>\n      <use x=\"331.005859\" xlink:href=\"#DejaVuSans-32\"/>\n      <use x=\"362.792969\" xlink:href=\"#DejaVuSans-1074\"/>\n      <use x=\"421.728516\" xlink:href=\"#DejaVuSans-1099\"/>\n      <use x=\"500.683594\" xlink:href=\"#DejaVuSans-1076\"/>\n      <use x=\"569.824219\" xlink:href=\"#DejaVuSans-1072\"/>\n      <use x=\"631.103516\" xlink:href=\"#DejaVuSans-1095\"/>\n      <use x=\"690.185547\" xlink:href=\"#DejaVuSans-1080\"/>\n      <use x=\"755.175781\" xlink:href=\"#DejaVuSans-32\"/>\n      <use x=\"786.962891\" xlink:href=\"#DejaVuSans-1082\"/>\n      <use x=\"847.363281\" xlink:href=\"#DejaVuSans-1088\"/>\n      <use x=\"910.839844\" xlink:href=\"#DejaVuSans-1077\"/>\n      <use x=\"972.363281\" xlink:href=\"#DejaVuSans-1076\"/>\n      <use x=\"1041.503906\" xlink:href=\"#DejaVuSans-1080\"/>\n      <use x=\"1106.494141\" xlink:href=\"#DejaVuSans-1090\"/>\n      <use x=\"1164.746094\" xlink:href=\"#DejaVuSans-1072\"/>\n     </g>\n    </g>\n   </g>\n   <g id=\"matplotlib.axis_2\">\n    <g id=\"ytick_1\">\n     <g id=\"line2d_7\">\n      <path clip-path=\"url(#p1214a75d75)\" d=\"M 81.305 126.916072 \nL 750.905 126.916072 \n\" style=\"fill:none;stroke:#ffffff;stroke-linecap:round;\"/>\n     </g>\n     <g id=\"text_8\">\n      <!-- 3000000 -->\n      <defs>\n       <path d=\"M 40.578125 39.3125 \nQ 47.65625 37.796875 51.625 33 \nQ 55.609375 28.21875 55.609375 21.1875 \nQ 55.609375 10.40625 48.1875 4.484375 \nQ 40.765625 -1.421875 27.09375 -1.421875 \nQ 22.515625 -1.421875 17.65625 -0.515625 \nQ 12.796875 0.390625 7.625 2.203125 \nL 7.625 11.71875 \nQ 11.71875 9.328125 16.59375 8.109375 \nQ 21.484375 6.890625 26.8125 6.890625 \nQ 36.078125 6.890625 40.9375 10.546875 \nQ 45.796875 14.203125 45.796875 21.1875 \nQ 45.796875 27.640625 41.28125 31.265625 \nQ 36.765625 34.90625 28.71875 34.90625 \nL 20.21875 34.90625 \nL 20.21875 43.015625 \nL 29.109375 43.015625 \nQ 36.375 43.015625 40.234375 45.921875 \nQ 44.09375 48.828125 44.09375 54.296875 \nQ 44.09375 59.90625 40.109375 62.90625 \nQ 36.140625 65.921875 28.71875 65.921875 \nQ 24.65625 65.921875 20.015625 65.03125 \nQ 15.375 64.15625 9.8125 62.3125 \nL 9.8125 71.09375 \nQ 15.4375 72.65625 20.34375 73.4375 \nQ 25.25 74.21875 29.59375 74.21875 \nQ 40.828125 74.21875 47.359375 69.109375 \nQ 53.90625 64.015625 53.90625 55.328125 \nQ 53.90625 49.265625 50.4375 45.09375 \nQ 46.96875 40.921875 40.578125 39.3125 \nz\n\" id=\"DejaVuSans-51\"/>\n      </defs>\n      <g style=\"fill:#262626;\" transform=\"translate(22.81375 131.095212)scale(0.11 -0.11)\">\n       <use xlink:href=\"#DejaVuSans-51\"/>\n       <use x=\"63.623047\" xlink:href=\"#DejaVuSans-48\"/>\n       <use x=\"127.246094\" xlink:href=\"#DejaVuSans-48\"/>\n       <use x=\"190.869141\" xlink:href=\"#DejaVuSans-48\"/>\n       <use x=\"254.492188\" xlink:href=\"#DejaVuSans-48\"/>\n       <use x=\"318.115234\" xlink:href=\"#DejaVuSans-48\"/>\n       <use x=\"381.738281\" xlink:href=\"#DejaVuSans-48\"/>\n      </g>\n     </g>\n    </g>\n    <g id=\"ytick_2\">\n     <g id=\"line2d_8\">\n      <path clip-path=\"url(#p1214a75d75)\" d=\"M 81.305 86.307177 \nL 750.905 86.307177 \n\" style=\"fill:none;stroke:#ffffff;stroke-linecap:round;\"/>\n     </g>\n     <g id=\"text_9\">\n      <!-- 4000000 -->\n      <g style=\"fill:#262626;\" transform=\"translate(22.81375 90.486318)scale(0.11 -0.11)\">\n       <use xlink:href=\"#DejaVuSans-52\"/>\n       <use x=\"63.623047\" xlink:href=\"#DejaVuSans-48\"/>\n       <use x=\"127.246094\" xlink:href=\"#DejaVuSans-48\"/>\n       <use x=\"190.869141\" xlink:href=\"#DejaVuSans-48\"/>\n       <use x=\"254.492188\" xlink:href=\"#DejaVuSans-48\"/>\n       <use x=\"318.115234\" xlink:href=\"#DejaVuSans-48\"/>\n       <use x=\"381.738281\" xlink:href=\"#DejaVuSans-48\"/>\n      </g>\n     </g>\n    </g>\n    <g id=\"ytick_3\">\n     <g id=\"line2d_9\">\n      <path clip-path=\"url(#p1214a75d75)\" d=\"M 81.305 45.698283 \nL 750.905 45.698283 \n\" style=\"fill:none;stroke:#ffffff;stroke-linecap:round;\"/>\n     </g>\n     <g id=\"text_10\">\n      <!-- 5000000 -->\n      <defs>\n       <path d=\"M 10.796875 72.90625 \nL 49.515625 72.90625 \nL 49.515625 64.59375 \nL 19.828125 64.59375 \nL 19.828125 46.734375 \nQ 21.96875 47.46875 24.109375 47.828125 \nQ 26.265625 48.1875 28.421875 48.1875 \nQ 40.625 48.1875 47.75 41.5 \nQ 54.890625 34.8125 54.890625 23.390625 \nQ 54.890625 11.625 47.5625 5.09375 \nQ 40.234375 -1.421875 26.90625 -1.421875 \nQ 22.3125 -1.421875 17.546875 -0.640625 \nQ 12.796875 0.140625 7.71875 1.703125 \nL 7.71875 11.625 \nQ 12.109375 9.234375 16.796875 8.0625 \nQ 21.484375 6.890625 26.703125 6.890625 \nQ 35.15625 6.890625 40.078125 11.328125 \nQ 45.015625 15.765625 45.015625 23.390625 \nQ 45.015625 31 40.078125 35.4375 \nQ 35.15625 39.890625 26.703125 39.890625 \nQ 22.75 39.890625 18.8125 39.015625 \nQ 14.890625 38.140625 10.796875 36.28125 \nz\n\" id=\"DejaVuSans-53\"/>\n      </defs>\n      <g style=\"fill:#262626;\" transform=\"translate(22.81375 49.877424)scale(0.11 -0.11)\">\n       <use xlink:href=\"#DejaVuSans-53\"/>\n       <use x=\"63.623047\" xlink:href=\"#DejaVuSans-48\"/>\n       <use x=\"127.246094\" xlink:href=\"#DejaVuSans-48\"/>\n       <use x=\"190.869141\" xlink:href=\"#DejaVuSans-48\"/>\n       <use x=\"254.492188\" xlink:href=\"#DejaVuSans-48\"/>\n       <use x=\"318.115234\" xlink:href=\"#DejaVuSans-48\"/>\n       <use x=\"381.738281\" xlink:href=\"#DejaVuSans-48\"/>\n      </g>\n     </g>\n    </g>\n    <g id=\"text_11\">\n     <!-- Сумма выданных -->\n     <defs>\n      <path d=\"M 64.40625 67.28125 \nL 64.40625 56.890625 \nQ 59.421875 61.53125 53.78125 63.8125 \nQ 48.140625 66.109375 41.796875 66.109375 \nQ 29.296875 66.109375 22.65625 58.46875 \nQ 16.015625 50.828125 16.015625 36.375 \nQ 16.015625 21.96875 22.65625 14.328125 \nQ 29.296875 6.6875 41.796875 6.6875 \nQ 48.140625 6.6875 53.78125 8.984375 \nQ 59.421875 11.28125 64.40625 15.921875 \nL 64.40625 5.609375 \nQ 59.234375 2.09375 53.4375 0.328125 \nQ 47.65625 -1.421875 41.21875 -1.421875 \nQ 24.65625 -1.421875 15.125 8.703125 \nQ 5.609375 18.84375 5.609375 36.375 \nQ 5.609375 53.953125 15.125 64.078125 \nQ 24.65625 74.21875 41.21875 74.21875 \nQ 47.75 74.21875 53.53125 72.484375 \nQ 59.328125 70.75 64.40625 67.28125 \nz\n\" id=\"DejaVuSans-1057\"/>\n      <path d=\"M 32.171875 -5.078125 \nQ 28.375 -14.84375 24.75 -17.8125 \nQ 21.140625 -20.796875 15.09375 -20.796875 \nL 7.90625 -20.796875 \nL 7.90625 -13.28125 \nL 13.1875 -13.28125 \nQ 16.890625 -13.28125 18.9375 -11.515625 \nQ 21 -9.765625 23.484375 -3.21875 \nL 25.09375 0.875 \nL 2.984375 54.6875 \nL 12.5 54.6875 \nL 29.59375 11.921875 \nL 46.6875 54.6875 \nL 56.203125 54.6875 \nz\n\" id=\"DejaVuSans-1091\"/>\n      <path d=\"M 9.078125 54.6875 \nL 22.21875 54.6875 \nL 37.75 18.0625 \nL 53.328125 54.6875 \nL 66.359375 54.6875 \nL 66.359375 0 \nL 57.328125 0 \nL 57.328125 46.09375 \nL 42.234375 10.5 \nL 33.25 10.5 \nL 18.109375 46.09375 \nL 18.109375 0 \nL 9.078125 0 \nz\n\" id=\"DejaVuSans-1084\"/>\n      <path d=\"M 9.078125 54.6875 \nL 18.109375 54.6875 \nL 18.109375 32.375 \nL 47.265625 32.375 \nL 47.265625 54.6875 \nL 56.296875 54.6875 \nL 56.296875 0 \nL 47.265625 0 \nL 47.265625 25.203125 \nL 18.109375 25.203125 \nL 18.109375 0 \nL 9.078125 0 \nz\n\" id=\"DejaVuSans-1085\"/>\n      <path d=\"M 54.890625 54.6875 \nL 35.109375 28.078125 \nL 55.90625 0 \nL 45.3125 0 \nL 29.390625 21.484375 \nL 13.484375 0 \nL 2.875 0 \nL 24.125 28.609375 \nL 4.6875 54.6875 \nL 15.28125 54.6875 \nL 29.78125 35.203125 \nL 44.28125 54.6875 \nz\n\" id=\"DejaVuSans-1093\"/>\n     </defs>\n     <g style=\"fill:#262626;\" transform=\"translate(16.318125 126.896332)rotate(-90)scale(0.12 -0.12)\">\n      <use xlink:href=\"#DejaVuSans-1057\"/>\n      <use x=\"69.824219\" xlink:href=\"#DejaVuSans-1091\"/>\n      <use x=\"129.003906\" xlink:href=\"#DejaVuSans-1084\"/>\n      <use x=\"204.443359\" xlink:href=\"#DejaVuSans-1084\"/>\n      <use x=\"279.882812\" xlink:href=\"#DejaVuSans-1072\"/>\n      <use x=\"341.162109\" xlink:href=\"#DejaVuSans-32\"/>\n      <use x=\"372.949219\" xlink:href=\"#DejaVuSans-1074\"/>\n      <use x=\"431.884766\" xlink:href=\"#DejaVuSans-1099\"/>\n      <use x=\"510.839844\" xlink:href=\"#DejaVuSans-1076\"/>\n      <use x=\"579.980469\" xlink:href=\"#DejaVuSans-1072\"/>\n      <use x=\"641.259766\" xlink:href=\"#DejaVuSans-1085\"/>\n      <use x=\"706.640625\" xlink:href=\"#DejaVuSans-1085\"/>\n      <use x=\"772.021484\" xlink:href=\"#DejaVuSans-1099\"/>\n      <use x=\"850.976562\" xlink:href=\"#DejaVuSans-1093\"/>\n     </g>\n    </g>\n   </g>\n   <g id=\"line2d_10\">\n    <path clip-path=\"url(#p1214a75d75)\" d=\"M 111.741364 100.88577 \nL 167.080207 79.60671 \nL 222.41905 66.246383 \nL 277.757893 93.616778 \nL 333.096736 126.002372 \nL 388.435579 95.58631 \nL 443.774421 79.687928 \nL 499.113264 83.099075 \nL 554.452107 103.647175 \nL 609.79095 59.586525 \nL 665.129793 18.571542 \nL 720.468636 30.75421 \n\" style=\"fill:none;stroke:#f77189;stroke-linecap:round;stroke-width:1.5;\"/>\n   </g>\n   <g id=\"patch_3\">\n    <path d=\"M 81.305 131.373913 \nL 81.305 13.2 \n\" style=\"fill:none;stroke:#ffffff;stroke-linecap:square;stroke-linejoin:miter;stroke-width:1.25;\"/>\n   </g>\n   <g id=\"patch_4\">\n    <path d=\"M 750.905 131.373913 \nL 750.905 13.2 \n\" style=\"fill:none;stroke:#ffffff;stroke-linecap:square;stroke-linejoin:miter;stroke-width:1.25;\"/>\n   </g>\n   <g id=\"patch_5\">\n    <path d=\"M 81.305 131.373913 \nL 750.905 131.373913 \n\" style=\"fill:none;stroke:#ffffff;stroke-linecap:square;stroke-linejoin:miter;stroke-width:1.25;\"/>\n   </g>\n   <g id=\"patch_6\">\n    <path d=\"M 81.305 13.2 \nL 750.905 13.2 \n\" style=\"fill:none;stroke:#ffffff;stroke-linecap:square;stroke-linejoin:miter;stroke-width:1.25;\"/>\n   </g>\n  </g>\n  <g id=\"axes_2\">\n   <g id=\"patch_7\">\n    <path d=\"M 81.305 273.182609 \nL 750.905 273.182609 \nL 750.905 155.008696 \nL 81.305 155.008696 \nz\n\" style=\"fill:#eaeaf2;\"/>\n   </g>\n   <g id=\"matplotlib.axis_3\">\n    <g id=\"xtick_7\">\n     <g id=\"line2d_11\">\n      <path clip-path=\"url(#p322c7e9a2a)\" d=\"M 167.080207 273.182609 \nL 167.080207 155.008696 \n\" style=\"fill:none;stroke:#ffffff;stroke-linecap:round;\"/>\n     </g>\n     <g id=\"text_12\">\n      <!-- 2 -->\n      <g style=\"fill:#262626;\" transform=\"translate(163.580832 291.04089)scale(0.11 -0.11)\">\n       <use xlink:href=\"#DejaVuSans-50\"/>\n      </g>\n     </g>\n    </g>\n    <g id=\"xtick_8\">\n     <g id=\"line2d_12\">\n      <path clip-path=\"url(#p322c7e9a2a)\" d=\"M 277.757893 273.182609 \nL 277.757893 155.008696 \n\" style=\"fill:none;stroke:#ffffff;stroke-linecap:round;\"/>\n     </g>\n     <g id=\"text_13\">\n      <!-- 4 -->\n      <g style=\"fill:#262626;\" transform=\"translate(274.258518 291.04089)scale(0.11 -0.11)\">\n       <use xlink:href=\"#DejaVuSans-52\"/>\n      </g>\n     </g>\n    </g>\n    <g id=\"xtick_9\">\n     <g id=\"line2d_13\">\n      <path clip-path=\"url(#p322c7e9a2a)\" d=\"M 388.435579 273.182609 \nL 388.435579 155.008696 \n\" style=\"fill:none;stroke:#ffffff;stroke-linecap:round;\"/>\n     </g>\n     <g id=\"text_14\">\n      <!-- 6 -->\n      <g style=\"fill:#262626;\" transform=\"translate(384.936204 291.04089)scale(0.11 -0.11)\">\n       <use xlink:href=\"#DejaVuSans-54\"/>\n      </g>\n     </g>\n    </g>\n    <g id=\"xtick_10\">\n     <g id=\"line2d_14\">\n      <path clip-path=\"url(#p322c7e9a2a)\" d=\"M 499.113264 273.182609 \nL 499.113264 155.008696 \n\" style=\"fill:none;stroke:#ffffff;stroke-linecap:round;\"/>\n     </g>\n     <g id=\"text_15\">\n      <!-- 8 -->\n      <g style=\"fill:#262626;\" transform=\"translate(495.613889 291.04089)scale(0.11 -0.11)\">\n       <use xlink:href=\"#DejaVuSans-56\"/>\n      </g>\n     </g>\n    </g>\n    <g id=\"xtick_11\">\n     <g id=\"line2d_15\">\n      <path clip-path=\"url(#p322c7e9a2a)\" d=\"M 609.79095 273.182609 \nL 609.79095 155.008696 \n\" style=\"fill:none;stroke:#ffffff;stroke-linecap:round;\"/>\n     </g>\n     <g id=\"text_16\">\n      <!-- 10 -->\n      <g style=\"fill:#262626;\" transform=\"translate(602.7922 291.04089)scale(0.11 -0.11)\">\n       <use xlink:href=\"#DejaVuSans-49\"/>\n       <use x=\"63.623047\" xlink:href=\"#DejaVuSans-48\"/>\n      </g>\n     </g>\n    </g>\n    <g id=\"xtick_12\">\n     <g id=\"line2d_16\">\n      <path clip-path=\"url(#p322c7e9a2a)\" d=\"M 720.468636 273.182609 \nL 720.468636 155.008696 \n\" style=\"fill:none;stroke:#ffffff;stroke-linecap:round;\"/>\n     </g>\n     <g id=\"text_17\">\n      <!-- 12 -->\n      <g style=\"fill:#262626;\" transform=\"translate(713.469886 291.04089)scale(0.11 -0.11)\">\n       <use xlink:href=\"#DejaVuSans-49\"/>\n       <use x=\"63.623047\" xlink:href=\"#DejaVuSans-50\"/>\n      </g>\n     </g>\n    </g>\n    <g id=\"text_18\">\n     <!-- Месяц выдачи кредита -->\n     <g style=\"fill:#262626;\" transform=\"translate(342.543125 306.446671)scale(0.12 -0.12)\">\n      <use xlink:href=\"#DejaVuSans-1052\"/>\n      <use x=\"86.279297\" xlink:href=\"#DejaVuSans-1077\"/>\n      <use x=\"147.802734\" xlink:href=\"#DejaVuSans-1089\"/>\n      <use x=\"202.783203\" xlink:href=\"#DejaVuSans-1103\"/>\n      <use x=\"262.939453\" xlink:href=\"#DejaVuSans-1094\"/>\n      <use x=\"331.005859\" xlink:href=\"#DejaVuSans-32\"/>\n      <use x=\"362.792969\" xlink:href=\"#DejaVuSans-1074\"/>\n      <use x=\"421.728516\" xlink:href=\"#DejaVuSans-1099\"/>\n      <use x=\"500.683594\" xlink:href=\"#DejaVuSans-1076\"/>\n      <use x=\"569.824219\" xlink:href=\"#DejaVuSans-1072\"/>\n      <use x=\"631.103516\" xlink:href=\"#DejaVuSans-1095\"/>\n      <use x=\"690.185547\" xlink:href=\"#DejaVuSans-1080\"/>\n      <use x=\"755.175781\" xlink:href=\"#DejaVuSans-32\"/>\n      <use x=\"786.962891\" xlink:href=\"#DejaVuSans-1082\"/>\n      <use x=\"847.363281\" xlink:href=\"#DejaVuSans-1088\"/>\n      <use x=\"910.839844\" xlink:href=\"#DejaVuSans-1077\"/>\n      <use x=\"972.363281\" xlink:href=\"#DejaVuSans-1076\"/>\n      <use x=\"1041.503906\" xlink:href=\"#DejaVuSans-1080\"/>\n      <use x=\"1106.494141\" xlink:href=\"#DejaVuSans-1090\"/>\n      <use x=\"1164.746094\" xlink:href=\"#DejaVuSans-1072\"/>\n     </g>\n    </g>\n   </g>\n   <g id=\"matplotlib.axis_4\">\n    <g id=\"ytick_4\">\n     <g id=\"line2d_17\">\n      <path clip-path=\"url(#p322c7e9a2a)\" d=\"M 81.305 260.402044 \nL 750.905 260.402044 \n\" style=\"fill:none;stroke:#ffffff;stroke-linecap:round;\"/>\n     </g>\n     <g id=\"text_19\">\n      <!-- 120 -->\n      <g style=\"fill:#262626;\" transform=\"translate(50.80875 264.581185)scale(0.11 -0.11)\">\n       <use xlink:href=\"#DejaVuSans-49\"/>\n       <use x=\"63.623047\" xlink:href=\"#DejaVuSans-50\"/>\n       <use x=\"127.246094\" xlink:href=\"#DejaVuSans-48\"/>\n      </g>\n     </g>\n    </g>\n    <g id=\"ytick_5\">\n     <g id=\"line2d_18\">\n      <path clip-path=\"url(#p322c7e9a2a)\" d=\"M 81.305 223.356931 \nL 750.905 223.356931 \n\" style=\"fill:none;stroke:#ffffff;stroke-linecap:round;\"/>\n     </g>\n     <g id=\"text_20\">\n      <!-- 140 -->\n      <g style=\"fill:#262626;\" transform=\"translate(50.80875 227.536071)scale(0.11 -0.11)\">\n       <use xlink:href=\"#DejaVuSans-49\"/>\n       <use x=\"63.623047\" xlink:href=\"#DejaVuSans-52\"/>\n       <use x=\"127.246094\" xlink:href=\"#DejaVuSans-48\"/>\n      </g>\n     </g>\n    </g>\n    <g id=\"ytick_6\">\n     <g id=\"line2d_19\">\n      <path clip-path=\"url(#p322c7e9a2a)\" d=\"M 81.305 186.311817 \nL 750.905 186.311817 \n\" style=\"fill:none;stroke:#ffffff;stroke-linecap:round;\"/>\n     </g>\n     <g id=\"text_21\">\n      <!-- 160 -->\n      <g style=\"fill:#262626;\" transform=\"translate(50.80875 190.490957)scale(0.11 -0.11)\">\n       <use xlink:href=\"#DejaVuSans-49\"/>\n       <use x=\"63.623047\" xlink:href=\"#DejaVuSans-54\"/>\n       <use x=\"127.246094\" xlink:href=\"#DejaVuSans-48\"/>\n      </g>\n     </g>\n    </g>\n    <g id=\"text_22\">\n     <!-- Количество кредитов -->\n     <defs>\n      <path d=\"M 9.8125 72.90625 \nL 19.671875 72.90625 \nL 19.671875 36.859375 \nL 54.9375 72.90625 \nL 67.578125 72.90625 \nL 39.40625 44.09375 \nL 69.046875 0 \nL 58.296875 0 \nL 33.015625 37.546875 \nL 19.671875 23.921875 \nL 19.671875 0 \nL 9.8125 0 \nz\n\" id=\"DejaVuSans-1050\"/>\n      <path d=\"M 30.609375 48.390625 \nQ 23.390625 48.390625 19.1875 42.75 \nQ 14.984375 37.109375 14.984375 27.296875 \nQ 14.984375 17.484375 19.15625 11.84375 \nQ 23.34375 6.203125 30.609375 6.203125 \nQ 37.796875 6.203125 41.984375 11.859375 \nQ 46.1875 17.53125 46.1875 27.296875 \nQ 46.1875 37.015625 41.984375 42.703125 \nQ 37.796875 48.390625 30.609375 48.390625 \nz\nM 30.609375 56 \nQ 42.328125 56 49.015625 48.375 \nQ 55.71875 40.765625 55.71875 27.296875 \nQ 55.71875 13.875 49.015625 6.21875 \nQ 42.328125 -1.421875 30.609375 -1.421875 \nQ 18.84375 -1.421875 12.171875 6.21875 \nQ 5.515625 13.875 5.515625 27.296875 \nQ 5.515625 40.765625 12.171875 48.375 \nQ 18.84375 56 30.609375 56 \nz\n\" id=\"DejaVuSans-1086\"/>\n      <path d=\"M 3.71875 0 \nL 3.71875 7.46875 \nQ 12.59375 8.84375 15.328125 14.984375 \nQ 18.65625 23.640625 18.65625 45.75 \nL 18.65625 54.6875 \nL 55.609375 54.6875 \nL 55.609375 0 \nL 46.625 0 \nL 46.625 47.515625 \nL 27.640625 47.515625 \nL 27.640625 42.09375 \nQ 27.640625 21 23.34375 11.53125 \nQ 18.75 1.421875 3.71875 0 \nz\n\" id=\"DejaVuSans-1083\"/>\n     </defs>\n     <g style=\"fill:#262626;\" transform=\"translate(44.313125 282.78159)rotate(-90)scale(0.12 -0.12)\">\n      <use xlink:href=\"#DejaVuSans-1050\"/>\n      <use x=\"70.996094\" xlink:href=\"#DejaVuSans-1086\"/>\n      <use x=\"132.177734\" xlink:href=\"#DejaVuSans-1083\"/>\n      <use x=\"196.09375\" xlink:href=\"#DejaVuSans-1080\"/>\n      <use x=\"261.083984\" xlink:href=\"#DejaVuSans-1095\"/>\n      <use x=\"320.166016\" xlink:href=\"#DejaVuSans-1077\"/>\n      <use x=\"381.689453\" xlink:href=\"#DejaVuSans-1089\"/>\n      <use x=\"436.669922\" xlink:href=\"#DejaVuSans-1090\"/>\n      <use x=\"494.921875\" xlink:href=\"#DejaVuSans-1074\"/>\n      <use x=\"553.857422\" xlink:href=\"#DejaVuSans-1086\"/>\n      <use x=\"615.039062\" xlink:href=\"#DejaVuSans-32\"/>\n      <use x=\"646.826172\" xlink:href=\"#DejaVuSans-1082\"/>\n      <use x=\"707.226562\" xlink:href=\"#DejaVuSans-1088\"/>\n      <use x=\"770.703125\" xlink:href=\"#DejaVuSans-1077\"/>\n      <use x=\"832.226562\" xlink:href=\"#DejaVuSans-1076\"/>\n      <use x=\"901.367188\" xlink:href=\"#DejaVuSans-1080\"/>\n      <use x=\"966.357422\" xlink:href=\"#DejaVuSans-1090\"/>\n      <use x=\"1024.609375\" xlink:href=\"#DejaVuSans-1086\"/>\n      <use x=\"1085.791016\" xlink:href=\"#DejaVuSans-1074\"/>\n     </g>\n    </g>\n   </g>\n   <g id=\"line2d_20\">\n    <path clip-path=\"url(#p322c7e9a2a)\" d=\"M 111.741364 225.209186 \nL 167.080207 227.061442 \nL 222.41905 190.016328 \nL 277.757893 240.027232 \nL 333.096736 267.811067 \nL 388.435579 256.697533 \nL 443.774421 214.095652 \nL 499.113264 219.652419 \nL 554.452107 230.765953 \nL 609.79095 186.311817 \nL 665.129793 160.380237 \nL 720.468636 182.607305 \n\" style=\"fill:none;stroke:#f77189;stroke-linecap:round;stroke-width:1.5;\"/>\n   </g>\n   <g id=\"patch_8\">\n    <path d=\"M 81.305 273.182609 \nL 81.305 155.008696 \n\" style=\"fill:none;stroke:#ffffff;stroke-linecap:square;stroke-linejoin:miter;stroke-width:1.25;\"/>\n   </g>\n   <g id=\"patch_9\">\n    <path d=\"M 750.905 273.182609 \nL 750.905 155.008696 \n\" style=\"fill:none;stroke:#ffffff;stroke-linecap:square;stroke-linejoin:miter;stroke-width:1.25;\"/>\n   </g>\n   <g id=\"patch_10\">\n    <path d=\"M 81.305 273.182609 \nL 750.905 273.182609 \n\" style=\"fill:none;stroke:#ffffff;stroke-linecap:square;stroke-linejoin:miter;stroke-width:1.25;\"/>\n   </g>\n   <g id=\"patch_11\">\n    <path d=\"M 81.305 155.008696 \nL 750.905 155.008696 \n\" style=\"fill:none;stroke:#ffffff;stroke-linecap:square;stroke-linejoin:miter;stroke-width:1.25;\"/>\n   </g>\n  </g>\n  <g id=\"axes_3\">\n   <g id=\"patch_12\">\n    <path d=\"M 81.305 414.991304 \nL 750.905 414.991304 \nL 750.905 296.817391 \nL 81.305 296.817391 \nz\n\" style=\"fill:#eaeaf2;\"/>\n   </g>\n   <g id=\"matplotlib.axis_5\">\n    <g id=\"xtick_13\">\n     <g id=\"line2d_21\">\n      <path clip-path=\"url(#p4eb35a8460)\" d=\"M 167.080207 414.991304 \nL 167.080207 296.817391 \n\" style=\"fill:none;stroke:#ffffff;stroke-linecap:round;\"/>\n     </g>\n     <g id=\"text_23\">\n      <!-- 2 -->\n      <g style=\"fill:#262626;\" transform=\"translate(163.580832 432.849586)scale(0.11 -0.11)\">\n       <use xlink:href=\"#DejaVuSans-50\"/>\n      </g>\n     </g>\n    </g>\n    <g id=\"xtick_14\">\n     <g id=\"line2d_22\">\n      <path clip-path=\"url(#p4eb35a8460)\" d=\"M 277.757893 414.991304 \nL 277.757893 296.817391 \n\" style=\"fill:none;stroke:#ffffff;stroke-linecap:round;\"/>\n     </g>\n     <g id=\"text_24\">\n      <!-- 4 -->\n      <g style=\"fill:#262626;\" transform=\"translate(274.258518 432.849586)scale(0.11 -0.11)\">\n       <use xlink:href=\"#DejaVuSans-52\"/>\n      </g>\n     </g>\n    </g>\n    <g id=\"xtick_15\">\n     <g id=\"line2d_23\">\n      <path clip-path=\"url(#p4eb35a8460)\" d=\"M 388.435579 414.991304 \nL 388.435579 296.817391 \n\" style=\"fill:none;stroke:#ffffff;stroke-linecap:round;\"/>\n     </g>\n     <g id=\"text_25\">\n      <!-- 6 -->\n      <g style=\"fill:#262626;\" transform=\"translate(384.936204 432.849586)scale(0.11 -0.11)\">\n       <use xlink:href=\"#DejaVuSans-54\"/>\n      </g>\n     </g>\n    </g>\n    <g id=\"xtick_16\">\n     <g id=\"line2d_24\">\n      <path clip-path=\"url(#p4eb35a8460)\" d=\"M 499.113264 414.991304 \nL 499.113264 296.817391 \n\" style=\"fill:none;stroke:#ffffff;stroke-linecap:round;\"/>\n     </g>\n     <g id=\"text_26\">\n      <!-- 8 -->\n      <g style=\"fill:#262626;\" transform=\"translate(495.613889 432.849586)scale(0.11 -0.11)\">\n       <use xlink:href=\"#DejaVuSans-56\"/>\n      </g>\n     </g>\n    </g>\n    <g id=\"xtick_17\">\n     <g id=\"line2d_25\">\n      <path clip-path=\"url(#p4eb35a8460)\" d=\"M 609.79095 414.991304 \nL 609.79095 296.817391 \n\" style=\"fill:none;stroke:#ffffff;stroke-linecap:round;\"/>\n     </g>\n     <g id=\"text_27\">\n      <!-- 10 -->\n      <g style=\"fill:#262626;\" transform=\"translate(602.7922 432.849586)scale(0.11 -0.11)\">\n       <use xlink:href=\"#DejaVuSans-49\"/>\n       <use x=\"63.623047\" xlink:href=\"#DejaVuSans-48\"/>\n      </g>\n     </g>\n    </g>\n    <g id=\"xtick_18\">\n     <g id=\"line2d_26\">\n      <path clip-path=\"url(#p4eb35a8460)\" d=\"M 720.468636 414.991304 \nL 720.468636 296.817391 \n\" style=\"fill:none;stroke:#ffffff;stroke-linecap:round;\"/>\n     </g>\n     <g id=\"text_28\">\n      <!-- 12 -->\n      <g style=\"fill:#262626;\" transform=\"translate(713.469886 432.849586)scale(0.11 -0.11)\">\n       <use xlink:href=\"#DejaVuSans-49\"/>\n       <use x=\"63.623047\" xlink:href=\"#DejaVuSans-50\"/>\n      </g>\n     </g>\n    </g>\n    <g id=\"text_29\">\n     <!-- Месяц выдачи кредита -->\n     <g style=\"fill:#262626;\" transform=\"translate(342.543125 448.255367)scale(0.12 -0.12)\">\n      <use xlink:href=\"#DejaVuSans-1052\"/>\n      <use x=\"86.279297\" xlink:href=\"#DejaVuSans-1077\"/>\n      <use x=\"147.802734\" xlink:href=\"#DejaVuSans-1089\"/>\n      <use x=\"202.783203\" xlink:href=\"#DejaVuSans-1103\"/>\n      <use x=\"262.939453\" xlink:href=\"#DejaVuSans-1094\"/>\n      <use x=\"331.005859\" xlink:href=\"#DejaVuSans-32\"/>\n      <use x=\"362.792969\" xlink:href=\"#DejaVuSans-1074\"/>\n      <use x=\"421.728516\" xlink:href=\"#DejaVuSans-1099\"/>\n      <use x=\"500.683594\" xlink:href=\"#DejaVuSans-1076\"/>\n      <use x=\"569.824219\" xlink:href=\"#DejaVuSans-1072\"/>\n      <use x=\"631.103516\" xlink:href=\"#DejaVuSans-1095\"/>\n      <use x=\"690.185547\" xlink:href=\"#DejaVuSans-1080\"/>\n      <use x=\"755.175781\" xlink:href=\"#DejaVuSans-32\"/>\n      <use x=\"786.962891\" xlink:href=\"#DejaVuSans-1082\"/>\n      <use x=\"847.363281\" xlink:href=\"#DejaVuSans-1088\"/>\n      <use x=\"910.839844\" xlink:href=\"#DejaVuSans-1077\"/>\n      <use x=\"972.363281\" xlink:href=\"#DejaVuSans-1076\"/>\n      <use x=\"1041.503906\" xlink:href=\"#DejaVuSans-1080\"/>\n      <use x=\"1106.494141\" xlink:href=\"#DejaVuSans-1090\"/>\n      <use x=\"1164.746094\" xlink:href=\"#DejaVuSans-1072\"/>\n     </g>\n    </g>\n   </g>\n   <g id=\"matplotlib.axis_6\">\n    <g id=\"ytick_7\">\n     <g id=\"line2d_27\">\n      <path clip-path=\"url(#p4eb35a8460)\" d=\"M 81.305 410.470049 \nL 750.905 410.470049 \n\" style=\"fill:none;stroke:#ffffff;stroke-linecap:round;\"/>\n     </g>\n     <g id=\"text_30\">\n      <!-- 26000 -->\n      <g style=\"fill:#262626;\" transform=\"translate(36.81125 414.64919)scale(0.11 -0.11)\">\n       <use xlink:href=\"#DejaVuSans-50\"/>\n       <use x=\"63.623047\" xlink:href=\"#DejaVuSans-54\"/>\n       <use x=\"127.246094\" xlink:href=\"#DejaVuSans-48\"/>\n       <use x=\"190.869141\" xlink:href=\"#DejaVuSans-48\"/>\n       <use x=\"254.492188\" xlink:href=\"#DejaVuSans-48\"/>\n      </g>\n     </g>\n    </g>\n    <g id=\"ytick_8\">\n     <g id=\"line2d_28\">\n      <path clip-path=\"url(#p4eb35a8460)\" d=\"M 81.305 380.121363 \nL 750.905 380.121363 \n\" style=\"fill:none;stroke:#ffffff;stroke-linecap:round;\"/>\n     </g>\n     <g id=\"text_31\">\n      <!-- 28000 -->\n      <g style=\"fill:#262626;\" transform=\"translate(36.81125 384.300503)scale(0.11 -0.11)\">\n       <use xlink:href=\"#DejaVuSans-50\"/>\n       <use x=\"63.623047\" xlink:href=\"#DejaVuSans-56\"/>\n       <use x=\"127.246094\" xlink:href=\"#DejaVuSans-48\"/>\n       <use x=\"190.869141\" xlink:href=\"#DejaVuSans-48\"/>\n       <use x=\"254.492188\" xlink:href=\"#DejaVuSans-48\"/>\n      </g>\n     </g>\n    </g>\n    <g id=\"ytick_9\">\n     <g id=\"line2d_29\">\n      <path clip-path=\"url(#p4eb35a8460)\" d=\"M 81.305 349.772676 \nL 750.905 349.772676 \n\" style=\"fill:none;stroke:#ffffff;stroke-linecap:round;\"/>\n     </g>\n     <g id=\"text_32\">\n      <!-- 30000 -->\n      <g style=\"fill:#262626;\" transform=\"translate(36.81125 353.951817)scale(0.11 -0.11)\">\n       <use xlink:href=\"#DejaVuSans-51\"/>\n       <use x=\"63.623047\" xlink:href=\"#DejaVuSans-48\"/>\n       <use x=\"127.246094\" xlink:href=\"#DejaVuSans-48\"/>\n       <use x=\"190.869141\" xlink:href=\"#DejaVuSans-48\"/>\n       <use x=\"254.492188\" xlink:href=\"#DejaVuSans-48\"/>\n      </g>\n     </g>\n    </g>\n    <g id=\"ytick_10\">\n     <g id=\"line2d_30\">\n      <path clip-path=\"url(#p4eb35a8460)\" d=\"M 81.305 319.423989 \nL 750.905 319.423989 \n\" style=\"fill:none;stroke:#ffffff;stroke-linecap:round;\"/>\n     </g>\n     <g id=\"text_33\">\n      <!-- 32000 -->\n      <g style=\"fill:#262626;\" transform=\"translate(36.81125 323.60313)scale(0.11 -0.11)\">\n       <use xlink:href=\"#DejaVuSans-51\"/>\n       <use x=\"63.623047\" xlink:href=\"#DejaVuSans-50\"/>\n       <use x=\"127.246094\" xlink:href=\"#DejaVuSans-48\"/>\n       <use x=\"190.869141\" xlink:href=\"#DejaVuSans-48\"/>\n       <use x=\"254.492188\" xlink:href=\"#DejaVuSans-48\"/>\n      </g>\n     </g>\n    </g>\n    <g id=\"text_34\">\n     <!-- Средний кредит -->\n     <defs>\n      <path d=\"M 55.90625 54.6875 \nL 55.90625 0 \nL 46.96875 0 \nL 46.96875 43.890625 \nL 20.609375 0 \nL 9.078125 0 \nL 9.078125 54.6875 \nL 18.015625 54.6875 \nL 18.015625 10.890625 \nL 44.34375 54.6875 \nz\nM 17.21875 75.515625 \nL 22.984375 75.515625 \nQ 23.515625 71.859375 25.875 70.015625 \nQ 28.25 68.1875 32.5 68.1875 \nQ 36.703125 68.1875 39.046875 70 \nQ 41.390625 71.8125 42.015625 75.515625 \nL 47.78125 75.515625 \nQ 47.296875 68.53125 43.4375 65.015625 \nQ 39.578125 61.5 32.5 61.5 \nQ 25.421875 61.5 21.5625 65.015625 \nQ 17.703125 68.53125 17.21875 75.515625 \nz\n\" id=\"DejaVuSans-1081\"/>\n     </defs>\n     <g style=\"fill:#262626;\" transform=\"translate(30.315625 408.038723)rotate(-90)scale(0.12 -0.12)\">\n      <use xlink:href=\"#DejaVuSans-1057\"/>\n      <use x=\"69.824219\" xlink:href=\"#DejaVuSans-1088\"/>\n      <use x=\"133.300781\" xlink:href=\"#DejaVuSans-1077\"/>\n      <use x=\"194.824219\" xlink:href=\"#DejaVuSans-1076\"/>\n      <use x=\"263.964844\" xlink:href=\"#DejaVuSans-1085\"/>\n      <use x=\"329.345703\" xlink:href=\"#DejaVuSans-1080\"/>\n      <use x=\"394.335938\" xlink:href=\"#DejaVuSans-1081\"/>\n      <use x=\"459.326172\" xlink:href=\"#DejaVuSans-32\"/>\n      <use x=\"491.113281\" xlink:href=\"#DejaVuSans-1082\"/>\n      <use x=\"551.513672\" xlink:href=\"#DejaVuSans-1088\"/>\n      <use x=\"614.990234\" xlink:href=\"#DejaVuSans-1077\"/>\n      <use x=\"676.513672\" xlink:href=\"#DejaVuSans-1076\"/>\n      <use x=\"745.654297\" xlink:href=\"#DejaVuSans-1080\"/>\n      <use x=\"810.644531\" xlink:href=\"#DejaVuSans-1090\"/>\n     </g>\n    </g>\n   </g>\n   <g id=\"line2d_31\">\n    <path clip-path=\"url(#p4eb35a8460)\" d=\"M 111.741364 407.522515 \nL 167.080207 347.023701 \nL 222.41905 373.398552 \nL 277.757893 362.514491 \nL 333.096736 409.619763 \nL 388.435579 335.904321 \nL 443.774421 369.342346 \nL 499.113264 369.114621 \nL 554.452107 406.341735 \nL 609.79095 363.239906 \nL 665.129793 310.703102 \nL 720.468636 302.188933 \n\" style=\"fill:none;stroke:#f77189;stroke-linecap:round;stroke-width:1.5;\"/>\n   </g>\n   <g id=\"patch_13\">\n    <path d=\"M 81.305 414.991304 \nL 81.305 296.817391 \n\" style=\"fill:none;stroke:#ffffff;stroke-linecap:square;stroke-linejoin:miter;stroke-width:1.25;\"/>\n   </g>\n   <g id=\"patch_14\">\n    <path d=\"M 750.905 414.991304 \nL 750.905 296.817391 \n\" style=\"fill:none;stroke:#ffffff;stroke-linecap:square;stroke-linejoin:miter;stroke-width:1.25;\"/>\n   </g>\n   <g id=\"patch_15\">\n    <path d=\"M 81.305 414.991304 \nL 750.905 414.991304 \n\" style=\"fill:none;stroke:#ffffff;stroke-linecap:square;stroke-linejoin:miter;stroke-width:1.25;\"/>\n   </g>\n   <g id=\"patch_16\">\n    <path d=\"M 81.305 296.817391 \nL 750.905 296.817391 \n\" style=\"fill:none;stroke:#ffffff;stroke-linecap:square;stroke-linejoin:miter;stroke-width:1.25;\"/>\n   </g>\n  </g>\n  <g id=\"axes_4\">\n   <g id=\"patch_17\">\n    <path d=\"M 81.305 556.8 \nL 750.905 556.8 \nL 750.905 438.626087 \nL 81.305 438.626087 \nz\n\" style=\"fill:#eaeaf2;\"/>\n   </g>\n   <g id=\"matplotlib.axis_7\">\n    <g id=\"xtick_19\">\n     <g id=\"line2d_32\">\n      <path clip-path=\"url(#p53691eac2f)\" d=\"M 111.741364 556.8 \nL 111.741364 438.626087 \n\" style=\"fill:none;stroke:#ffffff;stroke-linecap:round;\"/>\n     </g>\n     <g id=\"text_35\">\n      <!-- 1 -->\n      <g style=\"fill:#262626;\" transform=\"translate(108.241989 574.658281)scale(0.11 -0.11)\">\n       <use xlink:href=\"#DejaVuSans-49\"/>\n      </g>\n     </g>\n    </g>\n    <g id=\"xtick_20\">\n     <g id=\"line2d_33\">\n      <path clip-path=\"url(#p53691eac2f)\" d=\"M 167.080207 556.8 \nL 167.080207 438.626087 \n\" style=\"fill:none;stroke:#ffffff;stroke-linecap:round;\"/>\n     </g>\n     <g id=\"text_36\">\n      <!-- 2 -->\n      <g style=\"fill:#262626;\" transform=\"translate(163.580832 574.658281)scale(0.11 -0.11)\">\n       <use xlink:href=\"#DejaVuSans-50\"/>\n      </g>\n     </g>\n    </g>\n    <g id=\"xtick_21\">\n     <g id=\"line2d_34\">\n      <path clip-path=\"url(#p53691eac2f)\" d=\"M 222.41905 556.8 \nL 222.41905 438.626087 \n\" style=\"fill:none;stroke:#ffffff;stroke-linecap:round;\"/>\n     </g>\n     <g id=\"text_37\">\n      <!-- 3 -->\n      <g style=\"fill:#262626;\" transform=\"translate(218.919675 574.658281)scale(0.11 -0.11)\">\n       <use xlink:href=\"#DejaVuSans-51\"/>\n      </g>\n     </g>\n    </g>\n    <g id=\"xtick_22\">\n     <g id=\"line2d_35\">\n      <path clip-path=\"url(#p53691eac2f)\" d=\"M 277.757893 556.8 \nL 277.757893 438.626087 \n\" style=\"fill:none;stroke:#ffffff;stroke-linecap:round;\"/>\n     </g>\n     <g id=\"text_38\">\n      <!-- 4 -->\n      <g style=\"fill:#262626;\" transform=\"translate(274.258518 574.658281)scale(0.11 -0.11)\">\n       <use xlink:href=\"#DejaVuSans-52\"/>\n      </g>\n     </g>\n    </g>\n    <g id=\"xtick_23\">\n     <g id=\"line2d_36\">\n      <path clip-path=\"url(#p53691eac2f)\" d=\"M 333.096736 556.8 \nL 333.096736 438.626087 \n\" style=\"fill:none;stroke:#ffffff;stroke-linecap:round;\"/>\n     </g>\n     <g id=\"text_39\">\n      <!-- 5 -->\n      <g style=\"fill:#262626;\" transform=\"translate(329.597361 574.658281)scale(0.11 -0.11)\">\n       <use xlink:href=\"#DejaVuSans-53\"/>\n      </g>\n     </g>\n    </g>\n    <g id=\"xtick_24\">\n     <g id=\"line2d_37\">\n      <path clip-path=\"url(#p53691eac2f)\" d=\"M 388.435579 556.8 \nL 388.435579 438.626087 \n\" style=\"fill:none;stroke:#ffffff;stroke-linecap:round;\"/>\n     </g>\n     <g id=\"text_40\">\n      <!-- 6 -->\n      <g style=\"fill:#262626;\" transform=\"translate(384.936204 574.658281)scale(0.11 -0.11)\">\n       <use xlink:href=\"#DejaVuSans-54\"/>\n      </g>\n     </g>\n    </g>\n    <g id=\"xtick_25\">\n     <g id=\"line2d_38\">\n      <path clip-path=\"url(#p53691eac2f)\" d=\"M 443.774421 556.8 \nL 443.774421 438.626087 \n\" style=\"fill:none;stroke:#ffffff;stroke-linecap:round;\"/>\n     </g>\n     <g id=\"text_41\">\n      <!-- 7 -->\n      <defs>\n       <path d=\"M 8.203125 72.90625 \nL 55.078125 72.90625 \nL 55.078125 68.703125 \nL 28.609375 0 \nL 18.3125 0 \nL 43.21875 64.59375 \nL 8.203125 64.59375 \nz\n\" id=\"DejaVuSans-55\"/>\n      </defs>\n      <g style=\"fill:#262626;\" transform=\"translate(440.275046 574.658281)scale(0.11 -0.11)\">\n       <use xlink:href=\"#DejaVuSans-55\"/>\n      </g>\n     </g>\n    </g>\n    <g id=\"xtick_26\">\n     <g id=\"line2d_39\">\n      <path clip-path=\"url(#p53691eac2f)\" d=\"M 499.113264 556.8 \nL 499.113264 438.626087 \n\" style=\"fill:none;stroke:#ffffff;stroke-linecap:round;\"/>\n     </g>\n     <g id=\"text_42\">\n      <!-- 8 -->\n      <g style=\"fill:#262626;\" transform=\"translate(495.613889 574.658281)scale(0.11 -0.11)\">\n       <use xlink:href=\"#DejaVuSans-56\"/>\n      </g>\n     </g>\n    </g>\n    <g id=\"xtick_27\">\n     <g id=\"line2d_40\">\n      <path clip-path=\"url(#p53691eac2f)\" d=\"M 554.452107 556.8 \nL 554.452107 438.626087 \n\" style=\"fill:none;stroke:#ffffff;stroke-linecap:round;\"/>\n     </g>\n     <g id=\"text_43\">\n      <!-- 9 -->\n      <defs>\n       <path d=\"M 10.984375 1.515625 \nL 10.984375 10.5 \nQ 14.703125 8.734375 18.5 7.8125 \nQ 22.3125 6.890625 25.984375 6.890625 \nQ 35.75 6.890625 40.890625 13.453125 \nQ 46.046875 20.015625 46.78125 33.40625 \nQ 43.953125 29.203125 39.59375 26.953125 \nQ 35.25 24.703125 29.984375 24.703125 \nQ 19.046875 24.703125 12.671875 31.3125 \nQ 6.296875 37.9375 6.296875 49.421875 \nQ 6.296875 60.640625 12.9375 67.421875 \nQ 19.578125 74.21875 30.609375 74.21875 \nQ 43.265625 74.21875 49.921875 64.515625 \nQ 56.59375 54.828125 56.59375 36.375 \nQ 56.59375 19.140625 48.40625 8.859375 \nQ 40.234375 -1.421875 26.421875 -1.421875 \nQ 22.703125 -1.421875 18.890625 -0.6875 \nQ 15.09375 0.046875 10.984375 1.515625 \nz\nM 30.609375 32.421875 \nQ 37.25 32.421875 41.125 36.953125 \nQ 45.015625 41.5 45.015625 49.421875 \nQ 45.015625 57.28125 41.125 61.84375 \nQ 37.25 66.40625 30.609375 66.40625 \nQ 23.96875 66.40625 20.09375 61.84375 \nQ 16.21875 57.28125 16.21875 49.421875 \nQ 16.21875 41.5 20.09375 36.953125 \nQ 23.96875 32.421875 30.609375 32.421875 \nz\n\" id=\"DejaVuSans-57\"/>\n      </defs>\n      <g style=\"fill:#262626;\" transform=\"translate(550.952732 574.658281)scale(0.11 -0.11)\">\n       <use xlink:href=\"#DejaVuSans-57\"/>\n      </g>\n     </g>\n    </g>\n    <g id=\"xtick_28\">\n     <g id=\"line2d_41\">\n      <path clip-path=\"url(#p53691eac2f)\" d=\"M 609.79095 556.8 \nL 609.79095 438.626087 \n\" style=\"fill:none;stroke:#ffffff;stroke-linecap:round;\"/>\n     </g>\n     <g id=\"text_44\">\n      <!-- 10 -->\n      <g style=\"fill:#262626;\" transform=\"translate(602.7922 574.658281)scale(0.11 -0.11)\">\n       <use xlink:href=\"#DejaVuSans-49\"/>\n       <use x=\"63.623047\" xlink:href=\"#DejaVuSans-48\"/>\n      </g>\n     </g>\n    </g>\n    <g id=\"xtick_29\">\n     <g id=\"line2d_42\">\n      <path clip-path=\"url(#p53691eac2f)\" d=\"M 665.129793 556.8 \nL 665.129793 438.626087 \n\" style=\"fill:none;stroke:#ffffff;stroke-linecap:round;\"/>\n     </g>\n     <g id=\"text_45\">\n      <!-- 11 -->\n      <g style=\"fill:#262626;\" transform=\"translate(658.131043 574.658281)scale(0.11 -0.11)\">\n       <use xlink:href=\"#DejaVuSans-49\"/>\n       <use x=\"63.623047\" xlink:href=\"#DejaVuSans-49\"/>\n      </g>\n     </g>\n    </g>\n    <g id=\"xtick_30\">\n     <g id=\"line2d_43\">\n      <path clip-path=\"url(#p53691eac2f)\" d=\"M 720.468636 556.8 \nL 720.468636 438.626087 \n\" style=\"fill:none;stroke:#ffffff;stroke-linecap:round;\"/>\n     </g>\n     <g id=\"text_46\">\n      <!-- 12 -->\n      <g style=\"fill:#262626;\" transform=\"translate(713.469886 574.658281)scale(0.11 -0.11)\">\n       <use xlink:href=\"#DejaVuSans-49\"/>\n       <use x=\"63.623047\" xlink:href=\"#DejaVuSans-50\"/>\n      </g>\n     </g>\n    </g>\n    <g id=\"text_47\">\n     <!-- Месяц выдачи кредита -->\n     <g style=\"fill:#262626;\" transform=\"translate(342.543125 590.064062)scale(0.12 -0.12)\">\n      <use xlink:href=\"#DejaVuSans-1052\"/>\n      <use x=\"86.279297\" xlink:href=\"#DejaVuSans-1077\"/>\n      <use x=\"147.802734\" xlink:href=\"#DejaVuSans-1089\"/>\n      <use x=\"202.783203\" xlink:href=\"#DejaVuSans-1103\"/>\n      <use x=\"262.939453\" xlink:href=\"#DejaVuSans-1094\"/>\n      <use x=\"331.005859\" xlink:href=\"#DejaVuSans-32\"/>\n      <use x=\"362.792969\" xlink:href=\"#DejaVuSans-1074\"/>\n      <use x=\"421.728516\" xlink:href=\"#DejaVuSans-1099\"/>\n      <use x=\"500.683594\" xlink:href=\"#DejaVuSans-1076\"/>\n      <use x=\"569.824219\" xlink:href=\"#DejaVuSans-1072\"/>\n      <use x=\"631.103516\" xlink:href=\"#DejaVuSans-1095\"/>\n      <use x=\"690.185547\" xlink:href=\"#DejaVuSans-1080\"/>\n      <use x=\"755.175781\" xlink:href=\"#DejaVuSans-32\"/>\n      <use x=\"786.962891\" xlink:href=\"#DejaVuSans-1082\"/>\n      <use x=\"847.363281\" xlink:href=\"#DejaVuSans-1088\"/>\n      <use x=\"910.839844\" xlink:href=\"#DejaVuSans-1077\"/>\n      <use x=\"972.363281\" xlink:href=\"#DejaVuSans-1076\"/>\n      <use x=\"1041.503906\" xlink:href=\"#DejaVuSans-1080\"/>\n      <use x=\"1106.494141\" xlink:href=\"#DejaVuSans-1090\"/>\n      <use x=\"1164.746094\" xlink:href=\"#DejaVuSans-1072\"/>\n     </g>\n    </g>\n   </g>\n   <g id=\"matplotlib.axis_8\">\n    <g id=\"ytick_11\">\n     <g id=\"line2d_44\">\n      <path clip-path=\"url(#p53691eac2f)\" d=\"M 81.305 536.369799 \nL 750.905 536.369799 \n\" style=\"fill:none;stroke:#ffffff;stroke-linecap:round;\"/>\n     </g>\n     <g id=\"text_48\">\n      <!-- 0.075 -->\n      <defs>\n       <path d=\"M 10.6875 12.40625 \nL 21 12.40625 \nL 21 0 \nL 10.6875 0 \nz\n\" id=\"DejaVuSans-46\"/>\n      </defs>\n      <g style=\"fill:#262626;\" transform=\"translate(40.314063 540.54894)scale(0.11 -0.11)\">\n       <use xlink:href=\"#DejaVuSans-48\"/>\n       <use x=\"63.623047\" xlink:href=\"#DejaVuSans-46\"/>\n       <use x=\"95.410156\" xlink:href=\"#DejaVuSans-48\"/>\n       <use x=\"159.033203\" xlink:href=\"#DejaVuSans-55\"/>\n       <use x=\"222.65625\" xlink:href=\"#DejaVuSans-53\"/>\n      </g>\n     </g>\n    </g>\n    <g id=\"ytick_12\">\n     <g id=\"line2d_45\">\n      <path clip-path=\"url(#p53691eac2f)\" d=\"M 81.305 507.256391 \nL 750.905 507.256391 \n\" style=\"fill:none;stroke:#ffffff;stroke-linecap:round;\"/>\n     </g>\n     <g id=\"text_49\">\n      <!-- 0.100 -->\n      <g style=\"fill:#262626;\" transform=\"translate(40.314063 511.435532)scale(0.11 -0.11)\">\n       <use xlink:href=\"#DejaVuSans-48\"/>\n       <use x=\"63.623047\" xlink:href=\"#DejaVuSans-46\"/>\n       <use x=\"95.410156\" xlink:href=\"#DejaVuSans-49\"/>\n       <use x=\"159.033203\" xlink:href=\"#DejaVuSans-48\"/>\n       <use x=\"222.65625\" xlink:href=\"#DejaVuSans-48\"/>\n      </g>\n     </g>\n    </g>\n    <g id=\"ytick_13\">\n     <g id=\"line2d_46\">\n      <path clip-path=\"url(#p53691eac2f)\" d=\"M 81.305 478.142983 \nL 750.905 478.142983 \n\" style=\"fill:none;stroke:#ffffff;stroke-linecap:round;\"/>\n     </g>\n     <g id=\"text_50\">\n      <!-- 0.125 -->\n      <g style=\"fill:#262626;\" transform=\"translate(40.314063 482.322124)scale(0.11 -0.11)\">\n       <use xlink:href=\"#DejaVuSans-48\"/>\n       <use x=\"63.623047\" xlink:href=\"#DejaVuSans-46\"/>\n       <use x=\"95.410156\" xlink:href=\"#DejaVuSans-49\"/>\n       <use x=\"159.033203\" xlink:href=\"#DejaVuSans-50\"/>\n       <use x=\"222.65625\" xlink:href=\"#DejaVuSans-53\"/>\n      </g>\n     </g>\n    </g>\n    <g id=\"ytick_14\">\n     <g id=\"line2d_47\">\n      <path clip-path=\"url(#p53691eac2f)\" d=\"M 81.305 449.029576 \nL 750.905 449.029576 \n\" style=\"fill:none;stroke:#ffffff;stroke-linecap:round;\"/>\n     </g>\n     <g id=\"text_51\">\n      <!-- 0.150 -->\n      <g style=\"fill:#262626;\" transform=\"translate(40.314063 453.208716)scale(0.11 -0.11)\">\n       <use xlink:href=\"#DejaVuSans-48\"/>\n       <use x=\"63.623047\" xlink:href=\"#DejaVuSans-46\"/>\n       <use x=\"95.410156\" xlink:href=\"#DejaVuSans-49\"/>\n       <use x=\"159.033203\" xlink:href=\"#DejaVuSans-53\"/>\n       <use x=\"222.65625\" xlink:href=\"#DejaVuSans-48\"/>\n      </g>\n     </g>\n    </g>\n    <g id=\"text_52\">\n     <!-- Доля дефолтов -->\n     <defs>\n      <path d=\"M 22.796875 8.296875 \nL 55.03125 8.296875 \nL 55.03125 64.59375 \nL 31.34375 64.59375 \nL 31.34375 54.25 \nQ 31.34375 29.890625 25.875 13.71875 \nQ 24.75 10.40625 22.796875 8.296875 \nz\nM 8.40625 8.296875 \nQ 14.9375 11.375 16.796875 17.234375 \nQ 21.53125 32.28125 21.53125 59.125 \nL 21.53125 72.90625 \nL 64.890625 72.90625 \nL 64.890625 8.296875 \nL 73.1875 8.296875 \nL 73.1875 -15.671875 \nL 64.890625 -15.671875 \nL 64.890625 0 \nL 13.234375 0 \nL 13.234375 -15.671875 \nL 4.9375 -15.671875 \nL 4.9375 8.296875 \nz\n\" id=\"DejaVuSans-1044\"/>\n      <path d=\"M 14.796875 27.296875 \nQ 14.796875 15.828125 18.328125 10.96875 \nQ 21.875 6.109375 27.875 6.109375 \nQ 32.671875 6.109375 38.234375 14.3125 \nL 38.234375 40.28125 \nQ 32.671875 48.484375 27.875 48.484375 \nQ 21.875 48.484375 18.328125 43.625 \nQ 14.796875 38.765625 14.796875 27.296875 \nz\nM 38.234375 -20.796875 \nL 38.234375 6.984375 \nQ 35.453125 2.390625 32.25 0.484375 \nQ 29.046875 -1.421875 25 -1.421875 \nQ 16.84375 -1.421875 11.15625 6.125 \nQ 5.46875 13.671875 5.46875 27.09375 \nQ 5.46875 40.53125 11.15625 48.265625 \nQ 16.84375 56 25 56 \nQ 29.046875 56 32.25 54.140625 \nQ 35.453125 52.296875 38.234375 47.703125 \nL 38.234375 72.90625 \nL 47.265625 72.90625 \nL 47.265625 47.703125 \nQ 50.046875 52.296875 53.25 54.140625 \nQ 56.453125 56 60.5 56 \nQ 68.65625 56 74.34375 48.265625 \nQ 80.03125 40.53125 80.03125 27.09375 \nQ 80.03125 13.671875 74.34375 6.125 \nQ 68.65625 -1.421875 60.5 -1.421875 \nQ 56.453125 -1.421875 53.25 0.484375 \nQ 50.046875 2.390625 47.265625 6.984375 \nL 47.265625 -20.796875 \nz\nM 70.703125 27.296875 \nQ 70.703125 38.765625 67.15625 43.625 \nQ 63.625 48.484375 57.625 48.484375 \nQ 52.828125 48.484375 47.265625 40.28125 \nL 47.265625 14.3125 \nQ 52.828125 6.109375 57.625 6.109375 \nQ 63.625 6.109375 67.15625 10.96875 \nQ 70.703125 15.828125 70.703125 27.296875 \nz\n\" id=\"DejaVuSans-1092\"/>\n     </defs>\n     <g style=\"fill:#262626;\" transform=\"translate(33.818438 546.602731)rotate(-90)scale(0.12 -0.12)\">\n      <use xlink:href=\"#DejaVuSans-1044\"/>\n      <use x=\"78.125\" xlink:href=\"#DejaVuSans-1086\"/>\n      <use x=\"139.306641\" xlink:href=\"#DejaVuSans-1083\"/>\n      <use x=\"203.222656\" xlink:href=\"#DejaVuSans-1103\"/>\n      <use x=\"263.378906\" xlink:href=\"#DejaVuSans-32\"/>\n      <use x=\"295.166016\" xlink:href=\"#DejaVuSans-1076\"/>\n      <use x=\"364.306641\" xlink:href=\"#DejaVuSans-1077\"/>\n      <use x=\"425.830078\" xlink:href=\"#DejaVuSans-1092\"/>\n      <use x=\"511.328125\" xlink:href=\"#DejaVuSans-1086\"/>\n      <use x=\"572.509766\" xlink:href=\"#DejaVuSans-1083\"/>\n      <use x=\"636.425781\" xlink:href=\"#DejaVuSans-1090\"/>\n      <use x=\"694.677734\" xlink:href=\"#DejaVuSans-1086\"/>\n      <use x=\"755.859375\" xlink:href=\"#DejaVuSans-1074\"/>\n     </g>\n    </g>\n   </g>\n   <g id=\"line2d_48\">\n    <path clip-path=\"url(#p53691eac2f)\" d=\"M 111.741364 464.5288 \nL 167.080207 539.323333 \nL 222.41905 461.559397 \nL 277.757893 508.14535 \nL 333.096736 493.201643 \nL 388.435579 490.074708 \nL 443.774421 551.428458 \nL 499.113264 476.092743 \nL 554.452107 512.394052 \nL 609.79095 499.978039 \nL 665.129793 469.777062 \nL 720.468636 443.997628 \n\" style=\"fill:none;stroke:#f77189;stroke-linecap:round;stroke-width:1.5;\"/>\n   </g>\n   <g id=\"patch_18\">\n    <path d=\"M 81.305 556.8 \nL 81.305 438.626087 \n\" style=\"fill:none;stroke:#ffffff;stroke-linecap:square;stroke-linejoin:miter;stroke-width:1.25;\"/>\n   </g>\n   <g id=\"patch_19\">\n    <path d=\"M 750.905 556.8 \nL 750.905 438.626087 \n\" style=\"fill:none;stroke:#ffffff;stroke-linecap:square;stroke-linejoin:miter;stroke-width:1.25;\"/>\n   </g>\n   <g id=\"patch_20\">\n    <path d=\"M 81.305 556.8 \nL 750.905 556.8 \n\" style=\"fill:none;stroke:#ffffff;stroke-linecap:square;stroke-linejoin:miter;stroke-width:1.25;\"/>\n   </g>\n   <g id=\"patch_21\">\n    <path d=\"M 81.305 438.626087 \nL 750.905 438.626087 \n\" style=\"fill:none;stroke:#ffffff;stroke-linecap:square;stroke-linejoin:miter;stroke-width:1.25;\"/>\n   </g>\n  </g>\n </g>\n <defs>\n  <clipPath id=\"p1214a75d75\">\n   <rect height=\"118.173913\" width=\"669.6\" x=\"81.305\" y=\"13.2\"/>\n  </clipPath>\n  <clipPath id=\"p322c7e9a2a\">\n   <rect height=\"118.173913\" width=\"669.6\" x=\"81.305\" y=\"155.008696\"/>\n  </clipPath>\n  <clipPath id=\"p4eb35a8460\">\n   <rect height=\"118.173913\" width=\"669.6\" x=\"81.305\" y=\"296.817391\"/>\n  </clipPath>\n  <clipPath id=\"p53691eac2f\">\n   <rect height=\"118.173913\" width=\"669.6\" x=\"81.305\" y=\"438.626087\"/>\n  </clipPath>\n </defs>\n</svg>\n"
          },
          "metadata": {
            "tags": []
          }
        }
      ]
    },
    {
      "cell_type": "markdown",
      "metadata": {
        "id": "FELonjBlwscs",
        "colab_type": "text"
      },
      "source": [
        "### Выводы:\n",
        "Выражены пики активности в марте, июле, ноябре-декабре, что, видимо,  связано с годовым циклом праздников и отпусков.\n",
        "\n",
        "Корреляция между средним чеком и количеством чеков говорит о том, что расположенность к дорогим покупкам падает / растет быстрее соответствующей расположенности к покупкам вообще.\n",
        "\n",
        "Интересная закономерность, связанная с притоком надежных заемщиков в феврале и июле (см. график Доля дефолтов). Нужно детально исследовать, с чем это связано.\n",
        "\n",
        "В тоже время \"праздничный ажиотаж\" ноября-января привлекает на рынок  большое число недобросовестных заемщиков, что говорит о необходимости более тщательного контроля в этот период. Эту ситуацию также нужно иследовать детально."
      ]
    },
    {
      "cell_type": "code",
      "metadata": {
        "id": "By_Md-1WQ7Dg",
        "colab_type": "code",
        "colab": {}
      },
      "source": [
        ""
      ],
      "execution_count": 0,
      "outputs": []
    },
    {
      "cell_type": "markdown",
      "metadata": {
        "id": "BW1pJjdkr3A2",
        "colab_type": "text"
      },
      "source": [
        "## Оцифровка данных"
      ]
    },
    {
      "cell_type": "code",
      "metadata": {
        "id": "yOP7reARc_g-",
        "colab_type": "code",
        "colab": {}
      },
      "source": [
        "# Оцифровка бинарных полей:\n",
        "\n",
        "df_train['sex'] = (df_train['Пол клиента'] == 'Мужской').astype(int)\n",
        "df_train['have_child'] = (df_train['Наличие детей у клиента'] == 'Дети есть').astype(int)\n",
        "df_train['customer'] = (df_train['Является ли клиентом банка'] == 'Клиент банка').astype(int)"
      ],
      "execution_count": 0,
      "outputs": []
    },
    {
      "cell_type": "code",
      "metadata": {
        "id": "DAg1g0a6sI2d",
        "colab_type": "code",
        "outputId": "f319093e-64d1-4809-e111-d2682181e96e",
        "colab": {
          "base_uri": "https://localhost:8080/",
          "height": 294
        }
      },
      "source": [
        "df_train.describe()"
      ],
      "execution_count": 0,
      "outputs": [
        {
          "output_type": "execute_result",
          "data": {
            "text/html": [
              "<div>\n",
              "<style scoped>\n",
              "    .dataframe tbody tr th:only-of-type {\n",
              "        vertical-align: middle;\n",
              "    }\n",
              "\n",
              "    .dataframe tbody tr th {\n",
              "        vertical-align: top;\n",
              "    }\n",
              "\n",
              "    .dataframe thead th {\n",
              "        text-align: right;\n",
              "    }\n",
              "</style>\n",
              "<table border=\"1\" class=\"dataframe\">\n",
              "  <thead>\n",
              "    <tr style=\"text-align: right;\">\n",
              "      <th></th>\n",
              "      <th>Месяц выдачи кредита</th>\n",
              "      <th>Сумма кредита</th>\n",
              "      <th>Срок кредита</th>\n",
              "      <th>Возраст клиента</th>\n",
              "      <th>Доход клиента</th>\n",
              "      <th>default_flag</th>\n",
              "      <th>loss</th>\n",
              "      <th>sex</th>\n",
              "      <th>have_child</th>\n",
              "      <th>customer</th>\n",
              "    </tr>\n",
              "  </thead>\n",
              "  <tbody>\n",
              "    <tr>\n",
              "      <th>count</th>\n",
              "      <td>1723.000000</td>\n",
              "      <td>1723.000000</td>\n",
              "      <td>1723.000000</td>\n",
              "      <td>1723.000000</td>\n",
              "      <td>1723.000000</td>\n",
              "      <td>1723.000000</td>\n",
              "      <td>1723.000000</td>\n",
              "      <td>1723.000000</td>\n",
              "      <td>1723.000000</td>\n",
              "      <td>1723.000000</td>\n",
              "    </tr>\n",
              "    <tr>\n",
              "      <th>mean</th>\n",
              "      <td>6.708067</td>\n",
              "      <td>29264.654672</td>\n",
              "      <td>11.546721</td>\n",
              "      <td>35.911782</td>\n",
              "      <td>32652.350551</td>\n",
              "      <td>0.113755</td>\n",
              "      <td>3204.585026</td>\n",
              "      <td>0.540337</td>\n",
              "      <td>0.428323</td>\n",
              "      <td>0.604759</td>\n",
              "    </tr>\n",
              "    <tr>\n",
              "      <th>std</th>\n",
              "      <td>3.538420</td>\n",
              "      <td>27926.778301</td>\n",
              "      <td>6.548354</td>\n",
              "      <td>13.120203</td>\n",
              "      <td>20913.193158</td>\n",
              "      <td>0.317606</td>\n",
              "      <td>11946.190179</td>\n",
              "      <td>0.498515</td>\n",
              "      <td>0.494979</td>\n",
              "      <td>0.489044</td>\n",
              "    </tr>\n",
              "    <tr>\n",
              "      <th>min</th>\n",
              "      <td>1.000000</td>\n",
              "      <td>5000.000000</td>\n",
              "      <td>3.000000</td>\n",
              "      <td>18.000000</td>\n",
              "      <td>1000.000000</td>\n",
              "      <td>0.000000</td>\n",
              "      <td>0.000000</td>\n",
              "      <td>0.000000</td>\n",
              "      <td>0.000000</td>\n",
              "      <td>0.000000</td>\n",
              "    </tr>\n",
              "    <tr>\n",
              "      <th>25%</th>\n",
              "      <td>3.000000</td>\n",
              "      <td>13000.000000</td>\n",
              "      <td>6.000000</td>\n",
              "      <td>26.000000</td>\n",
              "      <td>21000.000000</td>\n",
              "      <td>0.000000</td>\n",
              "      <td>0.000000</td>\n",
              "      <td>0.000000</td>\n",
              "      <td>0.000000</td>\n",
              "      <td>0.000000</td>\n",
              "    </tr>\n",
              "    <tr>\n",
              "      <th>50%</th>\n",
              "      <td>7.000000</td>\n",
              "      <td>21500.000000</td>\n",
              "      <td>12.000000</td>\n",
              "      <td>32.000000</td>\n",
              "      <td>27000.000000</td>\n",
              "      <td>0.000000</td>\n",
              "      <td>0.000000</td>\n",
              "      <td>1.000000</td>\n",
              "      <td>0.000000</td>\n",
              "      <td>1.000000</td>\n",
              "    </tr>\n",
              "    <tr>\n",
              "      <th>75%</th>\n",
              "      <td>10.000000</td>\n",
              "      <td>34000.000000</td>\n",
              "      <td>12.000000</td>\n",
              "      <td>44.000000</td>\n",
              "      <td>38000.000000</td>\n",
              "      <td>0.000000</td>\n",
              "      <td>0.000000</td>\n",
              "      <td>1.000000</td>\n",
              "      <td>1.000000</td>\n",
              "      <td>1.000000</td>\n",
              "    </tr>\n",
              "    <tr>\n",
              "      <th>max</th>\n",
              "      <td>12.000000</td>\n",
              "      <td>301000.000000</td>\n",
              "      <td>36.000000</td>\n",
              "      <td>90.000000</td>\n",
              "      <td>401000.000000</td>\n",
              "      <td>1.000000</td>\n",
              "      <td>201000.000000</td>\n",
              "      <td>1.000000</td>\n",
              "      <td>1.000000</td>\n",
              "      <td>1.000000</td>\n",
              "    </tr>\n",
              "  </tbody>\n",
              "</table>\n",
              "</div>"
            ],
            "text/plain": [
              "       Месяц выдачи кредита  Сумма кредита  Срок кредита  Возраст клиента  \\\n",
              "count           1723.000000    1723.000000   1723.000000      1723.000000   \n",
              "mean               6.708067   29264.654672     11.546721        35.911782   \n",
              "std                3.538420   27926.778301      6.548354        13.120203   \n",
              "min                1.000000    5000.000000      3.000000        18.000000   \n",
              "25%                3.000000   13000.000000      6.000000        26.000000   \n",
              "50%                7.000000   21500.000000     12.000000        32.000000   \n",
              "75%               10.000000   34000.000000     12.000000        44.000000   \n",
              "max               12.000000  301000.000000     36.000000        90.000000   \n",
              "\n",
              "       Доход клиента  default_flag           loss          sex   have_child  \\\n",
              "count    1723.000000   1723.000000    1723.000000  1723.000000  1723.000000   \n",
              "mean    32652.350551      0.113755    3204.585026     0.540337     0.428323   \n",
              "std     20913.193158      0.317606   11946.190179     0.498515     0.494979   \n",
              "min      1000.000000      0.000000       0.000000     0.000000     0.000000   \n",
              "25%     21000.000000      0.000000       0.000000     0.000000     0.000000   \n",
              "50%     27000.000000      0.000000       0.000000     1.000000     0.000000   \n",
              "75%     38000.000000      0.000000       0.000000     1.000000     1.000000   \n",
              "max    401000.000000      1.000000  201000.000000     1.000000     1.000000   \n",
              "\n",
              "          customer  \n",
              "count  1723.000000  \n",
              "mean      0.604759  \n",
              "std       0.489044  \n",
              "min       0.000000  \n",
              "25%       0.000000  \n",
              "50%       1.000000  \n",
              "75%       1.000000  \n",
              "max       1.000000  "
            ]
          },
          "metadata": {
            "tags": []
          },
          "execution_count": 177
        }
      ]
    },
    {
      "cell_type": "code",
      "metadata": {
        "id": "99rosoQ-sI2g",
        "colab_type": "code",
        "colab": {}
      },
      "source": [
        "# оцифровка многозначных полей\n",
        "\n",
        "dummies = pd.get_dummies(df_train[['Образование клиента', 'Тип товара', 'Регион выдачи кредита', 'Семейное положение', 'Оператор связи']])"
      ],
      "execution_count": 0,
      "outputs": []
    },
    {
      "cell_type": "code",
      "metadata": {
        "id": "TKloCLubsI2n",
        "colab_type": "code",
        "colab": {}
      },
      "source": [
        "df_train[list(dummies.columns)] = dummies"
      ],
      "execution_count": 0,
      "outputs": []
    },
    {
      "cell_type": "code",
      "metadata": {
        "id": "-wWzxb9QsI2r",
        "colab_type": "code",
        "outputId": "65885a6a-0c4a-4880-b620-a20d11900f1e",
        "colab": {
          "base_uri": "https://localhost:8080/",
          "height": 1000
        }
      },
      "source": [
        "df_train.info()"
      ],
      "execution_count": 0,
      "outputs": [
        {
          "output_type": "stream",
          "text": [
            "<class 'pandas.core.frame.DataFrame'>\n",
            "RangeIndex: 1723 entries, 0 to 1722\n",
            "Data columns (total 58 columns):\n",
            "Месяц выдачи кредита                                                          1723 non-null int64\n",
            "Сумма кредита                                                                 1723 non-null int64\n",
            "Срок кредита                                                                  1723 non-null int64\n",
            "Возраст клиента                                                               1723 non-null int64\n",
            "Пол клиента                                                                   1723 non-null object\n",
            "Образование клиента                                                           1723 non-null object\n",
            "Тип товара                                                                    1723 non-null object\n",
            "Наличие детей у клиента                                                       1723 non-null object\n",
            "Регион выдачи кредита                                                         1723 non-null object\n",
            "Доход клиента                                                                 1723 non-null int64\n",
            "Семейное положение                                                            1723 non-null object\n",
            "Оператор связи                                                                1723 non-null object\n",
            "Является ли клиентом банка                                                    1723 non-null object\n",
            "Флаг дефолта по кредиту                                                       1723 non-null object\n",
            "default_flag                                                                  1723 non-null int64\n",
            "loss                                                                          1723 non-null int64\n",
            "sex                                                                           1723 non-null int64\n",
            "have_child                                                                    1723 non-null int64\n",
            "customer                                                                      1723 non-null int64\n",
            "Образование клиента_Высшее                                                    1723 non-null uint8\n",
            "Образование клиента_Неоконченное высшее                                       1723 non-null uint8\n",
            "Образование клиента_Неоконченное среднее                                      1723 non-null uint8\n",
            "Образование клиента_Несколько высших или более высокая ступень образования    1723 non-null uint8\n",
            "Образование клиента_Среднее                                                   1723 non-null uint8\n",
            "Образование клиента_Среднее специальное                                       1723 non-null uint8\n",
            "Тип товара_Автомобильные товары                                               1723 non-null uint8\n",
            "Тип товара_Аудио, Видео, Фото                                                 1723 non-null uint8\n",
            "Тип товара_Бытовая техника                                                    1723 non-null uint8\n",
            "Тип товара_Детские товары (игрушки, детская одежда, детская мебель)           1723 non-null uint8\n",
            "Тип товара_Компьютеры, комплектующие                                          1723 non-null uint8\n",
            "Тип товара_Косметика и косметические услуги                                   1723 non-null uint8\n",
            "Тип товара_Мебель                                                             1723 non-null uint8\n",
            "Тип товара_Медицинские услуги                                                 1723 non-null uint8\n",
            "Тип товара_Мобильные телефоны                                                 1723 non-null uint8\n",
            "Тип товара_Мототехника (лодки, мото)                                          1723 non-null uint8\n",
            "Тип товара_Музыка                                                             1723 non-null uint8\n",
            "Тип товара_Обучение                                                           1723 non-null uint8\n",
            "Тип товара_Одежда, изделия из меха и кожи                                     1723 non-null uint8\n",
            "Тип товара_Окна, двери                                                        1723 non-null uint8\n",
            "Тип товара_Рыболовные и охотничьи принадлежности                              1723 non-null uint8\n",
            "Тип товара_Садовая техника                                                    1723 non-null uint8\n",
            "Тип товара_Спортивные товары                                                  1723 non-null uint8\n",
            "Тип товара_Строительные и ремонтные услуги                                    1723 non-null uint8\n",
            "Тип товара_Строительные материалы и инструменты                               1723 non-null uint8\n",
            "Тип товара_Туризм и отдых                                                     1723 non-null uint8\n",
            "Тип товара_Фитнес                                                             1723 non-null uint8\n",
            "Тип товара_Ювелирные украшения                                                1723 non-null uint8\n",
            "Регион выдачи кредита_Другие регионы                                          1723 non-null uint8\n",
            "Регион выдачи кредита_Москва или МО                                           1723 non-null uint8\n",
            "Регион выдачи кредита_Санкт-Петербург или ЛО                                  1723 non-null uint8\n",
            "Семейное положение_Другое                                                     1723 non-null uint8\n",
            "Семейное положение_Женат/замужем                                              1723 non-null uint8\n",
            "Семейное положение_Никогда не был(а) женат/замужем                            1723 non-null uint8\n",
            "Оператор связи_Билайн                                                         1723 non-null uint8\n",
            "Оператор связи_Другой                                                         1723 non-null uint8\n",
            "Оператор связи_МТС                                                            1723 non-null uint8\n",
            "Оператор связи_Мегафон                                                        1723 non-null uint8\n",
            "Оператор связи_Теле2                                                          1723 non-null uint8\n",
            "dtypes: int64(10), object(9), uint8(39)\n",
            "memory usage: 321.5+ KB\n"
          ],
          "name": "stdout"
        }
      ]
    },
    {
      "cell_type": "code",
      "metadata": {
        "id": "ihnLrjm2sI2z",
        "colab_type": "code",
        "colab": {}
      },
      "source": [
        ""
      ],
      "execution_count": 0,
      "outputs": []
    },
    {
      "cell_type": "markdown",
      "metadata": {
        "id": "QQPpTdDe75_1",
        "colab_type": "text"
      },
      "source": [
        "## Детальный анализ по категориям товаров и клиентов"
      ]
    },
    {
      "cell_type": "code",
      "metadata": {
        "id": "hYh3JkJwi_Mk",
        "colab_type": "code",
        "outputId": "7f1e89c0-fba8-41bd-b4d5-86f03e46b548",
        "colab": {
          "base_uri": "https://localhost:8080/",
          "height": 294
        }
      },
      "source": [
        "educ_month_det = df_train.groupby([ 'Образование клиента']).agg({'default_flag':['sum', 'mean'], 'Сумма кредита':['sum', 'count'], 'loss':['sum'] })\n",
        "educ_month_det"
      ],
      "execution_count": 0,
      "outputs": [
        {
          "output_type": "execute_result",
          "data": {
            "text/html": [
              "<div>\n",
              "<style scoped>\n",
              "    .dataframe tbody tr th:only-of-type {\n",
              "        vertical-align: middle;\n",
              "    }\n",
              "\n",
              "    .dataframe tbody tr th {\n",
              "        vertical-align: top;\n",
              "    }\n",
              "\n",
              "    .dataframe thead tr th {\n",
              "        text-align: left;\n",
              "    }\n",
              "\n",
              "    .dataframe thead tr:last-of-type th {\n",
              "        text-align: right;\n",
              "    }\n",
              "</style>\n",
              "<table border=\"1\" class=\"dataframe\">\n",
              "  <thead>\n",
              "    <tr>\n",
              "      <th></th>\n",
              "      <th colspan=\"2\" halign=\"left\">default_flag</th>\n",
              "      <th colspan=\"2\" halign=\"left\">Сумма кредита</th>\n",
              "      <th>loss</th>\n",
              "    </tr>\n",
              "    <tr>\n",
              "      <th></th>\n",
              "      <th>sum</th>\n",
              "      <th>mean</th>\n",
              "      <th>sum</th>\n",
              "      <th>count</th>\n",
              "      <th>sum</th>\n",
              "    </tr>\n",
              "    <tr>\n",
              "      <th>Образование клиента</th>\n",
              "      <th></th>\n",
              "      <th></th>\n",
              "      <th></th>\n",
              "      <th></th>\n",
              "      <th></th>\n",
              "    </tr>\n",
              "  </thead>\n",
              "  <tbody>\n",
              "    <tr>\n",
              "      <th>Высшее</th>\n",
              "      <td>35</td>\n",
              "      <td>0.059829</td>\n",
              "      <td>21874000</td>\n",
              "      <td>585</td>\n",
              "      <td>1345500</td>\n",
              "    </tr>\n",
              "    <tr>\n",
              "      <th>Неоконченное высшее</th>\n",
              "      <td>5</td>\n",
              "      <td>0.058140</td>\n",
              "      <td>2283000</td>\n",
              "      <td>86</td>\n",
              "      <td>183000</td>\n",
              "    </tr>\n",
              "    <tr>\n",
              "      <th>Неоконченное среднее</th>\n",
              "      <td>0</td>\n",
              "      <td>0.000000</td>\n",
              "      <td>205000</td>\n",
              "      <td>5</td>\n",
              "      <td>0</td>\n",
              "    </tr>\n",
              "    <tr>\n",
              "      <th>Несколько высших или более высокая ступень образования</th>\n",
              "      <td>0</td>\n",
              "      <td>0.000000</td>\n",
              "      <td>41000</td>\n",
              "      <td>3</td>\n",
              "      <td>0</td>\n",
              "    </tr>\n",
              "    <tr>\n",
              "      <th>Среднее</th>\n",
              "      <td>40</td>\n",
              "      <td>0.192308</td>\n",
              "      <td>5152000</td>\n",
              "      <td>208</td>\n",
              "      <td>877500</td>\n",
              "    </tr>\n",
              "    <tr>\n",
              "      <th>Среднее специальное</th>\n",
              "      <td>116</td>\n",
              "      <td>0.138756</td>\n",
              "      <td>20868000</td>\n",
              "      <td>836</td>\n",
              "      <td>3115500</td>\n",
              "    </tr>\n",
              "  </tbody>\n",
              "</table>\n",
              "</div>"
            ],
            "text/plain": [
              "                                                   default_flag            \\\n",
              "                                                            sum      mean   \n",
              "Образование клиента                                                         \n",
              "Высшее                                                       35  0.059829   \n",
              "Неоконченное высшее                                           5  0.058140   \n",
              "Неоконченное среднее                                          0  0.000000   \n",
              "Несколько высших или более высокая ступень обра...            0  0.000000   \n",
              "Среднее                                                      40  0.192308   \n",
              "Среднее специальное                                         116  0.138756   \n",
              "\n",
              "                                                   Сумма кредита        \\\n",
              "                                                             sum count   \n",
              "Образование клиента                                                      \n",
              "Высшее                                                  21874000   585   \n",
              "Неоконченное высшее                                      2283000    86   \n",
              "Неоконченное среднее                                      205000     5   \n",
              "Несколько высших или более высокая ступень обра...         41000     3   \n",
              "Среднее                                                  5152000   208   \n",
              "Среднее специальное                                     20868000   836   \n",
              "\n",
              "                                                       loss  \n",
              "                                                        sum  \n",
              "Образование клиента                                          \n",
              "Высшее                                              1345500  \n",
              "Неоконченное высшее                                  183000  \n",
              "Неоконченное среднее                                      0  \n",
              "Несколько высших или более высокая ступень обра...        0  \n",
              "Среднее                                              877500  \n",
              "Среднее специальное                                 3115500  "
            ]
          },
          "metadata": {
            "tags": []
          },
          "execution_count": 181
        }
      ]
    },
    {
      "cell_type": "code",
      "metadata": {
        "id": "qqADB6rzi_yG",
        "colab_type": "code",
        "outputId": "24f79d67-9713-4812-b181-c2ce988470fb",
        "colab": {
          "base_uri": "https://localhost:8080/",
          "height": 785
        }
      },
      "source": [
        "good_month_det = df_train.groupby([ 'Тип товара']).agg({'default_flag':['sum', 'mean'], 'Сумма кредита':['sum', 'count'], 'loss':['sum'] })\n",
        "good_month_det"
      ],
      "execution_count": 0,
      "outputs": [
        {
          "output_type": "execute_result",
          "data": {
            "text/html": [
              "<div>\n",
              "<style scoped>\n",
              "    .dataframe tbody tr th:only-of-type {\n",
              "        vertical-align: middle;\n",
              "    }\n",
              "\n",
              "    .dataframe tbody tr th {\n",
              "        vertical-align: top;\n",
              "    }\n",
              "\n",
              "    .dataframe thead tr th {\n",
              "        text-align: left;\n",
              "    }\n",
              "\n",
              "    .dataframe thead tr:last-of-type th {\n",
              "        text-align: right;\n",
              "    }\n",
              "</style>\n",
              "<table border=\"1\" class=\"dataframe\">\n",
              "  <thead>\n",
              "    <tr>\n",
              "      <th></th>\n",
              "      <th colspan=\"2\" halign=\"left\">default_flag</th>\n",
              "      <th colspan=\"2\" halign=\"left\">Сумма кредита</th>\n",
              "      <th>loss</th>\n",
              "    </tr>\n",
              "    <tr>\n",
              "      <th></th>\n",
              "      <th>sum</th>\n",
              "      <th>mean</th>\n",
              "      <th>sum</th>\n",
              "      <th>count</th>\n",
              "      <th>sum</th>\n",
              "    </tr>\n",
              "    <tr>\n",
              "      <th>Тип товара</th>\n",
              "      <th></th>\n",
              "      <th></th>\n",
              "      <th></th>\n",
              "      <th></th>\n",
              "      <th></th>\n",
              "    </tr>\n",
              "  </thead>\n",
              "  <tbody>\n",
              "    <tr>\n",
              "      <th>Автомобильные товары</th>\n",
              "      <td>3</td>\n",
              "      <td>0.142857</td>\n",
              "      <td>649000</td>\n",
              "      <td>21</td>\n",
              "      <td>95000</td>\n",
              "    </tr>\n",
              "    <tr>\n",
              "      <th>Аудио, Видео, Фото</th>\n",
              "      <td>0</td>\n",
              "      <td>0.000000</td>\n",
              "      <td>237000</td>\n",
              "      <td>9</td>\n",
              "      <td>0</td>\n",
              "    </tr>\n",
              "    <tr>\n",
              "      <th>Бытовая техника</th>\n",
              "      <td>36</td>\n",
              "      <td>0.076433</td>\n",
              "      <td>12068500</td>\n",
              "      <td>471</td>\n",
              "      <td>1183000</td>\n",
              "    </tr>\n",
              "    <tr>\n",
              "      <th>Детские товары (игрушки, детская одежда, детская мебель)</th>\n",
              "      <td>0</td>\n",
              "      <td>0.000000</td>\n",
              "      <td>189500</td>\n",
              "      <td>2</td>\n",
              "      <td>0</td>\n",
              "    </tr>\n",
              "    <tr>\n",
              "      <th>Компьютеры, комплектующие</th>\n",
              "      <td>8</td>\n",
              "      <td>0.044944</td>\n",
              "      <td>4024000</td>\n",
              "      <td>178</td>\n",
              "      <td>213500</td>\n",
              "    </tr>\n",
              "    <tr>\n",
              "      <th>Косметика и косметические услуги</th>\n",
              "      <td>5</td>\n",
              "      <td>0.090909</td>\n",
              "      <td>3322000</td>\n",
              "      <td>55</td>\n",
              "      <td>318500</td>\n",
              "    </tr>\n",
              "    <tr>\n",
              "      <th>Мебель</th>\n",
              "      <td>8</td>\n",
              "      <td>0.048780</td>\n",
              "      <td>6582000</td>\n",
              "      <td>164</td>\n",
              "      <td>292000</td>\n",
              "    </tr>\n",
              "    <tr>\n",
              "      <th>Медицинские услуги</th>\n",
              "      <td>1</td>\n",
              "      <td>0.037037</td>\n",
              "      <td>1253000</td>\n",
              "      <td>27</td>\n",
              "      <td>15000</td>\n",
              "    </tr>\n",
              "    <tr>\n",
              "      <th>Мобильные телефоны</th>\n",
              "      <td>113</td>\n",
              "      <td>0.226908</td>\n",
              "      <td>9158500</td>\n",
              "      <td>498</td>\n",
              "      <td>2376500</td>\n",
              "    </tr>\n",
              "    <tr>\n",
              "      <th>Мототехника (лодки, мото)</th>\n",
              "      <td>1</td>\n",
              "      <td>0.090909</td>\n",
              "      <td>843000</td>\n",
              "      <td>11</td>\n",
              "      <td>49000</td>\n",
              "    </tr>\n",
              "    <tr>\n",
              "      <th>Музыка</th>\n",
              "      <td>0</td>\n",
              "      <td>0.000000</td>\n",
              "      <td>8000</td>\n",
              "      <td>1</td>\n",
              "      <td>0</td>\n",
              "    </tr>\n",
              "    <tr>\n",
              "      <th>Обучение</th>\n",
              "      <td>0</td>\n",
              "      <td>0.000000</td>\n",
              "      <td>502000</td>\n",
              "      <td>10</td>\n",
              "      <td>0</td>\n",
              "    </tr>\n",
              "    <tr>\n",
              "      <th>Одежда, изделия из меха и кожи</th>\n",
              "      <td>4</td>\n",
              "      <td>0.045455</td>\n",
              "      <td>4262500</td>\n",
              "      <td>88</td>\n",
              "      <td>344000</td>\n",
              "    </tr>\n",
              "    <tr>\n",
              "      <th>Окна, двери</th>\n",
              "      <td>2</td>\n",
              "      <td>0.042553</td>\n",
              "      <td>1888500</td>\n",
              "      <td>47</td>\n",
              "      <td>29500</td>\n",
              "    </tr>\n",
              "    <tr>\n",
              "      <th>Рыболовные и охотничьи принадлежности</th>\n",
              "      <td>0</td>\n",
              "      <td>0.000000</td>\n",
              "      <td>37000</td>\n",
              "      <td>1</td>\n",
              "      <td>0</td>\n",
              "    </tr>\n",
              "    <tr>\n",
              "      <th>Садовая техника</th>\n",
              "      <td>0</td>\n",
              "      <td>0.000000</td>\n",
              "      <td>78000</td>\n",
              "      <td>3</td>\n",
              "      <td>0</td>\n",
              "    </tr>\n",
              "    <tr>\n",
              "      <th>Спортивные товары</th>\n",
              "      <td>0</td>\n",
              "      <td>0.000000</td>\n",
              "      <td>112500</td>\n",
              "      <td>6</td>\n",
              "      <td>0</td>\n",
              "    </tr>\n",
              "    <tr>\n",
              "      <th>Строительные и ремонтные услуги</th>\n",
              "      <td>1</td>\n",
              "      <td>0.333333</td>\n",
              "      <td>191500</td>\n",
              "      <td>3</td>\n",
              "      <td>81000</td>\n",
              "    </tr>\n",
              "    <tr>\n",
              "      <th>Строительные материалы и инструменты</th>\n",
              "      <td>4</td>\n",
              "      <td>0.133333</td>\n",
              "      <td>1413500</td>\n",
              "      <td>30</td>\n",
              "      <td>271000</td>\n",
              "    </tr>\n",
              "    <tr>\n",
              "      <th>Туризм и отдых</th>\n",
              "      <td>2</td>\n",
              "      <td>0.054054</td>\n",
              "      <td>2304500</td>\n",
              "      <td>37</td>\n",
              "      <td>51500</td>\n",
              "    </tr>\n",
              "    <tr>\n",
              "      <th>Фитнес</th>\n",
              "      <td>0</td>\n",
              "      <td>0.000000</td>\n",
              "      <td>640000</td>\n",
              "      <td>25</td>\n",
              "      <td>0</td>\n",
              "    </tr>\n",
              "    <tr>\n",
              "      <th>Ювелирные украшения</th>\n",
              "      <td>8</td>\n",
              "      <td>0.222222</td>\n",
              "      <td>658500</td>\n",
              "      <td>36</td>\n",
              "      <td>202000</td>\n",
              "    </tr>\n",
              "  </tbody>\n",
              "</table>\n",
              "</div>"
            ],
            "text/plain": [
              "                                                   default_flag            \\\n",
              "                                                            sum      mean   \n",
              "Тип товара                                                                  \n",
              "Автомобильные товары                                          3  0.142857   \n",
              "Аудио, Видео, Фото                                            0  0.000000   \n",
              "Бытовая техника                                              36  0.076433   \n",
              "Детские товары (игрушки, детская одежда, детска...            0  0.000000   \n",
              "Компьютеры, комплектующие                                     8  0.044944   \n",
              "Косметика и косметические услуги                              5  0.090909   \n",
              "Мебель                                                        8  0.048780   \n",
              "Медицинские услуги                                            1  0.037037   \n",
              "Мобильные телефоны                                          113  0.226908   \n",
              "Мототехника (лодки, мото)                                     1  0.090909   \n",
              "Музыка                                                        0  0.000000   \n",
              "Обучение                                                      0  0.000000   \n",
              "Одежда, изделия из меха и кожи                                4  0.045455   \n",
              "Окна, двери                                                   2  0.042553   \n",
              "Рыболовные и охотничьи принадлежности                         0  0.000000   \n",
              "Садовая техника                                               0  0.000000   \n",
              "Спортивные товары                                             0  0.000000   \n",
              "Строительные и ремонтные услуги                               1  0.333333   \n",
              "Строительные материалы и инструменты                          4  0.133333   \n",
              "Туризм и отдых                                                2  0.054054   \n",
              "Фитнес                                                        0  0.000000   \n",
              "Ювелирные украшения                                           8  0.222222   \n",
              "\n",
              "                                                   Сумма кредита        \\\n",
              "                                                             sum count   \n",
              "Тип товара                                                               \n",
              "Автомобильные товары                                      649000    21   \n",
              "Аудио, Видео, Фото                                        237000     9   \n",
              "Бытовая техника                                         12068500   471   \n",
              "Детские товары (игрушки, детская одежда, детска...        189500     2   \n",
              "Компьютеры, комплектующие                                4024000   178   \n",
              "Косметика и косметические услуги                         3322000    55   \n",
              "Мебель                                                   6582000   164   \n",
              "Медицинские услуги                                       1253000    27   \n",
              "Мобильные телефоны                                       9158500   498   \n",
              "Мототехника (лодки, мото)                                 843000    11   \n",
              "Музыка                                                      8000     1   \n",
              "Обучение                                                  502000    10   \n",
              "Одежда, изделия из меха и кожи                           4262500    88   \n",
              "Окна, двери                                              1888500    47   \n",
              "Рыболовные и охотничьи принадлежности                      37000     1   \n",
              "Садовая техника                                            78000     3   \n",
              "Спортивные товары                                         112500     6   \n",
              "Строительные и ремонтные услуги                           191500     3   \n",
              "Строительные материалы и инструменты                     1413500    30   \n",
              "Туризм и отдых                                           2304500    37   \n",
              "Фитнес                                                    640000    25   \n",
              "Ювелирные украшения                                       658500    36   \n",
              "\n",
              "                                                       loss  \n",
              "                                                        sum  \n",
              "Тип товара                                                   \n",
              "Автомобильные товары                                  95000  \n",
              "Аудио, Видео, Фото                                        0  \n",
              "Бытовая техника                                     1183000  \n",
              "Детские товары (игрушки, детская одежда, детска...        0  \n",
              "Компьютеры, комплектующие                            213500  \n",
              "Косметика и косметические услуги                     318500  \n",
              "Мебель                                               292000  \n",
              "Медицинские услуги                                    15000  \n",
              "Мобильные телефоны                                  2376500  \n",
              "Мототехника (лодки, мото)                             49000  \n",
              "Музыка                                                    0  \n",
              "Обучение                                                  0  \n",
              "Одежда, изделия из меха и кожи                       344000  \n",
              "Окна, двери                                           29500  \n",
              "Рыболовные и охотничьи принадлежности                     0  \n",
              "Садовая техника                                           0  \n",
              "Спортивные товары                                         0  \n",
              "Строительные и ремонтные услуги                       81000  \n",
              "Строительные материалы и инструменты                 271000  \n",
              "Туризм и отдых                                        51500  \n",
              "Фитнес                                                    0  \n",
              "Ювелирные украшения                                  202000  "
            ]
          },
          "metadata": {
            "tags": []
          },
          "execution_count": 182
        }
      ]
    },
    {
      "cell_type": "code",
      "metadata": {
        "id": "2hstd2NZjARE",
        "colab_type": "code",
        "outputId": "cb9200c7-2931-4409-ca60-6a49b9a06367",
        "colab": {
          "base_uri": "https://localhost:8080/",
          "height": 202
        }
      },
      "source": [
        "reg_month_det = df_train.groupby([ 'Регион выдачи кредита']).agg({'default_flag':['sum', 'mean'], 'Сумма кредита':['sum', 'count'], 'loss':['sum'] })\n",
        "reg_month_det"
      ],
      "execution_count": 0,
      "outputs": [
        {
          "output_type": "execute_result",
          "data": {
            "text/html": [
              "<div>\n",
              "<style scoped>\n",
              "    .dataframe tbody tr th:only-of-type {\n",
              "        vertical-align: middle;\n",
              "    }\n",
              "\n",
              "    .dataframe tbody tr th {\n",
              "        vertical-align: top;\n",
              "    }\n",
              "\n",
              "    .dataframe thead tr th {\n",
              "        text-align: left;\n",
              "    }\n",
              "\n",
              "    .dataframe thead tr:last-of-type th {\n",
              "        text-align: right;\n",
              "    }\n",
              "</style>\n",
              "<table border=\"1\" class=\"dataframe\">\n",
              "  <thead>\n",
              "    <tr>\n",
              "      <th></th>\n",
              "      <th colspan=\"2\" halign=\"left\">default_flag</th>\n",
              "      <th colspan=\"2\" halign=\"left\">Сумма кредита</th>\n",
              "      <th>loss</th>\n",
              "    </tr>\n",
              "    <tr>\n",
              "      <th></th>\n",
              "      <th>sum</th>\n",
              "      <th>mean</th>\n",
              "      <th>sum</th>\n",
              "      <th>count</th>\n",
              "      <th>sum</th>\n",
              "    </tr>\n",
              "    <tr>\n",
              "      <th>Регион выдачи кредита</th>\n",
              "      <th></th>\n",
              "      <th></th>\n",
              "      <th></th>\n",
              "      <th></th>\n",
              "      <th></th>\n",
              "    </tr>\n",
              "  </thead>\n",
              "  <tbody>\n",
              "    <tr>\n",
              "      <th>Другие регионы</th>\n",
              "      <td>171</td>\n",
              "      <td>0.120934</td>\n",
              "      <td>38510000</td>\n",
              "      <td>1414</td>\n",
              "      <td>4631500</td>\n",
              "    </tr>\n",
              "    <tr>\n",
              "      <th>Москва или МО</th>\n",
              "      <td>21</td>\n",
              "      <td>0.087500</td>\n",
              "      <td>9673000</td>\n",
              "      <td>240</td>\n",
              "      <td>745500</td>\n",
              "    </tr>\n",
              "    <tr>\n",
              "      <th>Санкт-Петербург или ЛО</th>\n",
              "      <td>4</td>\n",
              "      <td>0.057971</td>\n",
              "      <td>2240000</td>\n",
              "      <td>69</td>\n",
              "      <td>144500</td>\n",
              "    </tr>\n",
              "  </tbody>\n",
              "</table>\n",
              "</div>"
            ],
            "text/plain": [
              "                       default_flag           Сумма кредита           loss\n",
              "                                sum      mean           sum count      sum\n",
              "Регион выдачи кредита                                                     \n",
              "Другие регионы                  171  0.120934      38510000  1414  4631500\n",
              "Москва или МО                    21  0.087500       9673000   240   745500\n",
              "Санкт-Петербург или ЛО            4  0.057971       2240000    69   144500"
            ]
          },
          "metadata": {
            "tags": []
          },
          "execution_count": 183
        }
      ]
    },
    {
      "cell_type": "code",
      "metadata": {
        "id": "qdLTPNL-fwku",
        "colab_type": "code",
        "colab": {}
      },
      "source": [
        "def draw_credcnt_monthly(field):\n",
        "  df = df_train.groupby([ field, 'Месяц выдачи кредита']).agg({'default_flag':['sum'], 'Сумма кредита':['sum', 'count'], 'loss':['sum'] })\n",
        "  df['proc'] = df['loss']['sum'] / df['Сумма кредита']['sum']\n",
        "  df['Всего кредитов'] = df['Сумма кредита']['count']\n",
        "  df = df.reset_index()\n",
        "  fig, axe = plt.subplots(1, 1,  figsize= (16,10), dpi= 80)\n",
        "  ax = sns.lineplot(x='Месяц выдачи кредита', y=\"Всего кредитов\", hue=field, data=df, ax=axe)\n",
        "  plt.xticks(list(range(1, 13)))\n",
        "  plt.show"
      ],
      "execution_count": 0,
      "outputs": []
    },
    {
      "cell_type": "code",
      "metadata": {
        "id": "C_jLqSnbsI3B",
        "colab_type": "code",
        "outputId": "4c14dc1d-9c5f-4f2c-92ee-732e5655abef",
        "colab": {
          "base_uri": "https://localhost:8080/",
          "height": 821
        }
      },
      "source": [
        "draw_credcnt_monthly('Образование клиента')"
      ],
      "execution_count": 0,
      "outputs": [
        {
          "output_type": "display_data",
          "data": {
            "text/plain": [
              "<Figure size 1280x800 with 1 Axes>"
            ],
            "image/svg+xml": "<?xml version=\"1.0\" encoding=\"utf-8\" standalone=\"no\"?>\n<!DOCTYPE svg PUBLIC \"-//W3C//DTD SVG 1.1//EN\"\n  \"http://www.w3.org/Graphics/SVG/1.1/DTD/svg11.dtd\">\n<!-- Created with matplotlib (https://matplotlib.org/) -->\n<svg height=\"599.759687pt\" version=\"1.1\" viewBox=\"0 0 952.31125 599.759687\" width=\"952.31125pt\" xmlns=\"http://www.w3.org/2000/svg\" xmlns:xlink=\"http://www.w3.org/1999/xlink\">\n <defs>\n  <style type=\"text/css\">\n*{stroke-linecap:butt;stroke-linejoin:round;}\n  </style>\n </defs>\n <g id=\"figure_1\">\n  <g id=\"patch_1\">\n   <path d=\"M 0 599.759687 \nL 952.31125 599.759687 \nL 952.31125 0 \nL 0 0 \nz\n\" style=\"fill:none;\"/>\n  </g>\n  <g id=\"axes_1\">\n   <g id=\"patch_2\">\n    <path d=\"M 46.31125 556.8 \nL 939.11125 556.8 \nL 939.11125 13.2 \nL 46.31125 13.2 \nz\n\" style=\"fill:#eaeaf2;\"/>\n   </g>\n   <g id=\"matplotlib.axis_1\">\n    <g id=\"xtick_1\">\n     <g id=\"line2d_1\">\n      <path clip-path=\"url(#pc134c03a64)\" d=\"M 86.893068 556.8 \nL 86.893068 13.2 \n\" style=\"fill:none;stroke:#ffffff;stroke-linecap:round;\"/>\n     </g>\n     <g id=\"text_1\">\n      <!-- 1 -->\n      <defs>\n       <path d=\"M 12.40625 8.296875 \nL 28.515625 8.296875 \nL 28.515625 63.921875 \nL 10.984375 60.40625 \nL 10.984375 69.390625 \nL 28.421875 72.90625 \nL 38.28125 72.90625 \nL 38.28125 8.296875 \nL 54.390625 8.296875 \nL 54.390625 0 \nL 12.40625 0 \nz\n\" id=\"DejaVuSans-49\"/>\n      </defs>\n      <g style=\"fill:#262626;\" transform=\"translate(83.393693 574.658281)scale(0.11 -0.11)\">\n       <use xlink:href=\"#DejaVuSans-49\"/>\n      </g>\n     </g>\n    </g>\n    <g id=\"xtick_2\">\n     <g id=\"line2d_2\">\n      <path clip-path=\"url(#pc134c03a64)\" d=\"M 160.678192 556.8 \nL 160.678192 13.2 \n\" style=\"fill:none;stroke:#ffffff;stroke-linecap:round;\"/>\n     </g>\n     <g id=\"text_2\">\n      <!-- 2 -->\n      <defs>\n       <path d=\"M 19.1875 8.296875 \nL 53.609375 8.296875 \nL 53.609375 0 \nL 7.328125 0 \nL 7.328125 8.296875 \nQ 12.9375 14.109375 22.625 23.890625 \nQ 32.328125 33.6875 34.8125 36.53125 \nQ 39.546875 41.84375 41.421875 45.53125 \nQ 43.3125 49.21875 43.3125 52.78125 \nQ 43.3125 58.59375 39.234375 62.25 \nQ 35.15625 65.921875 28.609375 65.921875 \nQ 23.96875 65.921875 18.8125 64.3125 \nQ 13.671875 62.703125 7.8125 59.421875 \nL 7.8125 69.390625 \nQ 13.765625 71.78125 18.9375 73 \nQ 24.125 74.21875 28.421875 74.21875 \nQ 39.75 74.21875 46.484375 68.546875 \nQ 53.21875 62.890625 53.21875 53.421875 \nQ 53.21875 48.921875 51.53125 44.890625 \nQ 49.859375 40.875 45.40625 35.40625 \nQ 44.1875 33.984375 37.640625 27.21875 \nQ 31.109375 20.453125 19.1875 8.296875 \nz\n\" id=\"DejaVuSans-50\"/>\n      </defs>\n      <g style=\"fill:#262626;\" transform=\"translate(157.178817 574.658281)scale(0.11 -0.11)\">\n       <use xlink:href=\"#DejaVuSans-50\"/>\n      </g>\n     </g>\n    </g>\n    <g id=\"xtick_3\">\n     <g id=\"line2d_3\">\n      <path clip-path=\"url(#pc134c03a64)\" d=\"M 234.463316 556.8 \nL 234.463316 13.2 \n\" style=\"fill:none;stroke:#ffffff;stroke-linecap:round;\"/>\n     </g>\n     <g id=\"text_3\">\n      <!-- 3 -->\n      <defs>\n       <path d=\"M 40.578125 39.3125 \nQ 47.65625 37.796875 51.625 33 \nQ 55.609375 28.21875 55.609375 21.1875 \nQ 55.609375 10.40625 48.1875 4.484375 \nQ 40.765625 -1.421875 27.09375 -1.421875 \nQ 22.515625 -1.421875 17.65625 -0.515625 \nQ 12.796875 0.390625 7.625 2.203125 \nL 7.625 11.71875 \nQ 11.71875 9.328125 16.59375 8.109375 \nQ 21.484375 6.890625 26.8125 6.890625 \nQ 36.078125 6.890625 40.9375 10.546875 \nQ 45.796875 14.203125 45.796875 21.1875 \nQ 45.796875 27.640625 41.28125 31.265625 \nQ 36.765625 34.90625 28.71875 34.90625 \nL 20.21875 34.90625 \nL 20.21875 43.015625 \nL 29.109375 43.015625 \nQ 36.375 43.015625 40.234375 45.921875 \nQ 44.09375 48.828125 44.09375 54.296875 \nQ 44.09375 59.90625 40.109375 62.90625 \nQ 36.140625 65.921875 28.71875 65.921875 \nQ 24.65625 65.921875 20.015625 65.03125 \nQ 15.375 64.15625 9.8125 62.3125 \nL 9.8125 71.09375 \nQ 15.4375 72.65625 20.34375 73.4375 \nQ 25.25 74.21875 29.59375 74.21875 \nQ 40.828125 74.21875 47.359375 69.109375 \nQ 53.90625 64.015625 53.90625 55.328125 \nQ 53.90625 49.265625 50.4375 45.09375 \nQ 46.96875 40.921875 40.578125 39.3125 \nz\n\" id=\"DejaVuSans-51\"/>\n      </defs>\n      <g style=\"fill:#262626;\" transform=\"translate(230.963941 574.658281)scale(0.11 -0.11)\">\n       <use xlink:href=\"#DejaVuSans-51\"/>\n      </g>\n     </g>\n    </g>\n    <g id=\"xtick_4\">\n     <g id=\"line2d_4\">\n      <path clip-path=\"url(#pc134c03a64)\" d=\"M 308.24844 556.8 \nL 308.24844 13.2 \n\" style=\"fill:none;stroke:#ffffff;stroke-linecap:round;\"/>\n     </g>\n     <g id=\"text_4\">\n      <!-- 4 -->\n      <defs>\n       <path d=\"M 37.796875 64.3125 \nL 12.890625 25.390625 \nL 37.796875 25.390625 \nz\nM 35.203125 72.90625 \nL 47.609375 72.90625 \nL 47.609375 25.390625 \nL 58.015625 25.390625 \nL 58.015625 17.1875 \nL 47.609375 17.1875 \nL 47.609375 0 \nL 37.796875 0 \nL 37.796875 17.1875 \nL 4.890625 17.1875 \nL 4.890625 26.703125 \nz\n\" id=\"DejaVuSans-52\"/>\n      </defs>\n      <g style=\"fill:#262626;\" transform=\"translate(304.749065 574.658281)scale(0.11 -0.11)\">\n       <use xlink:href=\"#DejaVuSans-52\"/>\n      </g>\n     </g>\n    </g>\n    <g id=\"xtick_5\">\n     <g id=\"line2d_5\">\n      <path clip-path=\"url(#pc134c03a64)\" d=\"M 382.033564 556.8 \nL 382.033564 13.2 \n\" style=\"fill:none;stroke:#ffffff;stroke-linecap:round;\"/>\n     </g>\n     <g id=\"text_5\">\n      <!-- 5 -->\n      <defs>\n       <path d=\"M 10.796875 72.90625 \nL 49.515625 72.90625 \nL 49.515625 64.59375 \nL 19.828125 64.59375 \nL 19.828125 46.734375 \nQ 21.96875 47.46875 24.109375 47.828125 \nQ 26.265625 48.1875 28.421875 48.1875 \nQ 40.625 48.1875 47.75 41.5 \nQ 54.890625 34.8125 54.890625 23.390625 \nQ 54.890625 11.625 47.5625 5.09375 \nQ 40.234375 -1.421875 26.90625 -1.421875 \nQ 22.3125 -1.421875 17.546875 -0.640625 \nQ 12.796875 0.140625 7.71875 1.703125 \nL 7.71875 11.625 \nQ 12.109375 9.234375 16.796875 8.0625 \nQ 21.484375 6.890625 26.703125 6.890625 \nQ 35.15625 6.890625 40.078125 11.328125 \nQ 45.015625 15.765625 45.015625 23.390625 \nQ 45.015625 31 40.078125 35.4375 \nQ 35.15625 39.890625 26.703125 39.890625 \nQ 22.75 39.890625 18.8125 39.015625 \nQ 14.890625 38.140625 10.796875 36.28125 \nz\n\" id=\"DejaVuSans-53\"/>\n      </defs>\n      <g style=\"fill:#262626;\" transform=\"translate(378.534189 574.658281)scale(0.11 -0.11)\">\n       <use xlink:href=\"#DejaVuSans-53\"/>\n      </g>\n     </g>\n    </g>\n    <g id=\"xtick_6\">\n     <g id=\"line2d_6\">\n      <path clip-path=\"url(#pc134c03a64)\" d=\"M 455.818688 556.8 \nL 455.818688 13.2 \n\" style=\"fill:none;stroke:#ffffff;stroke-linecap:round;\"/>\n     </g>\n     <g id=\"text_6\">\n      <!-- 6 -->\n      <defs>\n       <path d=\"M 33.015625 40.375 \nQ 26.375 40.375 22.484375 35.828125 \nQ 18.609375 31.296875 18.609375 23.390625 \nQ 18.609375 15.53125 22.484375 10.953125 \nQ 26.375 6.390625 33.015625 6.390625 \nQ 39.65625 6.390625 43.53125 10.953125 \nQ 47.40625 15.53125 47.40625 23.390625 \nQ 47.40625 31.296875 43.53125 35.828125 \nQ 39.65625 40.375 33.015625 40.375 \nz\nM 52.59375 71.296875 \nL 52.59375 62.3125 \nQ 48.875 64.0625 45.09375 64.984375 \nQ 41.3125 65.921875 37.59375 65.921875 \nQ 27.828125 65.921875 22.671875 59.328125 \nQ 17.53125 52.734375 16.796875 39.40625 \nQ 19.671875 43.65625 24.015625 45.921875 \nQ 28.375 48.1875 33.59375 48.1875 \nQ 44.578125 48.1875 50.953125 41.515625 \nQ 57.328125 34.859375 57.328125 23.390625 \nQ 57.328125 12.15625 50.6875 5.359375 \nQ 44.046875 -1.421875 33.015625 -1.421875 \nQ 20.359375 -1.421875 13.671875 8.265625 \nQ 6.984375 17.96875 6.984375 36.375 \nQ 6.984375 53.65625 15.1875 63.9375 \nQ 23.390625 74.21875 37.203125 74.21875 \nQ 40.921875 74.21875 44.703125 73.484375 \nQ 48.484375 72.75 52.59375 71.296875 \nz\n\" id=\"DejaVuSans-54\"/>\n      </defs>\n      <g style=\"fill:#262626;\" transform=\"translate(452.319313 574.658281)scale(0.11 -0.11)\">\n       <use xlink:href=\"#DejaVuSans-54\"/>\n      </g>\n     </g>\n    </g>\n    <g id=\"xtick_7\">\n     <g id=\"line2d_7\">\n      <path clip-path=\"url(#pc134c03a64)\" d=\"M 529.603812 556.8 \nL 529.603812 13.2 \n\" style=\"fill:none;stroke:#ffffff;stroke-linecap:round;\"/>\n     </g>\n     <g id=\"text_7\">\n      <!-- 7 -->\n      <defs>\n       <path d=\"M 8.203125 72.90625 \nL 55.078125 72.90625 \nL 55.078125 68.703125 \nL 28.609375 0 \nL 18.3125 0 \nL 43.21875 64.59375 \nL 8.203125 64.59375 \nz\n\" id=\"DejaVuSans-55\"/>\n      </defs>\n      <g style=\"fill:#262626;\" transform=\"translate(526.104437 574.658281)scale(0.11 -0.11)\">\n       <use xlink:href=\"#DejaVuSans-55\"/>\n      </g>\n     </g>\n    </g>\n    <g id=\"xtick_8\">\n     <g id=\"line2d_8\">\n      <path clip-path=\"url(#pc134c03a64)\" d=\"M 603.388936 556.8 \nL 603.388936 13.2 \n\" style=\"fill:none;stroke:#ffffff;stroke-linecap:round;\"/>\n     </g>\n     <g id=\"text_8\">\n      <!-- 8 -->\n      <defs>\n       <path d=\"M 31.78125 34.625 \nQ 24.75 34.625 20.71875 30.859375 \nQ 16.703125 27.09375 16.703125 20.515625 \nQ 16.703125 13.921875 20.71875 10.15625 \nQ 24.75 6.390625 31.78125 6.390625 \nQ 38.8125 6.390625 42.859375 10.171875 \nQ 46.921875 13.96875 46.921875 20.515625 \nQ 46.921875 27.09375 42.890625 30.859375 \nQ 38.875 34.625 31.78125 34.625 \nz\nM 21.921875 38.8125 \nQ 15.578125 40.375 12.03125 44.71875 \nQ 8.5 49.078125 8.5 55.328125 \nQ 8.5 64.0625 14.71875 69.140625 \nQ 20.953125 74.21875 31.78125 74.21875 \nQ 42.671875 74.21875 48.875 69.140625 \nQ 55.078125 64.0625 55.078125 55.328125 \nQ 55.078125 49.078125 51.53125 44.71875 \nQ 48 40.375 41.703125 38.8125 \nQ 48.828125 37.15625 52.796875 32.3125 \nQ 56.78125 27.484375 56.78125 20.515625 \nQ 56.78125 9.90625 50.3125 4.234375 \nQ 43.84375 -1.421875 31.78125 -1.421875 \nQ 19.734375 -1.421875 13.25 4.234375 \nQ 6.78125 9.90625 6.78125 20.515625 \nQ 6.78125 27.484375 10.78125 32.3125 \nQ 14.796875 37.15625 21.921875 38.8125 \nz\nM 18.3125 54.390625 \nQ 18.3125 48.734375 21.84375 45.5625 \nQ 25.390625 42.390625 31.78125 42.390625 \nQ 38.140625 42.390625 41.71875 45.5625 \nQ 45.3125 48.734375 45.3125 54.390625 \nQ 45.3125 60.0625 41.71875 63.234375 \nQ 38.140625 66.40625 31.78125 66.40625 \nQ 25.390625 66.40625 21.84375 63.234375 \nQ 18.3125 60.0625 18.3125 54.390625 \nz\n\" id=\"DejaVuSans-56\"/>\n      </defs>\n      <g style=\"fill:#262626;\" transform=\"translate(599.889561 574.658281)scale(0.11 -0.11)\">\n       <use xlink:href=\"#DejaVuSans-56\"/>\n      </g>\n     </g>\n    </g>\n    <g id=\"xtick_9\">\n     <g id=\"line2d_9\">\n      <path clip-path=\"url(#pc134c03a64)\" d=\"M 677.17406 556.8 \nL 677.17406 13.2 \n\" style=\"fill:none;stroke:#ffffff;stroke-linecap:round;\"/>\n     </g>\n     <g id=\"text_9\">\n      <!-- 9 -->\n      <defs>\n       <path d=\"M 10.984375 1.515625 \nL 10.984375 10.5 \nQ 14.703125 8.734375 18.5 7.8125 \nQ 22.3125 6.890625 25.984375 6.890625 \nQ 35.75 6.890625 40.890625 13.453125 \nQ 46.046875 20.015625 46.78125 33.40625 \nQ 43.953125 29.203125 39.59375 26.953125 \nQ 35.25 24.703125 29.984375 24.703125 \nQ 19.046875 24.703125 12.671875 31.3125 \nQ 6.296875 37.9375 6.296875 49.421875 \nQ 6.296875 60.640625 12.9375 67.421875 \nQ 19.578125 74.21875 30.609375 74.21875 \nQ 43.265625 74.21875 49.921875 64.515625 \nQ 56.59375 54.828125 56.59375 36.375 \nQ 56.59375 19.140625 48.40625 8.859375 \nQ 40.234375 -1.421875 26.421875 -1.421875 \nQ 22.703125 -1.421875 18.890625 -0.6875 \nQ 15.09375 0.046875 10.984375 1.515625 \nz\nM 30.609375 32.421875 \nQ 37.25 32.421875 41.125 36.953125 \nQ 45.015625 41.5 45.015625 49.421875 \nQ 45.015625 57.28125 41.125 61.84375 \nQ 37.25 66.40625 30.609375 66.40625 \nQ 23.96875 66.40625 20.09375 61.84375 \nQ 16.21875 57.28125 16.21875 49.421875 \nQ 16.21875 41.5 20.09375 36.953125 \nQ 23.96875 32.421875 30.609375 32.421875 \nz\n\" id=\"DejaVuSans-57\"/>\n      </defs>\n      <g style=\"fill:#262626;\" transform=\"translate(673.674685 574.658281)scale(0.11 -0.11)\">\n       <use xlink:href=\"#DejaVuSans-57\"/>\n      </g>\n     </g>\n    </g>\n    <g id=\"xtick_10\">\n     <g id=\"line2d_10\">\n      <path clip-path=\"url(#pc134c03a64)\" d=\"M 750.959184 556.8 \nL 750.959184 13.2 \n\" style=\"fill:none;stroke:#ffffff;stroke-linecap:round;\"/>\n     </g>\n     <g id=\"text_10\">\n      <!-- 10 -->\n      <defs>\n       <path d=\"M 31.78125 66.40625 \nQ 24.171875 66.40625 20.328125 58.90625 \nQ 16.5 51.421875 16.5 36.375 \nQ 16.5 21.390625 20.328125 13.890625 \nQ 24.171875 6.390625 31.78125 6.390625 \nQ 39.453125 6.390625 43.28125 13.890625 \nQ 47.125 21.390625 47.125 36.375 \nQ 47.125 51.421875 43.28125 58.90625 \nQ 39.453125 66.40625 31.78125 66.40625 \nz\nM 31.78125 74.21875 \nQ 44.046875 74.21875 50.515625 64.515625 \nQ 56.984375 54.828125 56.984375 36.375 \nQ 56.984375 17.96875 50.515625 8.265625 \nQ 44.046875 -1.421875 31.78125 -1.421875 \nQ 19.53125 -1.421875 13.0625 8.265625 \nQ 6.59375 17.96875 6.59375 36.375 \nQ 6.59375 54.828125 13.0625 64.515625 \nQ 19.53125 74.21875 31.78125 74.21875 \nz\n\" id=\"DejaVuSans-48\"/>\n      </defs>\n      <g style=\"fill:#262626;\" transform=\"translate(743.960434 574.658281)scale(0.11 -0.11)\">\n       <use xlink:href=\"#DejaVuSans-49\"/>\n       <use x=\"63.623047\" xlink:href=\"#DejaVuSans-48\"/>\n      </g>\n     </g>\n    </g>\n    <g id=\"xtick_11\">\n     <g id=\"line2d_11\">\n      <path clip-path=\"url(#pc134c03a64)\" d=\"M 824.744308 556.8 \nL 824.744308 13.2 \n\" style=\"fill:none;stroke:#ffffff;stroke-linecap:round;\"/>\n     </g>\n     <g id=\"text_11\">\n      <!-- 11 -->\n      <g style=\"fill:#262626;\" transform=\"translate(817.745558 574.658281)scale(0.11 -0.11)\">\n       <use xlink:href=\"#DejaVuSans-49\"/>\n       <use x=\"63.623047\" xlink:href=\"#DejaVuSans-49\"/>\n      </g>\n     </g>\n    </g>\n    <g id=\"xtick_12\">\n     <g id=\"line2d_12\">\n      <path clip-path=\"url(#pc134c03a64)\" d=\"M 898.529432 556.8 \nL 898.529432 13.2 \n\" style=\"fill:none;stroke:#ffffff;stroke-linecap:round;\"/>\n     </g>\n     <g id=\"text_12\">\n      <!-- 12 -->\n      <g style=\"fill:#262626;\" transform=\"translate(891.530682 574.658281)scale(0.11 -0.11)\">\n       <use xlink:href=\"#DejaVuSans-49\"/>\n       <use x=\"63.623047\" xlink:href=\"#DejaVuSans-50\"/>\n      </g>\n     </g>\n    </g>\n    <g id=\"text_13\">\n     <!-- Месяц выдачи кредита -->\n     <defs>\n      <path d=\"M 9.8125 72.90625 \nL 24.515625 72.90625 \nL 43.109375 23.296875 \nL 61.8125 72.90625 \nL 76.515625 72.90625 \nL 76.515625 0 \nL 66.890625 0 \nL 66.890625 64.015625 \nL 48.09375 14.015625 \nL 38.1875 14.015625 \nL 19.390625 64.015625 \nL 19.390625 0 \nL 9.8125 0 \nz\n\" id=\"DejaVuSans-1052\"/>\n      <path d=\"M 56.203125 29.59375 \nL 56.203125 25.203125 \nL 14.890625 25.203125 \nQ 15.484375 15.921875 20.484375 11.0625 \nQ 25.484375 6.203125 34.421875 6.203125 \nQ 39.59375 6.203125 44.453125 7.46875 \nQ 49.3125 8.734375 54.109375 11.28125 \nL 54.109375 2.78125 \nQ 49.265625 0.734375 44.1875 -0.34375 \nQ 39.109375 -1.421875 33.890625 -1.421875 \nQ 20.796875 -1.421875 13.15625 6.1875 \nQ 5.515625 13.8125 5.515625 26.8125 \nQ 5.515625 40.234375 12.765625 48.109375 \nQ 20.015625 56 32.328125 56 \nQ 43.359375 56 49.78125 48.890625 \nQ 56.203125 41.796875 56.203125 29.59375 \nz\nM 47.21875 32.234375 \nQ 47.125 39.59375 43.09375 43.984375 \nQ 39.0625 48.390625 32.421875 48.390625 \nQ 24.90625 48.390625 20.390625 44.140625 \nQ 15.875 39.890625 15.1875 32.171875 \nz\n\" id=\"DejaVuSans-1077\"/>\n      <path d=\"M 48.78125 52.59375 \nL 48.78125 44.1875 \nQ 44.96875 46.296875 41.140625 47.34375 \nQ 37.3125 48.390625 33.40625 48.390625 \nQ 24.65625 48.390625 19.8125 42.84375 \nQ 14.984375 37.3125 14.984375 27.296875 \nQ 14.984375 17.28125 19.8125 11.734375 \nQ 24.65625 6.203125 33.40625 6.203125 \nQ 37.3125 6.203125 41.140625 7.25 \nQ 44.96875 8.296875 48.78125 10.40625 \nL 48.78125 2.09375 \nQ 45.015625 0.34375 40.984375 -0.53125 \nQ 36.96875 -1.421875 32.421875 -1.421875 \nQ 20.0625 -1.421875 12.78125 6.34375 \nQ 5.515625 14.109375 5.515625 27.296875 \nQ 5.515625 40.671875 12.859375 48.328125 \nQ 20.21875 56 33.015625 56 \nQ 37.15625 56 41.109375 55.140625 \nQ 45.0625 54.296875 48.78125 52.59375 \nz\n\" id=\"DejaVuSans-1089\"/>\n      <path d=\"M 18.453125 38.921875 \nQ 18.453125 34.859375 21.578125 32.5625 \nQ 24.703125 30.28125 30.515625 30.28125 \nL 42.625 30.28125 \nL 42.625 47.515625 \nL 30.515625 47.515625 \nQ 24.703125 47.515625 21.578125 45.265625 \nQ 18.453125 43.015625 18.453125 38.921875 \nz\nM 5.671875 0 \nL 22.359375 23.96875 \nQ 16.703125 25.25 12.9375 28.59375 \nQ 9.1875 31.9375 9.1875 38.921875 \nQ 9.1875 46.828125 14.421875 50.75 \nQ 19.671875 54.6875 30.28125 54.6875 \nL 51.65625 54.6875 \nL 51.65625 0 \nL 42.625 0 \nL 42.625 23.09375 \nL 31.453125 23.09375 \nL 15.328125 0 \nz\n\" id=\"DejaVuSans-1103\"/>\n      <path d=\"M 56.296875 0 \nL 9.078125 0 \nL 9.078125 54.6875 \nL 18.109375 54.6875 \nL 18.109375 7.171875 \nL 47.265625 7.171875 \nL 47.265625 54.6875 \nL 56.296875 54.6875 \nL 56.296875 7.171875 \nL 63.484375 7.171875 \nL 63.484375 -13.8125 \nL 56.296875 -13.8125 \nz\n\" id=\"DejaVuSans-1094\"/>\n      <path id=\"DejaVuSans-32\"/>\n      <path d=\"M 18.0625 25.203125 \nL 18.0625 7.171875 \nL 30.859375 7.171875 \nQ 37.015625 7.171875 40.234375 9.484375 \nQ 43.453125 11.8125 43.453125 16.21875 \nQ 43.453125 20.609375 40.234375 22.90625 \nQ 37.015625 25.203125 30.859375 25.203125 \nz\nM 18.0625 47.515625 \nL 18.0625 32.375 \nL 29.890625 32.375 \nQ 34.96875 32.375 38.1875 34.390625 \nQ 41.40625 36.421875 41.40625 40.046875 \nQ 41.40625 43.65625 38.1875 45.578125 \nQ 34.96875 47.515625 29.890625 47.515625 \nz\nM 9.078125 54.6875 \nL 30.46875 54.6875 \nQ 40.09375 54.6875 45.265625 51.171875 \nQ 50.4375 47.65625 50.4375 41.15625 \nQ 50.4375 36.140625 47.796875 33.171875 \nQ 45.171875 30.21875 39.984375 29.5 \nQ 46.1875 28.328125 49.609375 24.609375 \nQ 53.03125 20.90625 53.03125 15.328125 \nQ 53.03125 8.015625 47.390625 4 \nQ 41.75 0 31.296875 0 \nL 9.078125 0 \nz\n\" id=\"DejaVuSans-1074\"/>\n      <path d=\"M 61.046875 54.6875 \nL 70.03125 54.6875 \nL 70.03125 0 \nL 61.046875 0 \nz\nM 65.546875 56 \nz\nM 43.453125 16.21875 \nQ 43.453125 20.609375 40.25 22.90625 \nQ 37.0625 25.203125 30.90625 25.203125 \nL 18.109375 25.203125 \nL 18.109375 7.171875 \nL 30.90625 7.171875 \nQ 37.0625 7.171875 40.25 9.484375 \nQ 43.453125 11.8125 43.453125 16.21875 \nz\nM 9.078125 54.6875 \nL 18.109375 54.6875 \nL 18.109375 32.375 \nL 31.296875 32.375 \nQ 41.75 32.375 47.390625 28.390625 \nQ 53.03125 24.421875 53.03125 16.21875 \nQ 53.03125 8.015625 47.390625 4 \nQ 41.75 0 31.296875 0 \nL 9.078125 0 \nz\n\" id=\"DejaVuSans-1099\"/>\n      <path d=\"M 21.625 7.171875 \nL 47.703125 7.171875 \nL 47.703125 47.515625 \nL 28.8125 47.515625 \nL 28.8125 40.671875 \nQ 28.8125 20.5625 23.046875 9.8125 \nz\nM 8.59375 7.171875 \nQ 13.03125 9.125 14.984375 13.28125 \nQ 19.78125 23.578125 19.78125 44.34375 \nL 19.78125 54.6875 \nL 56.734375 54.6875 \nL 56.734375 7.171875 \nL 63.921875 7.171875 \nL 63.921875 -13.8125 \nL 56.734375 -13.8125 \nL 56.734375 0 \nL 12.40625 0 \nL 12.40625 -13.8125 \nL 5.21875 -13.8125 \nL 5.21875 7.171875 \nz\n\" id=\"DejaVuSans-1076\"/>\n      <path d=\"M 34.28125 27.484375 \nQ 23.390625 27.484375 19.1875 25 \nQ 14.984375 22.515625 14.984375 16.5 \nQ 14.984375 11.71875 18.140625 8.90625 \nQ 21.296875 6.109375 26.703125 6.109375 \nQ 34.1875 6.109375 38.703125 11.40625 \nQ 43.21875 16.703125 43.21875 25.484375 \nL 43.21875 27.484375 \nz\nM 52.203125 31.203125 \nL 52.203125 0 \nL 43.21875 0 \nL 43.21875 8.296875 \nQ 40.140625 3.328125 35.546875 0.953125 \nQ 30.953125 -1.421875 24.3125 -1.421875 \nQ 15.921875 -1.421875 10.953125 3.296875 \nQ 6 8.015625 6 15.921875 \nQ 6 25.140625 12.171875 29.828125 \nQ 18.359375 34.515625 30.609375 34.515625 \nL 43.21875 34.515625 \nL 43.21875 35.40625 \nQ 43.21875 41.609375 39.140625 45 \nQ 35.0625 48.390625 27.6875 48.390625 \nQ 23 48.390625 18.546875 47.265625 \nQ 14.109375 46.140625 10.015625 43.890625 \nL 10.015625 52.203125 \nQ 14.9375 54.109375 19.578125 55.046875 \nQ 24.21875 56 28.609375 56 \nQ 40.484375 56 46.34375 49.84375 \nQ 52.203125 43.703125 52.203125 31.203125 \nz\n\" id=\"DejaVuSans-1072\"/>\n      <path d=\"M 41.015625 0 \nL 41.015625 23 \nL 24.265625 23 \nQ 16.796875 23 11.8125 27.640625 \nQ 7.328125 31.84375 7.328125 40.828125 \nL 7.328125 54.6875 \nL 16.3125 54.6875 \nL 16.3125 41.65625 \nQ 16.3125 35.9375 18.84375 33.0625 \nQ 21.4375 30.171875 26.515625 30.171875 \nL 41.015625 30.171875 \nL 41.015625 54.6875 \nL 50 54.6875 \nL 50 0 \nz\n\" id=\"DejaVuSans-1095\"/>\n      <path d=\"M 55.90625 54.6875 \nL 55.90625 0 \nL 46.96875 0 \nL 46.96875 43.890625 \nL 20.609375 0 \nL 9.078125 0 \nL 9.078125 54.6875 \nL 18.015625 54.6875 \nL 18.015625 10.890625 \nL 44.34375 54.6875 \nz\n\" id=\"DejaVuSans-1080\"/>\n      <path d=\"M 9.078125 54.6875 \nL 18.015625 54.6875 \nL 18.015625 29 \nL 43.359375 54.6875 \nL 54.390625 54.6875 \nL 33.5 33.546875 \nL 57.078125 0 \nL 47.015625 0 \nL 27.640625 27.59375 \nL 18.015625 17.828125 \nL 18.015625 0 \nL 9.078125 0 \nz\n\" id=\"DejaVuSans-1082\"/>\n      <path d=\"M 18.109375 8.203125 \nL 18.109375 -20.796875 \nL 9.078125 -20.796875 \nL 9.078125 54.6875 \nL 18.109375 54.6875 \nL 18.109375 46.390625 \nQ 20.953125 51.265625 25.265625 53.625 \nQ 29.59375 56 35.59375 56 \nQ 45.5625 56 51.78125 48.09375 \nQ 58.015625 40.1875 58.015625 27.296875 \nQ 58.015625 14.40625 51.78125 6.484375 \nQ 45.5625 -1.421875 35.59375 -1.421875 \nQ 29.59375 -1.421875 25.265625 0.953125 \nQ 20.953125 3.328125 18.109375 8.203125 \nz\nM 48.6875 27.296875 \nQ 48.6875 37.203125 44.609375 42.84375 \nQ 40.53125 48.484375 33.40625 48.484375 \nQ 26.265625 48.484375 22.1875 42.84375 \nQ 18.109375 37.203125 18.109375 27.296875 \nQ 18.109375 17.390625 22.1875 11.75 \nQ 26.265625 6.109375 33.40625 6.109375 \nQ 40.53125 6.109375 44.609375 11.75 \nQ 48.6875 17.390625 48.6875 27.296875 \nz\n\" id=\"DejaVuSans-1088\"/>\n      <path d=\"M 2.9375 54.6875 \nL 55.328125 54.6875 \nL 55.328125 47.515625 \nL 33.546875 47.515625 \nL 33.546875 0 \nL 24.703125 0 \nL 24.703125 47.515625 \nL 2.9375 47.515625 \nz\n\" id=\"DejaVuSans-1090\"/>\n     </defs>\n     <g style=\"fill:#262626;\" transform=\"translate(419.149375 590.064062)scale(0.12 -0.12)\">\n      <use xlink:href=\"#DejaVuSans-1052\"/>\n      <use x=\"86.279297\" xlink:href=\"#DejaVuSans-1077\"/>\n      <use x=\"147.802734\" xlink:href=\"#DejaVuSans-1089\"/>\n      <use x=\"202.783203\" xlink:href=\"#DejaVuSans-1103\"/>\n      <use x=\"262.939453\" xlink:href=\"#DejaVuSans-1094\"/>\n      <use x=\"331.005859\" xlink:href=\"#DejaVuSans-32\"/>\n      <use x=\"362.792969\" xlink:href=\"#DejaVuSans-1074\"/>\n      <use x=\"421.728516\" xlink:href=\"#DejaVuSans-1099\"/>\n      <use x=\"500.683594\" xlink:href=\"#DejaVuSans-1076\"/>\n      <use x=\"569.824219\" xlink:href=\"#DejaVuSans-1072\"/>\n      <use x=\"631.103516\" xlink:href=\"#DejaVuSans-1095\"/>\n      <use x=\"690.185547\" xlink:href=\"#DejaVuSans-1080\"/>\n      <use x=\"755.175781\" xlink:href=\"#DejaVuSans-32\"/>\n      <use x=\"786.962891\" xlink:href=\"#DejaVuSans-1082\"/>\n      <use x=\"847.363281\" xlink:href=\"#DejaVuSans-1088\"/>\n      <use x=\"910.839844\" xlink:href=\"#DejaVuSans-1077\"/>\n      <use x=\"972.363281\" xlink:href=\"#DejaVuSans-1076\"/>\n      <use x=\"1041.503906\" xlink:href=\"#DejaVuSans-1080\"/>\n      <use x=\"1106.494141\" xlink:href=\"#DejaVuSans-1090\"/>\n      <use x=\"1164.746094\" xlink:href=\"#DejaVuSans-1072\"/>\n     </g>\n    </g>\n   </g>\n   <g id=\"matplotlib.axis_2\">\n    <g id=\"ytick_1\">\n     <g id=\"line2d_13\">\n      <path clip-path=\"url(#pc134c03a64)\" d=\"M 46.31125 537.837209 \nL 939.11125 537.837209 \n\" style=\"fill:none;stroke:#ffffff;stroke-linecap:round;\"/>\n     </g>\n     <g id=\"text_14\">\n      <!-- 0 -->\n      <g style=\"fill:#262626;\" transform=\"translate(29.8125 542.01635)scale(0.11 -0.11)\">\n       <use xlink:href=\"#DejaVuSans-48\"/>\n      </g>\n     </g>\n    </g>\n    <g id=\"ytick_2\">\n     <g id=\"line2d_14\">\n      <path clip-path=\"url(#pc134c03a64)\" d=\"M 46.31125 422.911205 \nL 939.11125 422.911205 \n\" style=\"fill:none;stroke:#ffffff;stroke-linecap:round;\"/>\n     </g>\n     <g id=\"text_15\">\n      <!-- 20 -->\n      <g style=\"fill:#262626;\" transform=\"translate(22.81375 427.090346)scale(0.11 -0.11)\">\n       <use xlink:href=\"#DejaVuSans-50\"/>\n       <use x=\"63.623047\" xlink:href=\"#DejaVuSans-48\"/>\n      </g>\n     </g>\n    </g>\n    <g id=\"ytick_3\">\n     <g id=\"line2d_15\">\n      <path clip-path=\"url(#pc134c03a64)\" d=\"M 46.31125 307.985201 \nL 939.11125 307.985201 \n\" style=\"fill:none;stroke:#ffffff;stroke-linecap:round;\"/>\n     </g>\n     <g id=\"text_16\">\n      <!-- 40 -->\n      <g style=\"fill:#262626;\" transform=\"translate(22.81375 312.164341)scale(0.11 -0.11)\">\n       <use xlink:href=\"#DejaVuSans-52\"/>\n       <use x=\"63.623047\" xlink:href=\"#DejaVuSans-48\"/>\n      </g>\n     </g>\n    </g>\n    <g id=\"ytick_4\">\n     <g id=\"line2d_16\">\n      <path clip-path=\"url(#pc134c03a64)\" d=\"M 46.31125 193.059197 \nL 939.11125 193.059197 \n\" style=\"fill:none;stroke:#ffffff;stroke-linecap:round;\"/>\n     </g>\n     <g id=\"text_17\">\n      <!-- 60 -->\n      <g style=\"fill:#262626;\" transform=\"translate(22.81375 197.238337)scale(0.11 -0.11)\">\n       <use xlink:href=\"#DejaVuSans-54\"/>\n       <use x=\"63.623047\" xlink:href=\"#DejaVuSans-48\"/>\n      </g>\n     </g>\n    </g>\n    <g id=\"ytick_5\">\n     <g id=\"line2d_17\">\n      <path clip-path=\"url(#pc134c03a64)\" d=\"M 46.31125 78.133192 \nL 939.11125 78.133192 \n\" style=\"fill:none;stroke:#ffffff;stroke-linecap:round;\"/>\n     </g>\n     <g id=\"text_18\">\n      <!-- 80 -->\n      <g style=\"fill:#262626;\" transform=\"translate(22.81375 82.312333)scale(0.11 -0.11)\">\n       <use xlink:href=\"#DejaVuSans-56\"/>\n       <use x=\"63.623047\" xlink:href=\"#DejaVuSans-48\"/>\n      </g>\n     </g>\n    </g>\n    <g id=\"text_19\">\n     <!-- Всего кредитов -->\n     <defs>\n      <path d=\"M 19.671875 34.8125 \nL 19.671875 8.109375 \nL 35.5 8.109375 \nQ 43.453125 8.109375 47.28125 11.40625 \nQ 51.125 14.703125 51.125 21.484375 \nQ 51.125 28.328125 47.28125 31.5625 \nQ 43.453125 34.8125 35.5 34.8125 \nz\nM 19.671875 64.796875 \nL 19.671875 42.828125 \nL 34.28125 42.828125 \nQ 41.5 42.828125 45.03125 45.53125 \nQ 48.578125 48.25 48.578125 53.8125 \nQ 48.578125 59.328125 45.03125 62.0625 \nQ 41.5 64.796875 34.28125 64.796875 \nz\nM 9.8125 72.90625 \nL 35.015625 72.90625 \nQ 46.296875 72.90625 52.390625 68.21875 \nQ 58.5 63.53125 58.5 54.890625 \nQ 58.5 48.1875 55.375 44.234375 \nQ 52.25 40.28125 46.1875 39.3125 \nQ 53.46875 37.75 57.5 32.78125 \nQ 61.53125 27.828125 61.53125 20.40625 \nQ 61.53125 10.640625 54.890625 5.3125 \nQ 48.25 0 35.984375 0 \nL 9.8125 0 \nz\n\" id=\"DejaVuSans-1042\"/>\n      <path d=\"M 9.078125 0 \nL 9.078125 54.6875 \nL 47.65625 54.6875 \nL 47.65625 47.515625 \nL 18.109375 47.515625 \nL 18.109375 0 \nz\n\" id=\"DejaVuSans-1075\"/>\n      <path d=\"M 30.609375 48.390625 \nQ 23.390625 48.390625 19.1875 42.75 \nQ 14.984375 37.109375 14.984375 27.296875 \nQ 14.984375 17.484375 19.15625 11.84375 \nQ 23.34375 6.203125 30.609375 6.203125 \nQ 37.796875 6.203125 41.984375 11.859375 \nQ 46.1875 17.53125 46.1875 27.296875 \nQ 46.1875 37.015625 41.984375 42.703125 \nQ 37.796875 48.390625 30.609375 48.390625 \nz\nM 30.609375 56 \nQ 42.328125 56 49.015625 48.375 \nQ 55.71875 40.765625 55.71875 27.296875 \nQ 55.71875 13.875 49.015625 6.21875 \nQ 42.328125 -1.421875 30.609375 -1.421875 \nQ 18.84375 -1.421875 12.171875 6.21875 \nQ 5.515625 13.875 5.515625 27.296875 \nQ 5.515625 40.765625 12.171875 48.375 \nQ 18.84375 56 30.609375 56 \nz\n\" id=\"DejaVuSans-1086\"/>\n     </defs>\n     <g style=\"fill:#262626;\" transform=\"translate(16.318125 334.71375)rotate(-90)scale(0.12 -0.12)\">\n      <use xlink:href=\"#DejaVuSans-1042\"/>\n      <use x=\"68.603516\" xlink:href=\"#DejaVuSans-1089\"/>\n      <use x=\"123.583984\" xlink:href=\"#DejaVuSans-1077\"/>\n      <use x=\"185.107422\" xlink:href=\"#DejaVuSans-1075\"/>\n      <use x=\"237.646484\" xlink:href=\"#DejaVuSans-1086\"/>\n      <use x=\"298.828125\" xlink:href=\"#DejaVuSans-32\"/>\n      <use x=\"330.615234\" xlink:href=\"#DejaVuSans-1082\"/>\n      <use x=\"391.015625\" xlink:href=\"#DejaVuSans-1088\"/>\n      <use x=\"454.492188\" xlink:href=\"#DejaVuSans-1077\"/>\n      <use x=\"516.015625\" xlink:href=\"#DejaVuSans-1076\"/>\n      <use x=\"585.15625\" xlink:href=\"#DejaVuSans-1080\"/>\n      <use x=\"650.146484\" xlink:href=\"#DejaVuSans-1090\"/>\n      <use x=\"708.398438\" xlink:href=\"#DejaVuSans-1086\"/>\n      <use x=\"769.580078\" xlink:href=\"#DejaVuSans-1074\"/>\n     </g>\n    </g>\n   </g>\n   <g id=\"line2d_18\">\n    <path clip-path=\"url(#pc134c03a64)\" d=\"M 86.893068 262.014799 \nL 160.678192 262.014799 \nL 234.463316 273.5074 \nL 308.24844 319.477801 \nL 382.033564 394.179704 \nL 455.818688 273.5074 \nL 529.603812 221.790698 \nL 603.388936 279.2537 \nL 677.17406 279.2537 \nL 750.959184 204.551797 \nL 824.744308 152.835095 \nL 898.529432 170.073996 \n\" style=\"fill:none;stroke:#f77189;stroke-linecap:round;stroke-width:1.5;\"/>\n   </g>\n   <g id=\"line2d_19\">\n    <path clip-path=\"url(#pc134c03a64)\" d=\"M 86.893068 486.120507 \nL 160.678192 503.359408 \nL 234.463316 474.627907 \nL 308.24844 474.627907 \nL 382.033564 520.598309 \nL 455.818688 520.598309 \nL 529.603812 497.613108 \nL 603.388936 491.866808 \nL 677.17406 486.120507 \nL 750.959184 509.105708 \nL 824.744308 474.627907 \nL 898.529432 520.598309 \n\" style=\"fill:none;stroke:#bb9832;stroke-linecap:round;stroke-width:1.5;\"/>\n   </g>\n   <g id=\"line2d_20\">\n    <path clip-path=\"url(#pc134c03a64)\" d=\"M 529.603812 526.344609 \nL 603.388936 532.090909 \nL 750.959184 532.090909 \nL 898.529432 532.090909 \n\" style=\"fill:none;stroke:#50b131;stroke-linecap:round;stroke-width:1.5;\"/>\n   </g>\n   <g id=\"line2d_21\">\n    <path clip-path=\"url(#pc134c03a64)\" d=\"M 529.603812 532.090909 \nL 677.17406 532.090909 \nL 898.529432 532.090909 \n\" style=\"fill:none;stroke:#36ada4;stroke-linecap:round;stroke-width:1.5;\"/>\n   </g>\n   <g id=\"line2d_22\">\n    <path clip-path=\"url(#pc134c03a64)\" d=\"M 86.893068 463.135307 \nL 160.678192 411.418605 \nL 234.463316 457.389006 \nL 308.24844 480.374207 \nL 382.033564 405.672304 \nL 455.818688 474.627907 \nL 529.603812 445.896406 \nL 603.388936 440.150106 \nL 677.17406 451.642706 \nL 750.959184 445.896406 \nL 824.744308 376.940803 \nL 898.529432 405.672304 \n\" style=\"fill:none;stroke:#3ba3ec;stroke-linecap:round;stroke-width:1.5;\"/>\n   </g>\n   <g id=\"line2d_23\">\n    <path clip-path=\"url(#pc134c03a64)\" d=\"M 86.893068 141.342495 \nL 160.678192 181.566596 \nL 234.463316 37.909091 \nL 308.24844 124.103594 \nL 382.033564 164.327696 \nL 455.818688 181.566596 \nL 529.603812 170.073996 \nL 603.388936 129.849894 \nL 677.17406 158.581395 \nL 750.959184 78.133192 \nL 824.744308 147.088795 \nL 898.529432 135.596195 \n\" style=\"fill:none;stroke:#e866f4;stroke-linecap:round;stroke-width:1.5;\"/>\n   </g>\n   <g id=\"line2d_24\"/>\n   <g id=\"line2d_25\"/>\n   <g id=\"line2d_26\"/>\n   <g id=\"line2d_27\"/>\n   <g id=\"line2d_28\"/>\n   <g id=\"line2d_29\"/>\n   <g id=\"line2d_30\"/>\n   <g id=\"patch_3\">\n    <path d=\"M 46.31125 556.8 \nL 46.31125 13.2 \n\" style=\"fill:none;stroke:#ffffff;stroke-linecap:square;stroke-linejoin:miter;stroke-width:1.25;\"/>\n   </g>\n   <g id=\"patch_4\">\n    <path d=\"M 939.11125 556.8 \nL 939.11125 13.2 \n\" style=\"fill:none;stroke:#ffffff;stroke-linecap:square;stroke-linejoin:miter;stroke-width:1.25;\"/>\n   </g>\n   <g id=\"patch_5\">\n    <path d=\"M 46.31125 556.8 \nL 939.11125 556.8 \n\" style=\"fill:none;stroke:#ffffff;stroke-linecap:square;stroke-linejoin:miter;stroke-width:1.25;\"/>\n   </g>\n   <g id=\"patch_6\">\n    <path d=\"M 46.31125 13.2 \nL 939.11125 13.2 \n\" style=\"fill:none;stroke:#ffffff;stroke-linecap:square;stroke-linejoin:miter;stroke-width:1.25;\"/>\n   </g>\n   <g id=\"legend_1\">\n    <g id=\"patch_7\">\n     <path d=\"M 544.98125 135.39625 \nL 931.41125 135.39625 \nQ 933.61125 135.39625 933.61125 133.19625 \nL 933.61125 20.9 \nQ 933.61125 18.7 931.41125 18.7 \nL 544.98125 18.7 \nQ 542.78125 18.7 542.78125 20.9 \nL 542.78125 133.19625 \nQ 542.78125 135.39625 544.98125 135.39625 \nz\n\" style=\"fill:#eaeaf2;opacity:0.8;stroke:#cccccc;stroke-linejoin:miter;\"/>\n    </g>\n    <g id=\"line2d_31\">\n     <path d=\"M 547.18125 27.795625 \nL 569.18125 27.795625 \n\" style=\"fill:none;\"/>\n    </g>\n    <g id=\"line2d_32\"/>\n    <g id=\"text_20\">\n     <!-- Образование клиента -->\n     <defs>\n      <path d=\"M 39.40625 66.21875 \nQ 28.65625 66.21875 22.328125 58.203125 \nQ 16.015625 50.203125 16.015625 36.375 \nQ 16.015625 22.609375 22.328125 14.59375 \nQ 28.65625 6.59375 39.40625 6.59375 \nQ 50.140625 6.59375 56.421875 14.59375 \nQ 62.703125 22.609375 62.703125 36.375 \nQ 62.703125 50.203125 56.421875 58.203125 \nQ 50.140625 66.21875 39.40625 66.21875 \nz\nM 39.40625 74.21875 \nQ 54.734375 74.21875 63.90625 63.9375 \nQ 73.09375 53.65625 73.09375 36.375 \nQ 73.09375 19.140625 63.90625 8.859375 \nQ 54.734375 -1.421875 39.40625 -1.421875 \nQ 24.03125 -1.421875 14.8125 8.828125 \nQ 5.609375 19.09375 5.609375 36.375 \nQ 5.609375 53.65625 14.8125 63.9375 \nQ 24.03125 74.21875 39.40625 74.21875 \nz\n\" id=\"DejaVuSans-1054\"/>\n      <path d=\"M 31.109375 56 \nQ 42.828125 56 49.515625 48.375 \nQ 56.203125 40.765625 56.203125 27.296875 \nQ 56.203125 13.875 49.515625 6.21875 \nQ 42.828125 -1.421875 31.109375 -1.421875 \nQ 19.34375 -1.421875 12.84375 6 \nQ 6.34375 13.421875 6 27.296875 \nL 5.71875 38.484375 \nQ 5.46875 44.28125 5.46875 46.296875 \nQ 5.46875 54.109375 8.296875 59.859375 \nQ 12.75 68.890625 20.4375 72.796875 \nQ 28.125 76.703125 41.015625 76.8125 \nQ 46.96875 76.859375 49.609375 77.6875 \nL 52.09375 70.5625 \nQ 49.703125 69.578125 47.515625 69.53125 \nL 35.296875 68.703125 \nQ 29.15625 68.265625 25.4375 66.109375 \nQ 15.71875 60.40625 14.796875 52.9375 \nL 14.453125 50.203125 \nQ 20.796875 56 31.109375 56 \nz\nM 31.109375 48.390625 \nQ 23.875 48.390625 19.671875 42.75 \nQ 15.484375 37.109375 15.484375 27.296875 \nQ 15.484375 17.484375 19.65625 11.84375 \nQ 23.828125 6.203125 31.109375 6.203125 \nQ 38.28125 6.203125 42.484375 11.859375 \nQ 46.6875 17.53125 46.6875 27.296875 \nQ 46.6875 37.015625 42.484375 42.703125 \nQ 38.28125 48.390625 31.109375 48.390625 \nz\n\" id=\"DejaVuSans-1073\"/>\n      <path d=\"M 34.46875 29.5 \nQ 40.53125 28.328125 43.890625 24.75 \nQ 47.265625 21.1875 47.265625 15.921875 \nQ 47.265625 7.46875 40.96875 3.015625 \nQ 34.671875 -1.421875 23.046875 -1.421875 \nQ 19.140625 -1.421875 15.015625 -0.734375 \nQ 10.890625 -0.046875 6.5 1.3125 \nL 6.5 9.671875 \nQ 9.96875 7.859375 14.109375 6.953125 \nQ 18.265625 6.0625 22.796875 6.0625 \nQ 30.171875 6.0625 34.296875 8.796875 \nQ 38.421875 11.53125 38.421875 15.921875 \nQ 38.421875 20.21875 34.765625 22.828125 \nQ 31.109375 25.4375 24.421875 25.4375 \nL 17.1875 25.4375 \nL 17.1875 32.859375 \nL 24.75 32.859375 \nQ 30.421875 32.859375 33.71875 35.03125 \nQ 37.015625 37.203125 37.015625 40.625 \nQ 37.015625 43.75 33.609375 46 \nQ 30.21875 48.25 24.421875 48.25 \nQ 20.953125 48.25 17.015625 47.609375 \nQ 13.09375 46.96875 8.34375 45.5625 \nL 8.34375 53.71875 \nQ 13.140625 54.890625 17.28125 55.46875 \nQ 21.4375 56.0625 25.140625 56.0625 \nQ 34.71875 56.0625 40.25 52.21875 \nQ 45.796875 48.390625 45.796875 41.5 \nQ 45.796875 36.96875 42.859375 33.8125 \nQ 39.9375 30.671875 34.46875 29.5 \nz\n\" id=\"DejaVuSans-1079\"/>\n      <path d=\"M 9.078125 54.6875 \nL 18.109375 54.6875 \nL 18.109375 32.375 \nL 47.265625 32.375 \nL 47.265625 54.6875 \nL 56.296875 54.6875 \nL 56.296875 0 \nL 47.265625 0 \nL 47.265625 25.203125 \nL 18.109375 25.203125 \nL 18.109375 0 \nL 9.078125 0 \nz\n\" id=\"DejaVuSans-1085\"/>\n      <path d=\"M 3.71875 0 \nL 3.71875 7.46875 \nQ 12.59375 8.84375 15.328125 14.984375 \nQ 18.65625 23.640625 18.65625 45.75 \nL 18.65625 54.6875 \nL 55.609375 54.6875 \nL 55.609375 0 \nL 46.625 0 \nL 46.625 47.515625 \nL 27.640625 47.515625 \nL 27.640625 42.09375 \nQ 27.640625 21 23.34375 11.53125 \nQ 18.75 1.421875 3.71875 0 \nz\n\" id=\"DejaVuSans-1083\"/>\n     </defs>\n     <g style=\"fill:#262626;\" transform=\"translate(577.98125 31.645625)scale(0.11 -0.11)\">\n      <use xlink:href=\"#DejaVuSans-1054\"/>\n      <use x=\"78.710938\" xlink:href=\"#DejaVuSans-1073\"/>\n      <use x=\"140.380859\" xlink:href=\"#DejaVuSans-1088\"/>\n      <use x=\"203.857422\" xlink:href=\"#DejaVuSans-1072\"/>\n      <use x=\"265.136719\" xlink:href=\"#DejaVuSans-1079\"/>\n      <use x=\"318.310547\" xlink:href=\"#DejaVuSans-1086\"/>\n      <use x=\"379.492188\" xlink:href=\"#DejaVuSans-1074\"/>\n      <use x=\"438.427734\" xlink:href=\"#DejaVuSans-1072\"/>\n      <use x=\"499.707031\" xlink:href=\"#DejaVuSans-1085\"/>\n      <use x=\"565.087891\" xlink:href=\"#DejaVuSans-1080\"/>\n      <use x=\"630.078125\" xlink:href=\"#DejaVuSans-1077\"/>\n      <use x=\"691.601562\" xlink:href=\"#DejaVuSans-32\"/>\n      <use x=\"723.388672\" xlink:href=\"#DejaVuSans-1082\"/>\n      <use x=\"783.789062\" xlink:href=\"#DejaVuSans-1083\"/>\n      <use x=\"847.705078\" xlink:href=\"#DejaVuSans-1080\"/>\n      <use x=\"912.695312\" xlink:href=\"#DejaVuSans-1077\"/>\n      <use x=\"974.21875\" xlink:href=\"#DejaVuSans-1085\"/>\n      <use x=\"1039.599609\" xlink:href=\"#DejaVuSans-1090\"/>\n      <use x=\"1097.851562\" xlink:href=\"#DejaVuSans-1072\"/>\n     </g>\n    </g>\n    <g id=\"line2d_33\">\n     <path d=\"M 547.18125 43.941562 \nL 569.18125 43.941562 \n\" style=\"fill:none;stroke:#f77189;stroke-linecap:round;stroke-width:1.5;\"/>\n    </g>\n    <g id=\"line2d_34\"/>\n    <g id=\"text_21\">\n     <!-- Высшее -->\n     <defs>\n      <path d=\"M 50.25 7.171875 \nL 73.390625 7.171875 \nL 73.390625 54.6875 \nL 82.421875 54.6875 \nL 82.421875 0 \nL 9.078125 0 \nL 9.078125 54.6875 \nL 18.109375 54.6875 \nL 18.109375 7.171875 \nL 41.21875 7.171875 \nL 41.21875 54.6875 \nL 50.25 54.6875 \nz\n\" id=\"DejaVuSans-1096\"/>\n     </defs>\n     <g style=\"fill:#262626;\" transform=\"translate(577.98125 47.791562)scale(0.11 -0.11)\">\n      <use xlink:href=\"#DejaVuSans-1042\"/>\n      <use x=\"68.603516\" xlink:href=\"#DejaVuSans-1099\"/>\n      <use x=\"147.558594\" xlink:href=\"#DejaVuSans-1089\"/>\n      <use x=\"202.539062\" xlink:href=\"#DejaVuSans-1096\"/>\n      <use x=\"294.042969\" xlink:href=\"#DejaVuSans-1077\"/>\n      <use x=\"355.566406\" xlink:href=\"#DejaVuSans-1077\"/>\n     </g>\n    </g>\n    <g id=\"line2d_35\">\n     <path d=\"M 547.18125 60.0875 \nL 569.18125 60.0875 \n\" style=\"fill:none;stroke:#bb9832;stroke-linecap:round;stroke-width:1.5;\"/>\n    </g>\n    <g id=\"line2d_36\"/>\n    <g id=\"text_22\">\n     <!-- Неоконченное высшее -->\n     <defs>\n      <path d=\"M 9.8125 72.90625 \nL 19.671875 72.90625 \nL 19.671875 43.015625 \nL 55.515625 43.015625 \nL 55.515625 72.90625 \nL 65.375 72.90625 \nL 65.375 0 \nL 55.515625 0 \nL 55.515625 34.71875 \nL 19.671875 34.71875 \nL 19.671875 0 \nL 9.8125 0 \nz\n\" id=\"DejaVuSans-1053\"/>\n     </defs>\n     <g style=\"fill:#262626;\" transform=\"translate(577.98125 63.9375)scale(0.11 -0.11)\">\n      <use xlink:href=\"#DejaVuSans-1053\"/>\n      <use x=\"75.195312\" xlink:href=\"#DejaVuSans-1077\"/>\n      <use x=\"136.71875\" xlink:href=\"#DejaVuSans-1086\"/>\n      <use x=\"197.900391\" xlink:href=\"#DejaVuSans-1082\"/>\n      <use x=\"258.300781\" xlink:href=\"#DejaVuSans-1086\"/>\n      <use x=\"319.482422\" xlink:href=\"#DejaVuSans-1085\"/>\n      <use x=\"384.863281\" xlink:href=\"#DejaVuSans-1095\"/>\n      <use x=\"443.945312\" xlink:href=\"#DejaVuSans-1077\"/>\n      <use x=\"505.46875\" xlink:href=\"#DejaVuSans-1085\"/>\n      <use x=\"570.849609\" xlink:href=\"#DejaVuSans-1085\"/>\n      <use x=\"636.230469\" xlink:href=\"#DejaVuSans-1086\"/>\n      <use x=\"697.412109\" xlink:href=\"#DejaVuSans-1077\"/>\n      <use x=\"758.935547\" xlink:href=\"#DejaVuSans-32\"/>\n      <use x=\"790.722656\" xlink:href=\"#DejaVuSans-1074\"/>\n      <use x=\"849.658203\" xlink:href=\"#DejaVuSans-1099\"/>\n      <use x=\"928.613281\" xlink:href=\"#DejaVuSans-1089\"/>\n      <use x=\"983.59375\" xlink:href=\"#DejaVuSans-1096\"/>\n      <use x=\"1075.097656\" xlink:href=\"#DejaVuSans-1077\"/>\n      <use x=\"1136.621094\" xlink:href=\"#DejaVuSans-1077\"/>\n     </g>\n    </g>\n    <g id=\"line2d_37\">\n     <path d=\"M 547.18125 76.233437 \nL 569.18125 76.233437 \n\" style=\"fill:none;stroke:#50b131;stroke-linecap:round;stroke-width:1.5;\"/>\n    </g>\n    <g id=\"line2d_38\"/>\n    <g id=\"text_23\">\n     <!-- Неоконченное среднее -->\n     <g style=\"fill:#262626;\" transform=\"translate(577.98125 80.083437)scale(0.11 -0.11)\">\n      <use xlink:href=\"#DejaVuSans-1053\"/>\n      <use x=\"75.195312\" xlink:href=\"#DejaVuSans-1077\"/>\n      <use x=\"136.71875\" xlink:href=\"#DejaVuSans-1086\"/>\n      <use x=\"197.900391\" xlink:href=\"#DejaVuSans-1082\"/>\n      <use x=\"258.300781\" xlink:href=\"#DejaVuSans-1086\"/>\n      <use x=\"319.482422\" xlink:href=\"#DejaVuSans-1085\"/>\n      <use x=\"384.863281\" xlink:href=\"#DejaVuSans-1095\"/>\n      <use x=\"443.945312\" xlink:href=\"#DejaVuSans-1077\"/>\n      <use x=\"505.46875\" xlink:href=\"#DejaVuSans-1085\"/>\n      <use x=\"570.849609\" xlink:href=\"#DejaVuSans-1085\"/>\n      <use x=\"636.230469\" xlink:href=\"#DejaVuSans-1086\"/>\n      <use x=\"697.412109\" xlink:href=\"#DejaVuSans-1077\"/>\n      <use x=\"758.935547\" xlink:href=\"#DejaVuSans-32\"/>\n      <use x=\"790.722656\" xlink:href=\"#DejaVuSans-1089\"/>\n      <use x=\"845.703125\" xlink:href=\"#DejaVuSans-1088\"/>\n      <use x=\"909.179688\" xlink:href=\"#DejaVuSans-1077\"/>\n      <use x=\"970.703125\" xlink:href=\"#DejaVuSans-1076\"/>\n      <use x=\"1039.84375\" xlink:href=\"#DejaVuSans-1085\"/>\n      <use x=\"1105.224609\" xlink:href=\"#DejaVuSans-1077\"/>\n      <use x=\"1166.748047\" xlink:href=\"#DejaVuSans-1077\"/>\n     </g>\n    </g>\n    <g id=\"line2d_39\">\n     <path d=\"M 547.18125 92.566719 \nL 569.18125 92.566719 \n\" style=\"fill:none;stroke:#36ada4;stroke-linecap:round;stroke-width:1.5;\"/>\n    </g>\n    <g id=\"line2d_40\"/>\n    <g id=\"text_24\">\n     <!-- Несколько высших или более высокая ступень образования -->\n     <defs>\n      <path d=\"M 43.453125 16.21875 \nQ 43.453125 20.609375 40.25 22.90625 \nQ 37.0625 25.203125 30.90625 25.203125 \nL 18.109375 25.203125 \nL 18.109375 7.171875 \nL 30.90625 7.171875 \nQ 37.0625 7.171875 40.25 9.484375 \nQ 43.453125 11.8125 43.453125 16.21875 \nz\nM 9.078125 54.6875 \nL 18.109375 54.6875 \nL 18.109375 32.375 \nL 31.296875 32.375 \nQ 41.75 32.375 47.390625 28.390625 \nQ 53.03125 24.421875 53.03125 16.21875 \nQ 53.03125 8.015625 47.390625 4 \nQ 41.75 0 31.296875 0 \nL 9.078125 0 \nz\n\" id=\"DejaVuSans-1100\"/>\n      <path d=\"M 54.890625 54.6875 \nL 35.109375 28.078125 \nL 55.90625 0 \nL 45.3125 0 \nL 29.390625 21.484375 \nL 13.484375 0 \nL 2.875 0 \nL 24.125 28.609375 \nL 4.6875 54.6875 \nL 15.28125 54.6875 \nL 29.78125 35.203125 \nL 44.28125 54.6875 \nz\n\" id=\"DejaVuSans-1093\"/>\n      <path d=\"M 32.171875 -5.078125 \nQ 28.375 -14.84375 24.75 -17.8125 \nQ 21.140625 -20.796875 15.09375 -20.796875 \nL 7.90625 -20.796875 \nL 7.90625 -13.28125 \nL 13.1875 -13.28125 \nQ 16.890625 -13.28125 18.9375 -11.515625 \nQ 21 -9.765625 23.484375 -3.21875 \nL 25.09375 0.875 \nL 2.984375 54.6875 \nL 12.5 54.6875 \nL 29.59375 11.921875 \nL 46.6875 54.6875 \nL 56.203125 54.6875 \nz\n\" id=\"DejaVuSans-1091\"/>\n      <path d=\"M 56.296875 54.6875 \nL 56.296875 0 \nL 47.265625 0 \nL 47.265625 47.515625 \nL 18.109375 47.515625 \nL 18.109375 0 \nL 9.078125 0 \nL 9.078125 54.6875 \nz\n\" id=\"DejaVuSans-1087\"/>\n     </defs>\n     <g style=\"fill:#262626;\" transform=\"translate(577.98125 96.416719)scale(0.11 -0.11)\">\n      <use xlink:href=\"#DejaVuSans-1053\"/>\n      <use x=\"75.195312\" xlink:href=\"#DejaVuSans-1077\"/>\n      <use x=\"136.71875\" xlink:href=\"#DejaVuSans-1089\"/>\n      <use x=\"191.699219\" xlink:href=\"#DejaVuSans-1082\"/>\n      <use x=\"252.099609\" xlink:href=\"#DejaVuSans-1086\"/>\n      <use x=\"313.28125\" xlink:href=\"#DejaVuSans-1083\"/>\n      <use x=\"377.197266\" xlink:href=\"#DejaVuSans-1100\"/>\n      <use x=\"436.132812\" xlink:href=\"#DejaVuSans-1082\"/>\n      <use x=\"496.533203\" xlink:href=\"#DejaVuSans-1086\"/>\n      <use x=\"557.714844\" xlink:href=\"#DejaVuSans-32\"/>\n      <use x=\"589.501953\" xlink:href=\"#DejaVuSans-1074\"/>\n      <use x=\"648.4375\" xlink:href=\"#DejaVuSans-1099\"/>\n      <use x=\"727.392578\" xlink:href=\"#DejaVuSans-1089\"/>\n      <use x=\"782.373047\" xlink:href=\"#DejaVuSans-1096\"/>\n      <use x=\"873.876953\" xlink:href=\"#DejaVuSans-1080\"/>\n      <use x=\"938.867188\" xlink:href=\"#DejaVuSans-1093\"/>\n      <use x=\"998.046875\" xlink:href=\"#DejaVuSans-32\"/>\n      <use x=\"1029.833984\" xlink:href=\"#DejaVuSans-1080\"/>\n      <use x=\"1094.824219\" xlink:href=\"#DejaVuSans-1083\"/>\n      <use x=\"1158.740234\" xlink:href=\"#DejaVuSans-1080\"/>\n      <use x=\"1223.730469\" xlink:href=\"#DejaVuSans-32\"/>\n      <use x=\"1255.517578\" xlink:href=\"#DejaVuSans-1073\"/>\n      <use x=\"1317.1875\" xlink:href=\"#DejaVuSans-1086\"/>\n      <use x=\"1378.369141\" xlink:href=\"#DejaVuSans-1083\"/>\n      <use x=\"1442.285156\" xlink:href=\"#DejaVuSans-1077\"/>\n      <use x=\"1503.808594\" xlink:href=\"#DejaVuSans-1077\"/>\n      <use x=\"1565.332031\" xlink:href=\"#DejaVuSans-32\"/>\n      <use x=\"1597.119141\" xlink:href=\"#DejaVuSans-1074\"/>\n      <use x=\"1656.054688\" xlink:href=\"#DejaVuSans-1099\"/>\n      <use x=\"1735.009766\" xlink:href=\"#DejaVuSans-1089\"/>\n      <use x=\"1789.990234\" xlink:href=\"#DejaVuSans-1086\"/>\n      <use x=\"1851.171875\" xlink:href=\"#DejaVuSans-1082\"/>\n      <use x=\"1911.572266\" xlink:href=\"#DejaVuSans-1072\"/>\n      <use x=\"1972.851562\" xlink:href=\"#DejaVuSans-1103\"/>\n      <use x=\"2033.007812\" xlink:href=\"#DejaVuSans-32\"/>\n      <use x=\"2064.794922\" xlink:href=\"#DejaVuSans-1089\"/>\n      <use x=\"2119.775391\" xlink:href=\"#DejaVuSans-1090\"/>\n      <use x=\"2178.027344\" xlink:href=\"#DejaVuSans-1091\"/>\n      <use x=\"2237.207031\" xlink:href=\"#DejaVuSans-1087\"/>\n      <use x=\"2302.587891\" xlink:href=\"#DejaVuSans-1077\"/>\n      <use x=\"2364.111328\" xlink:href=\"#DejaVuSans-1085\"/>\n      <use x=\"2429.492188\" xlink:href=\"#DejaVuSans-1100\"/>\n      <use x=\"2488.427734\" xlink:href=\"#DejaVuSans-32\"/>\n      <use x=\"2520.214844\" xlink:href=\"#DejaVuSans-1086\"/>\n      <use x=\"2581.396484\" xlink:href=\"#DejaVuSans-1073\"/>\n      <use x=\"2643.066406\" xlink:href=\"#DejaVuSans-1088\"/>\n      <use x=\"2706.542969\" xlink:href=\"#DejaVuSans-1072\"/>\n      <use x=\"2767.822266\" xlink:href=\"#DejaVuSans-1079\"/>\n      <use x=\"2820.996094\" xlink:href=\"#DejaVuSans-1086\"/>\n      <use x=\"2882.177734\" xlink:href=\"#DejaVuSans-1074\"/>\n      <use x=\"2941.113281\" xlink:href=\"#DejaVuSans-1072\"/>\n      <use x=\"3002.392578\" xlink:href=\"#DejaVuSans-1085\"/>\n      <use x=\"3067.773438\" xlink:href=\"#DejaVuSans-1080\"/>\n      <use x=\"3132.763672\" xlink:href=\"#DejaVuSans-1103\"/>\n     </g>\n    </g>\n    <g id=\"line2d_41\">\n     <path d=\"M 547.18125 108.712656 \nL 569.18125 108.712656 \n\" style=\"fill:none;stroke:#3ba3ec;stroke-linecap:round;stroke-width:1.5;\"/>\n    </g>\n    <g id=\"line2d_42\"/>\n    <g id=\"text_25\">\n     <!-- Среднее -->\n     <defs>\n      <path d=\"M 64.40625 67.28125 \nL 64.40625 56.890625 \nQ 59.421875 61.53125 53.78125 63.8125 \nQ 48.140625 66.109375 41.796875 66.109375 \nQ 29.296875 66.109375 22.65625 58.46875 \nQ 16.015625 50.828125 16.015625 36.375 \nQ 16.015625 21.96875 22.65625 14.328125 \nQ 29.296875 6.6875 41.796875 6.6875 \nQ 48.140625 6.6875 53.78125 8.984375 \nQ 59.421875 11.28125 64.40625 15.921875 \nL 64.40625 5.609375 \nQ 59.234375 2.09375 53.4375 0.328125 \nQ 47.65625 -1.421875 41.21875 -1.421875 \nQ 24.65625 -1.421875 15.125 8.703125 \nQ 5.609375 18.84375 5.609375 36.375 \nQ 5.609375 53.953125 15.125 64.078125 \nQ 24.65625 74.21875 41.21875 74.21875 \nQ 47.75 74.21875 53.53125 72.484375 \nQ 59.328125 70.75 64.40625 67.28125 \nz\n\" id=\"DejaVuSans-1057\"/>\n     </defs>\n     <g style=\"fill:#262626;\" transform=\"translate(577.98125 112.562656)scale(0.11 -0.11)\">\n      <use xlink:href=\"#DejaVuSans-1057\"/>\n      <use x=\"69.824219\" xlink:href=\"#DejaVuSans-1088\"/>\n      <use x=\"133.300781\" xlink:href=\"#DejaVuSans-1077\"/>\n      <use x=\"194.824219\" xlink:href=\"#DejaVuSans-1076\"/>\n      <use x=\"263.964844\" xlink:href=\"#DejaVuSans-1085\"/>\n      <use x=\"329.345703\" xlink:href=\"#DejaVuSans-1077\"/>\n      <use x=\"390.869141\" xlink:href=\"#DejaVuSans-1077\"/>\n     </g>\n    </g>\n    <g id=\"line2d_43\">\n     <path d=\"M 547.18125 124.858594 \nL 569.18125 124.858594 \n\" style=\"fill:none;stroke:#e866f4;stroke-linecap:round;stroke-width:1.5;\"/>\n    </g>\n    <g id=\"line2d_44\"/>\n    <g id=\"text_26\">\n     <!-- Среднее специальное -->\n     <g style=\"fill:#262626;\" transform=\"translate(577.98125 128.708594)scale(0.11 -0.11)\">\n      <use xlink:href=\"#DejaVuSans-1057\"/>\n      <use x=\"69.824219\" xlink:href=\"#DejaVuSans-1088\"/>\n      <use x=\"133.300781\" xlink:href=\"#DejaVuSans-1077\"/>\n      <use x=\"194.824219\" xlink:href=\"#DejaVuSans-1076\"/>\n      <use x=\"263.964844\" xlink:href=\"#DejaVuSans-1085\"/>\n      <use x=\"329.345703\" xlink:href=\"#DejaVuSans-1077\"/>\n      <use x=\"390.869141\" xlink:href=\"#DejaVuSans-1077\"/>\n      <use x=\"452.392578\" xlink:href=\"#DejaVuSans-32\"/>\n      <use x=\"484.179688\" xlink:href=\"#DejaVuSans-1089\"/>\n      <use x=\"539.160156\" xlink:href=\"#DejaVuSans-1087\"/>\n      <use x=\"604.541016\" xlink:href=\"#DejaVuSans-1077\"/>\n      <use x=\"666.064453\" xlink:href=\"#DejaVuSans-1094\"/>\n      <use x=\"734.130859\" xlink:href=\"#DejaVuSans-1080\"/>\n      <use x=\"799.121094\" xlink:href=\"#DejaVuSans-1072\"/>\n      <use x=\"860.400391\" xlink:href=\"#DejaVuSans-1083\"/>\n      <use x=\"924.316406\" xlink:href=\"#DejaVuSans-1100\"/>\n      <use x=\"983.251953\" xlink:href=\"#DejaVuSans-1085\"/>\n      <use x=\"1048.632812\" xlink:href=\"#DejaVuSans-1086\"/>\n      <use x=\"1109.814453\" xlink:href=\"#DejaVuSans-1077\"/>\n     </g>\n    </g>\n   </g>\n  </g>\n </g>\n <defs>\n  <clipPath id=\"pc134c03a64\">\n   <rect height=\"543.6\" width=\"892.8\" x=\"46.31125\" y=\"13.2\"/>\n  </clipPath>\n </defs>\n</svg>\n"
          },
          "metadata": {
            "tags": []
          }
        }
      ]
    },
    {
      "cell_type": "code",
      "metadata": {
        "id": "fMjhocD-9aEK",
        "colab_type": "code",
        "outputId": "4b9b591d-3d73-4493-a045-2139d0ca3a3f",
        "colab": {
          "base_uri": "https://localhost:8080/",
          "height": 821
        }
      },
      "source": [
        "draw_credcnt_monthly('Тип товара')"
      ],
      "execution_count": 0,
      "outputs": [
        {
          "output_type": "display_data",
          "data": {
            "text/plain": [
              "<Figure size 1280x800 with 1 Axes>"
            ],
            "image/svg+xml": "<?xml version=\"1.0\" encoding=\"utf-8\" standalone=\"no\"?>\n<!DOCTYPE svg PUBLIC \"-//W3C//DTD SVG 1.1//EN\"\n  \"http://www.w3.org/Graphics/SVG/1.1/DTD/svg11.dtd\">\n<!-- Created with matplotlib (https://matplotlib.org/) -->\n<svg height=\"599.759687pt\" version=\"1.1\" viewBox=\"0 0 952.31125 599.759687\" width=\"952.31125pt\" xmlns=\"http://www.w3.org/2000/svg\" xmlns:xlink=\"http://www.w3.org/1999/xlink\">\n <defs>\n  <style type=\"text/css\">\n*{stroke-linecap:butt;stroke-linejoin:round;}\n  </style>\n </defs>\n <g id=\"figure_1\">\n  <g id=\"patch_1\">\n   <path d=\"M 0 599.759687 \nL 952.31125 599.759687 \nL 952.31125 0 \nL 0 0 \nz\n\" style=\"fill:none;\"/>\n  </g>\n  <g id=\"axes_1\">\n   <g id=\"patch_2\">\n    <path d=\"M 46.31125 556.8 \nL 939.11125 556.8 \nL 939.11125 13.2 \nL 46.31125 13.2 \nz\n\" style=\"fill:#eaeaf2;\"/>\n   </g>\n   <g id=\"matplotlib.axis_1\">\n    <g id=\"xtick_1\">\n     <g id=\"line2d_1\">\n      <path clip-path=\"url(#ped46369fb9)\" d=\"M 86.893068 556.8 \nL 86.893068 13.2 \n\" style=\"fill:none;stroke:#ffffff;stroke-linecap:round;\"/>\n     </g>\n     <g id=\"text_1\">\n      <!-- 1 -->\n      <defs>\n       <path d=\"M 12.40625 8.296875 \nL 28.515625 8.296875 \nL 28.515625 63.921875 \nL 10.984375 60.40625 \nL 10.984375 69.390625 \nL 28.421875 72.90625 \nL 38.28125 72.90625 \nL 38.28125 8.296875 \nL 54.390625 8.296875 \nL 54.390625 0 \nL 12.40625 0 \nz\n\" id=\"DejaVuSans-49\"/>\n      </defs>\n      <g style=\"fill:#262626;\" transform=\"translate(83.393693 574.658281)scale(0.11 -0.11)\">\n       <use xlink:href=\"#DejaVuSans-49\"/>\n      </g>\n     </g>\n    </g>\n    <g id=\"xtick_2\">\n     <g id=\"line2d_2\">\n      <path clip-path=\"url(#ped46369fb9)\" d=\"M 160.678192 556.8 \nL 160.678192 13.2 \n\" style=\"fill:none;stroke:#ffffff;stroke-linecap:round;\"/>\n     </g>\n     <g id=\"text_2\">\n      <!-- 2 -->\n      <defs>\n       <path d=\"M 19.1875 8.296875 \nL 53.609375 8.296875 \nL 53.609375 0 \nL 7.328125 0 \nL 7.328125 8.296875 \nQ 12.9375 14.109375 22.625 23.890625 \nQ 32.328125 33.6875 34.8125 36.53125 \nQ 39.546875 41.84375 41.421875 45.53125 \nQ 43.3125 49.21875 43.3125 52.78125 \nQ 43.3125 58.59375 39.234375 62.25 \nQ 35.15625 65.921875 28.609375 65.921875 \nQ 23.96875 65.921875 18.8125 64.3125 \nQ 13.671875 62.703125 7.8125 59.421875 \nL 7.8125 69.390625 \nQ 13.765625 71.78125 18.9375 73 \nQ 24.125 74.21875 28.421875 74.21875 \nQ 39.75 74.21875 46.484375 68.546875 \nQ 53.21875 62.890625 53.21875 53.421875 \nQ 53.21875 48.921875 51.53125 44.890625 \nQ 49.859375 40.875 45.40625 35.40625 \nQ 44.1875 33.984375 37.640625 27.21875 \nQ 31.109375 20.453125 19.1875 8.296875 \nz\n\" id=\"DejaVuSans-50\"/>\n      </defs>\n      <g style=\"fill:#262626;\" transform=\"translate(157.178817 574.658281)scale(0.11 -0.11)\">\n       <use xlink:href=\"#DejaVuSans-50\"/>\n      </g>\n     </g>\n    </g>\n    <g id=\"xtick_3\">\n     <g id=\"line2d_3\">\n      <path clip-path=\"url(#ped46369fb9)\" d=\"M 234.463316 556.8 \nL 234.463316 13.2 \n\" style=\"fill:none;stroke:#ffffff;stroke-linecap:round;\"/>\n     </g>\n     <g id=\"text_3\">\n      <!-- 3 -->\n      <defs>\n       <path d=\"M 40.578125 39.3125 \nQ 47.65625 37.796875 51.625 33 \nQ 55.609375 28.21875 55.609375 21.1875 \nQ 55.609375 10.40625 48.1875 4.484375 \nQ 40.765625 -1.421875 27.09375 -1.421875 \nQ 22.515625 -1.421875 17.65625 -0.515625 \nQ 12.796875 0.390625 7.625 2.203125 \nL 7.625 11.71875 \nQ 11.71875 9.328125 16.59375 8.109375 \nQ 21.484375 6.890625 26.8125 6.890625 \nQ 36.078125 6.890625 40.9375 10.546875 \nQ 45.796875 14.203125 45.796875 21.1875 \nQ 45.796875 27.640625 41.28125 31.265625 \nQ 36.765625 34.90625 28.71875 34.90625 \nL 20.21875 34.90625 \nL 20.21875 43.015625 \nL 29.109375 43.015625 \nQ 36.375 43.015625 40.234375 45.921875 \nQ 44.09375 48.828125 44.09375 54.296875 \nQ 44.09375 59.90625 40.109375 62.90625 \nQ 36.140625 65.921875 28.71875 65.921875 \nQ 24.65625 65.921875 20.015625 65.03125 \nQ 15.375 64.15625 9.8125 62.3125 \nL 9.8125 71.09375 \nQ 15.4375 72.65625 20.34375 73.4375 \nQ 25.25 74.21875 29.59375 74.21875 \nQ 40.828125 74.21875 47.359375 69.109375 \nQ 53.90625 64.015625 53.90625 55.328125 \nQ 53.90625 49.265625 50.4375 45.09375 \nQ 46.96875 40.921875 40.578125 39.3125 \nz\n\" id=\"DejaVuSans-51\"/>\n      </defs>\n      <g style=\"fill:#262626;\" transform=\"translate(230.963941 574.658281)scale(0.11 -0.11)\">\n       <use xlink:href=\"#DejaVuSans-51\"/>\n      </g>\n     </g>\n    </g>\n    <g id=\"xtick_4\">\n     <g id=\"line2d_4\">\n      <path clip-path=\"url(#ped46369fb9)\" d=\"M 308.24844 556.8 \nL 308.24844 13.2 \n\" style=\"fill:none;stroke:#ffffff;stroke-linecap:round;\"/>\n     </g>\n     <g id=\"text_4\">\n      <!-- 4 -->\n      <defs>\n       <path d=\"M 37.796875 64.3125 \nL 12.890625 25.390625 \nL 37.796875 25.390625 \nz\nM 35.203125 72.90625 \nL 47.609375 72.90625 \nL 47.609375 25.390625 \nL 58.015625 25.390625 \nL 58.015625 17.1875 \nL 47.609375 17.1875 \nL 47.609375 0 \nL 37.796875 0 \nL 37.796875 17.1875 \nL 4.890625 17.1875 \nL 4.890625 26.703125 \nz\n\" id=\"DejaVuSans-52\"/>\n      </defs>\n      <g style=\"fill:#262626;\" transform=\"translate(304.749065 574.658281)scale(0.11 -0.11)\">\n       <use xlink:href=\"#DejaVuSans-52\"/>\n      </g>\n     </g>\n    </g>\n    <g id=\"xtick_5\">\n     <g id=\"line2d_5\">\n      <path clip-path=\"url(#ped46369fb9)\" d=\"M 382.033564 556.8 \nL 382.033564 13.2 \n\" style=\"fill:none;stroke:#ffffff;stroke-linecap:round;\"/>\n     </g>\n     <g id=\"text_5\">\n      <!-- 5 -->\n      <defs>\n       <path d=\"M 10.796875 72.90625 \nL 49.515625 72.90625 \nL 49.515625 64.59375 \nL 19.828125 64.59375 \nL 19.828125 46.734375 \nQ 21.96875 47.46875 24.109375 47.828125 \nQ 26.265625 48.1875 28.421875 48.1875 \nQ 40.625 48.1875 47.75 41.5 \nQ 54.890625 34.8125 54.890625 23.390625 \nQ 54.890625 11.625 47.5625 5.09375 \nQ 40.234375 -1.421875 26.90625 -1.421875 \nQ 22.3125 -1.421875 17.546875 -0.640625 \nQ 12.796875 0.140625 7.71875 1.703125 \nL 7.71875 11.625 \nQ 12.109375 9.234375 16.796875 8.0625 \nQ 21.484375 6.890625 26.703125 6.890625 \nQ 35.15625 6.890625 40.078125 11.328125 \nQ 45.015625 15.765625 45.015625 23.390625 \nQ 45.015625 31 40.078125 35.4375 \nQ 35.15625 39.890625 26.703125 39.890625 \nQ 22.75 39.890625 18.8125 39.015625 \nQ 14.890625 38.140625 10.796875 36.28125 \nz\n\" id=\"DejaVuSans-53\"/>\n      </defs>\n      <g style=\"fill:#262626;\" transform=\"translate(378.534189 574.658281)scale(0.11 -0.11)\">\n       <use xlink:href=\"#DejaVuSans-53\"/>\n      </g>\n     </g>\n    </g>\n    <g id=\"xtick_6\">\n     <g id=\"line2d_6\">\n      <path clip-path=\"url(#ped46369fb9)\" d=\"M 455.818688 556.8 \nL 455.818688 13.2 \n\" style=\"fill:none;stroke:#ffffff;stroke-linecap:round;\"/>\n     </g>\n     <g id=\"text_6\">\n      <!-- 6 -->\n      <defs>\n       <path d=\"M 33.015625 40.375 \nQ 26.375 40.375 22.484375 35.828125 \nQ 18.609375 31.296875 18.609375 23.390625 \nQ 18.609375 15.53125 22.484375 10.953125 \nQ 26.375 6.390625 33.015625 6.390625 \nQ 39.65625 6.390625 43.53125 10.953125 \nQ 47.40625 15.53125 47.40625 23.390625 \nQ 47.40625 31.296875 43.53125 35.828125 \nQ 39.65625 40.375 33.015625 40.375 \nz\nM 52.59375 71.296875 \nL 52.59375 62.3125 \nQ 48.875 64.0625 45.09375 64.984375 \nQ 41.3125 65.921875 37.59375 65.921875 \nQ 27.828125 65.921875 22.671875 59.328125 \nQ 17.53125 52.734375 16.796875 39.40625 \nQ 19.671875 43.65625 24.015625 45.921875 \nQ 28.375 48.1875 33.59375 48.1875 \nQ 44.578125 48.1875 50.953125 41.515625 \nQ 57.328125 34.859375 57.328125 23.390625 \nQ 57.328125 12.15625 50.6875 5.359375 \nQ 44.046875 -1.421875 33.015625 -1.421875 \nQ 20.359375 -1.421875 13.671875 8.265625 \nQ 6.984375 17.96875 6.984375 36.375 \nQ 6.984375 53.65625 15.1875 63.9375 \nQ 23.390625 74.21875 37.203125 74.21875 \nQ 40.921875 74.21875 44.703125 73.484375 \nQ 48.484375 72.75 52.59375 71.296875 \nz\n\" id=\"DejaVuSans-54\"/>\n      </defs>\n      <g style=\"fill:#262626;\" transform=\"translate(452.319313 574.658281)scale(0.11 -0.11)\">\n       <use xlink:href=\"#DejaVuSans-54\"/>\n      </g>\n     </g>\n    </g>\n    <g id=\"xtick_7\">\n     <g id=\"line2d_7\">\n      <path clip-path=\"url(#ped46369fb9)\" d=\"M 529.603812 556.8 \nL 529.603812 13.2 \n\" style=\"fill:none;stroke:#ffffff;stroke-linecap:round;\"/>\n     </g>\n     <g id=\"text_7\">\n      <!-- 7 -->\n      <defs>\n       <path d=\"M 8.203125 72.90625 \nL 55.078125 72.90625 \nL 55.078125 68.703125 \nL 28.609375 0 \nL 18.3125 0 \nL 43.21875 64.59375 \nL 8.203125 64.59375 \nz\n\" id=\"DejaVuSans-55\"/>\n      </defs>\n      <g style=\"fill:#262626;\" transform=\"translate(526.104437 574.658281)scale(0.11 -0.11)\">\n       <use xlink:href=\"#DejaVuSans-55\"/>\n      </g>\n     </g>\n    </g>\n    <g id=\"xtick_8\">\n     <g id=\"line2d_8\">\n      <path clip-path=\"url(#ped46369fb9)\" d=\"M 603.388936 556.8 \nL 603.388936 13.2 \n\" style=\"fill:none;stroke:#ffffff;stroke-linecap:round;\"/>\n     </g>\n     <g id=\"text_8\">\n      <!-- 8 -->\n      <defs>\n       <path d=\"M 31.78125 34.625 \nQ 24.75 34.625 20.71875 30.859375 \nQ 16.703125 27.09375 16.703125 20.515625 \nQ 16.703125 13.921875 20.71875 10.15625 \nQ 24.75 6.390625 31.78125 6.390625 \nQ 38.8125 6.390625 42.859375 10.171875 \nQ 46.921875 13.96875 46.921875 20.515625 \nQ 46.921875 27.09375 42.890625 30.859375 \nQ 38.875 34.625 31.78125 34.625 \nz\nM 21.921875 38.8125 \nQ 15.578125 40.375 12.03125 44.71875 \nQ 8.5 49.078125 8.5 55.328125 \nQ 8.5 64.0625 14.71875 69.140625 \nQ 20.953125 74.21875 31.78125 74.21875 \nQ 42.671875 74.21875 48.875 69.140625 \nQ 55.078125 64.0625 55.078125 55.328125 \nQ 55.078125 49.078125 51.53125 44.71875 \nQ 48 40.375 41.703125 38.8125 \nQ 48.828125 37.15625 52.796875 32.3125 \nQ 56.78125 27.484375 56.78125 20.515625 \nQ 56.78125 9.90625 50.3125 4.234375 \nQ 43.84375 -1.421875 31.78125 -1.421875 \nQ 19.734375 -1.421875 13.25 4.234375 \nQ 6.78125 9.90625 6.78125 20.515625 \nQ 6.78125 27.484375 10.78125 32.3125 \nQ 14.796875 37.15625 21.921875 38.8125 \nz\nM 18.3125 54.390625 \nQ 18.3125 48.734375 21.84375 45.5625 \nQ 25.390625 42.390625 31.78125 42.390625 \nQ 38.140625 42.390625 41.71875 45.5625 \nQ 45.3125 48.734375 45.3125 54.390625 \nQ 45.3125 60.0625 41.71875 63.234375 \nQ 38.140625 66.40625 31.78125 66.40625 \nQ 25.390625 66.40625 21.84375 63.234375 \nQ 18.3125 60.0625 18.3125 54.390625 \nz\n\" id=\"DejaVuSans-56\"/>\n      </defs>\n      <g style=\"fill:#262626;\" transform=\"translate(599.889561 574.658281)scale(0.11 -0.11)\">\n       <use xlink:href=\"#DejaVuSans-56\"/>\n      </g>\n     </g>\n    </g>\n    <g id=\"xtick_9\">\n     <g id=\"line2d_9\">\n      <path clip-path=\"url(#ped46369fb9)\" d=\"M 677.17406 556.8 \nL 677.17406 13.2 \n\" style=\"fill:none;stroke:#ffffff;stroke-linecap:round;\"/>\n     </g>\n     <g id=\"text_9\">\n      <!-- 9 -->\n      <defs>\n       <path d=\"M 10.984375 1.515625 \nL 10.984375 10.5 \nQ 14.703125 8.734375 18.5 7.8125 \nQ 22.3125 6.890625 25.984375 6.890625 \nQ 35.75 6.890625 40.890625 13.453125 \nQ 46.046875 20.015625 46.78125 33.40625 \nQ 43.953125 29.203125 39.59375 26.953125 \nQ 35.25 24.703125 29.984375 24.703125 \nQ 19.046875 24.703125 12.671875 31.3125 \nQ 6.296875 37.9375 6.296875 49.421875 \nQ 6.296875 60.640625 12.9375 67.421875 \nQ 19.578125 74.21875 30.609375 74.21875 \nQ 43.265625 74.21875 49.921875 64.515625 \nQ 56.59375 54.828125 56.59375 36.375 \nQ 56.59375 19.140625 48.40625 8.859375 \nQ 40.234375 -1.421875 26.421875 -1.421875 \nQ 22.703125 -1.421875 18.890625 -0.6875 \nQ 15.09375 0.046875 10.984375 1.515625 \nz\nM 30.609375 32.421875 \nQ 37.25 32.421875 41.125 36.953125 \nQ 45.015625 41.5 45.015625 49.421875 \nQ 45.015625 57.28125 41.125 61.84375 \nQ 37.25 66.40625 30.609375 66.40625 \nQ 23.96875 66.40625 20.09375 61.84375 \nQ 16.21875 57.28125 16.21875 49.421875 \nQ 16.21875 41.5 20.09375 36.953125 \nQ 23.96875 32.421875 30.609375 32.421875 \nz\n\" id=\"DejaVuSans-57\"/>\n      </defs>\n      <g style=\"fill:#262626;\" transform=\"translate(673.674685 574.658281)scale(0.11 -0.11)\">\n       <use xlink:href=\"#DejaVuSans-57\"/>\n      </g>\n     </g>\n    </g>\n    <g id=\"xtick_10\">\n     <g id=\"line2d_10\">\n      <path clip-path=\"url(#ped46369fb9)\" d=\"M 750.959184 556.8 \nL 750.959184 13.2 \n\" style=\"fill:none;stroke:#ffffff;stroke-linecap:round;\"/>\n     </g>\n     <g id=\"text_10\">\n      <!-- 10 -->\n      <defs>\n       <path d=\"M 31.78125 66.40625 \nQ 24.171875 66.40625 20.328125 58.90625 \nQ 16.5 51.421875 16.5 36.375 \nQ 16.5 21.390625 20.328125 13.890625 \nQ 24.171875 6.390625 31.78125 6.390625 \nQ 39.453125 6.390625 43.28125 13.890625 \nQ 47.125 21.390625 47.125 36.375 \nQ 47.125 51.421875 43.28125 58.90625 \nQ 39.453125 66.40625 31.78125 66.40625 \nz\nM 31.78125 74.21875 \nQ 44.046875 74.21875 50.515625 64.515625 \nQ 56.984375 54.828125 56.984375 36.375 \nQ 56.984375 17.96875 50.515625 8.265625 \nQ 44.046875 -1.421875 31.78125 -1.421875 \nQ 19.53125 -1.421875 13.0625 8.265625 \nQ 6.59375 17.96875 6.59375 36.375 \nQ 6.59375 54.828125 13.0625 64.515625 \nQ 19.53125 74.21875 31.78125 74.21875 \nz\n\" id=\"DejaVuSans-48\"/>\n      </defs>\n      <g style=\"fill:#262626;\" transform=\"translate(743.960434 574.658281)scale(0.11 -0.11)\">\n       <use xlink:href=\"#DejaVuSans-49\"/>\n       <use x=\"63.623047\" xlink:href=\"#DejaVuSans-48\"/>\n      </g>\n     </g>\n    </g>\n    <g id=\"xtick_11\">\n     <g id=\"line2d_11\">\n      <path clip-path=\"url(#ped46369fb9)\" d=\"M 824.744308 556.8 \nL 824.744308 13.2 \n\" style=\"fill:none;stroke:#ffffff;stroke-linecap:round;\"/>\n     </g>\n     <g id=\"text_11\">\n      <!-- 11 -->\n      <g style=\"fill:#262626;\" transform=\"translate(817.745558 574.658281)scale(0.11 -0.11)\">\n       <use xlink:href=\"#DejaVuSans-49\"/>\n       <use x=\"63.623047\" xlink:href=\"#DejaVuSans-49\"/>\n      </g>\n     </g>\n    </g>\n    <g id=\"xtick_12\">\n     <g id=\"line2d_12\">\n      <path clip-path=\"url(#ped46369fb9)\" d=\"M 898.529432 556.8 \nL 898.529432 13.2 \n\" style=\"fill:none;stroke:#ffffff;stroke-linecap:round;\"/>\n     </g>\n     <g id=\"text_12\">\n      <!-- 12 -->\n      <g style=\"fill:#262626;\" transform=\"translate(891.530682 574.658281)scale(0.11 -0.11)\">\n       <use xlink:href=\"#DejaVuSans-49\"/>\n       <use x=\"63.623047\" xlink:href=\"#DejaVuSans-50\"/>\n      </g>\n     </g>\n    </g>\n    <g id=\"text_13\">\n     <!-- Месяц выдачи кредита -->\n     <defs>\n      <path d=\"M 9.8125 72.90625 \nL 24.515625 72.90625 \nL 43.109375 23.296875 \nL 61.8125 72.90625 \nL 76.515625 72.90625 \nL 76.515625 0 \nL 66.890625 0 \nL 66.890625 64.015625 \nL 48.09375 14.015625 \nL 38.1875 14.015625 \nL 19.390625 64.015625 \nL 19.390625 0 \nL 9.8125 0 \nz\n\" id=\"DejaVuSans-1052\"/>\n      <path d=\"M 56.203125 29.59375 \nL 56.203125 25.203125 \nL 14.890625 25.203125 \nQ 15.484375 15.921875 20.484375 11.0625 \nQ 25.484375 6.203125 34.421875 6.203125 \nQ 39.59375 6.203125 44.453125 7.46875 \nQ 49.3125 8.734375 54.109375 11.28125 \nL 54.109375 2.78125 \nQ 49.265625 0.734375 44.1875 -0.34375 \nQ 39.109375 -1.421875 33.890625 -1.421875 \nQ 20.796875 -1.421875 13.15625 6.1875 \nQ 5.515625 13.8125 5.515625 26.8125 \nQ 5.515625 40.234375 12.765625 48.109375 \nQ 20.015625 56 32.328125 56 \nQ 43.359375 56 49.78125 48.890625 \nQ 56.203125 41.796875 56.203125 29.59375 \nz\nM 47.21875 32.234375 \nQ 47.125 39.59375 43.09375 43.984375 \nQ 39.0625 48.390625 32.421875 48.390625 \nQ 24.90625 48.390625 20.390625 44.140625 \nQ 15.875 39.890625 15.1875 32.171875 \nz\n\" id=\"DejaVuSans-1077\"/>\n      <path d=\"M 48.78125 52.59375 \nL 48.78125 44.1875 \nQ 44.96875 46.296875 41.140625 47.34375 \nQ 37.3125 48.390625 33.40625 48.390625 \nQ 24.65625 48.390625 19.8125 42.84375 \nQ 14.984375 37.3125 14.984375 27.296875 \nQ 14.984375 17.28125 19.8125 11.734375 \nQ 24.65625 6.203125 33.40625 6.203125 \nQ 37.3125 6.203125 41.140625 7.25 \nQ 44.96875 8.296875 48.78125 10.40625 \nL 48.78125 2.09375 \nQ 45.015625 0.34375 40.984375 -0.53125 \nQ 36.96875 -1.421875 32.421875 -1.421875 \nQ 20.0625 -1.421875 12.78125 6.34375 \nQ 5.515625 14.109375 5.515625 27.296875 \nQ 5.515625 40.671875 12.859375 48.328125 \nQ 20.21875 56 33.015625 56 \nQ 37.15625 56 41.109375 55.140625 \nQ 45.0625 54.296875 48.78125 52.59375 \nz\n\" id=\"DejaVuSans-1089\"/>\n      <path d=\"M 18.453125 38.921875 \nQ 18.453125 34.859375 21.578125 32.5625 \nQ 24.703125 30.28125 30.515625 30.28125 \nL 42.625 30.28125 \nL 42.625 47.515625 \nL 30.515625 47.515625 \nQ 24.703125 47.515625 21.578125 45.265625 \nQ 18.453125 43.015625 18.453125 38.921875 \nz\nM 5.671875 0 \nL 22.359375 23.96875 \nQ 16.703125 25.25 12.9375 28.59375 \nQ 9.1875 31.9375 9.1875 38.921875 \nQ 9.1875 46.828125 14.421875 50.75 \nQ 19.671875 54.6875 30.28125 54.6875 \nL 51.65625 54.6875 \nL 51.65625 0 \nL 42.625 0 \nL 42.625 23.09375 \nL 31.453125 23.09375 \nL 15.328125 0 \nz\n\" id=\"DejaVuSans-1103\"/>\n      <path d=\"M 56.296875 0 \nL 9.078125 0 \nL 9.078125 54.6875 \nL 18.109375 54.6875 \nL 18.109375 7.171875 \nL 47.265625 7.171875 \nL 47.265625 54.6875 \nL 56.296875 54.6875 \nL 56.296875 7.171875 \nL 63.484375 7.171875 \nL 63.484375 -13.8125 \nL 56.296875 -13.8125 \nz\n\" id=\"DejaVuSans-1094\"/>\n      <path id=\"DejaVuSans-32\"/>\n      <path d=\"M 18.0625 25.203125 \nL 18.0625 7.171875 \nL 30.859375 7.171875 \nQ 37.015625 7.171875 40.234375 9.484375 \nQ 43.453125 11.8125 43.453125 16.21875 \nQ 43.453125 20.609375 40.234375 22.90625 \nQ 37.015625 25.203125 30.859375 25.203125 \nz\nM 18.0625 47.515625 \nL 18.0625 32.375 \nL 29.890625 32.375 \nQ 34.96875 32.375 38.1875 34.390625 \nQ 41.40625 36.421875 41.40625 40.046875 \nQ 41.40625 43.65625 38.1875 45.578125 \nQ 34.96875 47.515625 29.890625 47.515625 \nz\nM 9.078125 54.6875 \nL 30.46875 54.6875 \nQ 40.09375 54.6875 45.265625 51.171875 \nQ 50.4375 47.65625 50.4375 41.15625 \nQ 50.4375 36.140625 47.796875 33.171875 \nQ 45.171875 30.21875 39.984375 29.5 \nQ 46.1875 28.328125 49.609375 24.609375 \nQ 53.03125 20.90625 53.03125 15.328125 \nQ 53.03125 8.015625 47.390625 4 \nQ 41.75 0 31.296875 0 \nL 9.078125 0 \nz\n\" id=\"DejaVuSans-1074\"/>\n      <path d=\"M 61.046875 54.6875 \nL 70.03125 54.6875 \nL 70.03125 0 \nL 61.046875 0 \nz\nM 65.546875 56 \nz\nM 43.453125 16.21875 \nQ 43.453125 20.609375 40.25 22.90625 \nQ 37.0625 25.203125 30.90625 25.203125 \nL 18.109375 25.203125 \nL 18.109375 7.171875 \nL 30.90625 7.171875 \nQ 37.0625 7.171875 40.25 9.484375 \nQ 43.453125 11.8125 43.453125 16.21875 \nz\nM 9.078125 54.6875 \nL 18.109375 54.6875 \nL 18.109375 32.375 \nL 31.296875 32.375 \nQ 41.75 32.375 47.390625 28.390625 \nQ 53.03125 24.421875 53.03125 16.21875 \nQ 53.03125 8.015625 47.390625 4 \nQ 41.75 0 31.296875 0 \nL 9.078125 0 \nz\n\" id=\"DejaVuSans-1099\"/>\n      <path d=\"M 21.625 7.171875 \nL 47.703125 7.171875 \nL 47.703125 47.515625 \nL 28.8125 47.515625 \nL 28.8125 40.671875 \nQ 28.8125 20.5625 23.046875 9.8125 \nz\nM 8.59375 7.171875 \nQ 13.03125 9.125 14.984375 13.28125 \nQ 19.78125 23.578125 19.78125 44.34375 \nL 19.78125 54.6875 \nL 56.734375 54.6875 \nL 56.734375 7.171875 \nL 63.921875 7.171875 \nL 63.921875 -13.8125 \nL 56.734375 -13.8125 \nL 56.734375 0 \nL 12.40625 0 \nL 12.40625 -13.8125 \nL 5.21875 -13.8125 \nL 5.21875 7.171875 \nz\n\" id=\"DejaVuSans-1076\"/>\n      <path d=\"M 34.28125 27.484375 \nQ 23.390625 27.484375 19.1875 25 \nQ 14.984375 22.515625 14.984375 16.5 \nQ 14.984375 11.71875 18.140625 8.90625 \nQ 21.296875 6.109375 26.703125 6.109375 \nQ 34.1875 6.109375 38.703125 11.40625 \nQ 43.21875 16.703125 43.21875 25.484375 \nL 43.21875 27.484375 \nz\nM 52.203125 31.203125 \nL 52.203125 0 \nL 43.21875 0 \nL 43.21875 8.296875 \nQ 40.140625 3.328125 35.546875 0.953125 \nQ 30.953125 -1.421875 24.3125 -1.421875 \nQ 15.921875 -1.421875 10.953125 3.296875 \nQ 6 8.015625 6 15.921875 \nQ 6 25.140625 12.171875 29.828125 \nQ 18.359375 34.515625 30.609375 34.515625 \nL 43.21875 34.515625 \nL 43.21875 35.40625 \nQ 43.21875 41.609375 39.140625 45 \nQ 35.0625 48.390625 27.6875 48.390625 \nQ 23 48.390625 18.546875 47.265625 \nQ 14.109375 46.140625 10.015625 43.890625 \nL 10.015625 52.203125 \nQ 14.9375 54.109375 19.578125 55.046875 \nQ 24.21875 56 28.609375 56 \nQ 40.484375 56 46.34375 49.84375 \nQ 52.203125 43.703125 52.203125 31.203125 \nz\n\" id=\"DejaVuSans-1072\"/>\n      <path d=\"M 41.015625 0 \nL 41.015625 23 \nL 24.265625 23 \nQ 16.796875 23 11.8125 27.640625 \nQ 7.328125 31.84375 7.328125 40.828125 \nL 7.328125 54.6875 \nL 16.3125 54.6875 \nL 16.3125 41.65625 \nQ 16.3125 35.9375 18.84375 33.0625 \nQ 21.4375 30.171875 26.515625 30.171875 \nL 41.015625 30.171875 \nL 41.015625 54.6875 \nL 50 54.6875 \nL 50 0 \nz\n\" id=\"DejaVuSans-1095\"/>\n      <path d=\"M 55.90625 54.6875 \nL 55.90625 0 \nL 46.96875 0 \nL 46.96875 43.890625 \nL 20.609375 0 \nL 9.078125 0 \nL 9.078125 54.6875 \nL 18.015625 54.6875 \nL 18.015625 10.890625 \nL 44.34375 54.6875 \nz\n\" id=\"DejaVuSans-1080\"/>\n      <path d=\"M 9.078125 54.6875 \nL 18.015625 54.6875 \nL 18.015625 29 \nL 43.359375 54.6875 \nL 54.390625 54.6875 \nL 33.5 33.546875 \nL 57.078125 0 \nL 47.015625 0 \nL 27.640625 27.59375 \nL 18.015625 17.828125 \nL 18.015625 0 \nL 9.078125 0 \nz\n\" id=\"DejaVuSans-1082\"/>\n      <path d=\"M 18.109375 8.203125 \nL 18.109375 -20.796875 \nL 9.078125 -20.796875 \nL 9.078125 54.6875 \nL 18.109375 54.6875 \nL 18.109375 46.390625 \nQ 20.953125 51.265625 25.265625 53.625 \nQ 29.59375 56 35.59375 56 \nQ 45.5625 56 51.78125 48.09375 \nQ 58.015625 40.1875 58.015625 27.296875 \nQ 58.015625 14.40625 51.78125 6.484375 \nQ 45.5625 -1.421875 35.59375 -1.421875 \nQ 29.59375 -1.421875 25.265625 0.953125 \nQ 20.953125 3.328125 18.109375 8.203125 \nz\nM 48.6875 27.296875 \nQ 48.6875 37.203125 44.609375 42.84375 \nQ 40.53125 48.484375 33.40625 48.484375 \nQ 26.265625 48.484375 22.1875 42.84375 \nQ 18.109375 37.203125 18.109375 27.296875 \nQ 18.109375 17.390625 22.1875 11.75 \nQ 26.265625 6.109375 33.40625 6.109375 \nQ 40.53125 6.109375 44.609375 11.75 \nQ 48.6875 17.390625 48.6875 27.296875 \nz\n\" id=\"DejaVuSans-1088\"/>\n      <path d=\"M 2.9375 54.6875 \nL 55.328125 54.6875 \nL 55.328125 47.515625 \nL 33.546875 47.515625 \nL 33.546875 0 \nL 24.703125 0 \nL 24.703125 47.515625 \nL 2.9375 47.515625 \nz\n\" id=\"DejaVuSans-1090\"/>\n     </defs>\n     <g style=\"fill:#262626;\" transform=\"translate(419.149375 590.064062)scale(0.12 -0.12)\">\n      <use xlink:href=\"#DejaVuSans-1052\"/>\n      <use x=\"86.279297\" xlink:href=\"#DejaVuSans-1077\"/>\n      <use x=\"147.802734\" xlink:href=\"#DejaVuSans-1089\"/>\n      <use x=\"202.783203\" xlink:href=\"#DejaVuSans-1103\"/>\n      <use x=\"262.939453\" xlink:href=\"#DejaVuSans-1094\"/>\n      <use x=\"331.005859\" xlink:href=\"#DejaVuSans-32\"/>\n      <use x=\"362.792969\" xlink:href=\"#DejaVuSans-1074\"/>\n      <use x=\"421.728516\" xlink:href=\"#DejaVuSans-1099\"/>\n      <use x=\"500.683594\" xlink:href=\"#DejaVuSans-1076\"/>\n      <use x=\"569.824219\" xlink:href=\"#DejaVuSans-1072\"/>\n      <use x=\"631.103516\" xlink:href=\"#DejaVuSans-1095\"/>\n      <use x=\"690.185547\" xlink:href=\"#DejaVuSans-1080\"/>\n      <use x=\"755.175781\" xlink:href=\"#DejaVuSans-32\"/>\n      <use x=\"786.962891\" xlink:href=\"#DejaVuSans-1082\"/>\n      <use x=\"847.363281\" xlink:href=\"#DejaVuSans-1088\"/>\n      <use x=\"910.839844\" xlink:href=\"#DejaVuSans-1077\"/>\n      <use x=\"972.363281\" xlink:href=\"#DejaVuSans-1076\"/>\n      <use x=\"1041.503906\" xlink:href=\"#DejaVuSans-1080\"/>\n      <use x=\"1106.494141\" xlink:href=\"#DejaVuSans-1090\"/>\n      <use x=\"1164.746094\" xlink:href=\"#DejaVuSans-1072\"/>\n     </g>\n    </g>\n   </g>\n   <g id=\"matplotlib.axis_2\">\n    <g id=\"ytick_1\">\n     <g id=\"line2d_13\">\n      <path clip-path=\"url(#ped46369fb9)\" d=\"M 46.31125 540.760766 \nL 939.11125 540.760766 \n\" style=\"fill:none;stroke:#ffffff;stroke-linecap:round;\"/>\n     </g>\n     <g id=\"text_14\">\n      <!-- 0 -->\n      <g style=\"fill:#262626;\" transform=\"translate(29.8125 544.939906)scale(0.11 -0.11)\">\n       <use xlink:href=\"#DejaVuSans-48\"/>\n      </g>\n     </g>\n    </g>\n    <g id=\"ytick_2\">\n     <g id=\"line2d_14\">\n      <path clip-path=\"url(#ped46369fb9)\" d=\"M 46.31125 454.062201 \nL 939.11125 454.062201 \n\" style=\"fill:none;stroke:#ffffff;stroke-linecap:round;\"/>\n     </g>\n     <g id=\"text_15\">\n      <!-- 10 -->\n      <g style=\"fill:#262626;\" transform=\"translate(22.81375 458.241342)scale(0.11 -0.11)\">\n       <use xlink:href=\"#DejaVuSans-49\"/>\n       <use x=\"63.623047\" xlink:href=\"#DejaVuSans-48\"/>\n      </g>\n     </g>\n    </g>\n    <g id=\"ytick_3\">\n     <g id=\"line2d_15\">\n      <path clip-path=\"url(#ped46369fb9)\" d=\"M 46.31125 367.363636 \nL 939.11125 367.363636 \n\" style=\"fill:none;stroke:#ffffff;stroke-linecap:round;\"/>\n     </g>\n     <g id=\"text_16\">\n      <!-- 20 -->\n      <g style=\"fill:#262626;\" transform=\"translate(22.81375 371.542777)scale(0.11 -0.11)\">\n       <use xlink:href=\"#DejaVuSans-50\"/>\n       <use x=\"63.623047\" xlink:href=\"#DejaVuSans-48\"/>\n      </g>\n     </g>\n    </g>\n    <g id=\"ytick_4\">\n     <g id=\"line2d_16\">\n      <path clip-path=\"url(#ped46369fb9)\" d=\"M 46.31125 280.665072 \nL 939.11125 280.665072 \n\" style=\"fill:none;stroke:#ffffff;stroke-linecap:round;\"/>\n     </g>\n     <g id=\"text_17\">\n      <!-- 30 -->\n      <g style=\"fill:#262626;\" transform=\"translate(22.81375 284.844212)scale(0.11 -0.11)\">\n       <use xlink:href=\"#DejaVuSans-51\"/>\n       <use x=\"63.623047\" xlink:href=\"#DejaVuSans-48\"/>\n      </g>\n     </g>\n    </g>\n    <g id=\"ytick_5\">\n     <g id=\"line2d_17\">\n      <path clip-path=\"url(#ped46369fb9)\" d=\"M 46.31125 193.966507 \nL 939.11125 193.966507 \n\" style=\"fill:none;stroke:#ffffff;stroke-linecap:round;\"/>\n     </g>\n     <g id=\"text_18\">\n      <!-- 40 -->\n      <g style=\"fill:#262626;\" transform=\"translate(22.81375 198.145648)scale(0.11 -0.11)\">\n       <use xlink:href=\"#DejaVuSans-52\"/>\n       <use x=\"63.623047\" xlink:href=\"#DejaVuSans-48\"/>\n      </g>\n     </g>\n    </g>\n    <g id=\"ytick_6\">\n     <g id=\"line2d_18\">\n      <path clip-path=\"url(#ped46369fb9)\" d=\"M 46.31125 107.267943 \nL 939.11125 107.267943 \n\" style=\"fill:none;stroke:#ffffff;stroke-linecap:round;\"/>\n     </g>\n     <g id=\"text_19\">\n      <!-- 50 -->\n      <g style=\"fill:#262626;\" transform=\"translate(22.81375 111.447083)scale(0.11 -0.11)\">\n       <use xlink:href=\"#DejaVuSans-53\"/>\n       <use x=\"63.623047\" xlink:href=\"#DejaVuSans-48\"/>\n      </g>\n     </g>\n    </g>\n    <g id=\"ytick_7\">\n     <g id=\"line2d_19\">\n      <path clip-path=\"url(#ped46369fb9)\" d=\"M 46.31125 20.569378 \nL 939.11125 20.569378 \n\" style=\"fill:none;stroke:#ffffff;stroke-linecap:round;\"/>\n     </g>\n     <g id=\"text_20\">\n      <!-- 60 -->\n      <g style=\"fill:#262626;\" transform=\"translate(22.81375 24.748519)scale(0.11 -0.11)\">\n       <use xlink:href=\"#DejaVuSans-54\"/>\n       <use x=\"63.623047\" xlink:href=\"#DejaVuSans-48\"/>\n      </g>\n     </g>\n    </g>\n    <g id=\"text_21\">\n     <!-- Всего кредитов -->\n     <defs>\n      <path d=\"M 19.671875 34.8125 \nL 19.671875 8.109375 \nL 35.5 8.109375 \nQ 43.453125 8.109375 47.28125 11.40625 \nQ 51.125 14.703125 51.125 21.484375 \nQ 51.125 28.328125 47.28125 31.5625 \nQ 43.453125 34.8125 35.5 34.8125 \nz\nM 19.671875 64.796875 \nL 19.671875 42.828125 \nL 34.28125 42.828125 \nQ 41.5 42.828125 45.03125 45.53125 \nQ 48.578125 48.25 48.578125 53.8125 \nQ 48.578125 59.328125 45.03125 62.0625 \nQ 41.5 64.796875 34.28125 64.796875 \nz\nM 9.8125 72.90625 \nL 35.015625 72.90625 \nQ 46.296875 72.90625 52.390625 68.21875 \nQ 58.5 63.53125 58.5 54.890625 \nQ 58.5 48.1875 55.375 44.234375 \nQ 52.25 40.28125 46.1875 39.3125 \nQ 53.46875 37.75 57.5 32.78125 \nQ 61.53125 27.828125 61.53125 20.40625 \nQ 61.53125 10.640625 54.890625 5.3125 \nQ 48.25 0 35.984375 0 \nL 9.8125 0 \nz\n\" id=\"DejaVuSans-1042\"/>\n      <path d=\"M 9.078125 0 \nL 9.078125 54.6875 \nL 47.65625 54.6875 \nL 47.65625 47.515625 \nL 18.109375 47.515625 \nL 18.109375 0 \nz\n\" id=\"DejaVuSans-1075\"/>\n      <path d=\"M 30.609375 48.390625 \nQ 23.390625 48.390625 19.1875 42.75 \nQ 14.984375 37.109375 14.984375 27.296875 \nQ 14.984375 17.484375 19.15625 11.84375 \nQ 23.34375 6.203125 30.609375 6.203125 \nQ 37.796875 6.203125 41.984375 11.859375 \nQ 46.1875 17.53125 46.1875 27.296875 \nQ 46.1875 37.015625 41.984375 42.703125 \nQ 37.796875 48.390625 30.609375 48.390625 \nz\nM 30.609375 56 \nQ 42.328125 56 49.015625 48.375 \nQ 55.71875 40.765625 55.71875 27.296875 \nQ 55.71875 13.875 49.015625 6.21875 \nQ 42.328125 -1.421875 30.609375 -1.421875 \nQ 18.84375 -1.421875 12.171875 6.21875 \nQ 5.515625 13.875 5.515625 27.296875 \nQ 5.515625 40.765625 12.171875 48.375 \nQ 18.84375 56 30.609375 56 \nz\n\" id=\"DejaVuSans-1086\"/>\n     </defs>\n     <g style=\"fill:#262626;\" transform=\"translate(16.318125 334.71375)rotate(-90)scale(0.12 -0.12)\">\n      <use xlink:href=\"#DejaVuSans-1042\"/>\n      <use x=\"68.603516\" xlink:href=\"#DejaVuSans-1089\"/>\n      <use x=\"123.583984\" xlink:href=\"#DejaVuSans-1077\"/>\n      <use x=\"185.107422\" xlink:href=\"#DejaVuSans-1075\"/>\n      <use x=\"237.646484\" xlink:href=\"#DejaVuSans-1086\"/>\n      <use x=\"298.828125\" xlink:href=\"#DejaVuSans-32\"/>\n      <use x=\"330.615234\" xlink:href=\"#DejaVuSans-1082\"/>\n      <use x=\"391.015625\" xlink:href=\"#DejaVuSans-1088\"/>\n      <use x=\"454.492188\" xlink:href=\"#DejaVuSans-1077\"/>\n      <use x=\"516.015625\" xlink:href=\"#DejaVuSans-1076\"/>\n      <use x=\"585.15625\" xlink:href=\"#DejaVuSans-1080\"/>\n      <use x=\"650.146484\" xlink:href=\"#DejaVuSans-1090\"/>\n      <use x=\"708.398438\" xlink:href=\"#DejaVuSans-1086\"/>\n      <use x=\"769.580078\" xlink:href=\"#DejaVuSans-1074\"/>\n     </g>\n    </g>\n   </g>\n   <g id=\"line2d_20\">\n    <path clip-path=\"url(#ped46369fb9)\" d=\"M 160.678192 532.090909 \nL 234.463316 532.090909 \nL 308.24844 532.090909 \nL 382.033564 514.751196 \nL 455.818688 523.421053 \nL 529.603812 514.751196 \nL 603.388936 523.421053 \nL 750.959184 506.08134 \nL 824.744308 514.751196 \nL 898.529432 532.090909 \n\" style=\"fill:none;stroke:#f77189;stroke-linecap:round;stroke-width:1.5;\"/>\n   </g>\n   <g id=\"line2d_21\">\n    <path clip-path=\"url(#ped46369fb9)\" d=\"M 86.893068 532.090909 \nL 234.463316 532.090909 \nL 382.033564 532.090909 \nL 455.818688 532.090909 \nL 603.388936 523.421053 \nL 750.959184 532.090909 \nL 824.744308 532.090909 \nL 898.529432 532.090909 \n\" style=\"fill:none;stroke:#f77557;stroke-linecap:round;stroke-width:1.5;\"/>\n   </g>\n   <g id=\"line2d_22\">\n    <path clip-path=\"url(#ped46369fb9)\" d=\"M 86.893068 107.267943 \nL 160.678192 219.976077 \nL 234.463316 176.626794 \nL 308.24844 280.665072 \nL 382.033564 306.674641 \nL 455.818688 263.325359 \nL 529.603812 254.655502 \nL 603.388936 107.267943 \nL 677.17406 141.947368 \nL 750.959184 306.674641 \nL 824.744308 98.598086 \nL 898.529432 141.947368 \n\" style=\"fill:none;stroke:#e18632;stroke-linecap:round;stroke-width:1.5;\"/>\n   </g>\n   <g id=\"line2d_23\">\n    <path clip-path=\"url(#ped46369fb9)\" d=\"M 234.463316 532.090909 \nL 455.818688 532.090909 \n\" style=\"fill:none;stroke:#c99232;stroke-linecap:round;stroke-width:1.5;\"/>\n   </g>\n   <g id=\"line2d_24\">\n    <path clip-path=\"url(#ped46369fb9)\" d=\"M 86.893068 436.722488 \nL 160.678192 436.722488 \nL 234.463316 384.703349 \nL 308.24844 410.712919 \nL 382.033564 428.052632 \nL 455.818688 428.052632 \nL 529.603812 428.052632 \nL 603.388936 428.052632 \nL 677.17406 428.052632 \nL 750.959184 376.033493 \nL 824.744308 358.69378 \nL 898.529432 402.043062 \n\" style=\"fill:none;stroke:#b59a32;stroke-linecap:round;stroke-width:1.5;\"/>\n   </g>\n   <g id=\"line2d_25\">\n    <path clip-path=\"url(#ped46369fb9)\" d=\"M 86.893068 514.751196 \nL 160.678192 506.08134 \nL 234.463316 506.08134 \nL 308.24844 523.421053 \nL 382.033564 532.090909 \nL 455.818688 506.08134 \nL 529.603812 480.07177 \nL 603.388936 471.401914 \nL 677.17406 488.741627 \nL 750.959184 506.08134 \nL 824.744308 480.07177 \nL 898.529432 497.411483 \n\" style=\"fill:none;stroke:#a2a131;stroke-linecap:round;stroke-width:1.5;\"/>\n   </g>\n   <g id=\"line2d_26\">\n    <path clip-path=\"url(#ped46369fb9)\" d=\"M 86.893068 471.401914 \nL 160.678192 384.703349 \nL 234.463316 428.052632 \nL 308.24844 410.712919 \nL 382.033564 497.411483 \nL 455.818688 393.373206 \nL 529.603812 393.373206 \nL 603.388936 445.392344 \nL 677.17406 428.052632 \nL 750.959184 410.712919 \nL 824.744308 376.033493 \nL 898.529432 428.052632 \n\" style=\"fill:none;stroke:#8ba731;stroke-linecap:round;stroke-width:1.5;\"/>\n   </g>\n   <g id=\"line2d_27\">\n    <path clip-path=\"url(#ped46369fb9)\" d=\"M 86.893068 523.421053 \nL 160.678192 506.08134 \nL 234.463316 532.090909 \nL 308.24844 506.08134 \nL 382.033564 514.751196 \nL 529.603812 523.421053 \nL 603.388936 514.751196 \nL 677.17406 532.090909 \nL 750.959184 514.751196 \nL 824.744308 532.090909 \nL 898.529432 514.751196 \n\" style=\"fill:none;stroke:#66ae31;stroke-linecap:round;stroke-width:1.5;\"/>\n   </g>\n   <g id=\"line2d_28\">\n    <path clip-path=\"url(#ped46369fb9)\" d=\"M 86.893068 150.617225 \nL 160.678192 193.966507 \nL 234.463316 37.909091 \nL 308.24844 211.30622 \nL 382.033564 167.956938 \nL 455.818688 263.325359 \nL 529.603812 193.966507 \nL 603.388936 263.325359 \nL 677.17406 280.665072 \nL 750.959184 133.277512 \nL 824.744308 193.966507 \nL 898.529432 81.258373 \n\" style=\"fill:none;stroke:#32b258;stroke-linecap:round;stroke-width:1.5;\"/>\n   </g>\n   <g id=\"line2d_29\">\n    <path clip-path=\"url(#ped46369fb9)\" d=\"M 160.678192 532.090909 \nL 234.463316 532.090909 \nL 308.24844 532.090909 \nL 529.603812 514.751196 \nL 677.17406 532.090909 \nL 750.959184 532.090909 \nL 824.744308 523.421053 \nL 898.529432 532.090909 \n\" style=\"fill:none;stroke:#34b080;stroke-linecap:round;stroke-width:1.5;\"/>\n   </g>\n   <g id=\"line2d_30\">\n    <path clip-path=\"url(#ped46369fb9)\" d=\"M 308.24844 532.090909 \n\" style=\"fill:none;stroke:#35ae95;stroke-linecap:round;stroke-width:1.5;\"/>\n   </g>\n   <g id=\"line2d_31\">\n    <path clip-path=\"url(#ped46369fb9)\" d=\"M 234.463316 523.421053 \nL 308.24844 532.090909 \nL 455.818688 532.090909 \nL 529.603812 523.421053 \nL 677.17406 523.421053 \nL 750.959184 532.090909 \nL 824.744308 532.090909 \n\" style=\"fill:none;stroke:#36ada4;stroke-linecap:round;stroke-width:1.5;\"/>\n   </g>\n   <g id=\"line2d_32\">\n    <path clip-path=\"url(#ped46369fb9)\" d=\"M 86.893068 471.401914 \nL 160.678192 497.411483 \nL 234.463316 480.07177 \nL 308.24844 514.751196 \nL 382.033564 532.090909 \nL 455.818688 497.411483 \nL 529.603812 514.751196 \nL 603.388936 480.07177 \nL 677.17406 506.08134 \nL 750.959184 341.354067 \nL 824.744308 445.392344 \nL 898.529432 445.392344 \n\" style=\"fill:none;stroke:#37abb2;stroke-linecap:round;stroke-width:1.5;\"/>\n   </g>\n   <g id=\"line2d_33\">\n    <path clip-path=\"url(#ped46369fb9)\" d=\"M 86.893068 523.421053 \nL 160.678192 488.741627 \nL 308.24844 514.751196 \nL 382.033564 506.08134 \nL 455.818688 497.411483 \nL 529.603812 497.411483 \nL 603.388936 506.08134 \nL 677.17406 454.062201 \nL 750.959184 514.751196 \nL 824.744308 523.421053 \nL 898.529432 514.751196 \n\" style=\"fill:none;stroke:#38a9c2;stroke-linecap:round;stroke-width:1.5;\"/>\n   </g>\n   <g id=\"line2d_34\">\n    <path clip-path=\"url(#ped46369fb9)\" d=\"M 529.603812 532.090909 \n\" style=\"fill:none;stroke:#39a7d6;stroke-linecap:round;stroke-width:1.5;\"/>\n   </g>\n   <g id=\"line2d_35\">\n    <path clip-path=\"url(#ped46369fb9)\" d=\"M 160.678192 532.090909 \nL 382.033564 523.421053 \n\" style=\"fill:none;stroke:#4ea0f4;stroke-linecap:round;stroke-width:1.5;\"/>\n   </g>\n   <g id=\"line2d_36\">\n    <path clip-path=\"url(#ped46369fb9)\" d=\"M 308.24844 523.421053 \nL 529.603812 523.421053 \nL 677.17406 532.090909 \nL 750.959184 532.090909 \n\" style=\"fill:none;stroke:#8f93f4;stroke-linecap:round;stroke-width:1.5;\"/>\n   </g>\n   <g id=\"line2d_37\">\n    <path clip-path=\"url(#ped46369fb9)\" d=\"M 308.24844 532.090909 \nL 529.603812 532.090909 \nL 898.529432 532.090909 \n\" style=\"fill:none;stroke:#b785f4;stroke-linecap:round;stroke-width:1.5;\"/>\n   </g>\n   <g id=\"line2d_38\">\n    <path clip-path=\"url(#ped46369fb9)\" d=\"M 160.678192 514.751196 \nL 234.463316 514.751196 \nL 308.24844 514.751196 \nL 382.033564 497.411483 \nL 455.818688 532.090909 \nL 529.603812 523.421053 \nL 603.388936 497.411483 \nL 677.17406 514.751196 \nL 750.959184 506.08134 \nL 824.744308 532.090909 \n\" style=\"fill:none;stroke:#db70f4;stroke-linecap:round;stroke-width:1.5;\"/>\n   </g>\n   <g id=\"line2d_39\">\n    <path clip-path=\"url(#ped46369fb9)\" d=\"M 86.893068 506.08134 \nL 160.678192 523.421053 \nL 308.24844 514.751196 \nL 382.033564 514.751196 \nL 455.818688 488.741627 \nL 529.603812 497.411483 \nL 603.388936 514.751196 \nL 677.17406 523.421053 \nL 750.959184 532.090909 \nL 824.744308 506.08134 \nL 898.529432 506.08134 \n\" style=\"fill:none;stroke:#f55fe6;stroke-linecap:round;stroke-width:1.5;\"/>\n   </g>\n   <g id=\"line2d_40\">\n    <path clip-path=\"url(#ped46369fb9)\" d=\"M 86.893068 523.421053 \nL 160.678192 523.421053 \nL 234.463316 523.421053 \nL 308.24844 514.751196 \nL 382.033564 523.421053 \nL 455.818688 523.421053 \nL 529.603812 532.090909 \nL 677.17406 514.751196 \nL 750.959184 514.751196 \nL 824.744308 497.411483 \n\" style=\"fill:none;stroke:#f667c6;stroke-linecap:round;stroke-width:1.5;\"/>\n   </g>\n   <g id=\"line2d_41\">\n    <path clip-path=\"url(#ped46369fb9)\" d=\"M 86.893068 523.421053 \nL 160.678192 523.421053 \nL 234.463316 506.08134 \nL 308.24844 497.411483 \nL 382.033564 514.751196 \nL 529.603812 497.411483 \nL 603.388936 523.421053 \nL 677.17406 532.090909 \nL 750.959184 514.751196 \nL 824.744308 497.411483 \nL 898.529432 506.08134 \n\" style=\"fill:none;stroke:#f66caa;stroke-linecap:round;stroke-width:1.5;\"/>\n   </g>\n   <g id=\"line2d_42\"/>\n   <g id=\"line2d_43\"/>\n   <g id=\"line2d_44\"/>\n   <g id=\"line2d_45\"/>\n   <g id=\"line2d_46\"/>\n   <g id=\"line2d_47\"/>\n   <g id=\"line2d_48\"/>\n   <g id=\"line2d_49\"/>\n   <g id=\"line2d_50\"/>\n   <g id=\"line2d_51\"/>\n   <g id=\"line2d_52\"/>\n   <g id=\"line2d_53\"/>\n   <g id=\"line2d_54\"/>\n   <g id=\"line2d_55\"/>\n   <g id=\"line2d_56\"/>\n   <g id=\"line2d_57\"/>\n   <g id=\"line2d_58\"/>\n   <g id=\"line2d_59\"/>\n   <g id=\"line2d_60\"/>\n   <g id=\"line2d_61\"/>\n   <g id=\"line2d_62\"/>\n   <g id=\"line2d_63\"/>\n   <g id=\"line2d_64\"/>\n   <g id=\"patch_3\">\n    <path d=\"M 46.31125 556.8 \nL 46.31125 13.2 \n\" style=\"fill:none;stroke:#ffffff;stroke-linecap:square;stroke-linejoin:miter;stroke-width:1.25;\"/>\n   </g>\n   <g id=\"patch_4\">\n    <path d=\"M 939.11125 556.8 \nL 939.11125 13.2 \n\" style=\"fill:none;stroke:#ffffff;stroke-linecap:square;stroke-linejoin:miter;stroke-width:1.25;\"/>\n   </g>\n   <g id=\"patch_5\">\n    <path d=\"M 46.31125 556.8 \nL 939.11125 556.8 \n\" style=\"fill:none;stroke:#ffffff;stroke-linecap:square;stroke-linejoin:miter;stroke-width:1.25;\"/>\n   </g>\n   <g id=\"patch_6\">\n    <path d=\"M 46.31125 13.2 \nL 939.11125 13.2 \n\" style=\"fill:none;stroke:#ffffff;stroke-linecap:square;stroke-linejoin:miter;stroke-width:1.25;\"/>\n   </g>\n   <g id=\"legend_1\">\n    <g id=\"patch_7\">\n     <path d=\"M 54.01125 394.293281 \nL 447.611875 394.293281 \nQ 449.811875 394.293281 449.811875 392.093281 \nL 449.811875 20.9 \nQ 449.811875 18.7 447.611875 18.7 \nL 54.01125 18.7 \nQ 51.81125 18.7 51.81125 20.9 \nL 51.81125 392.093281 \nQ 51.81125 394.293281 54.01125 394.293281 \nz\n\" style=\"fill:#eaeaf2;opacity:0.8;stroke:#cccccc;stroke-linejoin:miter;\"/>\n    </g>\n    <g id=\"line2d_65\">\n     <path d=\"M 56.21125 27.608281 \nL 78.21125 27.608281 \n\" style=\"fill:none;\"/>\n    </g>\n    <g id=\"line2d_66\"/>\n    <g id=\"text_22\">\n     <!-- Тип товара -->\n     <defs>\n      <path d=\"M -0.296875 72.90625 \nL 61.375 72.90625 \nL 61.375 64.59375 \nL 35.5 64.59375 \nL 35.5 0 \nL 25.59375 0 \nL 25.59375 64.59375 \nL -0.296875 64.59375 \nz\n\" id=\"DejaVuSans-1058\"/>\n      <path d=\"M 56.296875 54.6875 \nL 56.296875 0 \nL 47.265625 0 \nL 47.265625 47.515625 \nL 18.109375 47.515625 \nL 18.109375 0 \nL 9.078125 0 \nL 9.078125 54.6875 \nz\n\" id=\"DejaVuSans-1087\"/>\n     </defs>\n     <g style=\"fill:#262626;\" transform=\"translate(87.01125 31.458281)scale(0.11 -0.11)\">\n      <use xlink:href=\"#DejaVuSans-1058\"/>\n      <use x=\"61.083984\" xlink:href=\"#DejaVuSans-1080\"/>\n      <use x=\"126.074219\" xlink:href=\"#DejaVuSans-1087\"/>\n      <use x=\"191.455078\" xlink:href=\"#DejaVuSans-32\"/>\n      <use x=\"223.242188\" xlink:href=\"#DejaVuSans-1090\"/>\n      <use x=\"281.494141\" xlink:href=\"#DejaVuSans-1086\"/>\n      <use x=\"342.675781\" xlink:href=\"#DejaVuSans-1074\"/>\n      <use x=\"401.611328\" xlink:href=\"#DejaVuSans-1072\"/>\n      <use x=\"462.890625\" xlink:href=\"#DejaVuSans-1088\"/>\n      <use x=\"526.367188\" xlink:href=\"#DejaVuSans-1072\"/>\n     </g>\n    </g>\n    <g id=\"line2d_67\">\n     <path d=\"M 56.21125 43.941562 \nL 78.21125 43.941562 \n\" style=\"fill:none;stroke:#f77189;stroke-linecap:round;stroke-width:1.5;\"/>\n    </g>\n    <g id=\"line2d_68\"/>\n    <g id=\"text_23\">\n     <!-- Автомобильные товары -->\n     <defs>\n      <path d=\"M 34.1875 63.1875 \nL 20.796875 26.90625 \nL 47.609375 26.90625 \nz\nM 28.609375 72.90625 \nL 39.796875 72.90625 \nL 67.578125 0 \nL 57.328125 0 \nL 50.6875 18.703125 \nL 17.828125 18.703125 \nL 11.1875 0 \nL 0.78125 0 \nz\n\" id=\"DejaVuSans-1040\"/>\n      <path d=\"M 9.078125 54.6875 \nL 22.21875 54.6875 \nL 37.75 18.0625 \nL 53.328125 54.6875 \nL 66.359375 54.6875 \nL 66.359375 0 \nL 57.328125 0 \nL 57.328125 46.09375 \nL 42.234375 10.5 \nL 33.25 10.5 \nL 18.109375 46.09375 \nL 18.109375 0 \nL 9.078125 0 \nz\n\" id=\"DejaVuSans-1084\"/>\n      <path d=\"M 31.109375 56 \nQ 42.828125 56 49.515625 48.375 \nQ 56.203125 40.765625 56.203125 27.296875 \nQ 56.203125 13.875 49.515625 6.21875 \nQ 42.828125 -1.421875 31.109375 -1.421875 \nQ 19.34375 -1.421875 12.84375 6 \nQ 6.34375 13.421875 6 27.296875 \nL 5.71875 38.484375 \nQ 5.46875 44.28125 5.46875 46.296875 \nQ 5.46875 54.109375 8.296875 59.859375 \nQ 12.75 68.890625 20.4375 72.796875 \nQ 28.125 76.703125 41.015625 76.8125 \nQ 46.96875 76.859375 49.609375 77.6875 \nL 52.09375 70.5625 \nQ 49.703125 69.578125 47.515625 69.53125 \nL 35.296875 68.703125 \nQ 29.15625 68.265625 25.4375 66.109375 \nQ 15.71875 60.40625 14.796875 52.9375 \nL 14.453125 50.203125 \nQ 20.796875 56 31.109375 56 \nz\nM 31.109375 48.390625 \nQ 23.875 48.390625 19.671875 42.75 \nQ 15.484375 37.109375 15.484375 27.296875 \nQ 15.484375 17.484375 19.65625 11.84375 \nQ 23.828125 6.203125 31.109375 6.203125 \nQ 38.28125 6.203125 42.484375 11.859375 \nQ 46.6875 17.53125 46.6875 27.296875 \nQ 46.6875 37.015625 42.484375 42.703125 \nQ 38.28125 48.390625 31.109375 48.390625 \nz\n\" id=\"DejaVuSans-1073\"/>\n      <path d=\"M 3.71875 0 \nL 3.71875 7.46875 \nQ 12.59375 8.84375 15.328125 14.984375 \nQ 18.65625 23.640625 18.65625 45.75 \nL 18.65625 54.6875 \nL 55.609375 54.6875 \nL 55.609375 0 \nL 46.625 0 \nL 46.625 47.515625 \nL 27.640625 47.515625 \nL 27.640625 42.09375 \nQ 27.640625 21 23.34375 11.53125 \nQ 18.75 1.421875 3.71875 0 \nz\n\" id=\"DejaVuSans-1083\"/>\n      <path d=\"M 43.453125 16.21875 \nQ 43.453125 20.609375 40.25 22.90625 \nQ 37.0625 25.203125 30.90625 25.203125 \nL 18.109375 25.203125 \nL 18.109375 7.171875 \nL 30.90625 7.171875 \nQ 37.0625 7.171875 40.25 9.484375 \nQ 43.453125 11.8125 43.453125 16.21875 \nz\nM 9.078125 54.6875 \nL 18.109375 54.6875 \nL 18.109375 32.375 \nL 31.296875 32.375 \nQ 41.75 32.375 47.390625 28.390625 \nQ 53.03125 24.421875 53.03125 16.21875 \nQ 53.03125 8.015625 47.390625 4 \nQ 41.75 0 31.296875 0 \nL 9.078125 0 \nz\n\" id=\"DejaVuSans-1100\"/>\n      <path d=\"M 9.078125 54.6875 \nL 18.109375 54.6875 \nL 18.109375 32.375 \nL 47.265625 32.375 \nL 47.265625 54.6875 \nL 56.296875 54.6875 \nL 56.296875 0 \nL 47.265625 0 \nL 47.265625 25.203125 \nL 18.109375 25.203125 \nL 18.109375 0 \nL 9.078125 0 \nz\n\" id=\"DejaVuSans-1085\"/>\n     </defs>\n     <g style=\"fill:#262626;\" transform=\"translate(87.01125 47.791562)scale(0.11 -0.11)\">\n      <use xlink:href=\"#DejaVuSans-1040\"/>\n      <use x=\"68.408203\" xlink:href=\"#DejaVuSans-1074\"/>\n      <use x=\"127.34375\" xlink:href=\"#DejaVuSans-1090\"/>\n      <use x=\"185.595703\" xlink:href=\"#DejaVuSans-1086\"/>\n      <use x=\"246.777344\" xlink:href=\"#DejaVuSans-1084\"/>\n      <use x=\"322.216797\" xlink:href=\"#DejaVuSans-1086\"/>\n      <use x=\"383.398438\" xlink:href=\"#DejaVuSans-1073\"/>\n      <use x=\"445.068359\" xlink:href=\"#DejaVuSans-1080\"/>\n      <use x=\"510.058594\" xlink:href=\"#DejaVuSans-1083\"/>\n      <use x=\"573.974609\" xlink:href=\"#DejaVuSans-1100\"/>\n      <use x=\"632.910156\" xlink:href=\"#DejaVuSans-1085\"/>\n      <use x=\"698.291016\" xlink:href=\"#DejaVuSans-1099\"/>\n      <use x=\"777.246094\" xlink:href=\"#DejaVuSans-1077\"/>\n      <use x=\"838.769531\" xlink:href=\"#DejaVuSans-32\"/>\n      <use x=\"870.556641\" xlink:href=\"#DejaVuSans-1090\"/>\n      <use x=\"928.808594\" xlink:href=\"#DejaVuSans-1086\"/>\n      <use x=\"989.990234\" xlink:href=\"#DejaVuSans-1074\"/>\n      <use x=\"1048.925781\" xlink:href=\"#DejaVuSans-1072\"/>\n      <use x=\"1110.205078\" xlink:href=\"#DejaVuSans-1088\"/>\n      <use x=\"1173.681641\" xlink:href=\"#DejaVuSans-1099\"/>\n     </g>\n    </g>\n    <g id=\"line2d_69\">\n     <path d=\"M 56.21125 60.0875 \nL 78.21125 60.0875 \n\" style=\"fill:none;stroke:#f77557;stroke-linecap:round;stroke-width:1.5;\"/>\n    </g>\n    <g id=\"line2d_70\"/>\n    <g id=\"text_24\">\n     <!-- Аудио, Видео, Фото -->\n     <defs>\n      <path d=\"M 32.171875 -5.078125 \nQ 28.375 -14.84375 24.75 -17.8125 \nQ 21.140625 -20.796875 15.09375 -20.796875 \nL 7.90625 -20.796875 \nL 7.90625 -13.28125 \nL 13.1875 -13.28125 \nQ 16.890625 -13.28125 18.9375 -11.515625 \nQ 21 -9.765625 23.484375 -3.21875 \nL 25.09375 0.875 \nL 2.984375 54.6875 \nL 12.5 54.6875 \nL 29.59375 11.921875 \nL 46.6875 54.6875 \nL 56.203125 54.6875 \nz\n\" id=\"DejaVuSans-1091\"/>\n      <path d=\"M 11.71875 12.40625 \nL 22.015625 12.40625 \nL 22.015625 4 \nL 14.015625 -11.625 \nL 7.71875 -11.625 \nL 11.71875 4 \nz\n\" id=\"DejaVuSans-44\"/>\n      <path d=\"M 38.140625 57.90625 \nQ 27.546875 56.9375 21.921875 51.953125 \nQ 16.3125 46.96875 16.3125 37.359375 \nQ 16.3125 27.734375 21.921875 22.78125 \nQ 27.546875 17.828125 38.140625 16.84375 \nz\nM 48.046875 16.84375 \nQ 58.640625 17.828125 64.203125 22.78125 \nQ 69.78125 27.734375 69.78125 37.359375 \nQ 69.78125 46.96875 64.203125 51.953125 \nQ 58.640625 56.9375 48.046875 57.90625 \nz\nM 38.140625 8.6875 \nQ 22.65625 9.8125 14.28125 17.109375 \nQ 5.90625 24.421875 5.90625 37.359375 \nQ 5.90625 50.296875 14.28125 57.640625 \nQ 22.65625 64.984375 38.140625 66.109375 \nL 38.140625 72.90625 \nL 48.046875 72.90625 \nL 48.046875 66.109375 \nQ 63.53125 64.984375 71.84375 57.6875 \nQ 80.171875 50.390625 80.171875 37.359375 \nQ 80.171875 24.421875 71.84375 17.109375 \nQ 63.53125 9.8125 48.046875 8.6875 \nL 48.046875 0 \nL 38.140625 0 \nz\n\" id=\"DejaVuSans-1060\"/>\n     </defs>\n     <g style=\"fill:#262626;\" transform=\"translate(87.01125 63.9375)scale(0.11 -0.11)\">\n      <use xlink:href=\"#DejaVuSans-1040\"/>\n      <use x=\"68.408203\" xlink:href=\"#DejaVuSans-1091\"/>\n      <use x=\"127.587891\" xlink:href=\"#DejaVuSans-1076\"/>\n      <use x=\"196.728516\" xlink:href=\"#DejaVuSans-1080\"/>\n      <use x=\"261.71875\" xlink:href=\"#DejaVuSans-1086\"/>\n      <use x=\"322.900391\" xlink:href=\"#DejaVuSans-44\"/>\n      <use x=\"354.6875\" xlink:href=\"#DejaVuSans-32\"/>\n      <use x=\"386.474609\" xlink:href=\"#DejaVuSans-1042\"/>\n      <use x=\"455.078125\" xlink:href=\"#DejaVuSans-1080\"/>\n      <use x=\"520.068359\" xlink:href=\"#DejaVuSans-1076\"/>\n      <use x=\"589.208984\" xlink:href=\"#DejaVuSans-1077\"/>\n      <use x=\"650.732422\" xlink:href=\"#DejaVuSans-1086\"/>\n      <use x=\"711.914062\" xlink:href=\"#DejaVuSans-44\"/>\n      <use x=\"743.701172\" xlink:href=\"#DejaVuSans-32\"/>\n      <use x=\"775.488281\" xlink:href=\"#DejaVuSans-1060\"/>\n      <use x=\"861.572266\" xlink:href=\"#DejaVuSans-1086\"/>\n      <use x=\"922.753906\" xlink:href=\"#DejaVuSans-1090\"/>\n      <use x=\"981.005859\" xlink:href=\"#DejaVuSans-1086\"/>\n     </g>\n    </g>\n    <g id=\"line2d_71\">\n     <path d=\"M 56.21125 76.233437 \nL 78.21125 76.233437 \n\" style=\"fill:none;stroke:#e18632;stroke-linecap:round;stroke-width:1.5;\"/>\n    </g>\n    <g id=\"line2d_72\"/>\n    <g id=\"text_25\">\n     <!-- Бытовая техника -->\n     <defs>\n      <path d=\"M 51.125 21.4375 \nQ 51.125 28.21875 47.28125 31.515625 \nQ 43.453125 34.8125 35.5 34.8125 \nL 19.671875 34.8125 \nL 19.671875 8.109375 \nL 35.5 8.109375 \nQ 43.453125 8.109375 47.28125 11.40625 \nQ 51.125 14.703125 51.125 21.4375 \nz\nM 56.390625 72.90625 \nL 56.390625 64.796875 \nL 19.671875 64.796875 \nL 19.671875 42.921875 \nL 35.984375 42.921875 \nQ 48.25 42.921875 54.890625 37.59375 \nQ 61.53125 32.28125 61.53125 21.4375 \nQ 61.53125 10.640625 55.109375 5.3125 \nQ 48.6875 0 35.984375 0 \nL 9.8125 0 \nL 9.8125 72.90625 \nz\n\" id=\"DejaVuSans-1041\"/>\n      <path d=\"M 54.890625 54.6875 \nL 35.109375 28.078125 \nL 55.90625 0 \nL 45.3125 0 \nL 29.390625 21.484375 \nL 13.484375 0 \nL 2.875 0 \nL 24.125 28.609375 \nL 4.6875 54.6875 \nL 15.28125 54.6875 \nL 29.78125 35.203125 \nL 44.28125 54.6875 \nz\n\" id=\"DejaVuSans-1093\"/>\n     </defs>\n     <g style=\"fill:#262626;\" transform=\"translate(87.01125 80.083437)scale(0.11 -0.11)\">\n      <use xlink:href=\"#DejaVuSans-1041\"/>\n      <use x=\"68.603516\" xlink:href=\"#DejaVuSans-1099\"/>\n      <use x=\"147.558594\" xlink:href=\"#DejaVuSans-1090\"/>\n      <use x=\"205.810547\" xlink:href=\"#DejaVuSans-1086\"/>\n      <use x=\"266.992188\" xlink:href=\"#DejaVuSans-1074\"/>\n      <use x=\"325.927734\" xlink:href=\"#DejaVuSans-1072\"/>\n      <use x=\"387.207031\" xlink:href=\"#DejaVuSans-1103\"/>\n      <use x=\"447.363281\" xlink:href=\"#DejaVuSans-32\"/>\n      <use x=\"479.150391\" xlink:href=\"#DejaVuSans-1090\"/>\n      <use x=\"537.402344\" xlink:href=\"#DejaVuSans-1077\"/>\n      <use x=\"598.925781\" xlink:href=\"#DejaVuSans-1093\"/>\n      <use x=\"658.105469\" xlink:href=\"#DejaVuSans-1085\"/>\n      <use x=\"723.486328\" xlink:href=\"#DejaVuSans-1080\"/>\n      <use x=\"788.476562\" xlink:href=\"#DejaVuSans-1082\"/>\n      <use x=\"848.876953\" xlink:href=\"#DejaVuSans-1072\"/>\n     </g>\n    </g>\n    <g id=\"line2d_73\">\n     <path d=\"M 56.21125 92.566719 \nL 78.21125 92.566719 \n\" style=\"fill:none;stroke:#c99232;stroke-linecap:round;stroke-width:1.5;\"/>\n    </g>\n    <g id=\"line2d_74\"/>\n    <g id=\"text_26\">\n     <!-- Детские товары (игрушки, детская одежда, детская мебель) -->\n     <defs>\n      <path d=\"M 22.796875 8.296875 \nL 55.03125 8.296875 \nL 55.03125 64.59375 \nL 31.34375 64.59375 \nL 31.34375 54.25 \nQ 31.34375 29.890625 25.875 13.71875 \nQ 24.75 10.40625 22.796875 8.296875 \nz\nM 8.40625 8.296875 \nQ 14.9375 11.375 16.796875 17.234375 \nQ 21.53125 32.28125 21.53125 59.125 \nL 21.53125 72.90625 \nL 64.890625 72.90625 \nL 64.890625 8.296875 \nL 73.1875 8.296875 \nL 73.1875 -15.671875 \nL 64.890625 -15.671875 \nL 64.890625 0 \nL 13.234375 0 \nL 13.234375 -15.671875 \nL 4.9375 -15.671875 \nL 4.9375 8.296875 \nz\n\" id=\"DejaVuSans-1044\"/>\n      <path d=\"M 31 75.875 \nQ 24.46875 64.65625 21.28125 53.65625 \nQ 18.109375 42.671875 18.109375 31.390625 \nQ 18.109375 20.125 21.3125 9.0625 \nQ 24.515625 -2 31 -13.1875 \nL 23.1875 -13.1875 \nQ 15.875 -1.703125 12.234375 9.375 \nQ 8.59375 20.453125 8.59375 31.390625 \nQ 8.59375 42.28125 12.203125 53.3125 \nQ 15.828125 64.359375 23.1875 75.875 \nz\n\" id=\"DejaVuSans-40\"/>\n      <path d=\"M 50.25 7.171875 \nL 73.390625 7.171875 \nL 73.390625 54.6875 \nL 82.421875 54.6875 \nL 82.421875 0 \nL 9.078125 0 \nL 9.078125 54.6875 \nL 18.109375 54.6875 \nL 18.109375 7.171875 \nL 41.21875 7.171875 \nL 41.21875 54.6875 \nL 50.25 54.6875 \nz\n\" id=\"DejaVuSans-1096\"/>\n      <path d=\"M 40.578125 54.6875 \nL 49.515625 54.6875 \nL 49.515625 29 \nL 73.390625 54.6875 \nL 83.84375 54.6875 \nL 64.203125 33.640625 \nL 86.671875 0 \nL 77.046875 0 \nL 58.640625 27.640625 \nL 49.515625 17.828125 \nL 49.515625 0 \nL 40.578125 0 \nL 40.578125 17.828125 \nL 31.453125 27.640625 \nL 13.03125 0 \nL 3.421875 0 \nL 25.875 33.640625 \nL 6.25 54.6875 \nL 16.703125 54.6875 \nL 40.578125 29 \nz\n\" id=\"DejaVuSans-1078\"/>\n      <path d=\"M 8.015625 75.875 \nL 15.828125 75.875 \nQ 23.140625 64.359375 26.78125 53.3125 \nQ 30.421875 42.28125 30.421875 31.390625 \nQ 30.421875 20.453125 26.78125 9.375 \nQ 23.140625 -1.703125 15.828125 -13.1875 \nL 8.015625 -13.1875 \nQ 14.5 -2 17.703125 9.0625 \nQ 20.90625 20.125 20.90625 31.390625 \nQ 20.90625 42.671875 17.703125 53.65625 \nQ 14.5 64.65625 8.015625 75.875 \nz\n\" id=\"DejaVuSans-41\"/>\n     </defs>\n     <g style=\"fill:#262626;\" transform=\"translate(87.01125 96.416719)scale(0.11 -0.11)\">\n      <use xlink:href=\"#DejaVuSans-1044\"/>\n      <use x=\"78.125\" xlink:href=\"#DejaVuSans-1077\"/>\n      <use x=\"139.648438\" xlink:href=\"#DejaVuSans-1090\"/>\n      <use x=\"197.900391\" xlink:href=\"#DejaVuSans-1089\"/>\n      <use x=\"252.880859\" xlink:href=\"#DejaVuSans-1082\"/>\n      <use x=\"313.28125\" xlink:href=\"#DejaVuSans-1080\"/>\n      <use x=\"378.271484\" xlink:href=\"#DejaVuSans-1077\"/>\n      <use x=\"439.794922\" xlink:href=\"#DejaVuSans-32\"/>\n      <use x=\"471.582031\" xlink:href=\"#DejaVuSans-1090\"/>\n      <use x=\"529.833984\" xlink:href=\"#DejaVuSans-1086\"/>\n      <use x=\"591.015625\" xlink:href=\"#DejaVuSans-1074\"/>\n      <use x=\"649.951172\" xlink:href=\"#DejaVuSans-1072\"/>\n      <use x=\"711.230469\" xlink:href=\"#DejaVuSans-1088\"/>\n      <use x=\"774.707031\" xlink:href=\"#DejaVuSans-1099\"/>\n      <use x=\"853.662109\" xlink:href=\"#DejaVuSans-32\"/>\n      <use x=\"885.449219\" xlink:href=\"#DejaVuSans-40\"/>\n      <use x=\"924.462891\" xlink:href=\"#DejaVuSans-1080\"/>\n      <use x=\"989.453125\" xlink:href=\"#DejaVuSans-1075\"/>\n      <use x=\"1041.992188\" xlink:href=\"#DejaVuSans-1088\"/>\n      <use x=\"1105.46875\" xlink:href=\"#DejaVuSans-1091\"/>\n      <use x=\"1164.648438\" xlink:href=\"#DejaVuSans-1096\"/>\n      <use x=\"1256.152344\" xlink:href=\"#DejaVuSans-1082\"/>\n      <use x=\"1316.552734\" xlink:href=\"#DejaVuSans-1080\"/>\n      <use x=\"1381.542969\" xlink:href=\"#DejaVuSans-44\"/>\n      <use x=\"1413.330078\" xlink:href=\"#DejaVuSans-32\"/>\n      <use x=\"1445.117188\" xlink:href=\"#DejaVuSans-1076\"/>\n      <use x=\"1514.257812\" xlink:href=\"#DejaVuSans-1077\"/>\n      <use x=\"1575.78125\" xlink:href=\"#DejaVuSans-1090\"/>\n      <use x=\"1634.033203\" xlink:href=\"#DejaVuSans-1089\"/>\n      <use x=\"1689.013672\" xlink:href=\"#DejaVuSans-1082\"/>\n      <use x=\"1749.414062\" xlink:href=\"#DejaVuSans-1072\"/>\n      <use x=\"1810.693359\" xlink:href=\"#DejaVuSans-1103\"/>\n      <use x=\"1870.849609\" xlink:href=\"#DejaVuSans-32\"/>\n      <use x=\"1902.636719\" xlink:href=\"#DejaVuSans-1086\"/>\n      <use x=\"1963.818359\" xlink:href=\"#DejaVuSans-1076\"/>\n      <use x=\"2032.958984\" xlink:href=\"#DejaVuSans-1077\"/>\n      <use x=\"2094.482422\" xlink:href=\"#DejaVuSans-1078\"/>\n      <use x=\"2184.570312\" xlink:href=\"#DejaVuSans-1076\"/>\n      <use x=\"2253.710938\" xlink:href=\"#DejaVuSans-1072\"/>\n      <use x=\"2314.990234\" xlink:href=\"#DejaVuSans-44\"/>\n      <use x=\"2346.777344\" xlink:href=\"#DejaVuSans-32\"/>\n      <use x=\"2378.564453\" xlink:href=\"#DejaVuSans-1076\"/>\n      <use x=\"2447.705078\" xlink:href=\"#DejaVuSans-1077\"/>\n      <use x=\"2509.228516\" xlink:href=\"#DejaVuSans-1090\"/>\n      <use x=\"2567.480469\" xlink:href=\"#DejaVuSans-1089\"/>\n      <use x=\"2622.460938\" xlink:href=\"#DejaVuSans-1082\"/>\n      <use x=\"2682.861328\" xlink:href=\"#DejaVuSans-1072\"/>\n      <use x=\"2744.140625\" xlink:href=\"#DejaVuSans-1103\"/>\n      <use x=\"2804.296875\" xlink:href=\"#DejaVuSans-32\"/>\n      <use x=\"2836.083984\" xlink:href=\"#DejaVuSans-1084\"/>\n      <use x=\"2911.523438\" xlink:href=\"#DejaVuSans-1077\"/>\n      <use x=\"2973.046875\" xlink:href=\"#DejaVuSans-1073\"/>\n      <use x=\"3034.716797\" xlink:href=\"#DejaVuSans-1077\"/>\n      <use x=\"3096.240234\" xlink:href=\"#DejaVuSans-1083\"/>\n      <use x=\"3160.15625\" xlink:href=\"#DejaVuSans-1100\"/>\n      <use x=\"3219.091797\" xlink:href=\"#DejaVuSans-41\"/>\n     </g>\n    </g>\n    <g id=\"line2d_75\">\n     <path d=\"M 56.21125 108.712656 \nL 78.21125 108.712656 \n\" style=\"fill:none;stroke:#b59a32;stroke-linecap:round;stroke-width:1.5;\"/>\n    </g>\n    <g id=\"line2d_76\"/>\n    <g id=\"text_27\">\n     <!-- Компьютеры, комплектующие -->\n     <defs>\n      <path d=\"M 9.8125 72.90625 \nL 19.671875 72.90625 \nL 19.671875 36.859375 \nL 54.9375 72.90625 \nL 67.578125 72.90625 \nL 39.40625 44.09375 \nL 69.046875 0 \nL 58.296875 0 \nL 33.015625 37.546875 \nL 19.671875 23.921875 \nL 19.671875 0 \nL 9.8125 0 \nz\n\" id=\"DejaVuSans-1050\"/>\n      <path d=\"M 53.609375 48.390625 \nQ 46.390625 48.390625 42.1875 42.75 \nQ 37.984375 37.109375 37.984375 27.296875 \nQ 37.984375 17.484375 42.15625 11.84375 \nQ 46.34375 6.203125 53.609375 6.203125 \nQ 60.796875 6.203125 64.984375 11.859375 \nQ 69.1875 17.53125 69.1875 27.296875 \nQ 69.1875 37.015625 64.984375 42.703125 \nQ 60.796875 48.390625 53.609375 48.390625 \nz\nM 28.8125 32.859375 \nQ 29.734375 42.140625 35.8125 49.0625 \nQ 41.890625 56 53.609375 56 \nQ 65.328125 56 72.015625 48.375 \nQ 78.71875 40.765625 78.71875 27.296875 \nQ 78.71875 13.875 72.015625 6.21875 \nQ 65.328125 -1.421875 53.609375 -1.421875 \nQ 41.84375 -1.421875 35.421875 5.953125 \nQ 29 13.328125 28.5625 25.4375 \nL 18.40625 25.4375 \nL 18.40625 0 \nL 9.421875 0 \nL 9.421875 54.6875 \nL 18.40625 54.6875 \nL 18.40625 32.859375 \nz\n\" id=\"DejaVuSans-1102\"/>\n      <path d=\"M 82.421875 0 \nL 9.078125 0 \nL 9.078125 54.6875 \nL 18.109375 54.6875 \nL 18.109375 7.171875 \nL 41.21875 7.171875 \nL 41.21875 54.6875 \nL 50.25 54.6875 \nL 50.25 7.171875 \nL 73.390625 7.171875 \nL 73.390625 54.6875 \nL 82.421875 54.6875 \nL 82.421875 7.171875 \nL 89.59375 7.171875 \nL 89.59375 -13.8125 \nL 82.421875 -13.8125 \nz\n\" id=\"DejaVuSans-1097\"/>\n     </defs>\n     <g style=\"fill:#262626;\" transform=\"translate(87.01125 112.562656)scale(0.11 -0.11)\">\n      <use xlink:href=\"#DejaVuSans-1050\"/>\n      <use x=\"70.996094\" xlink:href=\"#DejaVuSans-1086\"/>\n      <use x=\"132.177734\" xlink:href=\"#DejaVuSans-1084\"/>\n      <use x=\"207.617188\" xlink:href=\"#DejaVuSans-1087\"/>\n      <use x=\"272.998047\" xlink:href=\"#DejaVuSans-1100\"/>\n      <use x=\"331.933594\" xlink:href=\"#DejaVuSans-1102\"/>\n      <use x=\"416.113281\" xlink:href=\"#DejaVuSans-1090\"/>\n      <use x=\"474.365234\" xlink:href=\"#DejaVuSans-1077\"/>\n      <use x=\"535.888672\" xlink:href=\"#DejaVuSans-1088\"/>\n      <use x=\"599.365234\" xlink:href=\"#DejaVuSans-1099\"/>\n      <use x=\"678.320312\" xlink:href=\"#DejaVuSans-44\"/>\n      <use x=\"710.107422\" xlink:href=\"#DejaVuSans-32\"/>\n      <use x=\"741.894531\" xlink:href=\"#DejaVuSans-1082\"/>\n      <use x=\"802.294922\" xlink:href=\"#DejaVuSans-1086\"/>\n      <use x=\"863.476562\" xlink:href=\"#DejaVuSans-1084\"/>\n      <use x=\"938.916016\" xlink:href=\"#DejaVuSans-1087\"/>\n      <use x=\"1004.296875\" xlink:href=\"#DejaVuSans-1083\"/>\n      <use x=\"1068.212891\" xlink:href=\"#DejaVuSans-1077\"/>\n      <use x=\"1129.736328\" xlink:href=\"#DejaVuSans-1082\"/>\n      <use x=\"1190.136719\" xlink:href=\"#DejaVuSans-1090\"/>\n      <use x=\"1248.388672\" xlink:href=\"#DejaVuSans-1091\"/>\n      <use x=\"1307.568359\" xlink:href=\"#DejaVuSans-1102\"/>\n      <use x=\"1391.748047\" xlink:href=\"#DejaVuSans-1097\"/>\n      <use x=\"1485.9375\" xlink:href=\"#DejaVuSans-1080\"/>\n      <use x=\"1550.927734\" xlink:href=\"#DejaVuSans-1077\"/>\n     </g>\n    </g>\n    <g id=\"line2d_77\">\n     <path d=\"M 56.21125 124.858594 \nL 78.21125 124.858594 \n\" style=\"fill:none;stroke:#a2a131;stroke-linecap:round;stroke-width:1.5;\"/>\n    </g>\n    <g id=\"line2d_78\"/>\n    <g id=\"text_28\">\n     <!-- Косметика и косметические услуги -->\n     <g style=\"fill:#262626;\" transform=\"translate(87.01125 128.708594)scale(0.11 -0.11)\">\n      <use xlink:href=\"#DejaVuSans-1050\"/>\n      <use x=\"70.996094\" xlink:href=\"#DejaVuSans-1086\"/>\n      <use x=\"132.177734\" xlink:href=\"#DejaVuSans-1089\"/>\n      <use x=\"187.158203\" xlink:href=\"#DejaVuSans-1084\"/>\n      <use x=\"262.597656\" xlink:href=\"#DejaVuSans-1077\"/>\n      <use x=\"324.121094\" xlink:href=\"#DejaVuSans-1090\"/>\n      <use x=\"382.373047\" xlink:href=\"#DejaVuSans-1080\"/>\n      <use x=\"447.363281\" xlink:href=\"#DejaVuSans-1082\"/>\n      <use x=\"507.763672\" xlink:href=\"#DejaVuSans-1072\"/>\n      <use x=\"569.042969\" xlink:href=\"#DejaVuSans-32\"/>\n      <use x=\"600.830078\" xlink:href=\"#DejaVuSans-1080\"/>\n      <use x=\"665.820312\" xlink:href=\"#DejaVuSans-32\"/>\n      <use x=\"697.607422\" xlink:href=\"#DejaVuSans-1082\"/>\n      <use x=\"758.007812\" xlink:href=\"#DejaVuSans-1086\"/>\n      <use x=\"819.189453\" xlink:href=\"#DejaVuSans-1089\"/>\n      <use x=\"874.169922\" xlink:href=\"#DejaVuSans-1084\"/>\n      <use x=\"949.609375\" xlink:href=\"#DejaVuSans-1077\"/>\n      <use x=\"1011.132812\" xlink:href=\"#DejaVuSans-1090\"/>\n      <use x=\"1069.384766\" xlink:href=\"#DejaVuSans-1080\"/>\n      <use x=\"1134.375\" xlink:href=\"#DejaVuSans-1095\"/>\n      <use x=\"1193.457031\" xlink:href=\"#DejaVuSans-1077\"/>\n      <use x=\"1254.980469\" xlink:href=\"#DejaVuSans-1089\"/>\n      <use x=\"1309.960938\" xlink:href=\"#DejaVuSans-1082\"/>\n      <use x=\"1370.361328\" xlink:href=\"#DejaVuSans-1080\"/>\n      <use x=\"1435.351562\" xlink:href=\"#DejaVuSans-1077\"/>\n      <use x=\"1496.875\" xlink:href=\"#DejaVuSans-32\"/>\n      <use x=\"1528.662109\" xlink:href=\"#DejaVuSans-1091\"/>\n      <use x=\"1587.841797\" xlink:href=\"#DejaVuSans-1089\"/>\n      <use x=\"1642.822266\" xlink:href=\"#DejaVuSans-1083\"/>\n      <use x=\"1706.738281\" xlink:href=\"#DejaVuSans-1091\"/>\n      <use x=\"1765.917969\" xlink:href=\"#DejaVuSans-1075\"/>\n      <use x=\"1818.457031\" xlink:href=\"#DejaVuSans-1080\"/>\n     </g>\n    </g>\n    <g id=\"line2d_79\">\n     <path d=\"M 56.21125 141.004531 \nL 78.21125 141.004531 \n\" style=\"fill:none;stroke:#8ba731;stroke-linecap:round;stroke-width:1.5;\"/>\n    </g>\n    <g id=\"line2d_80\"/>\n    <g id=\"text_29\">\n     <!-- Мебель -->\n     <g style=\"fill:#262626;\" transform=\"translate(87.01125 144.854531)scale(0.11 -0.11)\">\n      <use xlink:href=\"#DejaVuSans-1052\"/>\n      <use x=\"86.279297\" xlink:href=\"#DejaVuSans-1077\"/>\n      <use x=\"147.802734\" xlink:href=\"#DejaVuSans-1073\"/>\n      <use x=\"209.472656\" xlink:href=\"#DejaVuSans-1077\"/>\n      <use x=\"270.996094\" xlink:href=\"#DejaVuSans-1083\"/>\n      <use x=\"334.912109\" xlink:href=\"#DejaVuSans-1100\"/>\n     </g>\n    </g>\n    <g id=\"line2d_81\">\n     <path d=\"M 56.21125 157.150469 \nL 78.21125 157.150469 \n\" style=\"fill:none;stroke:#66ae31;stroke-linecap:round;stroke-width:1.5;\"/>\n    </g>\n    <g id=\"line2d_82\"/>\n    <g id=\"text_30\">\n     <!-- Медицинские услуги -->\n     <g style=\"fill:#262626;\" transform=\"translate(87.01125 161.000469)scale(0.11 -0.11)\">\n      <use xlink:href=\"#DejaVuSans-1052\"/>\n      <use x=\"86.279297\" xlink:href=\"#DejaVuSans-1077\"/>\n      <use x=\"147.802734\" xlink:href=\"#DejaVuSans-1076\"/>\n      <use x=\"216.943359\" xlink:href=\"#DejaVuSans-1080\"/>\n      <use x=\"281.933594\" xlink:href=\"#DejaVuSans-1094\"/>\n      <use x=\"350\" xlink:href=\"#DejaVuSans-1080\"/>\n      <use x=\"414.990234\" xlink:href=\"#DejaVuSans-1085\"/>\n      <use x=\"480.371094\" xlink:href=\"#DejaVuSans-1089\"/>\n      <use x=\"535.351562\" xlink:href=\"#DejaVuSans-1082\"/>\n      <use x=\"595.751953\" xlink:href=\"#DejaVuSans-1080\"/>\n      <use x=\"660.742188\" xlink:href=\"#DejaVuSans-1077\"/>\n      <use x=\"722.265625\" xlink:href=\"#DejaVuSans-32\"/>\n      <use x=\"754.052734\" xlink:href=\"#DejaVuSans-1091\"/>\n      <use x=\"813.232422\" xlink:href=\"#DejaVuSans-1089\"/>\n      <use x=\"868.212891\" xlink:href=\"#DejaVuSans-1083\"/>\n      <use x=\"932.128906\" xlink:href=\"#DejaVuSans-1091\"/>\n      <use x=\"991.308594\" xlink:href=\"#DejaVuSans-1075\"/>\n      <use x=\"1043.847656\" xlink:href=\"#DejaVuSans-1080\"/>\n     </g>\n    </g>\n    <g id=\"line2d_83\">\n     <path d=\"M 56.21125 173.48375 \nL 78.21125 173.48375 \n\" style=\"fill:none;stroke:#32b258;stroke-linecap:round;stroke-width:1.5;\"/>\n    </g>\n    <g id=\"line2d_84\"/>\n    <g id=\"text_31\">\n     <!-- Мобильные телефоны -->\n     <defs>\n      <path d=\"M 14.796875 27.296875 \nQ 14.796875 15.828125 18.328125 10.96875 \nQ 21.875 6.109375 27.875 6.109375 \nQ 32.671875 6.109375 38.234375 14.3125 \nL 38.234375 40.28125 \nQ 32.671875 48.484375 27.875 48.484375 \nQ 21.875 48.484375 18.328125 43.625 \nQ 14.796875 38.765625 14.796875 27.296875 \nz\nM 38.234375 -20.796875 \nL 38.234375 6.984375 \nQ 35.453125 2.390625 32.25 0.484375 \nQ 29.046875 -1.421875 25 -1.421875 \nQ 16.84375 -1.421875 11.15625 6.125 \nQ 5.46875 13.671875 5.46875 27.09375 \nQ 5.46875 40.53125 11.15625 48.265625 \nQ 16.84375 56 25 56 \nQ 29.046875 56 32.25 54.140625 \nQ 35.453125 52.296875 38.234375 47.703125 \nL 38.234375 72.90625 \nL 47.265625 72.90625 \nL 47.265625 47.703125 \nQ 50.046875 52.296875 53.25 54.140625 \nQ 56.453125 56 60.5 56 \nQ 68.65625 56 74.34375 48.265625 \nQ 80.03125 40.53125 80.03125 27.09375 \nQ 80.03125 13.671875 74.34375 6.125 \nQ 68.65625 -1.421875 60.5 -1.421875 \nQ 56.453125 -1.421875 53.25 0.484375 \nQ 50.046875 2.390625 47.265625 6.984375 \nL 47.265625 -20.796875 \nz\nM 70.703125 27.296875 \nQ 70.703125 38.765625 67.15625 43.625 \nQ 63.625 48.484375 57.625 48.484375 \nQ 52.828125 48.484375 47.265625 40.28125 \nL 47.265625 14.3125 \nQ 52.828125 6.109375 57.625 6.109375 \nQ 63.625 6.109375 67.15625 10.96875 \nQ 70.703125 15.828125 70.703125 27.296875 \nz\n\" id=\"DejaVuSans-1092\"/>\n     </defs>\n     <g style=\"fill:#262626;\" transform=\"translate(87.01125 177.33375)scale(0.11 -0.11)\">\n      <use xlink:href=\"#DejaVuSans-1052\"/>\n      <use x=\"86.279297\" xlink:href=\"#DejaVuSans-1086\"/>\n      <use x=\"147.460938\" xlink:href=\"#DejaVuSans-1073\"/>\n      <use x=\"209.130859\" xlink:href=\"#DejaVuSans-1080\"/>\n      <use x=\"274.121094\" xlink:href=\"#DejaVuSans-1083\"/>\n      <use x=\"338.037109\" xlink:href=\"#DejaVuSans-1100\"/>\n      <use x=\"396.972656\" xlink:href=\"#DejaVuSans-1085\"/>\n      <use x=\"462.353516\" xlink:href=\"#DejaVuSans-1099\"/>\n      <use x=\"541.308594\" xlink:href=\"#DejaVuSans-1077\"/>\n      <use x=\"602.832031\" xlink:href=\"#DejaVuSans-32\"/>\n      <use x=\"634.619141\" xlink:href=\"#DejaVuSans-1090\"/>\n      <use x=\"692.871094\" xlink:href=\"#DejaVuSans-1077\"/>\n      <use x=\"754.394531\" xlink:href=\"#DejaVuSans-1083\"/>\n      <use x=\"818.310547\" xlink:href=\"#DejaVuSans-1077\"/>\n      <use x=\"879.833984\" xlink:href=\"#DejaVuSans-1092\"/>\n      <use x=\"965.332031\" xlink:href=\"#DejaVuSans-1086\"/>\n      <use x=\"1026.513672\" xlink:href=\"#DejaVuSans-1085\"/>\n      <use x=\"1091.894531\" xlink:href=\"#DejaVuSans-1099\"/>\n     </g>\n    </g>\n    <g id=\"line2d_85\">\n     <path d=\"M 56.21125 189.629687 \nL 78.21125 189.629687 \n\" style=\"fill:none;stroke:#34b080;stroke-linecap:round;stroke-width:1.5;\"/>\n    </g>\n    <g id=\"line2d_86\"/>\n    <g id=\"text_32\">\n     <!-- Мототехника (лодки, мото) -->\n     <g style=\"fill:#262626;\" transform=\"translate(87.01125 193.479687)scale(0.11 -0.11)\">\n      <use xlink:href=\"#DejaVuSans-1052\"/>\n      <use x=\"86.279297\" xlink:href=\"#DejaVuSans-1086\"/>\n      <use x=\"147.460938\" xlink:href=\"#DejaVuSans-1090\"/>\n      <use x=\"205.712891\" xlink:href=\"#DejaVuSans-1086\"/>\n      <use x=\"266.894531\" xlink:href=\"#DejaVuSans-1090\"/>\n      <use x=\"325.146484\" xlink:href=\"#DejaVuSans-1077\"/>\n      <use x=\"386.669922\" xlink:href=\"#DejaVuSans-1093\"/>\n      <use x=\"445.849609\" xlink:href=\"#DejaVuSans-1085\"/>\n      <use x=\"511.230469\" xlink:href=\"#DejaVuSans-1080\"/>\n      <use x=\"576.220703\" xlink:href=\"#DejaVuSans-1082\"/>\n      <use x=\"636.621094\" xlink:href=\"#DejaVuSans-1072\"/>\n      <use x=\"697.900391\" xlink:href=\"#DejaVuSans-32\"/>\n      <use x=\"729.6875\" xlink:href=\"#DejaVuSans-40\"/>\n      <use x=\"768.701172\" xlink:href=\"#DejaVuSans-1083\"/>\n      <use x=\"832.617188\" xlink:href=\"#DejaVuSans-1086\"/>\n      <use x=\"893.798828\" xlink:href=\"#DejaVuSans-1076\"/>\n      <use x=\"962.939453\" xlink:href=\"#DejaVuSans-1082\"/>\n      <use x=\"1023.339844\" xlink:href=\"#DejaVuSans-1080\"/>\n      <use x=\"1088.330078\" xlink:href=\"#DejaVuSans-44\"/>\n      <use x=\"1120.117188\" xlink:href=\"#DejaVuSans-32\"/>\n      <use x=\"1151.904297\" xlink:href=\"#DejaVuSans-1084\"/>\n      <use x=\"1227.34375\" xlink:href=\"#DejaVuSans-1086\"/>\n      <use x=\"1288.525391\" xlink:href=\"#DejaVuSans-1090\"/>\n      <use x=\"1346.777344\" xlink:href=\"#DejaVuSans-1086\"/>\n      <use x=\"1407.958984\" xlink:href=\"#DejaVuSans-41\"/>\n     </g>\n    </g>\n    <g id=\"line2d_87\">\n     <path d=\"M 56.21125 205.775625 \nL 78.21125 205.775625 \n\" style=\"fill:none;stroke:#35ae95;stroke-linecap:round;stroke-width:1.5;\"/>\n    </g>\n    <g id=\"line2d_88\"/>\n    <g id=\"text_33\">\n     <!-- Музыка -->\n     <defs>\n      <path d=\"M 34.46875 29.5 \nQ 40.53125 28.328125 43.890625 24.75 \nQ 47.265625 21.1875 47.265625 15.921875 \nQ 47.265625 7.46875 40.96875 3.015625 \nQ 34.671875 -1.421875 23.046875 -1.421875 \nQ 19.140625 -1.421875 15.015625 -0.734375 \nQ 10.890625 -0.046875 6.5 1.3125 \nL 6.5 9.671875 \nQ 9.96875 7.859375 14.109375 6.953125 \nQ 18.265625 6.0625 22.796875 6.0625 \nQ 30.171875 6.0625 34.296875 8.796875 \nQ 38.421875 11.53125 38.421875 15.921875 \nQ 38.421875 20.21875 34.765625 22.828125 \nQ 31.109375 25.4375 24.421875 25.4375 \nL 17.1875 25.4375 \nL 17.1875 32.859375 \nL 24.75 32.859375 \nQ 30.421875 32.859375 33.71875 35.03125 \nQ 37.015625 37.203125 37.015625 40.625 \nQ 37.015625 43.75 33.609375 46 \nQ 30.21875 48.25 24.421875 48.25 \nQ 20.953125 48.25 17.015625 47.609375 \nQ 13.09375 46.96875 8.34375 45.5625 \nL 8.34375 53.71875 \nQ 13.140625 54.890625 17.28125 55.46875 \nQ 21.4375 56.0625 25.140625 56.0625 \nQ 34.71875 56.0625 40.25 52.21875 \nQ 45.796875 48.390625 45.796875 41.5 \nQ 45.796875 36.96875 42.859375 33.8125 \nQ 39.9375 30.671875 34.46875 29.5 \nz\n\" id=\"DejaVuSans-1079\"/>\n     </defs>\n     <g style=\"fill:#262626;\" transform=\"translate(87.01125 209.625625)scale(0.11 -0.11)\">\n      <use xlink:href=\"#DejaVuSans-1052\"/>\n      <use x=\"86.279297\" xlink:href=\"#DejaVuSans-1091\"/>\n      <use x=\"145.458984\" xlink:href=\"#DejaVuSans-1079\"/>\n      <use x=\"198.632812\" xlink:href=\"#DejaVuSans-1099\"/>\n      <use x=\"277.587891\" xlink:href=\"#DejaVuSans-1082\"/>\n      <use x=\"337.988281\" xlink:href=\"#DejaVuSans-1072\"/>\n     </g>\n    </g>\n    <g id=\"line2d_89\">\n     <path d=\"M 56.21125 222.108906 \nL 78.21125 222.108906 \n\" style=\"fill:none;stroke:#36ada4;stroke-linecap:round;stroke-width:1.5;\"/>\n    </g>\n    <g id=\"line2d_90\"/>\n    <g id=\"text_34\">\n     <!-- Обучение -->\n     <defs>\n      <path d=\"M 39.40625 66.21875 \nQ 28.65625 66.21875 22.328125 58.203125 \nQ 16.015625 50.203125 16.015625 36.375 \nQ 16.015625 22.609375 22.328125 14.59375 \nQ 28.65625 6.59375 39.40625 6.59375 \nQ 50.140625 6.59375 56.421875 14.59375 \nQ 62.703125 22.609375 62.703125 36.375 \nQ 62.703125 50.203125 56.421875 58.203125 \nQ 50.140625 66.21875 39.40625 66.21875 \nz\nM 39.40625 74.21875 \nQ 54.734375 74.21875 63.90625 63.9375 \nQ 73.09375 53.65625 73.09375 36.375 \nQ 73.09375 19.140625 63.90625 8.859375 \nQ 54.734375 -1.421875 39.40625 -1.421875 \nQ 24.03125 -1.421875 14.8125 8.828125 \nQ 5.609375 19.09375 5.609375 36.375 \nQ 5.609375 53.65625 14.8125 63.9375 \nQ 24.03125 74.21875 39.40625 74.21875 \nz\n\" id=\"DejaVuSans-1054\"/>\n     </defs>\n     <g style=\"fill:#262626;\" transform=\"translate(87.01125 225.958906)scale(0.11 -0.11)\">\n      <use xlink:href=\"#DejaVuSans-1054\"/>\n      <use x=\"78.710938\" xlink:href=\"#DejaVuSans-1073\"/>\n      <use x=\"140.380859\" xlink:href=\"#DejaVuSans-1091\"/>\n      <use x=\"199.560547\" xlink:href=\"#DejaVuSans-1095\"/>\n      <use x=\"258.642578\" xlink:href=\"#DejaVuSans-1077\"/>\n      <use x=\"320.166016\" xlink:href=\"#DejaVuSans-1085\"/>\n      <use x=\"385.546875\" xlink:href=\"#DejaVuSans-1080\"/>\n      <use x=\"450.537109\" xlink:href=\"#DejaVuSans-1077\"/>\n     </g>\n    </g>\n    <g id=\"line2d_91\">\n     <path d=\"M 56.21125 238.254844 \nL 78.21125 238.254844 \n\" style=\"fill:none;stroke:#37abb2;stroke-linecap:round;stroke-width:1.5;\"/>\n    </g>\n    <g id=\"line2d_92\"/>\n    <g id=\"text_35\">\n     <!-- Одежда, изделия из меха и кожи -->\n     <g style=\"fill:#262626;\" transform=\"translate(87.01125 242.104844)scale(0.11 -0.11)\">\n      <use xlink:href=\"#DejaVuSans-1054\"/>\n      <use x=\"78.710938\" xlink:href=\"#DejaVuSans-1076\"/>\n      <use x=\"147.851562\" xlink:href=\"#DejaVuSans-1077\"/>\n      <use x=\"209.375\" xlink:href=\"#DejaVuSans-1078\"/>\n      <use x=\"299.462891\" xlink:href=\"#DejaVuSans-1076\"/>\n      <use x=\"368.603516\" xlink:href=\"#DejaVuSans-1072\"/>\n      <use x=\"429.882812\" xlink:href=\"#DejaVuSans-44\"/>\n      <use x=\"461.669922\" xlink:href=\"#DejaVuSans-32\"/>\n      <use x=\"493.457031\" xlink:href=\"#DejaVuSans-1080\"/>\n      <use x=\"558.447266\" xlink:href=\"#DejaVuSans-1079\"/>\n      <use x=\"611.621094\" xlink:href=\"#DejaVuSans-1076\"/>\n      <use x=\"680.761719\" xlink:href=\"#DejaVuSans-1077\"/>\n      <use x=\"742.285156\" xlink:href=\"#DejaVuSans-1083\"/>\n      <use x=\"806.201172\" xlink:href=\"#DejaVuSans-1080\"/>\n      <use x=\"871.191406\" xlink:href=\"#DejaVuSans-1103\"/>\n      <use x=\"931.347656\" xlink:href=\"#DejaVuSans-32\"/>\n      <use x=\"963.134766\" xlink:href=\"#DejaVuSans-1080\"/>\n      <use x=\"1028.125\" xlink:href=\"#DejaVuSans-1079\"/>\n      <use x=\"1081.298828\" xlink:href=\"#DejaVuSans-32\"/>\n      <use x=\"1113.085938\" xlink:href=\"#DejaVuSans-1084\"/>\n      <use x=\"1188.525391\" xlink:href=\"#DejaVuSans-1077\"/>\n      <use x=\"1250.048828\" xlink:href=\"#DejaVuSans-1093\"/>\n      <use x=\"1309.228516\" xlink:href=\"#DejaVuSans-1072\"/>\n      <use x=\"1370.507812\" xlink:href=\"#DejaVuSans-32\"/>\n      <use x=\"1402.294922\" xlink:href=\"#DejaVuSans-1080\"/>\n      <use x=\"1467.285156\" xlink:href=\"#DejaVuSans-32\"/>\n      <use x=\"1499.072266\" xlink:href=\"#DejaVuSans-1082\"/>\n      <use x=\"1559.472656\" xlink:href=\"#DejaVuSans-1086\"/>\n      <use x=\"1620.654297\" xlink:href=\"#DejaVuSans-1078\"/>\n      <use x=\"1710.742188\" xlink:href=\"#DejaVuSans-1080\"/>\n     </g>\n    </g>\n    <g id=\"line2d_93\">\n     <path d=\"M 56.21125 254.400781 \nL 78.21125 254.400781 \n\" style=\"fill:none;stroke:#38a9c2;stroke-linecap:round;stroke-width:1.5;\"/>\n    </g>\n    <g id=\"line2d_94\"/>\n    <g id=\"text_36\">\n     <!-- Окна, двери -->\n     <g style=\"fill:#262626;\" transform=\"translate(87.01125 258.250781)scale(0.11 -0.11)\">\n      <use xlink:href=\"#DejaVuSans-1054\"/>\n      <use x=\"78.710938\" xlink:href=\"#DejaVuSans-1082\"/>\n      <use x=\"139.111328\" xlink:href=\"#DejaVuSans-1085\"/>\n      <use x=\"204.492188\" xlink:href=\"#DejaVuSans-1072\"/>\n      <use x=\"265.771484\" xlink:href=\"#DejaVuSans-44\"/>\n      <use x=\"297.558594\" xlink:href=\"#DejaVuSans-32\"/>\n      <use x=\"329.345703\" xlink:href=\"#DejaVuSans-1076\"/>\n      <use x=\"398.486328\" xlink:href=\"#DejaVuSans-1074\"/>\n      <use x=\"457.421875\" xlink:href=\"#DejaVuSans-1077\"/>\n      <use x=\"518.945312\" xlink:href=\"#DejaVuSans-1088\"/>\n      <use x=\"582.421875\" xlink:href=\"#DejaVuSans-1080\"/>\n     </g>\n    </g>\n    <g id=\"line2d_95\">\n     <path d=\"M 56.21125 270.734062 \nL 78.21125 270.734062 \n\" style=\"fill:none;stroke:#39a7d6;stroke-linecap:round;stroke-width:1.5;\"/>\n    </g>\n    <g id=\"line2d_96\"/>\n    <g id=\"text_37\">\n     <!-- Рыболовные и охотничьи принадлежности -->\n     <defs>\n      <path d=\"M 19.671875 64.796875 \nL 19.671875 37.40625 \nL 32.078125 37.40625 \nQ 38.96875 37.40625 42.71875 40.96875 \nQ 46.484375 44.53125 46.484375 51.125 \nQ 46.484375 57.671875 42.71875 61.234375 \nQ 38.96875 64.796875 32.078125 64.796875 \nz\nM 9.8125 72.90625 \nL 32.078125 72.90625 \nQ 44.34375 72.90625 50.609375 67.359375 \nQ 56.890625 61.8125 56.890625 51.125 \nQ 56.890625 40.328125 50.609375 34.8125 \nQ 44.34375 29.296875 32.078125 29.296875 \nL 19.671875 29.296875 \nL 19.671875 0 \nL 9.8125 0 \nz\n\" id=\"DejaVuSans-1056\"/>\n     </defs>\n     <g style=\"fill:#262626;\" transform=\"translate(87.01125 274.584062)scale(0.11 -0.11)\">\n      <use xlink:href=\"#DejaVuSans-1056\"/>\n      <use x=\"60.302734\" xlink:href=\"#DejaVuSans-1099\"/>\n      <use x=\"139.257812\" xlink:href=\"#DejaVuSans-1073\"/>\n      <use x=\"200.927734\" xlink:href=\"#DejaVuSans-1086\"/>\n      <use x=\"262.109375\" xlink:href=\"#DejaVuSans-1083\"/>\n      <use x=\"326.025391\" xlink:href=\"#DejaVuSans-1086\"/>\n      <use x=\"387.207031\" xlink:href=\"#DejaVuSans-1074\"/>\n      <use x=\"446.142578\" xlink:href=\"#DejaVuSans-1085\"/>\n      <use x=\"511.523438\" xlink:href=\"#DejaVuSans-1099\"/>\n      <use x=\"590.478516\" xlink:href=\"#DejaVuSans-1077\"/>\n      <use x=\"652.001953\" xlink:href=\"#DejaVuSans-32\"/>\n      <use x=\"683.789062\" xlink:href=\"#DejaVuSans-1080\"/>\n      <use x=\"748.779297\" xlink:href=\"#DejaVuSans-32\"/>\n      <use x=\"780.566406\" xlink:href=\"#DejaVuSans-1086\"/>\n      <use x=\"841.748047\" xlink:href=\"#DejaVuSans-1093\"/>\n      <use x=\"900.927734\" xlink:href=\"#DejaVuSans-1086\"/>\n      <use x=\"962.109375\" xlink:href=\"#DejaVuSans-1090\"/>\n      <use x=\"1020.361328\" xlink:href=\"#DejaVuSans-1085\"/>\n      <use x=\"1085.742188\" xlink:href=\"#DejaVuSans-1080\"/>\n      <use x=\"1150.732422\" xlink:href=\"#DejaVuSans-1095\"/>\n      <use x=\"1209.814453\" xlink:href=\"#DejaVuSans-1100\"/>\n      <use x=\"1268.75\" xlink:href=\"#DejaVuSans-1080\"/>\n      <use x=\"1333.740234\" xlink:href=\"#DejaVuSans-32\"/>\n      <use x=\"1365.527344\" xlink:href=\"#DejaVuSans-1087\"/>\n      <use x=\"1430.908203\" xlink:href=\"#DejaVuSans-1088\"/>\n      <use x=\"1494.384766\" xlink:href=\"#DejaVuSans-1080\"/>\n      <use x=\"1559.375\" xlink:href=\"#DejaVuSans-1085\"/>\n      <use x=\"1624.755859\" xlink:href=\"#DejaVuSans-1072\"/>\n      <use x=\"1686.035156\" xlink:href=\"#DejaVuSans-1076\"/>\n      <use x=\"1755.175781\" xlink:href=\"#DejaVuSans-1083\"/>\n      <use x=\"1819.091797\" xlink:href=\"#DejaVuSans-1077\"/>\n      <use x=\"1880.615234\" xlink:href=\"#DejaVuSans-1078\"/>\n      <use x=\"1970.703125\" xlink:href=\"#DejaVuSans-1085\"/>\n      <use x=\"2036.083984\" xlink:href=\"#DejaVuSans-1086\"/>\n      <use x=\"2097.265625\" xlink:href=\"#DejaVuSans-1089\"/>\n      <use x=\"2152.246094\" xlink:href=\"#DejaVuSans-1090\"/>\n      <use x=\"2210.498047\" xlink:href=\"#DejaVuSans-1080\"/>\n     </g>\n    </g>\n    <g id=\"line2d_97\">\n     <path d=\"M 56.21125 286.88 \nL 78.21125 286.88 \n\" style=\"fill:none;stroke:#4ea0f4;stroke-linecap:round;stroke-width:1.5;\"/>\n    </g>\n    <g id=\"line2d_98\"/>\n    <g id=\"text_38\">\n     <!-- Садовая техника -->\n     <defs>\n      <path d=\"M 64.40625 67.28125 \nL 64.40625 56.890625 \nQ 59.421875 61.53125 53.78125 63.8125 \nQ 48.140625 66.109375 41.796875 66.109375 \nQ 29.296875 66.109375 22.65625 58.46875 \nQ 16.015625 50.828125 16.015625 36.375 \nQ 16.015625 21.96875 22.65625 14.328125 \nQ 29.296875 6.6875 41.796875 6.6875 \nQ 48.140625 6.6875 53.78125 8.984375 \nQ 59.421875 11.28125 64.40625 15.921875 \nL 64.40625 5.609375 \nQ 59.234375 2.09375 53.4375 0.328125 \nQ 47.65625 -1.421875 41.21875 -1.421875 \nQ 24.65625 -1.421875 15.125 8.703125 \nQ 5.609375 18.84375 5.609375 36.375 \nQ 5.609375 53.953125 15.125 64.078125 \nQ 24.65625 74.21875 41.21875 74.21875 \nQ 47.75 74.21875 53.53125 72.484375 \nQ 59.328125 70.75 64.40625 67.28125 \nz\n\" id=\"DejaVuSans-1057\"/>\n     </defs>\n     <g style=\"fill:#262626;\" transform=\"translate(87.01125 290.73)scale(0.11 -0.11)\">\n      <use xlink:href=\"#DejaVuSans-1057\"/>\n      <use x=\"69.824219\" xlink:href=\"#DejaVuSans-1072\"/>\n      <use x=\"131.103516\" xlink:href=\"#DejaVuSans-1076\"/>\n      <use x=\"200.244141\" xlink:href=\"#DejaVuSans-1086\"/>\n      <use x=\"261.425781\" xlink:href=\"#DejaVuSans-1074\"/>\n      <use x=\"320.361328\" xlink:href=\"#DejaVuSans-1072\"/>\n      <use x=\"381.640625\" xlink:href=\"#DejaVuSans-1103\"/>\n      <use x=\"441.796875\" xlink:href=\"#DejaVuSans-32\"/>\n      <use x=\"473.583984\" xlink:href=\"#DejaVuSans-1090\"/>\n      <use x=\"531.835938\" xlink:href=\"#DejaVuSans-1077\"/>\n      <use x=\"593.359375\" xlink:href=\"#DejaVuSans-1093\"/>\n      <use x=\"652.539062\" xlink:href=\"#DejaVuSans-1085\"/>\n      <use x=\"717.919922\" xlink:href=\"#DejaVuSans-1080\"/>\n      <use x=\"782.910156\" xlink:href=\"#DejaVuSans-1082\"/>\n      <use x=\"843.310547\" xlink:href=\"#DejaVuSans-1072\"/>\n     </g>\n    </g>\n    <g id=\"line2d_99\">\n     <path d=\"M 56.21125 303.025937 \nL 78.21125 303.025937 \n\" style=\"fill:none;stroke:#8f93f4;stroke-linecap:round;stroke-width:1.5;\"/>\n    </g>\n    <g id=\"line2d_100\"/>\n    <g id=\"text_39\">\n     <!-- Спортивные товары -->\n     <g style=\"fill:#262626;\" transform=\"translate(87.01125 306.875937)scale(0.11 -0.11)\">\n      <use xlink:href=\"#DejaVuSans-1057\"/>\n      <use x=\"69.824219\" xlink:href=\"#DejaVuSans-1087\"/>\n      <use x=\"135.205078\" xlink:href=\"#DejaVuSans-1086\"/>\n      <use x=\"196.386719\" xlink:href=\"#DejaVuSans-1088\"/>\n      <use x=\"259.863281\" xlink:href=\"#DejaVuSans-1090\"/>\n      <use x=\"318.115234\" xlink:href=\"#DejaVuSans-1080\"/>\n      <use x=\"383.105469\" xlink:href=\"#DejaVuSans-1074\"/>\n      <use x=\"442.041016\" xlink:href=\"#DejaVuSans-1085\"/>\n      <use x=\"507.421875\" xlink:href=\"#DejaVuSans-1099\"/>\n      <use x=\"586.376953\" xlink:href=\"#DejaVuSans-1077\"/>\n      <use x=\"647.900391\" xlink:href=\"#DejaVuSans-32\"/>\n      <use x=\"679.6875\" xlink:href=\"#DejaVuSans-1090\"/>\n      <use x=\"737.939453\" xlink:href=\"#DejaVuSans-1086\"/>\n      <use x=\"799.121094\" xlink:href=\"#DejaVuSans-1074\"/>\n      <use x=\"858.056641\" xlink:href=\"#DejaVuSans-1072\"/>\n      <use x=\"919.335938\" xlink:href=\"#DejaVuSans-1088\"/>\n      <use x=\"982.8125\" xlink:href=\"#DejaVuSans-1099\"/>\n     </g>\n    </g>\n    <g id=\"line2d_101\">\n     <path d=\"M 56.21125 319.171875 \nL 78.21125 319.171875 \n\" style=\"fill:none;stroke:#b785f4;stroke-linecap:round;stroke-width:1.5;\"/>\n    </g>\n    <g id=\"line2d_102\"/>\n    <g id=\"text_40\">\n     <!-- Строительные и ремонтные услуги -->\n     <g style=\"fill:#262626;\" transform=\"translate(87.01125 323.021875)scale(0.11 -0.11)\">\n      <use xlink:href=\"#DejaVuSans-1057\"/>\n      <use x=\"69.824219\" xlink:href=\"#DejaVuSans-1090\"/>\n      <use x=\"128.076172\" xlink:href=\"#DejaVuSans-1088\"/>\n      <use x=\"191.552734\" xlink:href=\"#DejaVuSans-1086\"/>\n      <use x=\"252.734375\" xlink:href=\"#DejaVuSans-1080\"/>\n      <use x=\"317.724609\" xlink:href=\"#DejaVuSans-1090\"/>\n      <use x=\"375.976562\" xlink:href=\"#DejaVuSans-1077\"/>\n      <use x=\"437.5\" xlink:href=\"#DejaVuSans-1083\"/>\n      <use x=\"501.416016\" xlink:href=\"#DejaVuSans-1100\"/>\n      <use x=\"560.351562\" xlink:href=\"#DejaVuSans-1085\"/>\n      <use x=\"625.732422\" xlink:href=\"#DejaVuSans-1099\"/>\n      <use x=\"704.6875\" xlink:href=\"#DejaVuSans-1077\"/>\n      <use x=\"766.210938\" xlink:href=\"#DejaVuSans-32\"/>\n      <use x=\"797.998047\" xlink:href=\"#DejaVuSans-1080\"/>\n      <use x=\"862.988281\" xlink:href=\"#DejaVuSans-32\"/>\n      <use x=\"894.775391\" xlink:href=\"#DejaVuSans-1088\"/>\n      <use x=\"958.251953\" xlink:href=\"#DejaVuSans-1077\"/>\n      <use x=\"1019.775391\" xlink:href=\"#DejaVuSans-1084\"/>\n      <use x=\"1095.214844\" xlink:href=\"#DejaVuSans-1086\"/>\n      <use x=\"1156.396484\" xlink:href=\"#DejaVuSans-1085\"/>\n      <use x=\"1221.777344\" xlink:href=\"#DejaVuSans-1090\"/>\n      <use x=\"1280.029297\" xlink:href=\"#DejaVuSans-1085\"/>\n      <use x=\"1345.410156\" xlink:href=\"#DejaVuSans-1099\"/>\n      <use x=\"1424.365234\" xlink:href=\"#DejaVuSans-1077\"/>\n      <use x=\"1485.888672\" xlink:href=\"#DejaVuSans-32\"/>\n      <use x=\"1517.675781\" xlink:href=\"#DejaVuSans-1091\"/>\n      <use x=\"1576.855469\" xlink:href=\"#DejaVuSans-1089\"/>\n      <use x=\"1631.835938\" xlink:href=\"#DejaVuSans-1083\"/>\n      <use x=\"1695.751953\" xlink:href=\"#DejaVuSans-1091\"/>\n      <use x=\"1754.931641\" xlink:href=\"#DejaVuSans-1075\"/>\n      <use x=\"1807.470703\" xlink:href=\"#DejaVuSans-1080\"/>\n     </g>\n    </g>\n    <g id=\"line2d_103\">\n     <path d=\"M 56.21125 335.317812 \nL 78.21125 335.317812 \n\" style=\"fill:none;stroke:#db70f4;stroke-linecap:round;stroke-width:1.5;\"/>\n    </g>\n    <g id=\"line2d_104\"/>\n    <g id=\"text_41\">\n     <!-- Строительные материалы и инструменты -->\n     <g style=\"fill:#262626;\" transform=\"translate(87.01125 339.167812)scale(0.11 -0.11)\">\n      <use xlink:href=\"#DejaVuSans-1057\"/>\n      <use x=\"69.824219\" xlink:href=\"#DejaVuSans-1090\"/>\n      <use x=\"128.076172\" xlink:href=\"#DejaVuSans-1088\"/>\n      <use x=\"191.552734\" xlink:href=\"#DejaVuSans-1086\"/>\n      <use x=\"252.734375\" xlink:href=\"#DejaVuSans-1080\"/>\n      <use x=\"317.724609\" xlink:href=\"#DejaVuSans-1090\"/>\n      <use x=\"375.976562\" xlink:href=\"#DejaVuSans-1077\"/>\n      <use x=\"437.5\" xlink:href=\"#DejaVuSans-1083\"/>\n      <use x=\"501.416016\" xlink:href=\"#DejaVuSans-1100\"/>\n      <use x=\"560.351562\" xlink:href=\"#DejaVuSans-1085\"/>\n      <use x=\"625.732422\" xlink:href=\"#DejaVuSans-1099\"/>\n      <use x=\"704.6875\" xlink:href=\"#DejaVuSans-1077\"/>\n      <use x=\"766.210938\" xlink:href=\"#DejaVuSans-32\"/>\n      <use x=\"797.998047\" xlink:href=\"#DejaVuSans-1084\"/>\n      <use x=\"873.4375\" xlink:href=\"#DejaVuSans-1072\"/>\n      <use x=\"934.716797\" xlink:href=\"#DejaVuSans-1090\"/>\n      <use x=\"992.96875\" xlink:href=\"#DejaVuSans-1077\"/>\n      <use x=\"1054.492188\" xlink:href=\"#DejaVuSans-1088\"/>\n      <use x=\"1117.96875\" xlink:href=\"#DejaVuSans-1080\"/>\n      <use x=\"1182.958984\" xlink:href=\"#DejaVuSans-1072\"/>\n      <use x=\"1244.238281\" xlink:href=\"#DejaVuSans-1083\"/>\n      <use x=\"1308.154297\" xlink:href=\"#DejaVuSans-1099\"/>\n      <use x=\"1387.109375\" xlink:href=\"#DejaVuSans-32\"/>\n      <use x=\"1418.896484\" xlink:href=\"#DejaVuSans-1080\"/>\n      <use x=\"1483.886719\" xlink:href=\"#DejaVuSans-32\"/>\n      <use x=\"1515.673828\" xlink:href=\"#DejaVuSans-1080\"/>\n      <use x=\"1580.664062\" xlink:href=\"#DejaVuSans-1085\"/>\n      <use x=\"1646.044922\" xlink:href=\"#DejaVuSans-1089\"/>\n      <use x=\"1701.025391\" xlink:href=\"#DejaVuSans-1090\"/>\n      <use x=\"1759.277344\" xlink:href=\"#DejaVuSans-1088\"/>\n      <use x=\"1822.753906\" xlink:href=\"#DejaVuSans-1091\"/>\n      <use x=\"1881.933594\" xlink:href=\"#DejaVuSans-1084\"/>\n      <use x=\"1957.373047\" xlink:href=\"#DejaVuSans-1077\"/>\n      <use x=\"2018.896484\" xlink:href=\"#DejaVuSans-1085\"/>\n      <use x=\"2084.277344\" xlink:href=\"#DejaVuSans-1090\"/>\n      <use x=\"2142.529297\" xlink:href=\"#DejaVuSans-1099\"/>\n     </g>\n    </g>\n    <g id=\"line2d_105\">\n     <path d=\"M 56.21125 351.46375 \nL 78.21125 351.46375 \n\" style=\"fill:none;stroke:#f55fe6;stroke-linecap:round;stroke-width:1.5;\"/>\n    </g>\n    <g id=\"line2d_106\"/>\n    <g id=\"text_42\">\n     <!-- Туризм и отдых -->\n     <g style=\"fill:#262626;\" transform=\"translate(87.01125 355.31375)scale(0.11 -0.11)\">\n      <use xlink:href=\"#DejaVuSans-1058\"/>\n      <use x=\"61.083984\" xlink:href=\"#DejaVuSans-1091\"/>\n      <use x=\"120.263672\" xlink:href=\"#DejaVuSans-1088\"/>\n      <use x=\"183.740234\" xlink:href=\"#DejaVuSans-1080\"/>\n      <use x=\"248.730469\" xlink:href=\"#DejaVuSans-1079\"/>\n      <use x=\"301.904297\" xlink:href=\"#DejaVuSans-1084\"/>\n      <use x=\"377.34375\" xlink:href=\"#DejaVuSans-32\"/>\n      <use x=\"409.130859\" xlink:href=\"#DejaVuSans-1080\"/>\n      <use x=\"474.121094\" xlink:href=\"#DejaVuSans-32\"/>\n      <use x=\"505.908203\" xlink:href=\"#DejaVuSans-1086\"/>\n      <use x=\"567.089844\" xlink:href=\"#DejaVuSans-1090\"/>\n      <use x=\"625.341797\" xlink:href=\"#DejaVuSans-1076\"/>\n      <use x=\"694.482422\" xlink:href=\"#DejaVuSans-1099\"/>\n      <use x=\"773.4375\" xlink:href=\"#DejaVuSans-1093\"/>\n     </g>\n    </g>\n    <g id=\"line2d_107\">\n     <path d=\"M 56.21125 367.609687 \nL 78.21125 367.609687 \n\" style=\"fill:none;stroke:#f667c6;stroke-linecap:round;stroke-width:1.5;\"/>\n    </g>\n    <g id=\"line2d_108\"/>\n    <g id=\"text_43\">\n     <!-- Фитнес -->\n     <g style=\"fill:#262626;\" transform=\"translate(87.01125 371.459687)scale(0.11 -0.11)\">\n      <use xlink:href=\"#DejaVuSans-1060\"/>\n      <use x=\"86.083984\" xlink:href=\"#DejaVuSans-1080\"/>\n      <use x=\"151.074219\" xlink:href=\"#DejaVuSans-1090\"/>\n      <use x=\"209.326172\" xlink:href=\"#DejaVuSans-1085\"/>\n      <use x=\"274.707031\" xlink:href=\"#DejaVuSans-1077\"/>\n      <use x=\"336.230469\" xlink:href=\"#DejaVuSans-1089\"/>\n     </g>\n    </g>\n    <g id=\"line2d_109\">\n     <path d=\"M 56.21125 383.755625 \nL 78.21125 383.755625 \n\" style=\"fill:none;stroke:#f66caa;stroke-linecap:round;stroke-width:1.5;\"/>\n    </g>\n    <g id=\"line2d_110\"/>\n    <g id=\"text_44\">\n     <!-- Ювелирные украшения -->\n     <defs>\n      <path d=\"M 68.65625 66.21875 \nQ 57.90625 66.21875 51.5625 58.203125 \nQ 45.265625 50.203125 45.265625 36.375 \nQ 45.265625 22.609375 51.5625 14.59375 \nQ 57.90625 6.59375 68.65625 6.59375 \nQ 79.390625 6.59375 85.640625 14.59375 \nQ 91.9375 22.609375 91.9375 36.375 \nQ 91.9375 50.203125 85.640625 58.203125 \nQ 79.390625 66.21875 68.65625 66.21875 \nz\nM 35.015625 40.578125 \nQ 35.6875 54.25 44.484375 64.265625 \nQ 53.265625 74.21875 68.65625 74.21875 \nQ 83.984375 74.21875 93.171875 63.96875 \nQ 102.34375 53.65625 102.34375 36.375 \nQ 102.34375 19.140625 93.171875 8.890625 \nQ 83.984375 -1.421875 68.65625 -1.421875 \nQ 53.265625 -1.421875 44.484375 8.59375 \nQ 35.6875 18.609375 35.015625 32.28125 \nL 20.171875 32.28125 \nL 20.171875 0 \nL 10.296875 0 \nL 10.296875 72.90625 \nL 20.171875 72.90625 \nL 20.171875 40.578125 \nz\n\" id=\"DejaVuSans-1070\"/>\n     </defs>\n     <g style=\"fill:#262626;\" transform=\"translate(87.01125 387.605625)scale(0.11 -0.11)\">\n      <use xlink:href=\"#DejaVuSans-1070\"/>\n      <use x=\"107.958984\" xlink:href=\"#DejaVuSans-1074\"/>\n      <use x=\"166.894531\" xlink:href=\"#DejaVuSans-1077\"/>\n      <use x=\"228.417969\" xlink:href=\"#DejaVuSans-1083\"/>\n      <use x=\"292.333984\" xlink:href=\"#DejaVuSans-1080\"/>\n      <use x=\"357.324219\" xlink:href=\"#DejaVuSans-1088\"/>\n      <use x=\"420.800781\" xlink:href=\"#DejaVuSans-1085\"/>\n      <use x=\"486.181641\" xlink:href=\"#DejaVuSans-1099\"/>\n      <use x=\"565.136719\" xlink:href=\"#DejaVuSans-1077\"/>\n      <use x=\"626.660156\" xlink:href=\"#DejaVuSans-32\"/>\n      <use x=\"658.447266\" xlink:href=\"#DejaVuSans-1091\"/>\n      <use x=\"717.626953\" xlink:href=\"#DejaVuSans-1082\"/>\n      <use x=\"778.027344\" xlink:href=\"#DejaVuSans-1088\"/>\n      <use x=\"841.503906\" xlink:href=\"#DejaVuSans-1072\"/>\n      <use x=\"902.783203\" xlink:href=\"#DejaVuSans-1096\"/>\n      <use x=\"994.287109\" xlink:href=\"#DejaVuSans-1077\"/>\n      <use x=\"1055.810547\" xlink:href=\"#DejaVuSans-1085\"/>\n      <use x=\"1121.191406\" xlink:href=\"#DejaVuSans-1080\"/>\n      <use x=\"1186.181641\" xlink:href=\"#DejaVuSans-1103\"/>\n     </g>\n    </g>\n   </g>\n  </g>\n </g>\n <defs>\n  <clipPath id=\"ped46369fb9\">\n   <rect height=\"543.6\" width=\"892.8\" x=\"46.31125\" y=\"13.2\"/>\n  </clipPath>\n </defs>\n</svg>\n"
          },
          "metadata": {
            "tags": []
          }
        }
      ]
    },
    {
      "cell_type": "code",
      "metadata": {
        "id": "ga-bxNUuhaX7",
        "colab_type": "code",
        "outputId": "965e2e3d-881e-4987-bfd8-3e1e9739f467",
        "colab": {
          "base_uri": "https://localhost:8080/",
          "height": 821
        }
      },
      "source": [
        "draw_credcnt_monthly('Регион выдачи кредита')"
      ],
      "execution_count": 0,
      "outputs": [
        {
          "output_type": "display_data",
          "data": {
            "text/plain": [
              "<Figure size 1280x800 with 1 Axes>"
            ],
            "image/svg+xml": "<?xml version=\"1.0\" encoding=\"utf-8\" standalone=\"no\"?>\n<!DOCTYPE svg PUBLIC \"-//W3C//DTD SVG 1.1//EN\"\n  \"http://www.w3.org/Graphics/SVG/1.1/DTD/svg11.dtd\">\n<!-- Created with matplotlib (https://matplotlib.org/) -->\n<svg height=\"599.759687pt\" version=\"1.1\" viewBox=\"0 0 959.31 599.759687\" width=\"959.31pt\" xmlns=\"http://www.w3.org/2000/svg\" xmlns:xlink=\"http://www.w3.org/1999/xlink\">\n <defs>\n  <style type=\"text/css\">\n*{stroke-linecap:butt;stroke-linejoin:round;}\n  </style>\n </defs>\n <g id=\"figure_1\">\n  <g id=\"patch_1\">\n   <path d=\"M 0 599.759687 \nL 959.31 599.759687 \nL 959.31 0 \nL 0 0 \nz\n\" style=\"fill:none;\"/>\n  </g>\n  <g id=\"axes_1\">\n   <g id=\"patch_2\">\n    <path d=\"M 53.31 556.8 \nL 946.11 556.8 \nL 946.11 13.2 \nL 53.31 13.2 \nz\n\" style=\"fill:#eaeaf2;\"/>\n   </g>\n   <g id=\"matplotlib.axis_1\">\n    <g id=\"xtick_1\">\n     <g id=\"line2d_1\">\n      <path clip-path=\"url(#pfaddc4c4b1)\" d=\"M 93.891818 556.8 \nL 93.891818 13.2 \n\" style=\"fill:none;stroke:#ffffff;stroke-linecap:round;\"/>\n     </g>\n     <g id=\"text_1\">\n      <!-- 1 -->\n      <defs>\n       <path d=\"M 12.40625 8.296875 \nL 28.515625 8.296875 \nL 28.515625 63.921875 \nL 10.984375 60.40625 \nL 10.984375 69.390625 \nL 28.421875 72.90625 \nL 38.28125 72.90625 \nL 38.28125 8.296875 \nL 54.390625 8.296875 \nL 54.390625 0 \nL 12.40625 0 \nz\n\" id=\"DejaVuSans-49\"/>\n      </defs>\n      <g style=\"fill:#262626;\" transform=\"translate(90.392443 574.658281)scale(0.11 -0.11)\">\n       <use xlink:href=\"#DejaVuSans-49\"/>\n      </g>\n     </g>\n    </g>\n    <g id=\"xtick_2\">\n     <g id=\"line2d_2\">\n      <path clip-path=\"url(#pfaddc4c4b1)\" d=\"M 167.676942 556.8 \nL 167.676942 13.2 \n\" style=\"fill:none;stroke:#ffffff;stroke-linecap:round;\"/>\n     </g>\n     <g id=\"text_2\">\n      <!-- 2 -->\n      <defs>\n       <path d=\"M 19.1875 8.296875 \nL 53.609375 8.296875 \nL 53.609375 0 \nL 7.328125 0 \nL 7.328125 8.296875 \nQ 12.9375 14.109375 22.625 23.890625 \nQ 32.328125 33.6875 34.8125 36.53125 \nQ 39.546875 41.84375 41.421875 45.53125 \nQ 43.3125 49.21875 43.3125 52.78125 \nQ 43.3125 58.59375 39.234375 62.25 \nQ 35.15625 65.921875 28.609375 65.921875 \nQ 23.96875 65.921875 18.8125 64.3125 \nQ 13.671875 62.703125 7.8125 59.421875 \nL 7.8125 69.390625 \nQ 13.765625 71.78125 18.9375 73 \nQ 24.125 74.21875 28.421875 74.21875 \nQ 39.75 74.21875 46.484375 68.546875 \nQ 53.21875 62.890625 53.21875 53.421875 \nQ 53.21875 48.921875 51.53125 44.890625 \nQ 49.859375 40.875 45.40625 35.40625 \nQ 44.1875 33.984375 37.640625 27.21875 \nQ 31.109375 20.453125 19.1875 8.296875 \nz\n\" id=\"DejaVuSans-50\"/>\n      </defs>\n      <g style=\"fill:#262626;\" transform=\"translate(164.177567 574.658281)scale(0.11 -0.11)\">\n       <use xlink:href=\"#DejaVuSans-50\"/>\n      </g>\n     </g>\n    </g>\n    <g id=\"xtick_3\">\n     <g id=\"line2d_3\">\n      <path clip-path=\"url(#pfaddc4c4b1)\" d=\"M 241.462066 556.8 \nL 241.462066 13.2 \n\" style=\"fill:none;stroke:#ffffff;stroke-linecap:round;\"/>\n     </g>\n     <g id=\"text_3\">\n      <!-- 3 -->\n      <defs>\n       <path d=\"M 40.578125 39.3125 \nQ 47.65625 37.796875 51.625 33 \nQ 55.609375 28.21875 55.609375 21.1875 \nQ 55.609375 10.40625 48.1875 4.484375 \nQ 40.765625 -1.421875 27.09375 -1.421875 \nQ 22.515625 -1.421875 17.65625 -0.515625 \nQ 12.796875 0.390625 7.625 2.203125 \nL 7.625 11.71875 \nQ 11.71875 9.328125 16.59375 8.109375 \nQ 21.484375 6.890625 26.8125 6.890625 \nQ 36.078125 6.890625 40.9375 10.546875 \nQ 45.796875 14.203125 45.796875 21.1875 \nQ 45.796875 27.640625 41.28125 31.265625 \nQ 36.765625 34.90625 28.71875 34.90625 \nL 20.21875 34.90625 \nL 20.21875 43.015625 \nL 29.109375 43.015625 \nQ 36.375 43.015625 40.234375 45.921875 \nQ 44.09375 48.828125 44.09375 54.296875 \nQ 44.09375 59.90625 40.109375 62.90625 \nQ 36.140625 65.921875 28.71875 65.921875 \nQ 24.65625 65.921875 20.015625 65.03125 \nQ 15.375 64.15625 9.8125 62.3125 \nL 9.8125 71.09375 \nQ 15.4375 72.65625 20.34375 73.4375 \nQ 25.25 74.21875 29.59375 74.21875 \nQ 40.828125 74.21875 47.359375 69.109375 \nQ 53.90625 64.015625 53.90625 55.328125 \nQ 53.90625 49.265625 50.4375 45.09375 \nQ 46.96875 40.921875 40.578125 39.3125 \nz\n\" id=\"DejaVuSans-51\"/>\n      </defs>\n      <g style=\"fill:#262626;\" transform=\"translate(237.962691 574.658281)scale(0.11 -0.11)\">\n       <use xlink:href=\"#DejaVuSans-51\"/>\n      </g>\n     </g>\n    </g>\n    <g id=\"xtick_4\">\n     <g id=\"line2d_4\">\n      <path clip-path=\"url(#pfaddc4c4b1)\" d=\"M 315.24719 556.8 \nL 315.24719 13.2 \n\" style=\"fill:none;stroke:#ffffff;stroke-linecap:round;\"/>\n     </g>\n     <g id=\"text_4\">\n      <!-- 4 -->\n      <defs>\n       <path d=\"M 37.796875 64.3125 \nL 12.890625 25.390625 \nL 37.796875 25.390625 \nz\nM 35.203125 72.90625 \nL 47.609375 72.90625 \nL 47.609375 25.390625 \nL 58.015625 25.390625 \nL 58.015625 17.1875 \nL 47.609375 17.1875 \nL 47.609375 0 \nL 37.796875 0 \nL 37.796875 17.1875 \nL 4.890625 17.1875 \nL 4.890625 26.703125 \nz\n\" id=\"DejaVuSans-52\"/>\n      </defs>\n      <g style=\"fill:#262626;\" transform=\"translate(311.747815 574.658281)scale(0.11 -0.11)\">\n       <use xlink:href=\"#DejaVuSans-52\"/>\n      </g>\n     </g>\n    </g>\n    <g id=\"xtick_5\">\n     <g id=\"line2d_5\">\n      <path clip-path=\"url(#pfaddc4c4b1)\" d=\"M 389.032314 556.8 \nL 389.032314 13.2 \n\" style=\"fill:none;stroke:#ffffff;stroke-linecap:round;\"/>\n     </g>\n     <g id=\"text_5\">\n      <!-- 5 -->\n      <defs>\n       <path d=\"M 10.796875 72.90625 \nL 49.515625 72.90625 \nL 49.515625 64.59375 \nL 19.828125 64.59375 \nL 19.828125 46.734375 \nQ 21.96875 47.46875 24.109375 47.828125 \nQ 26.265625 48.1875 28.421875 48.1875 \nQ 40.625 48.1875 47.75 41.5 \nQ 54.890625 34.8125 54.890625 23.390625 \nQ 54.890625 11.625 47.5625 5.09375 \nQ 40.234375 -1.421875 26.90625 -1.421875 \nQ 22.3125 -1.421875 17.546875 -0.640625 \nQ 12.796875 0.140625 7.71875 1.703125 \nL 7.71875 11.625 \nQ 12.109375 9.234375 16.796875 8.0625 \nQ 21.484375 6.890625 26.703125 6.890625 \nQ 35.15625 6.890625 40.078125 11.328125 \nQ 45.015625 15.765625 45.015625 23.390625 \nQ 45.015625 31 40.078125 35.4375 \nQ 35.15625 39.890625 26.703125 39.890625 \nQ 22.75 39.890625 18.8125 39.015625 \nQ 14.890625 38.140625 10.796875 36.28125 \nz\n\" id=\"DejaVuSans-53\"/>\n      </defs>\n      <g style=\"fill:#262626;\" transform=\"translate(385.532939 574.658281)scale(0.11 -0.11)\">\n       <use xlink:href=\"#DejaVuSans-53\"/>\n      </g>\n     </g>\n    </g>\n    <g id=\"xtick_6\">\n     <g id=\"line2d_6\">\n      <path clip-path=\"url(#pfaddc4c4b1)\" d=\"M 462.817438 556.8 \nL 462.817438 13.2 \n\" style=\"fill:none;stroke:#ffffff;stroke-linecap:round;\"/>\n     </g>\n     <g id=\"text_6\">\n      <!-- 6 -->\n      <defs>\n       <path d=\"M 33.015625 40.375 \nQ 26.375 40.375 22.484375 35.828125 \nQ 18.609375 31.296875 18.609375 23.390625 \nQ 18.609375 15.53125 22.484375 10.953125 \nQ 26.375 6.390625 33.015625 6.390625 \nQ 39.65625 6.390625 43.53125 10.953125 \nQ 47.40625 15.53125 47.40625 23.390625 \nQ 47.40625 31.296875 43.53125 35.828125 \nQ 39.65625 40.375 33.015625 40.375 \nz\nM 52.59375 71.296875 \nL 52.59375 62.3125 \nQ 48.875 64.0625 45.09375 64.984375 \nQ 41.3125 65.921875 37.59375 65.921875 \nQ 27.828125 65.921875 22.671875 59.328125 \nQ 17.53125 52.734375 16.796875 39.40625 \nQ 19.671875 43.65625 24.015625 45.921875 \nQ 28.375 48.1875 33.59375 48.1875 \nQ 44.578125 48.1875 50.953125 41.515625 \nQ 57.328125 34.859375 57.328125 23.390625 \nQ 57.328125 12.15625 50.6875 5.359375 \nQ 44.046875 -1.421875 33.015625 -1.421875 \nQ 20.359375 -1.421875 13.671875 8.265625 \nQ 6.984375 17.96875 6.984375 36.375 \nQ 6.984375 53.65625 15.1875 63.9375 \nQ 23.390625 74.21875 37.203125 74.21875 \nQ 40.921875 74.21875 44.703125 73.484375 \nQ 48.484375 72.75 52.59375 71.296875 \nz\n\" id=\"DejaVuSans-54\"/>\n      </defs>\n      <g style=\"fill:#262626;\" transform=\"translate(459.318063 574.658281)scale(0.11 -0.11)\">\n       <use xlink:href=\"#DejaVuSans-54\"/>\n      </g>\n     </g>\n    </g>\n    <g id=\"xtick_7\">\n     <g id=\"line2d_7\">\n      <path clip-path=\"url(#pfaddc4c4b1)\" d=\"M 536.602562 556.8 \nL 536.602562 13.2 \n\" style=\"fill:none;stroke:#ffffff;stroke-linecap:round;\"/>\n     </g>\n     <g id=\"text_7\">\n      <!-- 7 -->\n      <defs>\n       <path d=\"M 8.203125 72.90625 \nL 55.078125 72.90625 \nL 55.078125 68.703125 \nL 28.609375 0 \nL 18.3125 0 \nL 43.21875 64.59375 \nL 8.203125 64.59375 \nz\n\" id=\"DejaVuSans-55\"/>\n      </defs>\n      <g style=\"fill:#262626;\" transform=\"translate(533.103187 574.658281)scale(0.11 -0.11)\">\n       <use xlink:href=\"#DejaVuSans-55\"/>\n      </g>\n     </g>\n    </g>\n    <g id=\"xtick_8\">\n     <g id=\"line2d_8\">\n      <path clip-path=\"url(#pfaddc4c4b1)\" d=\"M 610.387686 556.8 \nL 610.387686 13.2 \n\" style=\"fill:none;stroke:#ffffff;stroke-linecap:round;\"/>\n     </g>\n     <g id=\"text_8\">\n      <!-- 8 -->\n      <defs>\n       <path d=\"M 31.78125 34.625 \nQ 24.75 34.625 20.71875 30.859375 \nQ 16.703125 27.09375 16.703125 20.515625 \nQ 16.703125 13.921875 20.71875 10.15625 \nQ 24.75 6.390625 31.78125 6.390625 \nQ 38.8125 6.390625 42.859375 10.171875 \nQ 46.921875 13.96875 46.921875 20.515625 \nQ 46.921875 27.09375 42.890625 30.859375 \nQ 38.875 34.625 31.78125 34.625 \nz\nM 21.921875 38.8125 \nQ 15.578125 40.375 12.03125 44.71875 \nQ 8.5 49.078125 8.5 55.328125 \nQ 8.5 64.0625 14.71875 69.140625 \nQ 20.953125 74.21875 31.78125 74.21875 \nQ 42.671875 74.21875 48.875 69.140625 \nQ 55.078125 64.0625 55.078125 55.328125 \nQ 55.078125 49.078125 51.53125 44.71875 \nQ 48 40.375 41.703125 38.8125 \nQ 48.828125 37.15625 52.796875 32.3125 \nQ 56.78125 27.484375 56.78125 20.515625 \nQ 56.78125 9.90625 50.3125 4.234375 \nQ 43.84375 -1.421875 31.78125 -1.421875 \nQ 19.734375 -1.421875 13.25 4.234375 \nQ 6.78125 9.90625 6.78125 20.515625 \nQ 6.78125 27.484375 10.78125 32.3125 \nQ 14.796875 37.15625 21.921875 38.8125 \nz\nM 18.3125 54.390625 \nQ 18.3125 48.734375 21.84375 45.5625 \nQ 25.390625 42.390625 31.78125 42.390625 \nQ 38.140625 42.390625 41.71875 45.5625 \nQ 45.3125 48.734375 45.3125 54.390625 \nQ 45.3125 60.0625 41.71875 63.234375 \nQ 38.140625 66.40625 31.78125 66.40625 \nQ 25.390625 66.40625 21.84375 63.234375 \nQ 18.3125 60.0625 18.3125 54.390625 \nz\n\" id=\"DejaVuSans-56\"/>\n      </defs>\n      <g style=\"fill:#262626;\" transform=\"translate(606.888311 574.658281)scale(0.11 -0.11)\">\n       <use xlink:href=\"#DejaVuSans-56\"/>\n      </g>\n     </g>\n    </g>\n    <g id=\"xtick_9\">\n     <g id=\"line2d_9\">\n      <path clip-path=\"url(#pfaddc4c4b1)\" d=\"M 684.17281 556.8 \nL 684.17281 13.2 \n\" style=\"fill:none;stroke:#ffffff;stroke-linecap:round;\"/>\n     </g>\n     <g id=\"text_9\">\n      <!-- 9 -->\n      <defs>\n       <path d=\"M 10.984375 1.515625 \nL 10.984375 10.5 \nQ 14.703125 8.734375 18.5 7.8125 \nQ 22.3125 6.890625 25.984375 6.890625 \nQ 35.75 6.890625 40.890625 13.453125 \nQ 46.046875 20.015625 46.78125 33.40625 \nQ 43.953125 29.203125 39.59375 26.953125 \nQ 35.25 24.703125 29.984375 24.703125 \nQ 19.046875 24.703125 12.671875 31.3125 \nQ 6.296875 37.9375 6.296875 49.421875 \nQ 6.296875 60.640625 12.9375 67.421875 \nQ 19.578125 74.21875 30.609375 74.21875 \nQ 43.265625 74.21875 49.921875 64.515625 \nQ 56.59375 54.828125 56.59375 36.375 \nQ 56.59375 19.140625 48.40625 8.859375 \nQ 40.234375 -1.421875 26.421875 -1.421875 \nQ 22.703125 -1.421875 18.890625 -0.6875 \nQ 15.09375 0.046875 10.984375 1.515625 \nz\nM 30.609375 32.421875 \nQ 37.25 32.421875 41.125 36.953125 \nQ 45.015625 41.5 45.015625 49.421875 \nQ 45.015625 57.28125 41.125 61.84375 \nQ 37.25 66.40625 30.609375 66.40625 \nQ 23.96875 66.40625 20.09375 61.84375 \nQ 16.21875 57.28125 16.21875 49.421875 \nQ 16.21875 41.5 20.09375 36.953125 \nQ 23.96875 32.421875 30.609375 32.421875 \nz\n\" id=\"DejaVuSans-57\"/>\n      </defs>\n      <g style=\"fill:#262626;\" transform=\"translate(680.673435 574.658281)scale(0.11 -0.11)\">\n       <use xlink:href=\"#DejaVuSans-57\"/>\n      </g>\n     </g>\n    </g>\n    <g id=\"xtick_10\">\n     <g id=\"line2d_10\">\n      <path clip-path=\"url(#pfaddc4c4b1)\" d=\"M 757.957934 556.8 \nL 757.957934 13.2 \n\" style=\"fill:none;stroke:#ffffff;stroke-linecap:round;\"/>\n     </g>\n     <g id=\"text_10\">\n      <!-- 10 -->\n      <defs>\n       <path d=\"M 31.78125 66.40625 \nQ 24.171875 66.40625 20.328125 58.90625 \nQ 16.5 51.421875 16.5 36.375 \nQ 16.5 21.390625 20.328125 13.890625 \nQ 24.171875 6.390625 31.78125 6.390625 \nQ 39.453125 6.390625 43.28125 13.890625 \nQ 47.125 21.390625 47.125 36.375 \nQ 47.125 51.421875 43.28125 58.90625 \nQ 39.453125 66.40625 31.78125 66.40625 \nz\nM 31.78125 74.21875 \nQ 44.046875 74.21875 50.515625 64.515625 \nQ 56.984375 54.828125 56.984375 36.375 \nQ 56.984375 17.96875 50.515625 8.265625 \nQ 44.046875 -1.421875 31.78125 -1.421875 \nQ 19.53125 -1.421875 13.0625 8.265625 \nQ 6.59375 17.96875 6.59375 36.375 \nQ 6.59375 54.828125 13.0625 64.515625 \nQ 19.53125 74.21875 31.78125 74.21875 \nz\n\" id=\"DejaVuSans-48\"/>\n      </defs>\n      <g style=\"fill:#262626;\" transform=\"translate(750.959184 574.658281)scale(0.11 -0.11)\">\n       <use xlink:href=\"#DejaVuSans-49\"/>\n       <use x=\"63.623047\" xlink:href=\"#DejaVuSans-48\"/>\n      </g>\n     </g>\n    </g>\n    <g id=\"xtick_11\">\n     <g id=\"line2d_11\">\n      <path clip-path=\"url(#pfaddc4c4b1)\" d=\"M 831.743058 556.8 \nL 831.743058 13.2 \n\" style=\"fill:none;stroke:#ffffff;stroke-linecap:round;\"/>\n     </g>\n     <g id=\"text_11\">\n      <!-- 11 -->\n      <g style=\"fill:#262626;\" transform=\"translate(824.744308 574.658281)scale(0.11 -0.11)\">\n       <use xlink:href=\"#DejaVuSans-49\"/>\n       <use x=\"63.623047\" xlink:href=\"#DejaVuSans-49\"/>\n      </g>\n     </g>\n    </g>\n    <g id=\"xtick_12\">\n     <g id=\"line2d_12\">\n      <path clip-path=\"url(#pfaddc4c4b1)\" d=\"M 905.528182 556.8 \nL 905.528182 13.2 \n\" style=\"fill:none;stroke:#ffffff;stroke-linecap:round;\"/>\n     </g>\n     <g id=\"text_12\">\n      <!-- 12 -->\n      <g style=\"fill:#262626;\" transform=\"translate(898.529432 574.658281)scale(0.11 -0.11)\">\n       <use xlink:href=\"#DejaVuSans-49\"/>\n       <use x=\"63.623047\" xlink:href=\"#DejaVuSans-50\"/>\n      </g>\n     </g>\n    </g>\n    <g id=\"text_13\">\n     <!-- Месяц выдачи кредита -->\n     <defs>\n      <path d=\"M 9.8125 72.90625 \nL 24.515625 72.90625 \nL 43.109375 23.296875 \nL 61.8125 72.90625 \nL 76.515625 72.90625 \nL 76.515625 0 \nL 66.890625 0 \nL 66.890625 64.015625 \nL 48.09375 14.015625 \nL 38.1875 14.015625 \nL 19.390625 64.015625 \nL 19.390625 0 \nL 9.8125 0 \nz\n\" id=\"DejaVuSans-1052\"/>\n      <path d=\"M 56.203125 29.59375 \nL 56.203125 25.203125 \nL 14.890625 25.203125 \nQ 15.484375 15.921875 20.484375 11.0625 \nQ 25.484375 6.203125 34.421875 6.203125 \nQ 39.59375 6.203125 44.453125 7.46875 \nQ 49.3125 8.734375 54.109375 11.28125 \nL 54.109375 2.78125 \nQ 49.265625 0.734375 44.1875 -0.34375 \nQ 39.109375 -1.421875 33.890625 -1.421875 \nQ 20.796875 -1.421875 13.15625 6.1875 \nQ 5.515625 13.8125 5.515625 26.8125 \nQ 5.515625 40.234375 12.765625 48.109375 \nQ 20.015625 56 32.328125 56 \nQ 43.359375 56 49.78125 48.890625 \nQ 56.203125 41.796875 56.203125 29.59375 \nz\nM 47.21875 32.234375 \nQ 47.125 39.59375 43.09375 43.984375 \nQ 39.0625 48.390625 32.421875 48.390625 \nQ 24.90625 48.390625 20.390625 44.140625 \nQ 15.875 39.890625 15.1875 32.171875 \nz\n\" id=\"DejaVuSans-1077\"/>\n      <path d=\"M 48.78125 52.59375 \nL 48.78125 44.1875 \nQ 44.96875 46.296875 41.140625 47.34375 \nQ 37.3125 48.390625 33.40625 48.390625 \nQ 24.65625 48.390625 19.8125 42.84375 \nQ 14.984375 37.3125 14.984375 27.296875 \nQ 14.984375 17.28125 19.8125 11.734375 \nQ 24.65625 6.203125 33.40625 6.203125 \nQ 37.3125 6.203125 41.140625 7.25 \nQ 44.96875 8.296875 48.78125 10.40625 \nL 48.78125 2.09375 \nQ 45.015625 0.34375 40.984375 -0.53125 \nQ 36.96875 -1.421875 32.421875 -1.421875 \nQ 20.0625 -1.421875 12.78125 6.34375 \nQ 5.515625 14.109375 5.515625 27.296875 \nQ 5.515625 40.671875 12.859375 48.328125 \nQ 20.21875 56 33.015625 56 \nQ 37.15625 56 41.109375 55.140625 \nQ 45.0625 54.296875 48.78125 52.59375 \nz\n\" id=\"DejaVuSans-1089\"/>\n      <path d=\"M 18.453125 38.921875 \nQ 18.453125 34.859375 21.578125 32.5625 \nQ 24.703125 30.28125 30.515625 30.28125 \nL 42.625 30.28125 \nL 42.625 47.515625 \nL 30.515625 47.515625 \nQ 24.703125 47.515625 21.578125 45.265625 \nQ 18.453125 43.015625 18.453125 38.921875 \nz\nM 5.671875 0 \nL 22.359375 23.96875 \nQ 16.703125 25.25 12.9375 28.59375 \nQ 9.1875 31.9375 9.1875 38.921875 \nQ 9.1875 46.828125 14.421875 50.75 \nQ 19.671875 54.6875 30.28125 54.6875 \nL 51.65625 54.6875 \nL 51.65625 0 \nL 42.625 0 \nL 42.625 23.09375 \nL 31.453125 23.09375 \nL 15.328125 0 \nz\n\" id=\"DejaVuSans-1103\"/>\n      <path d=\"M 56.296875 0 \nL 9.078125 0 \nL 9.078125 54.6875 \nL 18.109375 54.6875 \nL 18.109375 7.171875 \nL 47.265625 7.171875 \nL 47.265625 54.6875 \nL 56.296875 54.6875 \nL 56.296875 7.171875 \nL 63.484375 7.171875 \nL 63.484375 -13.8125 \nL 56.296875 -13.8125 \nz\n\" id=\"DejaVuSans-1094\"/>\n      <path id=\"DejaVuSans-32\"/>\n      <path d=\"M 18.0625 25.203125 \nL 18.0625 7.171875 \nL 30.859375 7.171875 \nQ 37.015625 7.171875 40.234375 9.484375 \nQ 43.453125 11.8125 43.453125 16.21875 \nQ 43.453125 20.609375 40.234375 22.90625 \nQ 37.015625 25.203125 30.859375 25.203125 \nz\nM 18.0625 47.515625 \nL 18.0625 32.375 \nL 29.890625 32.375 \nQ 34.96875 32.375 38.1875 34.390625 \nQ 41.40625 36.421875 41.40625 40.046875 \nQ 41.40625 43.65625 38.1875 45.578125 \nQ 34.96875 47.515625 29.890625 47.515625 \nz\nM 9.078125 54.6875 \nL 30.46875 54.6875 \nQ 40.09375 54.6875 45.265625 51.171875 \nQ 50.4375 47.65625 50.4375 41.15625 \nQ 50.4375 36.140625 47.796875 33.171875 \nQ 45.171875 30.21875 39.984375 29.5 \nQ 46.1875 28.328125 49.609375 24.609375 \nQ 53.03125 20.90625 53.03125 15.328125 \nQ 53.03125 8.015625 47.390625 4 \nQ 41.75 0 31.296875 0 \nL 9.078125 0 \nz\n\" id=\"DejaVuSans-1074\"/>\n      <path d=\"M 61.046875 54.6875 \nL 70.03125 54.6875 \nL 70.03125 0 \nL 61.046875 0 \nz\nM 65.546875 56 \nz\nM 43.453125 16.21875 \nQ 43.453125 20.609375 40.25 22.90625 \nQ 37.0625 25.203125 30.90625 25.203125 \nL 18.109375 25.203125 \nL 18.109375 7.171875 \nL 30.90625 7.171875 \nQ 37.0625 7.171875 40.25 9.484375 \nQ 43.453125 11.8125 43.453125 16.21875 \nz\nM 9.078125 54.6875 \nL 18.109375 54.6875 \nL 18.109375 32.375 \nL 31.296875 32.375 \nQ 41.75 32.375 47.390625 28.390625 \nQ 53.03125 24.421875 53.03125 16.21875 \nQ 53.03125 8.015625 47.390625 4 \nQ 41.75 0 31.296875 0 \nL 9.078125 0 \nz\n\" id=\"DejaVuSans-1099\"/>\n      <path d=\"M 21.625 7.171875 \nL 47.703125 7.171875 \nL 47.703125 47.515625 \nL 28.8125 47.515625 \nL 28.8125 40.671875 \nQ 28.8125 20.5625 23.046875 9.8125 \nz\nM 8.59375 7.171875 \nQ 13.03125 9.125 14.984375 13.28125 \nQ 19.78125 23.578125 19.78125 44.34375 \nL 19.78125 54.6875 \nL 56.734375 54.6875 \nL 56.734375 7.171875 \nL 63.921875 7.171875 \nL 63.921875 -13.8125 \nL 56.734375 -13.8125 \nL 56.734375 0 \nL 12.40625 0 \nL 12.40625 -13.8125 \nL 5.21875 -13.8125 \nL 5.21875 7.171875 \nz\n\" id=\"DejaVuSans-1076\"/>\n      <path d=\"M 34.28125 27.484375 \nQ 23.390625 27.484375 19.1875 25 \nQ 14.984375 22.515625 14.984375 16.5 \nQ 14.984375 11.71875 18.140625 8.90625 \nQ 21.296875 6.109375 26.703125 6.109375 \nQ 34.1875 6.109375 38.703125 11.40625 \nQ 43.21875 16.703125 43.21875 25.484375 \nL 43.21875 27.484375 \nz\nM 52.203125 31.203125 \nL 52.203125 0 \nL 43.21875 0 \nL 43.21875 8.296875 \nQ 40.140625 3.328125 35.546875 0.953125 \nQ 30.953125 -1.421875 24.3125 -1.421875 \nQ 15.921875 -1.421875 10.953125 3.296875 \nQ 6 8.015625 6 15.921875 \nQ 6 25.140625 12.171875 29.828125 \nQ 18.359375 34.515625 30.609375 34.515625 \nL 43.21875 34.515625 \nL 43.21875 35.40625 \nQ 43.21875 41.609375 39.140625 45 \nQ 35.0625 48.390625 27.6875 48.390625 \nQ 23 48.390625 18.546875 47.265625 \nQ 14.109375 46.140625 10.015625 43.890625 \nL 10.015625 52.203125 \nQ 14.9375 54.109375 19.578125 55.046875 \nQ 24.21875 56 28.609375 56 \nQ 40.484375 56 46.34375 49.84375 \nQ 52.203125 43.703125 52.203125 31.203125 \nz\n\" id=\"DejaVuSans-1072\"/>\n      <path d=\"M 41.015625 0 \nL 41.015625 23 \nL 24.265625 23 \nQ 16.796875 23 11.8125 27.640625 \nQ 7.328125 31.84375 7.328125 40.828125 \nL 7.328125 54.6875 \nL 16.3125 54.6875 \nL 16.3125 41.65625 \nQ 16.3125 35.9375 18.84375 33.0625 \nQ 21.4375 30.171875 26.515625 30.171875 \nL 41.015625 30.171875 \nL 41.015625 54.6875 \nL 50 54.6875 \nL 50 0 \nz\n\" id=\"DejaVuSans-1095\"/>\n      <path d=\"M 55.90625 54.6875 \nL 55.90625 0 \nL 46.96875 0 \nL 46.96875 43.890625 \nL 20.609375 0 \nL 9.078125 0 \nL 9.078125 54.6875 \nL 18.015625 54.6875 \nL 18.015625 10.890625 \nL 44.34375 54.6875 \nz\n\" id=\"DejaVuSans-1080\"/>\n      <path d=\"M 9.078125 54.6875 \nL 18.015625 54.6875 \nL 18.015625 29 \nL 43.359375 54.6875 \nL 54.390625 54.6875 \nL 33.5 33.546875 \nL 57.078125 0 \nL 47.015625 0 \nL 27.640625 27.59375 \nL 18.015625 17.828125 \nL 18.015625 0 \nL 9.078125 0 \nz\n\" id=\"DejaVuSans-1082\"/>\n      <path d=\"M 18.109375 8.203125 \nL 18.109375 -20.796875 \nL 9.078125 -20.796875 \nL 9.078125 54.6875 \nL 18.109375 54.6875 \nL 18.109375 46.390625 \nQ 20.953125 51.265625 25.265625 53.625 \nQ 29.59375 56 35.59375 56 \nQ 45.5625 56 51.78125 48.09375 \nQ 58.015625 40.1875 58.015625 27.296875 \nQ 58.015625 14.40625 51.78125 6.484375 \nQ 45.5625 -1.421875 35.59375 -1.421875 \nQ 29.59375 -1.421875 25.265625 0.953125 \nQ 20.953125 3.328125 18.109375 8.203125 \nz\nM 48.6875 27.296875 \nQ 48.6875 37.203125 44.609375 42.84375 \nQ 40.53125 48.484375 33.40625 48.484375 \nQ 26.265625 48.484375 22.1875 42.84375 \nQ 18.109375 37.203125 18.109375 27.296875 \nQ 18.109375 17.390625 22.1875 11.75 \nQ 26.265625 6.109375 33.40625 6.109375 \nQ 40.53125 6.109375 44.609375 11.75 \nQ 48.6875 17.390625 48.6875 27.296875 \nz\n\" id=\"DejaVuSans-1088\"/>\n      <path d=\"M 2.9375 54.6875 \nL 55.328125 54.6875 \nL 55.328125 47.515625 \nL 33.546875 47.515625 \nL 33.546875 0 \nL 24.703125 0 \nL 24.703125 47.515625 \nL 2.9375 47.515625 \nz\n\" id=\"DejaVuSans-1090\"/>\n     </defs>\n     <g style=\"fill:#262626;\" transform=\"translate(426.148125 590.064062)scale(0.12 -0.12)\">\n      <use xlink:href=\"#DejaVuSans-1052\"/>\n      <use x=\"86.279297\" xlink:href=\"#DejaVuSans-1077\"/>\n      <use x=\"147.802734\" xlink:href=\"#DejaVuSans-1089\"/>\n      <use x=\"202.783203\" xlink:href=\"#DejaVuSans-1103\"/>\n      <use x=\"262.939453\" xlink:href=\"#DejaVuSans-1094\"/>\n      <use x=\"331.005859\" xlink:href=\"#DejaVuSans-32\"/>\n      <use x=\"362.792969\" xlink:href=\"#DejaVuSans-1074\"/>\n      <use x=\"421.728516\" xlink:href=\"#DejaVuSans-1099\"/>\n      <use x=\"500.683594\" xlink:href=\"#DejaVuSans-1076\"/>\n      <use x=\"569.824219\" xlink:href=\"#DejaVuSans-1072\"/>\n      <use x=\"631.103516\" xlink:href=\"#DejaVuSans-1095\"/>\n      <use x=\"690.185547\" xlink:href=\"#DejaVuSans-1080\"/>\n      <use x=\"755.175781\" xlink:href=\"#DejaVuSans-32\"/>\n      <use x=\"786.962891\" xlink:href=\"#DejaVuSans-1082\"/>\n      <use x=\"847.363281\" xlink:href=\"#DejaVuSans-1088\"/>\n      <use x=\"910.839844\" xlink:href=\"#DejaVuSans-1077\"/>\n      <use x=\"972.363281\" xlink:href=\"#DejaVuSans-1076\"/>\n      <use x=\"1041.503906\" xlink:href=\"#DejaVuSans-1080\"/>\n      <use x=\"1106.494141\" xlink:href=\"#DejaVuSans-1090\"/>\n      <use x=\"1164.746094\" xlink:href=\"#DejaVuSans-1072\"/>\n     </g>\n    </g>\n   </g>\n   <g id=\"matplotlib.axis_2\">\n    <g id=\"ytick_1\">\n     <g id=\"line2d_13\">\n      <path clip-path=\"url(#pfaddc4c4b1)\" d=\"M 53.31 543.072727 \nL 946.11 543.072727 \n\" style=\"fill:none;stroke:#ffffff;stroke-linecap:round;\"/>\n     </g>\n     <g id=\"text_14\">\n      <!-- 0 -->\n      <g style=\"fill:#262626;\" transform=\"translate(36.81125 547.251868)scale(0.11 -0.11)\">\n       <use xlink:href=\"#DejaVuSans-48\"/>\n      </g>\n     </g>\n    </g>\n    <g id=\"ytick_2\">\n     <g id=\"line2d_14\">\n      <path clip-path=\"url(#pfaddc4c4b1)\" d=\"M 53.31 469.860606 \nL 946.11 469.860606 \n\" style=\"fill:none;stroke:#ffffff;stroke-linecap:round;\"/>\n     </g>\n     <g id=\"text_15\">\n      <!-- 20 -->\n      <g style=\"fill:#262626;\" transform=\"translate(29.8125 474.039747)scale(0.11 -0.11)\">\n       <use xlink:href=\"#DejaVuSans-50\"/>\n       <use x=\"63.623047\" xlink:href=\"#DejaVuSans-48\"/>\n      </g>\n     </g>\n    </g>\n    <g id=\"ytick_3\">\n     <g id=\"line2d_15\">\n      <path clip-path=\"url(#pfaddc4c4b1)\" d=\"M 53.31 396.648485 \nL 946.11 396.648485 \n\" style=\"fill:none;stroke:#ffffff;stroke-linecap:round;\"/>\n     </g>\n     <g id=\"text_16\">\n      <!-- 40 -->\n      <g style=\"fill:#262626;\" transform=\"translate(29.8125 400.827625)scale(0.11 -0.11)\">\n       <use xlink:href=\"#DejaVuSans-52\"/>\n       <use x=\"63.623047\" xlink:href=\"#DejaVuSans-48\"/>\n      </g>\n     </g>\n    </g>\n    <g id=\"ytick_4\">\n     <g id=\"line2d_16\">\n      <path clip-path=\"url(#pfaddc4c4b1)\" d=\"M 53.31 323.436364 \nL 946.11 323.436364 \n\" style=\"fill:none;stroke:#ffffff;stroke-linecap:round;\"/>\n     </g>\n     <g id=\"text_17\">\n      <!-- 60 -->\n      <g style=\"fill:#262626;\" transform=\"translate(29.8125 327.615504)scale(0.11 -0.11)\">\n       <use xlink:href=\"#DejaVuSans-54\"/>\n       <use x=\"63.623047\" xlink:href=\"#DejaVuSans-48\"/>\n      </g>\n     </g>\n    </g>\n    <g id=\"ytick_5\">\n     <g id=\"line2d_17\">\n      <path clip-path=\"url(#pfaddc4c4b1)\" d=\"M 53.31 250.224242 \nL 946.11 250.224242 \n\" style=\"fill:none;stroke:#ffffff;stroke-linecap:round;\"/>\n     </g>\n     <g id=\"text_18\">\n      <!-- 80 -->\n      <g style=\"fill:#262626;\" transform=\"translate(29.8125 254.403383)scale(0.11 -0.11)\">\n       <use xlink:href=\"#DejaVuSans-56\"/>\n       <use x=\"63.623047\" xlink:href=\"#DejaVuSans-48\"/>\n      </g>\n     </g>\n    </g>\n    <g id=\"ytick_6\">\n     <g id=\"line2d_18\">\n      <path clip-path=\"url(#pfaddc4c4b1)\" d=\"M 53.31 177.012121 \nL 946.11 177.012121 \n\" style=\"fill:none;stroke:#ffffff;stroke-linecap:round;\"/>\n     </g>\n     <g id=\"text_19\">\n      <!-- 100 -->\n      <g style=\"fill:#262626;\" transform=\"translate(22.81375 181.191262)scale(0.11 -0.11)\">\n       <use xlink:href=\"#DejaVuSans-49\"/>\n       <use x=\"63.623047\" xlink:href=\"#DejaVuSans-48\"/>\n       <use x=\"127.246094\" xlink:href=\"#DejaVuSans-48\"/>\n      </g>\n     </g>\n    </g>\n    <g id=\"ytick_7\">\n     <g id=\"line2d_19\">\n      <path clip-path=\"url(#pfaddc4c4b1)\" d=\"M 53.31 103.8 \nL 946.11 103.8 \n\" style=\"fill:none;stroke:#ffffff;stroke-linecap:round;\"/>\n     </g>\n     <g id=\"text_20\">\n      <!-- 120 -->\n      <g style=\"fill:#262626;\" transform=\"translate(22.81375 107.979141)scale(0.11 -0.11)\">\n       <use xlink:href=\"#DejaVuSans-49\"/>\n       <use x=\"63.623047\" xlink:href=\"#DejaVuSans-50\"/>\n       <use x=\"127.246094\" xlink:href=\"#DejaVuSans-48\"/>\n      </g>\n     </g>\n    </g>\n    <g id=\"ytick_8\">\n     <g id=\"line2d_20\">\n      <path clip-path=\"url(#pfaddc4c4b1)\" d=\"M 53.31 30.587879 \nL 946.11 30.587879 \n\" style=\"fill:none;stroke:#ffffff;stroke-linecap:round;\"/>\n     </g>\n     <g id=\"text_21\">\n      <!-- 140 -->\n      <g style=\"fill:#262626;\" transform=\"translate(22.81375 34.767019)scale(0.11 -0.11)\">\n       <use xlink:href=\"#DejaVuSans-49\"/>\n       <use x=\"63.623047\" xlink:href=\"#DejaVuSans-52\"/>\n       <use x=\"127.246094\" xlink:href=\"#DejaVuSans-48\"/>\n      </g>\n     </g>\n    </g>\n    <g id=\"text_22\">\n     <!-- Всего кредитов -->\n     <defs>\n      <path d=\"M 19.671875 34.8125 \nL 19.671875 8.109375 \nL 35.5 8.109375 \nQ 43.453125 8.109375 47.28125 11.40625 \nQ 51.125 14.703125 51.125 21.484375 \nQ 51.125 28.328125 47.28125 31.5625 \nQ 43.453125 34.8125 35.5 34.8125 \nz\nM 19.671875 64.796875 \nL 19.671875 42.828125 \nL 34.28125 42.828125 \nQ 41.5 42.828125 45.03125 45.53125 \nQ 48.578125 48.25 48.578125 53.8125 \nQ 48.578125 59.328125 45.03125 62.0625 \nQ 41.5 64.796875 34.28125 64.796875 \nz\nM 9.8125 72.90625 \nL 35.015625 72.90625 \nQ 46.296875 72.90625 52.390625 68.21875 \nQ 58.5 63.53125 58.5 54.890625 \nQ 58.5 48.1875 55.375 44.234375 \nQ 52.25 40.28125 46.1875 39.3125 \nQ 53.46875 37.75 57.5 32.78125 \nQ 61.53125 27.828125 61.53125 20.40625 \nQ 61.53125 10.640625 54.890625 5.3125 \nQ 48.25 0 35.984375 0 \nL 9.8125 0 \nz\n\" id=\"DejaVuSans-1042\"/>\n      <path d=\"M 9.078125 0 \nL 9.078125 54.6875 \nL 47.65625 54.6875 \nL 47.65625 47.515625 \nL 18.109375 47.515625 \nL 18.109375 0 \nz\n\" id=\"DejaVuSans-1075\"/>\n      <path d=\"M 30.609375 48.390625 \nQ 23.390625 48.390625 19.1875 42.75 \nQ 14.984375 37.109375 14.984375 27.296875 \nQ 14.984375 17.484375 19.15625 11.84375 \nQ 23.34375 6.203125 30.609375 6.203125 \nQ 37.796875 6.203125 41.984375 11.859375 \nQ 46.1875 17.53125 46.1875 27.296875 \nQ 46.1875 37.015625 41.984375 42.703125 \nQ 37.796875 48.390625 30.609375 48.390625 \nz\nM 30.609375 56 \nQ 42.328125 56 49.015625 48.375 \nQ 55.71875 40.765625 55.71875 27.296875 \nQ 55.71875 13.875 49.015625 6.21875 \nQ 42.328125 -1.421875 30.609375 -1.421875 \nQ 18.84375 -1.421875 12.171875 6.21875 \nQ 5.515625 13.875 5.515625 27.296875 \nQ 5.515625 40.765625 12.171875 48.375 \nQ 18.84375 56 30.609375 56 \nz\n\" id=\"DejaVuSans-1086\"/>\n     </defs>\n     <g style=\"fill:#262626;\" transform=\"translate(16.318125 334.71375)rotate(-90)scale(0.12 -0.12)\">\n      <use xlink:href=\"#DejaVuSans-1042\"/>\n      <use x=\"68.603516\" xlink:href=\"#DejaVuSans-1089\"/>\n      <use x=\"123.583984\" xlink:href=\"#DejaVuSans-1077\"/>\n      <use x=\"185.107422\" xlink:href=\"#DejaVuSans-1075\"/>\n      <use x=\"237.646484\" xlink:href=\"#DejaVuSans-1086\"/>\n      <use x=\"298.828125\" xlink:href=\"#DejaVuSans-32\"/>\n      <use x=\"330.615234\" xlink:href=\"#DejaVuSans-1082\"/>\n      <use x=\"391.015625\" xlink:href=\"#DejaVuSans-1088\"/>\n      <use x=\"454.492188\" xlink:href=\"#DejaVuSans-1077\"/>\n      <use x=\"516.015625\" xlink:href=\"#DejaVuSans-1076\"/>\n      <use x=\"585.15625\" xlink:href=\"#DejaVuSans-1080\"/>\n      <use x=\"650.146484\" xlink:href=\"#DejaVuSans-1090\"/>\n      <use x=\"708.398438\" xlink:href=\"#DejaVuSans-1086\"/>\n      <use x=\"769.580078\" xlink:href=\"#DejaVuSans-1074\"/>\n     </g>\n    </g>\n   </g>\n   <g id=\"line2d_21\">\n    <path clip-path=\"url(#pfaddc4c4b1)\" d=\"M 93.891818 155.048485 \nL 167.676942 122.10303 \nL 241.462066 59.872727 \nL 315.24719 162.369697 \nL 389.032314 177.012121 \nL 462.817438 169.690909 \nL 536.602562 114.781818 \nL 610.387686 103.8 \nL 684.17281 133.084848 \nL 757.957934 67.193939 \nL 831.743058 37.909091 \nL 905.528182 37.909091 \n\" style=\"fill:none;stroke:#f77189;stroke-linecap:round;stroke-width:1.5;\"/>\n   </g>\n   <g id=\"line2d_22\">\n    <path clip-path=\"url(#pfaddc4c4b1)\" d=\"M 93.891818 444.236364 \nL 167.676942 484.50303 \nL 241.462066 477.181818 \nL 315.24719 455.218182 \nL 389.032314 495.484848 \nL 462.817438 484.50303 \nL 536.602562 458.878788 \nL 610.387686 484.50303 \nL 684.17281 466.2 \nL 757.957934 469.860606 \nL 831.743058 444.236364 \nL 905.528182 473.521212 \n\" style=\"fill:none;stroke:#bb9832;stroke-linecap:round;stroke-width:1.5;\"/>\n   </g>\n   <g id=\"line2d_23\">\n    <path clip-path=\"url(#pfaddc4c4b1)\" d=\"M 93.891818 521.109091 \nL 167.676942 517.448485 \nL 241.462066 513.787879 \nL 315.24719 532.090909 \nL 389.032314 532.090909 \nL 462.817438 528.430303 \nL 536.602562 524.769697 \nL 610.387686 521.109091 \nL 684.17281 532.090909 \nL 757.957934 506.466667 \nL 831.743058 510.127273 \nL 905.528182 524.769697 \n\" style=\"fill:none;stroke:#50b131;stroke-linecap:round;stroke-width:1.5;\"/>\n   </g>\n   <g id=\"line2d_24\"/>\n   <g id=\"line2d_25\"/>\n   <g id=\"line2d_26\"/>\n   <g id=\"line2d_27\"/>\n   <g id=\"patch_3\">\n    <path d=\"M 53.31 556.8 \nL 53.31 13.2 \n\" style=\"fill:none;stroke:#ffffff;stroke-linecap:square;stroke-linejoin:miter;stroke-width:1.25;\"/>\n   </g>\n   <g id=\"patch_4\">\n    <path d=\"M 946.11 556.8 \nL 946.11 13.2 \n\" style=\"fill:none;stroke:#ffffff;stroke-linecap:square;stroke-linejoin:miter;stroke-width:1.25;\"/>\n   </g>\n   <g id=\"patch_5\">\n    <path d=\"M 53.31 556.8 \nL 946.11 556.8 \n\" style=\"fill:none;stroke:#ffffff;stroke-linecap:square;stroke-linejoin:miter;stroke-width:1.25;\"/>\n   </g>\n   <g id=\"patch_6\">\n    <path d=\"M 53.31 13.2 \nL 946.11 13.2 \n\" style=\"fill:none;stroke:#ffffff;stroke-linecap:square;stroke-linejoin:miter;stroke-width:1.25;\"/>\n   </g>\n   <g id=\"legend_1\">\n    <g id=\"patch_7\">\n     <path d=\"M 758.066719 319.035547 \nL 938.41 319.035547 \nQ 940.61 319.035547 940.61 316.835547 \nL 940.61 253.164453 \nQ 940.61 250.964453 938.41 250.964453 \nL 758.066719 250.964453 \nQ 755.866719 250.964453 755.866719 253.164453 \nL 755.866719 316.835547 \nQ 755.866719 319.035547 758.066719 319.035547 \nz\n\" style=\"fill:#eaeaf2;opacity:0.8;stroke:#cccccc;stroke-linejoin:miter;\"/>\n    </g>\n    <g id=\"line2d_28\">\n     <path d=\"M 760.266719 259.872734 \nL 782.266719 259.872734 \n\" style=\"fill:none;\"/>\n    </g>\n    <g id=\"line2d_29\"/>\n    <g id=\"text_23\">\n     <!-- Регион выдачи кредита -->\n     <defs>\n      <path d=\"M 19.671875 64.796875 \nL 19.671875 37.40625 \nL 32.078125 37.40625 \nQ 38.96875 37.40625 42.71875 40.96875 \nQ 46.484375 44.53125 46.484375 51.125 \nQ 46.484375 57.671875 42.71875 61.234375 \nQ 38.96875 64.796875 32.078125 64.796875 \nz\nM 9.8125 72.90625 \nL 32.078125 72.90625 \nQ 44.34375 72.90625 50.609375 67.359375 \nQ 56.890625 61.8125 56.890625 51.125 \nQ 56.890625 40.328125 50.609375 34.8125 \nQ 44.34375 29.296875 32.078125 29.296875 \nL 19.671875 29.296875 \nL 19.671875 0 \nL 9.8125 0 \nz\n\" id=\"DejaVuSans-1056\"/>\n      <path d=\"M 9.078125 54.6875 \nL 18.109375 54.6875 \nL 18.109375 32.375 \nL 47.265625 32.375 \nL 47.265625 54.6875 \nL 56.296875 54.6875 \nL 56.296875 0 \nL 47.265625 0 \nL 47.265625 25.203125 \nL 18.109375 25.203125 \nL 18.109375 0 \nL 9.078125 0 \nz\n\" id=\"DejaVuSans-1085\"/>\n     </defs>\n     <g style=\"fill:#262626;\" transform=\"translate(791.066719 263.722734)scale(0.11 -0.11)\">\n      <use xlink:href=\"#DejaVuSans-1056\"/>\n      <use x=\"60.302734\" xlink:href=\"#DejaVuSans-1077\"/>\n      <use x=\"121.826172\" xlink:href=\"#DejaVuSans-1075\"/>\n      <use x=\"174.365234\" xlink:href=\"#DejaVuSans-1080\"/>\n      <use x=\"239.355469\" xlink:href=\"#DejaVuSans-1086\"/>\n      <use x=\"300.537109\" xlink:href=\"#DejaVuSans-1085\"/>\n      <use x=\"365.917969\" xlink:href=\"#DejaVuSans-32\"/>\n      <use x=\"397.705078\" xlink:href=\"#DejaVuSans-1074\"/>\n      <use x=\"456.640625\" xlink:href=\"#DejaVuSans-1099\"/>\n      <use x=\"535.595703\" xlink:href=\"#DejaVuSans-1076\"/>\n      <use x=\"604.736328\" xlink:href=\"#DejaVuSans-1072\"/>\n      <use x=\"666.015625\" xlink:href=\"#DejaVuSans-1095\"/>\n      <use x=\"725.097656\" xlink:href=\"#DejaVuSans-1080\"/>\n      <use x=\"790.087891\" xlink:href=\"#DejaVuSans-32\"/>\n      <use x=\"821.875\" xlink:href=\"#DejaVuSans-1082\"/>\n      <use x=\"882.275391\" xlink:href=\"#DejaVuSans-1088\"/>\n      <use x=\"945.751953\" xlink:href=\"#DejaVuSans-1077\"/>\n      <use x=\"1007.275391\" xlink:href=\"#DejaVuSans-1076\"/>\n      <use x=\"1076.416016\" xlink:href=\"#DejaVuSans-1080\"/>\n      <use x=\"1141.40625\" xlink:href=\"#DejaVuSans-1090\"/>\n      <use x=\"1199.658203\" xlink:href=\"#DejaVuSans-1072\"/>\n     </g>\n    </g>\n    <g id=\"line2d_30\">\n     <path d=\"M 760.266719 276.018672 \nL 782.266719 276.018672 \n\" style=\"fill:none;stroke:#f77189;stroke-linecap:round;stroke-width:1.5;\"/>\n    </g>\n    <g id=\"line2d_31\"/>\n    <g id=\"text_24\">\n     <!-- Другие регионы -->\n     <defs>\n      <path d=\"M 22.796875 8.296875 \nL 55.03125 8.296875 \nL 55.03125 64.59375 \nL 31.34375 64.59375 \nL 31.34375 54.25 \nQ 31.34375 29.890625 25.875 13.71875 \nQ 24.75 10.40625 22.796875 8.296875 \nz\nM 8.40625 8.296875 \nQ 14.9375 11.375 16.796875 17.234375 \nQ 21.53125 32.28125 21.53125 59.125 \nL 21.53125 72.90625 \nL 64.890625 72.90625 \nL 64.890625 8.296875 \nL 73.1875 8.296875 \nL 73.1875 -15.671875 \nL 64.890625 -15.671875 \nL 64.890625 0 \nL 13.234375 0 \nL 13.234375 -15.671875 \nL 4.9375 -15.671875 \nL 4.9375 8.296875 \nz\n\" id=\"DejaVuSans-1044\"/>\n      <path d=\"M 32.171875 -5.078125 \nQ 28.375 -14.84375 24.75 -17.8125 \nQ 21.140625 -20.796875 15.09375 -20.796875 \nL 7.90625 -20.796875 \nL 7.90625 -13.28125 \nL 13.1875 -13.28125 \nQ 16.890625 -13.28125 18.9375 -11.515625 \nQ 21 -9.765625 23.484375 -3.21875 \nL 25.09375 0.875 \nL 2.984375 54.6875 \nL 12.5 54.6875 \nL 29.59375 11.921875 \nL 46.6875 54.6875 \nL 56.203125 54.6875 \nz\n\" id=\"DejaVuSans-1091\"/>\n     </defs>\n     <g style=\"fill:#262626;\" transform=\"translate(791.066719 279.868672)scale(0.11 -0.11)\">\n      <use xlink:href=\"#DejaVuSans-1044\"/>\n      <use x=\"78.125\" xlink:href=\"#DejaVuSans-1088\"/>\n      <use x=\"141.601562\" xlink:href=\"#DejaVuSans-1091\"/>\n      <use x=\"200.78125\" xlink:href=\"#DejaVuSans-1075\"/>\n      <use x=\"253.320312\" xlink:href=\"#DejaVuSans-1080\"/>\n      <use x=\"318.310547\" xlink:href=\"#DejaVuSans-1077\"/>\n      <use x=\"379.833984\" xlink:href=\"#DejaVuSans-32\"/>\n      <use x=\"411.621094\" xlink:href=\"#DejaVuSans-1088\"/>\n      <use x=\"475.097656\" xlink:href=\"#DejaVuSans-1077\"/>\n      <use x=\"536.621094\" xlink:href=\"#DejaVuSans-1075\"/>\n      <use x=\"589.160156\" xlink:href=\"#DejaVuSans-1080\"/>\n      <use x=\"654.150391\" xlink:href=\"#DejaVuSans-1086\"/>\n      <use x=\"715.332031\" xlink:href=\"#DejaVuSans-1085\"/>\n      <use x=\"780.712891\" xlink:href=\"#DejaVuSans-1099\"/>\n     </g>\n    </g>\n    <g id=\"line2d_32\">\n     <path d=\"M 760.266719 292.164609 \nL 782.266719 292.164609 \n\" style=\"fill:none;stroke:#bb9832;stroke-linecap:round;stroke-width:1.5;\"/>\n    </g>\n    <g id=\"line2d_33\"/>\n    <g id=\"text_25\">\n     <!-- Москва или МО -->\n     <defs>\n      <path d=\"M 3.71875 0 \nL 3.71875 7.46875 \nQ 12.59375 8.84375 15.328125 14.984375 \nQ 18.65625 23.640625 18.65625 45.75 \nL 18.65625 54.6875 \nL 55.609375 54.6875 \nL 55.609375 0 \nL 46.625 0 \nL 46.625 47.515625 \nL 27.640625 47.515625 \nL 27.640625 42.09375 \nQ 27.640625 21 23.34375 11.53125 \nQ 18.75 1.421875 3.71875 0 \nz\n\" id=\"DejaVuSans-1083\"/>\n      <path d=\"M 39.40625 66.21875 \nQ 28.65625 66.21875 22.328125 58.203125 \nQ 16.015625 50.203125 16.015625 36.375 \nQ 16.015625 22.609375 22.328125 14.59375 \nQ 28.65625 6.59375 39.40625 6.59375 \nQ 50.140625 6.59375 56.421875 14.59375 \nQ 62.703125 22.609375 62.703125 36.375 \nQ 62.703125 50.203125 56.421875 58.203125 \nQ 50.140625 66.21875 39.40625 66.21875 \nz\nM 39.40625 74.21875 \nQ 54.734375 74.21875 63.90625 63.9375 \nQ 73.09375 53.65625 73.09375 36.375 \nQ 73.09375 19.140625 63.90625 8.859375 \nQ 54.734375 -1.421875 39.40625 -1.421875 \nQ 24.03125 -1.421875 14.8125 8.828125 \nQ 5.609375 19.09375 5.609375 36.375 \nQ 5.609375 53.65625 14.8125 63.9375 \nQ 24.03125 74.21875 39.40625 74.21875 \nz\n\" id=\"DejaVuSans-1054\"/>\n     </defs>\n     <g style=\"fill:#262626;\" transform=\"translate(791.066719 296.014609)scale(0.11 -0.11)\">\n      <use xlink:href=\"#DejaVuSans-1052\"/>\n      <use x=\"86.279297\" xlink:href=\"#DejaVuSans-1086\"/>\n      <use x=\"147.460938\" xlink:href=\"#DejaVuSans-1089\"/>\n      <use x=\"202.441406\" xlink:href=\"#DejaVuSans-1082\"/>\n      <use x=\"262.841797\" xlink:href=\"#DejaVuSans-1074\"/>\n      <use x=\"321.777344\" xlink:href=\"#DejaVuSans-1072\"/>\n      <use x=\"383.056641\" xlink:href=\"#DejaVuSans-32\"/>\n      <use x=\"414.84375\" xlink:href=\"#DejaVuSans-1080\"/>\n      <use x=\"479.833984\" xlink:href=\"#DejaVuSans-1083\"/>\n      <use x=\"543.75\" xlink:href=\"#DejaVuSans-1080\"/>\n      <use x=\"608.740234\" xlink:href=\"#DejaVuSans-32\"/>\n      <use x=\"640.527344\" xlink:href=\"#DejaVuSans-1052\"/>\n      <use x=\"726.806641\" xlink:href=\"#DejaVuSans-1054\"/>\n     </g>\n    </g>\n    <g id=\"line2d_34\">\n     <path d=\"M 760.266719 308.497891 \nL 782.266719 308.497891 \n\" style=\"fill:none;stroke:#50b131;stroke-linecap:round;stroke-width:1.5;\"/>\n    </g>\n    <g id=\"line2d_35\"/>\n    <g id=\"text_26\">\n     <!-- Санкт-Петербург или ЛО -->\n     <defs>\n      <path d=\"M 64.40625 67.28125 \nL 64.40625 56.890625 \nQ 59.421875 61.53125 53.78125 63.8125 \nQ 48.140625 66.109375 41.796875 66.109375 \nQ 29.296875 66.109375 22.65625 58.46875 \nQ 16.015625 50.828125 16.015625 36.375 \nQ 16.015625 21.96875 22.65625 14.328125 \nQ 29.296875 6.6875 41.796875 6.6875 \nQ 48.140625 6.6875 53.78125 8.984375 \nQ 59.421875 11.28125 64.40625 15.921875 \nL 64.40625 5.609375 \nQ 59.234375 2.09375 53.4375 0.328125 \nQ 47.65625 -1.421875 41.21875 -1.421875 \nQ 24.65625 -1.421875 15.125 8.703125 \nQ 5.609375 18.84375 5.609375 36.375 \nQ 5.609375 53.953125 15.125 64.078125 \nQ 24.65625 74.21875 41.21875 74.21875 \nQ 47.75 74.21875 53.53125 72.484375 \nQ 59.328125 70.75 64.40625 67.28125 \nz\n\" id=\"DejaVuSans-1057\"/>\n      <path d=\"M 4.890625 31.390625 \nL 31.203125 31.390625 \nL 31.203125 23.390625 \nL 4.890625 23.390625 \nz\n\" id=\"DejaVuSans-45\"/>\n      <path d=\"M 65.375 72.90625 \nL 65.375 0 \nL 55.515625 0 \nL 55.515625 64.59375 \nL 19.671875 64.59375 \nL 19.671875 0 \nL 9.8125 0 \nL 9.8125 72.90625 \nz\n\" id=\"DejaVuSans-1055\"/>\n      <path d=\"M 31.109375 56 \nQ 42.828125 56 49.515625 48.375 \nQ 56.203125 40.765625 56.203125 27.296875 \nQ 56.203125 13.875 49.515625 6.21875 \nQ 42.828125 -1.421875 31.109375 -1.421875 \nQ 19.34375 -1.421875 12.84375 6 \nQ 6.34375 13.421875 6 27.296875 \nL 5.71875 38.484375 \nQ 5.46875 44.28125 5.46875 46.296875 \nQ 5.46875 54.109375 8.296875 59.859375 \nQ 12.75 68.890625 20.4375 72.796875 \nQ 28.125 76.703125 41.015625 76.8125 \nQ 46.96875 76.859375 49.609375 77.6875 \nL 52.09375 70.5625 \nQ 49.703125 69.578125 47.515625 69.53125 \nL 35.296875 68.703125 \nQ 29.15625 68.265625 25.4375 66.109375 \nQ 15.71875 60.40625 14.796875 52.9375 \nL 14.453125 50.203125 \nQ 20.796875 56 31.109375 56 \nz\nM 31.109375 48.390625 \nQ 23.875 48.390625 19.671875 42.75 \nQ 15.484375 37.109375 15.484375 27.296875 \nQ 15.484375 17.484375 19.65625 11.84375 \nQ 23.828125 6.203125 31.109375 6.203125 \nQ 38.28125 6.203125 42.484375 11.859375 \nQ 46.6875 17.53125 46.6875 27.296875 \nQ 46.6875 37.015625 42.484375 42.703125 \nQ 38.28125 48.390625 31.109375 48.390625 \nz\n\" id=\"DejaVuSans-1073\"/>\n      <path d=\"M 4.109375 0 \nL 4.109375 8.296875 \nQ 14.703125 10.59375 17.71875 18.609375 \nQ 21.96875 31.203125 21.96875 60.5 \nL 21.96875 72.90625 \nL 65.328125 72.90625 \nL 65.328125 0 \nL 55.46875 0 \nL 55.46875 64.59375 \nL 31.78125 64.59375 \nL 31.78125 55.609375 \nQ 31.78125 27.984375 26.8125 15.09375 \nQ 22.015625 2.734375 4.109375 0 \nz\n\" id=\"DejaVuSans-1051\"/>\n     </defs>\n     <g style=\"fill:#262626;\" transform=\"translate(791.066719 312.347891)scale(0.11 -0.11)\">\n      <use xlink:href=\"#DejaVuSans-1057\"/>\n      <use x=\"69.824219\" xlink:href=\"#DejaVuSans-1072\"/>\n      <use x=\"131.103516\" xlink:href=\"#DejaVuSans-1085\"/>\n      <use x=\"196.484375\" xlink:href=\"#DejaVuSans-1082\"/>\n      <use x=\"256.884766\" xlink:href=\"#DejaVuSans-1090\"/>\n      <use x=\"315.136719\" xlink:href=\"#DejaVuSans-45\"/>\n      <use x=\"351.220703\" xlink:href=\"#DejaVuSans-1055\"/>\n      <use x=\"426.416016\" xlink:href=\"#DejaVuSans-1077\"/>\n      <use x=\"487.939453\" xlink:href=\"#DejaVuSans-1090\"/>\n      <use x=\"546.191406\" xlink:href=\"#DejaVuSans-1077\"/>\n      <use x=\"607.714844\" xlink:href=\"#DejaVuSans-1088\"/>\n      <use x=\"671.191406\" xlink:href=\"#DejaVuSans-1073\"/>\n      <use x=\"732.861328\" xlink:href=\"#DejaVuSans-1091\"/>\n      <use x=\"792.041016\" xlink:href=\"#DejaVuSans-1088\"/>\n      <use x=\"855.517578\" xlink:href=\"#DejaVuSans-1075\"/>\n      <use x=\"908.056641\" xlink:href=\"#DejaVuSans-32\"/>\n      <use x=\"939.84375\" xlink:href=\"#DejaVuSans-1080\"/>\n      <use x=\"1004.833984\" xlink:href=\"#DejaVuSans-1083\"/>\n      <use x=\"1068.75\" xlink:href=\"#DejaVuSans-1080\"/>\n      <use x=\"1133.740234\" xlink:href=\"#DejaVuSans-32\"/>\n      <use x=\"1165.527344\" xlink:href=\"#DejaVuSans-1051\"/>\n      <use x=\"1240.722656\" xlink:href=\"#DejaVuSans-1054\"/>\n     </g>\n    </g>\n   </g>\n  </g>\n </g>\n <defs>\n  <clipPath id=\"pfaddc4c4b1\">\n   <rect height=\"543.6\" width=\"892.8\" x=\"53.31\" y=\"13.2\"/>\n  </clipPath>\n </defs>\n</svg>\n"
          },
          "metadata": {
            "tags": []
          }
        }
      ]
    },
    {
      "cell_type": "code",
      "metadata": {
        "id": "B1DYQBKhmVDJ",
        "colab_type": "code",
        "colab": {}
      },
      "source": [
        "\n"
      ],
      "execution_count": 0,
      "outputs": []
    },
    {
      "cell_type": "markdown",
      "metadata": {
        "id": "6KN3pi4sx8yo",
        "colab_type": "text"
      },
      "source": [
        "## Вывод:\n",
        "К наиболее проблемным категориям заемщиков следует отнести клиентов со средним и средним специальным образованием.\n",
        "\n",
        "Наиболее проблемные товары:\n",
        "\n",
        "- Мобильные телефоны\tобщая сумма кредитов - 9 158 500 р., потери 26%\n",
        "- Строительные и ремонтные услуги\t-\t191 500 р., потери 42%\n",
        "- Строительные материалы и инструменты\t-\t1 413 500,\tпотери 19%\n",
        "- Ювелирные украшения\t-\t658 500р.,\tпотери 31%\n",
        "\n",
        "Москва и Спб смотрятся лучше с точки зрения риска потерь по кредитам, чем остальные регионы, что можно объяснить более высоким уровнем доходов населения.\n",
        "\n",
        "Детальный анализ  сезонных колебаний в феврале, июле не показывает корреляции с колебаниями спроса от отдельных категорий товаров и клиентов. Сезонный \"прилив честности\" в феврале и июле возможно связан с организационными мероприятиями по повышению требовательности самого банка, проводимымми по окончании полугодового и годового периода.\n",
        "\n",
        "Интересно отметить рост числа покупок таких проблемных товаров как мобильные телефоны в период предновогоднего ажиотажа.\n",
        "\n"
      ]
    },
    {
      "cell_type": "markdown",
      "metadata": {
        "id": "R9oKssIKUQza",
        "colab_type": "text"
      },
      "source": [
        "## Моделирование"
      ]
    },
    {
      "cell_type": "code",
      "metadata": {
        "id": "rR82Ll90vJ9q",
        "colab_type": "code",
        "colab": {}
      },
      "source": [
        "train, valid = train_test_split(df_train, test_size=0.3, random_state=42, stratify=df_train['default_flag'])"
      ],
      "execution_count": 0,
      "outputs": []
    },
    {
      "cell_type": "code",
      "metadata": {
        "id": "LwbVcGJX0Z5Y",
        "colab_type": "code",
        "outputId": "1274f617-c6d0-47fb-b8fe-58d2840f1c8a",
        "colab": {
          "base_uri": "https://localhost:8080/",
          "height": 693
        }
      },
      "source": [
        "good_risk = train.groupby('Тип товара')['default_flag'].mean().reset_index().rename(columns={'default_flag': 'good_risk'})\n",
        "good_risk\n"
      ],
      "execution_count": 0,
      "outputs": [
        {
          "output_type": "execute_result",
          "data": {
            "text/html": [
              "<div>\n",
              "<style scoped>\n",
              "    .dataframe tbody tr th:only-of-type {\n",
              "        vertical-align: middle;\n",
              "    }\n",
              "\n",
              "    .dataframe tbody tr th {\n",
              "        vertical-align: top;\n",
              "    }\n",
              "\n",
              "    .dataframe thead th {\n",
              "        text-align: right;\n",
              "    }\n",
              "</style>\n",
              "<table border=\"1\" class=\"dataframe\">\n",
              "  <thead>\n",
              "    <tr style=\"text-align: right;\">\n",
              "      <th></th>\n",
              "      <th>Тип товара</th>\n",
              "      <th>good_risk</th>\n",
              "    </tr>\n",
              "  </thead>\n",
              "  <tbody>\n",
              "    <tr>\n",
              "      <th>0</th>\n",
              "      <td>Автомобильные товары</td>\n",
              "      <td>0.066667</td>\n",
              "    </tr>\n",
              "    <tr>\n",
              "      <th>1</th>\n",
              "      <td>Аудио, Видео, Фото</td>\n",
              "      <td>0.000000</td>\n",
              "    </tr>\n",
              "    <tr>\n",
              "      <th>2</th>\n",
              "      <td>Бытовая техника</td>\n",
              "      <td>0.082019</td>\n",
              "    </tr>\n",
              "    <tr>\n",
              "      <th>3</th>\n",
              "      <td>Детские товары (игрушки, детская одежда, детск...</td>\n",
              "      <td>0.000000</td>\n",
              "    </tr>\n",
              "    <tr>\n",
              "      <th>4</th>\n",
              "      <td>Компьютеры, комплектующие</td>\n",
              "      <td>0.046875</td>\n",
              "    </tr>\n",
              "    <tr>\n",
              "      <th>5</th>\n",
              "      <td>Косметика и косметические услуги</td>\n",
              "      <td>0.125000</td>\n",
              "    </tr>\n",
              "    <tr>\n",
              "      <th>6</th>\n",
              "      <td>Мебель</td>\n",
              "      <td>0.031746</td>\n",
              "    </tr>\n",
              "    <tr>\n",
              "      <th>7</th>\n",
              "      <td>Медицинские услуги</td>\n",
              "      <td>0.000000</td>\n",
              "    </tr>\n",
              "    <tr>\n",
              "      <th>8</th>\n",
              "      <td>Мобильные телефоны</td>\n",
              "      <td>0.227920</td>\n",
              "    </tr>\n",
              "    <tr>\n",
              "      <th>9</th>\n",
              "      <td>Мототехника (лодки, мото)</td>\n",
              "      <td>0.000000</td>\n",
              "    </tr>\n",
              "    <tr>\n",
              "      <th>10</th>\n",
              "      <td>Музыка</td>\n",
              "      <td>0.000000</td>\n",
              "    </tr>\n",
              "    <tr>\n",
              "      <th>11</th>\n",
              "      <td>Обучение</td>\n",
              "      <td>0.000000</td>\n",
              "    </tr>\n",
              "    <tr>\n",
              "      <th>12</th>\n",
              "      <td>Одежда, изделия из меха и кожи</td>\n",
              "      <td>0.035714</td>\n",
              "    </tr>\n",
              "    <tr>\n",
              "      <th>13</th>\n",
              "      <td>Окна, двери</td>\n",
              "      <td>0.052632</td>\n",
              "    </tr>\n",
              "    <tr>\n",
              "      <th>14</th>\n",
              "      <td>Садовая техника</td>\n",
              "      <td>0.000000</td>\n",
              "    </tr>\n",
              "    <tr>\n",
              "      <th>15</th>\n",
              "      <td>Спортивные товары</td>\n",
              "      <td>0.000000</td>\n",
              "    </tr>\n",
              "    <tr>\n",
              "      <th>16</th>\n",
              "      <td>Строительные и ремонтные услуги</td>\n",
              "      <td>0.500000</td>\n",
              "    </tr>\n",
              "    <tr>\n",
              "      <th>17</th>\n",
              "      <td>Строительные материалы и инструменты</td>\n",
              "      <td>0.200000</td>\n",
              "    </tr>\n",
              "    <tr>\n",
              "      <th>18</th>\n",
              "      <td>Туризм и отдых</td>\n",
              "      <td>0.055556</td>\n",
              "    </tr>\n",
              "    <tr>\n",
              "      <th>19</th>\n",
              "      <td>Фитнес</td>\n",
              "      <td>0.000000</td>\n",
              "    </tr>\n",
              "    <tr>\n",
              "      <th>20</th>\n",
              "      <td>Ювелирные украшения</td>\n",
              "      <td>0.217391</td>\n",
              "    </tr>\n",
              "  </tbody>\n",
              "</table>\n",
              "</div>"
            ],
            "text/plain": [
              "                                           Тип товара  good_risk\n",
              "0                                Автомобильные товары   0.066667\n",
              "1                                  Аудио, Видео, Фото   0.000000\n",
              "2                                     Бытовая техника   0.082019\n",
              "3   Детские товары (игрушки, детская одежда, детск...   0.000000\n",
              "4                           Компьютеры, комплектующие   0.046875\n",
              "5                    Косметика и косметические услуги   0.125000\n",
              "6                                              Мебель   0.031746\n",
              "7                                  Медицинские услуги   0.000000\n",
              "8                                  Мобильные телефоны   0.227920\n",
              "9                           Мототехника (лодки, мото)   0.000000\n",
              "10                                             Музыка   0.000000\n",
              "11                                           Обучение   0.000000\n",
              "12                     Одежда, изделия из меха и кожи   0.035714\n",
              "13                                        Окна, двери   0.052632\n",
              "14                                    Садовая техника   0.000000\n",
              "15                                  Спортивные товары   0.000000\n",
              "16                    Строительные и ремонтные услуги   0.500000\n",
              "17               Строительные материалы и инструменты   0.200000\n",
              "18                                     Туризм и отдых   0.055556\n",
              "19                                             Фитнес   0.000000\n",
              "20                                Ювелирные украшения   0.217391"
            ]
          },
          "metadata": {
            "tags": []
          },
          "execution_count": 189
        }
      ]
    },
    {
      "cell_type": "code",
      "metadata": {
        "id": "OS8eTmjO3EoP",
        "colab_type": "code",
        "outputId": "7a584b9a-a2c4-40e5-9881-14a775bcce01",
        "colab": {
          "base_uri": "https://localhost:8080/",
          "height": 233
        }
      },
      "source": [
        "educ_risk = train.groupby('Образование клиента')['default_flag'].mean().reset_index().rename(columns={'default_flag': 'educ_risk'})\n",
        "educ_risk"
      ],
      "execution_count": 0,
      "outputs": [
        {
          "output_type": "execute_result",
          "data": {
            "text/html": [
              "<div>\n",
              "<style scoped>\n",
              "    .dataframe tbody tr th:only-of-type {\n",
              "        vertical-align: middle;\n",
              "    }\n",
              "\n",
              "    .dataframe tbody tr th {\n",
              "        vertical-align: top;\n",
              "    }\n",
              "\n",
              "    .dataframe thead th {\n",
              "        text-align: right;\n",
              "    }\n",
              "</style>\n",
              "<table border=\"1\" class=\"dataframe\">\n",
              "  <thead>\n",
              "    <tr style=\"text-align: right;\">\n",
              "      <th></th>\n",
              "      <th>Образование клиента</th>\n",
              "      <th>educ_risk</th>\n",
              "    </tr>\n",
              "  </thead>\n",
              "  <tbody>\n",
              "    <tr>\n",
              "      <th>0</th>\n",
              "      <td>Высшее</td>\n",
              "      <td>0.064039</td>\n",
              "    </tr>\n",
              "    <tr>\n",
              "      <th>1</th>\n",
              "      <td>Неоконченное высшее</td>\n",
              "      <td>0.044776</td>\n",
              "    </tr>\n",
              "    <tr>\n",
              "      <th>2</th>\n",
              "      <td>Неоконченное среднее</td>\n",
              "      <td>0.000000</td>\n",
              "    </tr>\n",
              "    <tr>\n",
              "      <th>3</th>\n",
              "      <td>Несколько высших или более высокая ступень обр...</td>\n",
              "      <td>0.000000</td>\n",
              "    </tr>\n",
              "    <tr>\n",
              "      <th>4</th>\n",
              "      <td>Среднее</td>\n",
              "      <td>0.213793</td>\n",
              "    </tr>\n",
              "    <tr>\n",
              "      <th>5</th>\n",
              "      <td>Среднее специальное</td>\n",
              "      <td>0.132302</td>\n",
              "    </tr>\n",
              "  </tbody>\n",
              "</table>\n",
              "</div>"
            ],
            "text/plain": [
              "                                 Образование клиента  educ_risk\n",
              "0                                             Высшее   0.064039\n",
              "1                                Неоконченное высшее   0.044776\n",
              "2                               Неоконченное среднее   0.000000\n",
              "3  Несколько высших или более высокая ступень обр...   0.000000\n",
              "4                                            Среднее   0.213793\n",
              "5                                Среднее специальное   0.132302"
            ]
          },
          "metadata": {
            "tags": []
          },
          "execution_count": 190
        }
      ]
    },
    {
      "cell_type": "code",
      "metadata": {
        "id": "lrKvor9L1SIC",
        "colab_type": "code",
        "colab": {}
      },
      "source": [
        "train = train.merge(good_risk, on='Тип товара', how='left')\n"
      ],
      "execution_count": 0,
      "outputs": []
    },
    {
      "cell_type": "code",
      "metadata": {
        "id": "SVfuoEeY3gIr",
        "colab_type": "code",
        "colab": {}
      },
      "source": [
        "train = train.merge(educ_risk, on='Образование клиента', how='left')\n",
        "train.info()"
      ],
      "execution_count": 0,
      "outputs": []
    },
    {
      "cell_type": "code",
      "metadata": {
        "id": "rAROlOUB0afY",
        "colab_type": "code",
        "colab": {}
      },
      "source": [
        "valid = valid.merge(good_risk, on='Тип товара', how='left')\n",
        "valid = valid.merge(educ_risk, on='Образование клиента', how='left')\n",
        "valid = valid.fillna(0)\n",
        "valid.info()"
      ],
      "execution_count": 0,
      "outputs": []
    },
    {
      "cell_type": "code",
      "metadata": {
        "id": "Sm4zU7-V0ovS",
        "colab_type": "code",
        "colab": {}
      },
      "source": [
        ""
      ],
      "execution_count": 0,
      "outputs": []
    },
    {
      "cell_type": "code",
      "metadata": {
        "id": "GhmrofCugGNK",
        "colab_type": "code",
        "colab": {}
      },
      "source": [
        "feats = train.columns[[0,1,2,3,9]+list(range(14, len(train.columns)))]\n",
        "feats = list(feats)\n",
        "feats.remove('loss')\n",
        "feats.remove('default_flag')\n",
        "feats"
      ],
      "execution_count": 0,
      "outputs": []
    },
    {
      "cell_type": "code",
      "metadata": {
        "id": "x3h6QiZ5sqk3",
        "colab_type": "code",
        "colab": {}
      },
      "source": [
        "estimators = 5\n",
        "def eval_RF(trn, tst, feats, n_est=estimators, mx_d=3, max_features=50, rnd_st=42):\n",
        "    # Оценка метрик модели \n",
        "    model = RF(n_estimators=n_est, max_depth=mx_d, random_state=rnd_st, criterion='entropy')\n",
        "    model.fit(trn[feats], trn['default_flag'])\n",
        "    \n",
        "    pred_trn = model.predict_proba(trn.loc[:, feats]).T[1]\n",
        "    auc_trn = auc(trn['default_flag'], pred_trn)\n",
        "    \n",
        "    pred_tst = model.predict_proba(tst.loc[:, feats]).T[1]\n",
        "    auc_tst = auc(tst['default_flag'], pred_tst)\n",
        "    \n",
        "    return auc_trn, auc_tst, model   "
      ],
      "execution_count": 0,
      "outputs": []
    },
    {
      "cell_type": "code",
      "metadata": {
        "id": "-LMTHNI2sI3F",
        "colab_type": "code",
        "outputId": "1008f5e0-74cf-4a2b-f4fe-38c976dab813",
        "colab": {
          "base_uri": "https://localhost:8080/",
          "height": 34
        }
      },
      "source": [
        "auc_trn, auc_tst, rf = eval_RF(train, valid, feats)\n",
        "auc_trn, auc_tst"
      ],
      "execution_count": 0,
      "outputs": [
        {
          "output_type": "execute_result",
          "data": {
            "text/plain": [
              "(0.7747775736925839, 0.7234290578047516)"
            ]
          },
          "metadata": {
            "tags": []
          },
          "execution_count": 196
        }
      ]
    },
    {
      "cell_type": "code",
      "metadata": {
        "id": "zeVTdC25UkFN",
        "colab_type": "code",
        "colab": {}
      },
      "source": [
        "# Выгрузка решающих дереьвьев для составления процедурных эвристик\n",
        "# Import tools needed for visualization\n",
        "from sklearn.tree import export_graphviz\n",
        "import pydot\n",
        "# Pull out one tree from the forest\n",
        "for i in range(estimators):\n",
        "    tree = rf.estimators_[i]\n",
        "    # Export the image to a dot file\n",
        "    export_graphviz(tree, out_file = f'tree{str(i)}.dot', feature_names = feats, rounded = True, precision = 1)\n",
        "    # Use dot file to create a graph\n",
        "    (graph, ) = pydot.graph_from_dot_file(f'tree{str(i)}.dot')\n",
        "    # Write graph to a png file\n",
        "    graph.write_png(f'tree{str(i)}.png')"
      ],
      "execution_count": 0,
      "outputs": []
    },
    {
      "cell_type": "code",
      "metadata": {
        "id": "LZkegZhwftBV",
        "colab_type": "code",
        "colab": {}
      },
      "source": [
        ""
      ],
      "execution_count": 0,
      "outputs": []
    }
  ]
}