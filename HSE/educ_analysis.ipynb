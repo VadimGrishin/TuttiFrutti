{
 "cells": [
  {
   "cell_type": "markdown",
   "metadata": {},
   "source": [
    "## Загрузка данных"
   ]
  },
  {
   "cell_type": "code",
   "execution_count": 1,
   "metadata": {},
   "outputs": [],
   "source": [
    "import json"
   ]
  },
  {
   "cell_type": "code",
   "execution_count": 2,
   "metadata": {},
   "outputs": [],
   "source": [
    "data = []\n",
    "track = []\n",
    "\n",
    "with open(\"hse_MARK_fall_2017\", \"r\") as f:\n",
    "    for line in f:\n",
    "        beg = line.find('{')\n",
    "        track = line[:beg-1]\n",
    "        s= line[beg:]\n",
    "        data.append(json.loads(s))\n",
    "    "
   ]
  },
  {
   "cell_type": "markdown",
   "metadata": {},
   "source": [
    "## Исследование уникальности ключей и классификация записей"
   ]
  },
  {
   "cell_type": "code",
   "execution_count": 3,
   "metadata": {},
   "outputs": [],
   "source": [
    "# Получение уникальных ключей записей\n",
    "dk = ['|'.join(d.keys()) for d in data]"
   ]
  },
  {
   "cell_type": "code",
   "execution_count": 4,
   "metadata": {},
   "outputs": [
    {
     "data": {
      "text/plain": [
       "{'username|context|event_source|name|ip|agent|event|host|session|referer|accept_language|time|page|event_type',\n",
       " 'username|event_source|name|accept_language|time|agent|page|host|session|referer|context|ip|event|event_type',\n",
       " 'username|event_type|ip|agent|host|referer|accept_language|event|event_source|context|time|page'}"
      ]
     },
     "execution_count": 4,
     "metadata": {},
     "output_type": "execute_result"
    }
   ],
   "source": [
    "set(dk)"
   ]
  },
  {
   "cell_type": "code",
   "execution_count": 5,
   "metadata": {},
   "outputs": [
    {
     "data": {
      "text/plain": [
       "(26700, 407752, 261961)"
      ]
     },
     "execution_count": 5,
     "metadata": {},
     "output_type": "execute_result"
    }
   ],
   "source": [
    "a = 'username|context|event_source|name|ip|agent|event|host|session|referer|accept_language|time|page|event_type'\n",
    "b = 'username|event_source|name|accept_language|time|agent|page|host|session|referer|context|ip|event|event_type'\n",
    "c = 'username|event_type|ip|agent|host|referer|accept_language|event|event_source|context|time|page'\n",
    "len(list(filter(lambda x: x == a, dk ))), len(list(filter(lambda x: x == b, dk ))), len(list(filter(lambda x: x == c, dk )))"
   ]
  },
  {
   "cell_type": "code",
   "execution_count": 6,
   "metadata": {},
   "outputs": [],
   "source": [
    "# Отметка записей уникальными ключами\n",
    "for row in data:\n",
    "    row['row_type'] = list(row.keys())[1]"
   ]
  },
  {
   "cell_type": "code",
   "execution_count": 7,
   "metadata": {},
   "outputs": [],
   "source": [
    "# Отбираем только записи типа event_source\n",
    "source_data = list(filter(lambda x: x['row_type'] == 'event_source', data))"
   ]
  },
  {
   "cell_type": "markdown",
   "metadata": {},
   "source": [
    "## Наполнение датафрейма"
   ]
  },
  {
   "cell_type": "code",
   "execution_count": 8,
   "metadata": {},
   "outputs": [],
   "source": [
    "import pandas as pd"
   ]
  },
  {
   "cell_type": "code",
   "execution_count": 9,
   "metadata": {},
   "outputs": [],
   "source": [
    "import re"
   ]
  },
  {
   "cell_type": "markdown",
   "metadata": {},
   "source": [
    "### Для видео"
   ]
  },
  {
   "cell_type": "code",
   "execution_count": 10,
   "metadata": {},
   "outputs": [],
   "source": [
    "# Поля для датафрейма\n",
    "source_data1 = [{'user_id':sd['context']['user_id'], 'user_name':sd['username'], \n",
    "                 'time':sd['time'], \n",
    "                 'event':(re.findall(r'id\\\":\\s\\\"(.*)\\\",', sd['event']) if sd['event_type'].find('_video')>-1 else 0),\n",
    "                 'currentTime':(re.findall(r'currentTime\\\":\\s(.*)\\}', sd['event']) if sd['event_type'].find('_video')>-1 else None),\n",
    "                 'event_type':sd['event_type']} for sd in source_data]"
   ]
  },
  {
   "cell_type": "code",
   "execution_count": 11,
   "metadata": {},
   "outputs": [],
   "source": [
    "df1 = pd.DataFrame(source_data1)"
   ]
  },
  {
   "cell_type": "code",
   "execution_count": 12,
   "metadata": {},
   "outputs": [
    {
     "data": {
      "text/html": [
       "<div>\n",
       "<style scoped>\n",
       "    .dataframe tbody tr th:only-of-type {\n",
       "        vertical-align: middle;\n",
       "    }\n",
       "\n",
       "    .dataframe tbody tr th {\n",
       "        vertical-align: top;\n",
       "    }\n",
       "\n",
       "    .dataframe thead th {\n",
       "        text-align: right;\n",
       "    }\n",
       "</style>\n",
       "<table border=\"1\" class=\"dataframe\">\n",
       "  <thead>\n",
       "    <tr style=\"text-align: right;\">\n",
       "      <th></th>\n",
       "      <th>currentTime</th>\n",
       "      <th>event</th>\n",
       "      <th>event_type</th>\n",
       "      <th>time</th>\n",
       "      <th>user_id</th>\n",
       "      <th>user_name</th>\n",
       "    </tr>\n",
       "  </thead>\n",
       "  <tbody>\n",
       "    <tr>\n",
       "      <th>0</th>\n",
       "      <td>None</td>\n",
       "      <td>0</td>\n",
       "      <td>edx.course.enrollment.activated</td>\n",
       "      <td>2017-06-30T21:50:05.139616+00:00</td>\n",
       "      <td>NaN</td>\n",
       "      <td></td>\n",
       "    </tr>\n",
       "    <tr>\n",
       "      <th>1</th>\n",
       "      <td>None</td>\n",
       "      <td>0</td>\n",
       "      <td>edx.course.enrollment.activated</td>\n",
       "      <td>2017-06-30T22:06:55.500221+00:00</td>\n",
       "      <td>NaN</td>\n",
       "      <td></td>\n",
       "    </tr>\n",
       "    <tr>\n",
       "      <th>2</th>\n",
       "      <td>None</td>\n",
       "      <td>0</td>\n",
       "      <td>edx.course.enrollment.activated</td>\n",
       "      <td>2017-07-01T05:37:10.938597+00:00</td>\n",
       "      <td>NaN</td>\n",
       "      <td></td>\n",
       "    </tr>\n",
       "    <tr>\n",
       "      <th>3</th>\n",
       "      <td>None</td>\n",
       "      <td>0</td>\n",
       "      <td>edx.course.enrollment.activated</td>\n",
       "      <td>2017-07-01T06:35:44.963665+00:00</td>\n",
       "      <td>NaN</td>\n",
       "      <td></td>\n",
       "    </tr>\n",
       "    <tr>\n",
       "      <th>4</th>\n",
       "      <td>None</td>\n",
       "      <td>0</td>\n",
       "      <td>edx.course.enrollment.activated</td>\n",
       "      <td>2017-07-01T06:59:51.653981+00:00</td>\n",
       "      <td>NaN</td>\n",
       "      <td></td>\n",
       "    </tr>\n",
       "    <tr>\n",
       "      <th>5</th>\n",
       "      <td>None</td>\n",
       "      <td>0</td>\n",
       "      <td>edx.course.enrollment.activated</td>\n",
       "      <td>2017-07-01T08:07:13.712422+00:00</td>\n",
       "      <td>NaN</td>\n",
       "      <td></td>\n",
       "    </tr>\n",
       "    <tr>\n",
       "      <th>6</th>\n",
       "      <td>None</td>\n",
       "      <td>0</td>\n",
       "      <td>edx.course.enrollment.activated</td>\n",
       "      <td>2017-07-01T08:27:39.407180+00:00</td>\n",
       "      <td>NaN</td>\n",
       "      <td></td>\n",
       "    </tr>\n",
       "  </tbody>\n",
       "</table>\n",
       "</div>"
      ],
      "text/plain": [
       "  currentTime event                       event_type  \\\n",
       "0        None     0  edx.course.enrollment.activated   \n",
       "1        None     0  edx.course.enrollment.activated   \n",
       "2        None     0  edx.course.enrollment.activated   \n",
       "3        None     0  edx.course.enrollment.activated   \n",
       "4        None     0  edx.course.enrollment.activated   \n",
       "5        None     0  edx.course.enrollment.activated   \n",
       "6        None     0  edx.course.enrollment.activated   \n",
       "\n",
       "                               time  user_id user_name  \n",
       "0  2017-06-30T21:50:05.139616+00:00      NaN            \n",
       "1  2017-06-30T22:06:55.500221+00:00      NaN            \n",
       "2  2017-07-01T05:37:10.938597+00:00      NaN            \n",
       "3  2017-07-01T06:35:44.963665+00:00      NaN            \n",
       "4  2017-07-01T06:59:51.653981+00:00      NaN            \n",
       "5  2017-07-01T08:07:13.712422+00:00      NaN            \n",
       "6  2017-07-01T08:27:39.407180+00:00      NaN            "
      ]
     },
     "execution_count": 12,
     "metadata": {},
     "output_type": "execute_result"
    }
   ],
   "source": [
    "df1.head(7)"
   ]
  },
  {
   "cell_type": "code",
   "execution_count": 13,
   "metadata": {},
   "outputs": [],
   "source": [
    "df1['video_id']=df1['event'].apply(lambda x: x[0] if x else 0)\n",
    "df1['time_point']=df1['currentTime'].apply(lambda x: x[0] if x else 0)\n",
    "df1['user_id'] = df1['user_id'].fillna(0)\n",
    "df1['user_id'] = df1['user_id'].astype('int')"
   ]
  },
  {
   "cell_type": "markdown",
   "metadata": {},
   "source": [
    "### Для задач"
   ]
  },
  {
   "cell_type": "code",
   "execution_count": 14,
   "metadata": {},
   "outputs": [],
   "source": [
    "# Поля для датафрейма\n",
    "source_data2 = [{'user_id': sd['context']['user_id'], 'user_name':sd['username'], \n",
    "                 'time': sd['time'], \n",
    "                 'event': sd['event'],\n",
    "                 'problem_id':(re.findall(r'input_([a-z0-9]+)_',sd['event'][0])[0] if sd['event_type'] == 'problem_graded' else ''),\n",
    "                 'event_type': sd['event_type']} for sd in source_data]"
   ]
  },
  {
   "cell_type": "code",
   "execution_count": 15,
   "metadata": {},
   "outputs": [],
   "source": [
    "df2 = pd.DataFrame(source_data2)"
   ]
  },
  {
   "cell_type": "code",
   "execution_count": 16,
   "metadata": {},
   "outputs": [],
   "source": [
    "df2 = df2[df2['event_type']=='problem_graded']\n"
   ]
  },
  {
   "cell_type": "code",
   "execution_count": 17,
   "metadata": {},
   "outputs": [],
   "source": [
    "df2['user_id'] = df2['user_id'].fillna(0)\n",
    "df2['user_id'] = df2['user_id'].astype('int')"
   ]
  },
  {
   "cell_type": "markdown",
   "metadata": {},
   "source": [
    "## Формирование аналитик и вывод в csv"
   ]
  },
  {
   "cell_type": "markdown",
   "metadata": {},
   "source": [
    "### Видео"
   ]
  },
  {
   "cell_type": "code",
   "execution_count": 18,
   "metadata": {},
   "outputs": [
    {
     "data": {
      "text/html": [
       "<div>\n",
       "<style scoped>\n",
       "    .dataframe tbody tr th:only-of-type {\n",
       "        vertical-align: middle;\n",
       "    }\n",
       "\n",
       "    .dataframe tbody tr th {\n",
       "        vertical-align: top;\n",
       "    }\n",
       "\n",
       "    .dataframe thead th {\n",
       "        text-align: right;\n",
       "    }\n",
       "</style>\n",
       "<table border=\"1\" class=\"dataframe\">\n",
       "  <thead>\n",
       "    <tr style=\"text-align: right;\">\n",
       "      <th></th>\n",
       "      <th>user_id</th>\n",
       "      <th>video_id</th>\n",
       "      <th>time</th>\n",
       "    </tr>\n",
       "  </thead>\n",
       "  <tbody>\n",
       "    <tr>\n",
       "      <th>0</th>\n",
       "      <td>794</td>\n",
       "      <td>f4654be000d84e1c8f41535b9fa58432</td>\n",
       "      <td>2017-11-27T22:59:54.639064+00:00</td>\n",
       "    </tr>\n",
       "    <tr>\n",
       "      <th>1</th>\n",
       "      <td>1366</td>\n",
       "      <td>b7318f3ff5c64f71910b26b43827a3e2</td>\n",
       "      <td>2017-11-06T17:13:02.115016+00:00</td>\n",
       "    </tr>\n",
       "    <tr>\n",
       "      <th>2</th>\n",
       "      <td>2249</td>\n",
       "      <td>27e8d4e7df81402b9a058ad2d7d68513</td>\n",
       "      <td>2017-10-29T11:06:43.682184+00:00</td>\n",
       "    </tr>\n",
       "    <tr>\n",
       "      <th>3</th>\n",
       "      <td>2249</td>\n",
       "      <td>372d624e554f4b67a3c0c2a454144123</td>\n",
       "      <td>2017-11-05T19:24:07.029842+00:00</td>\n",
       "    </tr>\n",
       "    <tr>\n",
       "      <th>4</th>\n",
       "      <td>2249</td>\n",
       "      <td>4debdbf5c0c44fa2891a18e253b98f22</td>\n",
       "      <td>2017-10-29T10:56:12.540579+00:00</td>\n",
       "    </tr>\n",
       "    <tr>\n",
       "      <th>5</th>\n",
       "      <td>2249</td>\n",
       "      <td>6309de5e5d6f4b2c86f2b78c2cb859e0</td>\n",
       "      <td>2017-10-29T11:00:22.704676+00:00</td>\n",
       "    </tr>\n",
       "    <tr>\n",
       "      <th>6</th>\n",
       "      <td>2249</td>\n",
       "      <td>83d66aeb3e6d418a8b485e8f2e1efade</td>\n",
       "      <td>2017-11-05T19:24:10.268013+00:00</td>\n",
       "    </tr>\n",
       "  </tbody>\n",
       "</table>\n",
       "</div>"
      ],
      "text/plain": [
       "   user_id                          video_id                              time\n",
       "0      794  f4654be000d84e1c8f41535b9fa58432  2017-11-27T22:59:54.639064+00:00\n",
       "1     1366  b7318f3ff5c64f71910b26b43827a3e2  2017-11-06T17:13:02.115016+00:00\n",
       "2     2249  27e8d4e7df81402b9a058ad2d7d68513  2017-10-29T11:06:43.682184+00:00\n",
       "3     2249  372d624e554f4b67a3c0c2a454144123  2017-11-05T19:24:07.029842+00:00\n",
       "4     2249  4debdbf5c0c44fa2891a18e253b98f22  2017-10-29T10:56:12.540579+00:00\n",
       "5     2249  6309de5e5d6f4b2c86f2b78c2cb859e0  2017-10-29T11:00:22.704676+00:00\n",
       "6     2249  83d66aeb3e6d418a8b485e8f2e1efade  2017-11-05T19:24:10.268013+00:00"
      ]
     },
     "execution_count": 18,
     "metadata": {},
     "output_type": "execute_result"
    }
   ],
   "source": [
    "# Выбираем последнюю по времени операцию пользователя с данным видео\n",
    "df_gr=df1[df1['video_id']!=0].groupby(['user_id','video_id'])['time'].max().to_frame().reset_index().sort_values(['user_id', 'video_id'])\n",
    "df_gr.head(7)"
   ]
  },
  {
   "cell_type": "code",
   "execution_count": 19,
   "metadata": {},
   "outputs": [],
   "source": [
    "video_res = df1.merge(df_gr, how='inner', on =['user_id', 'video_id', 'time'] )\n",
    "video_res[['user_id', 'video_id', 'event_type', 'time_point', 'time']].sort_values(['user_id', 'time']).to_csv('video.csv', sep=';', index=False)\n"
   ]
  },
  {
   "cell_type": "code",
   "execution_count": 20,
   "metadata": {},
   "outputs": [
    {
     "data": {
      "text/plain": [
       "(10236, 8)"
      ]
     },
     "execution_count": 20,
     "metadata": {},
     "output_type": "execute_result"
    }
   ],
   "source": [
    "video_res.shape"
   ]
  },
  {
   "cell_type": "markdown",
   "metadata": {},
   "source": [
    "### Задачи"
   ]
  },
  {
   "cell_type": "markdown",
   "metadata": {},
   "source": [
    "#### в результате визуального анализа было установлено, что формулировка задачи и ответы пользователя в формате html находятся в поле event, в элементе списка с индексом 1:"
   ]
  },
  {
   "cell_type": "code",
   "execution_count": 21,
   "metadata": {},
   "outputs": [],
   "source": [
    "df2['task_and_answer_html'] = df2['event'].apply(lambda x: x[1])"
   ]
  },
  {
   "cell_type": "code",
   "execution_count": 22,
   "metadata": {},
   "outputs": [
    {
     "data": {
      "text/html": [
       "<div>\n",
       "<style scoped>\n",
       "    .dataframe tbody tr th:only-of-type {\n",
       "        vertical-align: middle;\n",
       "    }\n",
       "\n",
       "    .dataframe tbody tr th {\n",
       "        vertical-align: top;\n",
       "    }\n",
       "\n",
       "    .dataframe thead th {\n",
       "        text-align: right;\n",
       "    }\n",
       "</style>\n",
       "<table border=\"1\" class=\"dataframe\">\n",
       "  <thead>\n",
       "    <tr style=\"text-align: right;\">\n",
       "      <th></th>\n",
       "      <th>event</th>\n",
       "      <th>event_type</th>\n",
       "      <th>problem_id</th>\n",
       "      <th>time</th>\n",
       "      <th>user_id</th>\n",
       "      <th>user_name</th>\n",
       "      <th>task_and_answer_html</th>\n",
       "    </tr>\n",
       "  </thead>\n",
       "  <tbody>\n",
       "    <tr>\n",
       "      <th>3754</th>\n",
       "      <td>[input_e3d4f7d354cb4ed7959a445d3b80fad7_2_1=%D...</td>\n",
       "      <td>problem_graded</td>\n",
       "      <td>e3d4f7d354cb4ed7959a445d3b80fad7</td>\n",
       "      <td>2017-10-26T13:21:21.344170+00:00</td>\n",
       "      <td>112500</td>\n",
       "      <td>greymustdie</td>\n",
       "      <td>\\n\\n\\n\\n&lt;h3 class=\"hd hd-3 problem-header\" id=...</td>\n",
       "    </tr>\n",
       "    <tr>\n",
       "      <th>3814</th>\n",
       "      <td>[input_0e78cb41db3547ceb325d299b3b386f2_2_1%5B...</td>\n",
       "      <td>problem_graded</td>\n",
       "      <td>0e78cb41db3547ceb325d299b3b386f2</td>\n",
       "      <td>2017-10-26T13:23:50.319068+00:00</td>\n",
       "      <td>112500</td>\n",
       "      <td>greymustdie</td>\n",
       "      <td>\\n\\n\\n\\n&lt;h3 class=\"hd hd-3 problem-header\" id=...</td>\n",
       "    </tr>\n",
       "    <tr>\n",
       "      <th>3951</th>\n",
       "      <td>[input_0e78cb41db3547ceb325d299b3b386f2_2_1%5B...</td>\n",
       "      <td>problem_graded</td>\n",
       "      <td>0e78cb41db3547ceb325d299b3b386f2</td>\n",
       "      <td>2017-10-26T13:39:08.637308+00:00</td>\n",
       "      <td>223563</td>\n",
       "      <td>bogmorok</td>\n",
       "      <td>\\n\\n\\n\\n&lt;h3 class=\"hd hd-3 problem-header\" id=...</td>\n",
       "    </tr>\n",
       "    <tr>\n",
       "      <th>3997</th>\n",
       "      <td>[input_03fb67f7f2b84f51bf9d05a35404e121_2_1=%D...</td>\n",
       "      <td>problem_graded</td>\n",
       "      <td>03fb67f7f2b84f51bf9d05a35404e121</td>\n",
       "      <td>2017-10-26T13:46:46.507445+00:00</td>\n",
       "      <td>223563</td>\n",
       "      <td>bogmorok</td>\n",
       "      <td>\\n\\n\\n\\n&lt;h3 class=\"hd hd-3 problem-header\" id=...</td>\n",
       "    </tr>\n",
       "    <tr>\n",
       "      <th>4119</th>\n",
       "      <td>[input_03fb67f7f2b84f51bf9d05a35404e121_2_1=%D...</td>\n",
       "      <td>problem_graded</td>\n",
       "      <td>03fb67f7f2b84f51bf9d05a35404e121</td>\n",
       "      <td>2017-10-26T13:55:31.411437+00:00</td>\n",
       "      <td>275376</td>\n",
       "      <td>TatianaKravchuk</td>\n",
       "      <td>\\n\\n\\n\\n&lt;h3 class=\"hd hd-3 problem-header\" id=...</td>\n",
       "    </tr>\n",
       "  </tbody>\n",
       "</table>\n",
       "</div>"
      ],
      "text/plain": [
       "                                                  event      event_type  \\\n",
       "3754  [input_e3d4f7d354cb4ed7959a445d3b80fad7_2_1=%D...  problem_graded   \n",
       "3814  [input_0e78cb41db3547ceb325d299b3b386f2_2_1%5B...  problem_graded   \n",
       "3951  [input_0e78cb41db3547ceb325d299b3b386f2_2_1%5B...  problem_graded   \n",
       "3997  [input_03fb67f7f2b84f51bf9d05a35404e121_2_1=%D...  problem_graded   \n",
       "4119  [input_03fb67f7f2b84f51bf9d05a35404e121_2_1=%D...  problem_graded   \n",
       "\n",
       "                            problem_id                              time  \\\n",
       "3754  e3d4f7d354cb4ed7959a445d3b80fad7  2017-10-26T13:21:21.344170+00:00   \n",
       "3814  0e78cb41db3547ceb325d299b3b386f2  2017-10-26T13:23:50.319068+00:00   \n",
       "3951  0e78cb41db3547ceb325d299b3b386f2  2017-10-26T13:39:08.637308+00:00   \n",
       "3997  03fb67f7f2b84f51bf9d05a35404e121  2017-10-26T13:46:46.507445+00:00   \n",
       "4119  03fb67f7f2b84f51bf9d05a35404e121  2017-10-26T13:55:31.411437+00:00   \n",
       "\n",
       "      user_id        user_name  \\\n",
       "3754   112500      greymustdie   \n",
       "3814   112500      greymustdie   \n",
       "3951   223563         bogmorok   \n",
       "3997   223563         bogmorok   \n",
       "4119   275376  TatianaKravchuk   \n",
       "\n",
       "                                   task_and_answer_html  \n",
       "3754  \\n\\n\\n\\n<h3 class=\"hd hd-3 problem-header\" id=...  \n",
       "3814  \\n\\n\\n\\n<h3 class=\"hd hd-3 problem-header\" id=...  \n",
       "3951  \\n\\n\\n\\n<h3 class=\"hd hd-3 problem-header\" id=...  \n",
       "3997  \\n\\n\\n\\n<h3 class=\"hd hd-3 problem-header\" id=...  \n",
       "4119  \\n\\n\\n\\n<h3 class=\"hd hd-3 problem-header\" id=...  "
      ]
     },
     "execution_count": 22,
     "metadata": {},
     "output_type": "execute_result"
    }
   ],
   "source": [
    "df2.head(5)"
   ]
  },
  {
   "cell_type": "code",
   "execution_count": 23,
   "metadata": {},
   "outputs": [
    {
     "data": {
      "text/plain": [
       "(4864, 7)"
      ]
     },
     "execution_count": 23,
     "metadata": {},
     "output_type": "execute_result"
    }
   ],
   "source": [
    "df2.shape"
   ]
  },
  {
   "cell_type": "markdown",
   "metadata": {},
   "source": [
    "#### Здесь маленькая хитрость, связанная с недостатком времени - я не стал парсить поле task_and_answer_html на предмет выбора формулировок задач и ответов пользователя (checked, selected == true). Вывел все необходимые параметры в файл html для просмотра в любом браузере. Понимаю, что это предварительный этап, для дальнейшего разбора файла потребуется создание функционала, например, на базе модуля requests."
   ]
  },
  {
   "cell_type": "code",
   "execution_count": 25,
   "metadata": {},
   "outputs": [],
   "source": [
    "df2[['user_id', 'problem_id', 'time', 'task_and_answer_html']].sort_values(['user_id', 'time']).to_csv('problems.html', sep=';', line_terminator=f'<br/>{\"-\"*150}<br/>', index=False)"
   ]
  },
  {
   "cell_type": "code",
   "execution_count": null,
   "metadata": {},
   "outputs": [],
   "source": []
  }
 ],
 "metadata": {
  "kernelspec": {
   "display_name": "Python 3",
   "language": "python",
   "name": "python3"
  },
  "language_info": {
   "codemirror_mode": {
    "name": "ipython",
    "version": 3
   },
   "file_extension": ".py",
   "mimetype": "text/x-python",
   "name": "python",
   "nbconvert_exporter": "python",
   "pygments_lexer": "ipython3",
   "version": "3.7.1"
  }
 },
 "nbformat": 4,
 "nbformat_minor": 2
}
