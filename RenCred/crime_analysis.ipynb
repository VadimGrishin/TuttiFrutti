{
 "cells": [
  {
   "cell_type": "code",
   "execution_count": 1,
   "metadata": {},
   "outputs": [],
   "source": [
    "import pandas as pd\n",
    "import numpy as np\n",
    "\n",
    "from sklearn.linear_model import LinearRegression as LR\n",
    "from sklearn.model_selection import train_test_split\n",
    "\n",
    "from sklearn.metrics import r2_score as r2, mean_squared_error as mse"
   ]
  },
  {
   "cell_type": "code",
   "execution_count": 2,
   "metadata": {},
   "outputs": [],
   "source": [
    "# источник - https://russia.duck.consulting\n",
    "df_unemp = pd.read_csv('input/unemp.csv', sep=';', encoding='cp1251')\n",
    "df_salary = pd.read_csv('input/salary.csv', sep=';', encoding='cp1251')\n",
    "df_crime = pd.read_csv('input/crime_per_10000.csv', sep=';', encoding='cp1251')"
   ]
  },
  {
   "cell_type": "markdown",
   "metadata": {},
   "source": [
    "## Задача 1: Baseline model"
   ]
  },
  {
   "cell_type": "code",
   "execution_count": 3,
   "metadata": {},
   "outputs": [],
   "source": [
    "df = df_unemp.merge( df_salary, how='inner', on=['year', 'region'])  #.to_csv('res.csv', sep=';', encoding='cp1251')"
   ]
  },
  {
   "cell_type": "code",
   "execution_count": 4,
   "metadata": {},
   "outputs": [],
   "source": [
    "df = df.merge( df_crime, how='inner', on=['year', 'region']) "
   ]
  },
  {
   "cell_type": "code",
   "execution_count": 5,
   "metadata": {},
   "outputs": [],
   "source": [
    "df['log_salary'] = np.log(df['salary'])"
   ]
  },
  {
   "cell_type": "code",
   "execution_count": 6,
   "metadata": {},
   "outputs": [
    {
     "data": {
      "text/html": [
       "<div>\n",
       "<style scoped>\n",
       "    .dataframe tbody tr th:only-of-type {\n",
       "        vertical-align: middle;\n",
       "    }\n",
       "\n",
       "    .dataframe tbody tr th {\n",
       "        vertical-align: top;\n",
       "    }\n",
       "\n",
       "    .dataframe thead th {\n",
       "        text-align: right;\n",
       "    }\n",
       "</style>\n",
       "<table border=\"1\" class=\"dataframe\">\n",
       "  <thead>\n",
       "    <tr style=\"text-align: right;\">\n",
       "      <th></th>\n",
       "      <th>year</th>\n",
       "      <th>region</th>\n",
       "      <th>unemp_rate</th>\n",
       "      <th>salary</th>\n",
       "      <th>crime_per</th>\n",
       "      <th>log_salary</th>\n",
       "    </tr>\n",
       "  </thead>\n",
       "  <tbody>\n",
       "    <tr>\n",
       "      <th>0</th>\n",
       "      <td>2009</td>\n",
       "      <td>Адыгея</td>\n",
       "      <td>7.7</td>\n",
       "      <td>10798.0</td>\n",
       "      <td>110.72</td>\n",
       "      <td>9.287116</td>\n",
       "    </tr>\n",
       "    <tr>\n",
       "      <th>1</th>\n",
       "      <td>2009</td>\n",
       "      <td>Алтайский край</td>\n",
       "      <td>12.3</td>\n",
       "      <td>10741.0</td>\n",
       "      <td>222.12</td>\n",
       "      <td>9.281823</td>\n",
       "    </tr>\n",
       "    <tr>\n",
       "      <th>2</th>\n",
       "      <td>2009</td>\n",
       "      <td>Амурская область</td>\n",
       "      <td>8.3</td>\n",
       "      <td>17969.0</td>\n",
       "      <td>237.12</td>\n",
       "      <td>9.796403</td>\n",
       "    </tr>\n",
       "    <tr>\n",
       "      <th>3</th>\n",
       "      <td>2009</td>\n",
       "      <td>Архангельская область</td>\n",
       "      <td>7.2</td>\n",
       "      <td>17654.0</td>\n",
       "      <td>213.81</td>\n",
       "      <td>9.778718</td>\n",
       "    </tr>\n",
       "    <tr>\n",
       "      <th>4</th>\n",
       "      <td>2009</td>\n",
       "      <td>Астраханская область</td>\n",
       "      <td>9.9</td>\n",
       "      <td>14011.0</td>\n",
       "      <td>298.37</td>\n",
       "      <td>9.547598</td>\n",
       "    </tr>\n",
       "  </tbody>\n",
       "</table>\n",
       "</div>"
      ],
      "text/plain": [
       "   year                 region  unemp_rate   salary  crime_per  log_salary\n",
       "0  2009                 Адыгея         7.7  10798.0     110.72    9.287116\n",
       "1  2009         Алтайский край        12.3  10741.0     222.12    9.281823\n",
       "2  2009       Амурская область         8.3  17969.0     237.12    9.796403\n",
       "3  2009  Архангельская область         7.2  17654.0     213.81    9.778718\n",
       "4  2009   Астраханская область         9.9  14011.0     298.37    9.547598"
      ]
     },
     "execution_count": 6,
     "metadata": {},
     "output_type": "execute_result"
    }
   ],
   "source": [
    "df.head()"
   ]
  },
  {
   "cell_type": "code",
   "execution_count": 7,
   "metadata": {},
   "outputs": [],
   "source": [
    "train, valid = train_test_split(df, test_size=0.3, random_state=70)"
   ]
  },
  {
   "cell_type": "code",
   "execution_count": 8,
   "metadata": {},
   "outputs": [
    {
     "data": {
      "text/plain": [
       "((292, 6), (126, 6))"
      ]
     },
     "execution_count": 8,
     "metadata": {},
     "output_type": "execute_result"
    }
   ],
   "source": [
    "train.shape, valid.shape"
   ]
  },
  {
   "cell_type": "code",
   "execution_count": 9,
   "metadata": {},
   "outputs": [],
   "source": [
    "def u(x):\n",
    "    \"\"\" utility function \"\"\"\n",
    "    return np.sqrt(np.sqrt(x))"
   ]
  },
  {
   "cell_type": "code",
   "execution_count": 10,
   "metadata": {},
   "outputs": [],
   "source": [
    "model = LR()"
   ]
  },
  {
   "cell_type": "code",
   "execution_count": 11,
   "metadata": {},
   "outputs": [],
   "source": [
    "feats = ['unemp_rate', 'salary']\n",
    "y = 'crime_per'"
   ]
  },
  {
   "cell_type": "code",
   "execution_count": 12,
   "metadata": {},
   "outputs": [
    {
     "data": {
      "text/plain": [
       "LinearRegression(copy_X=True, fit_intercept=True, n_jobs=None,\n",
       "         normalize=False)"
      ]
     },
     "execution_count": 12,
     "metadata": {},
     "output_type": "execute_result"
    }
   ],
   "source": [
    "model.fit(df[feats], df[y])"
   ]
  },
  {
   "cell_type": "code",
   "execution_count": 13,
   "metadata": {},
   "outputs": [],
   "source": [
    "pred_trn = model.predict(train.loc[:, feats])\n",
    "r2_trn = r2(train[y], pred_trn)\n",
    "    \n",
    "pred_tst = model.predict(valid.loc[:, feats])\n",
    "r2_tst = r2(valid[y], pred_tst)"
   ]
  },
  {
   "cell_type": "code",
   "execution_count": 14,
   "metadata": {},
   "outputs": [
    {
     "data": {
      "text/plain": [
       "(0.002696438932272116, 0.014909296114972048)"
      ]
     },
     "execution_count": 14,
     "metadata": {},
     "output_type": "execute_result"
    }
   ],
   "source": [
    "r2_trn, r2_tst"
   ]
  },
  {
   "cell_type": "markdown",
   "metadata": {},
   "source": [
    "### Вывод: Эксперименты на различных выпуклых функциях полезности и наборах признаков показывают низкий уровень объясняющей способности выбранных независимых переменных для уровня преступности. В силу линейности формулы Бейкера проверка нелинейных моделей не требуется. Однако делать вывод о работоспособности формулы Бейкера нужно после анализа других параметров, заложенных в ней."
   ]
  },
  {
   "cell_type": "markdown",
   "metadata": {},
   "source": [
    "## Задача 2: User model"
   ]
  },
  {
   "cell_type": "markdown",
   "metadata": {},
   "source": [
    "### Для исследования будут использованы следующие допущения:\n",
    "\n",
    "1) Формула Беккера оказывает влияние именно на экономическую группу преступлений, связанную с оценкой потенциальным преступником возможности обогащения в результате преступления\n",
    "\n",
    "2) Будем использовать официальную статистику о раскрываемости преступлений как основу для вычисления вероятности наказания\n",
    "\n",
    "3) Преобразуем неравенство Беккера в неравенство с нулевой правой частью и будем считать вероятность выполнения неравенства как сигмоидную функцию от правой части\n",
    "\n",
    "4) Полученную вероятность будем использовать в качестве единственной зависимой переменной для линейной регрессионнной модели"
   ]
  },
  {
   "cell_type": "markdown",
   "metadata": {},
   "source": [
    "\n",
    "#### В качестве целевой переменной будем использовать процент экономических преступлений"
   ]
  },
  {
   "cell_type": "code",
   "execution_count": 15,
   "metadata": {},
   "outputs": [],
   "source": [
    "\n",
    "df_ec_crime = pd.read_csv('input/ec_crime.csv', sep=';', encoding='cp1251')"
   ]
  },
  {
   "cell_type": "code",
   "execution_count": 16,
   "metadata": {},
   "outputs": [],
   "source": [
    "df = df.merge( df_ec_crime, how='inner', on=['year', 'region']) "
   ]
  },
  {
   "cell_type": "markdown",
   "metadata": {},
   "source": [
    "#### Добавим процент нераскрытых преступлений для вычисления вероятности наказания"
   ]
  },
  {
   "cell_type": "code",
   "execution_count": 17,
   "metadata": {},
   "outputs": [],
   "source": [
    "\n",
    "df_unsolved = pd.read_csv('input/unsolved.csv', sep=';', encoding='cp1251')"
   ]
  },
  {
   "cell_type": "code",
   "execution_count": 18,
   "metadata": {},
   "outputs": [],
   "source": [
    "df = df.merge( df_unsolved, how='inner', on=['year', 'region']) "
   ]
  },
  {
   "cell_type": "code",
   "execution_count": 19,
   "metadata": {},
   "outputs": [
    {
     "data": {
      "text/plain": [
       "(418, 8)"
      ]
     },
     "execution_count": 19,
     "metadata": {},
     "output_type": "execute_result"
    }
   ],
   "source": [
    "df.shape"
   ]
  },
  {
   "cell_type": "markdown",
   "metadata": {},
   "source": [
    "#### Эффективное \"психологическое\" представление о вероятности наказания - ниже официальной отчетности МВД.  Введем условный коэффициент 1/5"
   ]
  },
  {
   "cell_type": "code",
   "execution_count": 20,
   "metadata": {},
   "outputs": [],
   "source": [
    "df['eff_solved'] = (100 - df['unsolved'])/500"
   ]
  },
  {
   "cell_type": "code",
   "execution_count": 21,
   "metadata": {},
   "outputs": [],
   "source": [
    "def p_bekker(gain, fine, xdf):\n",
    "    # преобразование формулы Беккера в вероятность (психологическую готовность) при помощи сигмоидной функции\n",
    "    e = (1 + \n",
    "          np.exp(\n",
    "                 - (1 - xdf['eff_solved'])*u(gain) +  \n",
    "                 xdf['eff_solved']*u(fine) +\n",
    "                 u(xdf['salary'])*(100 - xdf['unemp_rate'])/100  # эффективная полезность легального дохода с учетом безработицы\n",
    "                )\n",
    "         )\n",
    "    xdf['p_bekker'] = 1 / e"
   ]
  },
  {
   "cell_type": "markdown",
   "metadata": {},
   "source": [
    "#### Вычисляем психологическую готовность для каждой записи датасета \n",
    "#### - преступный выигрыш - 100 000 р., \n",
    "#### - штраф - 2 500 000 р."
   ]
  },
  {
   "cell_type": "code",
   "execution_count": 22,
   "metadata": {},
   "outputs": [],
   "source": [
    "p_bekker(100000, 2500000, df)"
   ]
  },
  {
   "cell_type": "code",
   "execution_count": 23,
   "metadata": {},
   "outputs": [],
   "source": [
    "train, valid = train_test_split(df, test_size=0.3, random_state=70)"
   ]
  },
  {
   "cell_type": "code",
   "execution_count": 24,
   "metadata": {},
   "outputs": [
    {
     "data": {
      "text/plain": [
       "((292, 10), (126, 10))"
      ]
     },
     "execution_count": 24,
     "metadata": {},
     "output_type": "execute_result"
    }
   ],
   "source": [
    "train.shape, valid.shape"
   ]
  },
  {
   "cell_type": "markdown",
   "metadata": {},
   "source": [
    "#### Обучаем модель только на беккеровой вероятности"
   ]
  },
  {
   "cell_type": "code",
   "execution_count": 25,
   "metadata": {},
   "outputs": [],
   "source": [
    "feats = [ 'p_bekker']\n",
    "y = 'ec_crime_per'"
   ]
  },
  {
   "cell_type": "code",
   "execution_count": 26,
   "metadata": {},
   "outputs": [
    {
     "data": {
      "text/plain": [
       "LinearRegression(copy_X=True, fit_intercept=True, n_jobs=None,\n",
       "         normalize=False)"
      ]
     },
     "execution_count": 26,
     "metadata": {},
     "output_type": "execute_result"
    }
   ],
   "source": [
    "model.fit(df[feats], df[y])"
   ]
  },
  {
   "cell_type": "code",
   "execution_count": 27,
   "metadata": {},
   "outputs": [],
   "source": [
    "pred_trn = model.predict(train.loc[:, feats])\n",
    "r2_trn = r2(train[y], pred_trn)\n",
    "    \n",
    "pred_tst = model.predict(valid.loc[:, feats])\n",
    "r2_tst = r2(valid[y], pred_tst)"
   ]
  },
  {
   "cell_type": "code",
   "execution_count": 28,
   "metadata": {},
   "outputs": [
    {
     "data": {
      "text/plain": [
       "(0.21907580580308306, 0.14278933144011463)"
      ]
     },
     "execution_count": 28,
     "metadata": {},
     "output_type": "execute_result"
    }
   ],
   "source": [
    "r2_trn, r2_tst"
   ]
  },
  {
   "cell_type": "markdown",
   "metadata": {},
   "source": [
    "### Вывод: принятые при построении пользовательской модели допущения позволили на несколько порядков повысить долю объясненной дисперсии. Недостаточно высокий ее абсолютный уровень можно объяснить константным характером оценки ожидаемой выгоды и штрафа, которые могут быть различны в разных регионах и зависят от экономического состояния этих регионов. Можно предложить уточнение модели в этом направлении."
   ]
  },
  {
   "cell_type": "code",
   "execution_count": null,
   "metadata": {},
   "outputs": [],
   "source": []
  },
  {
   "cell_type": "code",
   "execution_count": null,
   "metadata": {},
   "outputs": [],
   "source": []
  },
  {
   "cell_type": "code",
   "execution_count": null,
   "metadata": {},
   "outputs": [],
   "source": []
  }
 ],
 "metadata": {
  "kernelspec": {
   "display_name": "Python 3",
   "language": "python",
   "name": "python3"
  },
  "language_info": {
   "codemirror_mode": {
    "name": "ipython",
    "version": 3
   },
   "file_extension": ".py",
   "mimetype": "text/x-python",
   "name": "python",
   "nbconvert_exporter": "python",
   "pygments_lexer": "ipython3",
   "version": "3.7.1"
  }
 },
 "nbformat": 4,
 "nbformat_minor": 2
}
